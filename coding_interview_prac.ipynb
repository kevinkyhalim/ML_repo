{
 "cells": [
  {
   "cell_type": "markdown",
   "id": "8bbde97b",
   "metadata": {},
   "source": [
    "# Arrays & Strings"
   ]
  },
  {
   "cell_type": "markdown",
   "id": "cb865c0a",
   "metadata": {},
   "source": [
    "## Is Unique:\n",
    "Implement an algorithm to determine if a string has all unique characters. What if you cannot use additional data structures?"
   ]
  },
  {
   "cell_type": "code",
   "execution_count": 15,
   "id": "331f6f81",
   "metadata": {},
   "outputs": [],
   "source": [
    "def unique(string):\n",
    "    # Assuming character set is ASCII (128 characters)\n",
    "    if len(string) > 128:\n",
    "        return False\n",
    "    \n",
    "    # Create a list of False values under a list with length 128\n",
    "    char_set = [False for _ in range(128)]\n",
    "    for char in string:\n",
    "        # find the ASCII value of the character\n",
    "        val = ord(char)\n",
    "        # if char already exists in the string\n",
    "        if char_set[val]:\n",
    "            return False\n",
    "        # if not, set that char_set value as True\n",
    "        char_set[val] = True\n",
    "\n",
    "    # If all is fine then return True\n",
    "    return True"
   ]
  },
  {
   "cell_type": "code",
   "execution_count": 17,
   "id": "12fab031",
   "metadata": {},
   "outputs": [],
   "source": [
    "dataT = [('abcd'), ('s4fad'), ('')]\n",
    "dataF = [('23ds2'), ('hb 627jh=j ()')]"
   ]
  },
  {
   "cell_type": "code",
   "execution_count": 19,
   "id": "2bc17993",
   "metadata": {},
   "outputs": [
    {
     "name": "stdout",
     "output_type": "stream",
     "text": [
      "True\n",
      "True\n",
      "True\n"
     ]
    }
   ],
   "source": [
    "for i in dataT:\n",
    "    print(unique(i))"
   ]
  },
  {
   "cell_type": "code",
   "execution_count": 20,
   "id": "bf50d2c8",
   "metadata": {},
   "outputs": [
    {
     "name": "stdout",
     "output_type": "stream",
     "text": [
      "False\n",
      "False\n"
     ]
    }
   ],
   "source": [
    "for i in dataF:\n",
    "    print(unique(i))"
   ]
  },
  {
   "cell_type": "markdown",
   "id": "a5554d81",
   "metadata": {},
   "source": [
    "## Check Permutation:\n",
    "Given two strings, write a method to decide if one is a permutation of the other."
   ]
  },
  {
   "cell_type": "code",
   "execution_count": null,
   "id": "f7bd01ee",
   "metadata": {},
   "outputs": [],
   "source": [
    "# Self solution, O(n log n) due to the .sort()\n",
    "def permutation_check (str1, str2):\n",
    "    if len(str1) != len(str2):\n",
    "        return False\n",
    "    list_1 = [i for i in str1]\n",
    "    list_2 = [i for i in str2]\n",
    "\n",
    "    list_1.sort()\n",
    "    list_2.sort()\n",
    "\n",
    "    print(list_1, list_2)\n",
    "\n",
    "    if list_1 == list_2:\n",
    "        return True\n",
    "    else:\n",
    "        return False"
   ]
  },
  {
   "cell_type": "code",
   "execution_count": 12,
   "id": "29dc677a",
   "metadata": {},
   "outputs": [
    {
     "name": "stdout",
     "output_type": "stream",
     "text": [
      "['3', '4', 'e', 'f', 'f', 'w'] ['3', '4', 'e', 'f', 'f', 'w']\n"
     ]
    },
    {
     "data": {
      "text/plain": [
       "True"
      ]
     },
     "execution_count": 12,
     "metadata": {},
     "output_type": "execute_result"
    }
   ],
   "source": [
    "permutation_check('wef34f', 'wffe34')"
   ]
  },
  {
   "cell_type": "markdown",
   "id": "ef61dc57",
   "metadata": {},
   "source": [
    " A Counter is a dict subclass for counting hashable objects. It is a collection where elements are stored as dictionary keys and their counts are stored as dictionary values. Counts are allowed to be any integer value including zero or negative counts. The Counter class is similar to bags or multisets in other languages."
   ]
  },
  {
   "cell_type": "code",
   "execution_count": 13,
   "id": "136e712e",
   "metadata": {},
   "outputs": [],
   "source": [
    "# O(N)\n",
    "# https://docs.python.org/3/library/collections.html#collections.Counter\n",
    "\n",
    "from collections import Counter\n",
    "\n",
    "def check_permutation(str1, str2):\n",
    "    # checks if both strings are of same length\n",
    "    if len(str1) != len(str2):\n",
    "        return False\n",
    "    # initialize the counter object\n",
    "    counter = Counter()\n",
    "    # from str1 create the key and increase the counter for said key by 1\n",
    "    for c in str1:\n",
    "        counter[c] += 1\n",
    "    # from str2 check if the counter for the key is 0, if not decrease by 1\n",
    "    for c in str2:\n",
    "        if counter[c] == 0:\n",
    "            return False\n",
    "        counter[c] -= 1\n",
    "    # if no counter is counted as 0, then return True\n",
    "    return True\n"
   ]
  },
  {
   "cell_type": "code",
   "execution_count": 14,
   "id": "a9b20d08",
   "metadata": {},
   "outputs": [
    {
     "data": {
      "text/plain": [
       "True"
      ]
     },
     "execution_count": 14,
     "metadata": {},
     "output_type": "execute_result"
    }
   ],
   "source": [
    "check_permutation('wef34f', 'wffe34')"
   ]
  },
  {
   "cell_type": "markdown",
   "id": "ccb484cf",
   "metadata": {},
   "source": [
    "## URLify:\n",
    "Write a method to replace all spaces in a string with '%20'. You may assume that the string\n",
    "has sufficient space at the end to hold the additional characters, and that you are given the \"true\"\n",
    "length of the string. (Note: If implementing in Java, please use a character array so that you can\n",
    "perform this operation in place.)"
   ]
  },
  {
   "cell_type": "code",
   "execution_count": 51,
   "id": "6f41aab3",
   "metadata": {},
   "outputs": [],
   "source": [
    "def urlify(string, length):\n",
    "    '''function replaces single spaces with %20 and removes trailing spaces'''\n",
    "    # new_index counts the TOTAL length in the string\n",
    "    new_index = len(string)\n",
    "\n",
    "    # length counts the true value of the string (without trailing space in the back)\n",
    "    for i in reversed(range(length)):\n",
    "        if string[i] == ' ':\n",
    "            # Replace spaces\n",
    "            string[new_index - 3:new_index] = '%20'\n",
    "            new_index -= 3\n",
    "        else:\n",
    "            # Move characters\n",
    "            string[new_index - 1] = string[i]\n",
    "            new_index -= 1\n",
    "\n",
    "    return string"
   ]
  },
  {
   "cell_type": "code",
   "execution_count": 52,
   "id": "1a11d389",
   "metadata": {},
   "outputs": [
    {
     "name": "stdout",
     "output_type": "stream",
     "text": [
      "much%20ado%20about%20nothing\n"
     ]
    }
   ],
   "source": [
    "print(\"\".join(urlify(list('much ado about nothing      '), 22)))"
   ]
  },
  {
   "cell_type": "code",
   "execution_count": 53,
   "id": "14c99a62",
   "metadata": {},
   "outputs": [
    {
     "name": "stdout",
     "output_type": "stream",
     "text": [
      "Mr%20John%20Smith\n"
     ]
    }
   ],
   "source": [
    "print(\"\".join(urlify(list('Mr John Smith    '), 13)))"
   ]
  },
  {
   "cell_type": "markdown",
   "id": "9e170128",
   "metadata": {},
   "source": [
    "# Palindrome Permutation:\n",
    "Given a string, write a function to check if it is a permutation of a palindrome. A palindrome is a word or phrase that is the same forwards and backwards. A permutation is a rearrangement of letters. The palindrome does not need to be limited to just dictionary words.\n",
    "\n",
    "EXAMPLE:<br>\n",
    "Input: Tact Coa <br>\n",
    "Output: True (permutations: \"taco cat\", \"atco cta\", etc.)"
   ]
  },
  {
   "cell_type": "markdown",
   "id": "8d867fd7",
   "metadata": {},
   "source": [
    "### Approach\n",
    "- A palindrome can have at most one character that appears an odd number of times (for odd-length strings, one odd-count character; for even-length strings, all characters must have even counts).\n",
    "- The function counts the occurrences of each letter (ignoring case and non-letter characters) and tracks how many letters have an odd count."
   ]
  },
  {
   "cell_type": "code",
   "execution_count": null,
   "id": "3b0addc8",
   "metadata": {},
   "outputs": [],
   "source": [
    "data = [\n",
    "        ('Tact Coa', True),\n",
    "        ('jhsabckuj ahjsbckj', True),\n",
    "        ('Able was I ere I saw Elba', True),\n",
    "        ('So patient a nurse to nurse a patient so', False),\n",
    "        ('Random Words', False),\n",
    "        ('Not a Palindrome', False),\n",
    "        ('no x in nixon', True),\n",
    "        ('azAZ', True)]"
   ]
  }
 ],
 "metadata": {
  "kernelspec": {
   "display_name": ".venv",
   "language": "python",
   "name": "python3"
  },
  "language_info": {
   "codemirror_mode": {
    "name": "ipython",
    "version": 3
   },
   "file_extension": ".py",
   "mimetype": "text/x-python",
   "name": "python",
   "nbconvert_exporter": "python",
   "pygments_lexer": "ipython3",
   "version": "3.12.8"
  }
 },
 "nbformat": 4,
 "nbformat_minor": 5
}
