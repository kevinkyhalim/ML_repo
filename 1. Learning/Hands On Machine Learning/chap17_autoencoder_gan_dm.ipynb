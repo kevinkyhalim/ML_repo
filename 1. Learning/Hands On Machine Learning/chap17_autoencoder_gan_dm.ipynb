{
 "cells": [
  {
   "cell_type": "markdown",
   "id": "2c33b69c",
   "metadata": {},
   "source": [
    "# Autoencoders, GANs, and Diffusion Models"
   ]
  },
  {
   "cell_type": "code",
   "execution_count": 1,
   "id": "e1910163",
   "metadata": {},
   "outputs": [],
   "source": [
    "import sys\n",
    "\n",
    "assert sys.version_info >= (3, 7)"
   ]
  },
  {
   "cell_type": "code",
   "execution_count": 2,
   "id": "f6c17e86",
   "metadata": {},
   "outputs": [],
   "source": [
    "from packaging import version\n",
    "import sklearn\n",
    "\n",
    "assert version.parse(sklearn.__version__) >= version.parse(\"1.0.1\")"
   ]
  },
  {
   "cell_type": "code",
   "execution_count": 3,
   "id": "06748eb2",
   "metadata": {},
   "outputs": [],
   "source": [
    "import os\n",
    "os.environ[\"TF_USE_LEGACY_KERAS\"] = \"1\"\n",
    "import tf_keras"
   ]
  },
  {
   "cell_type": "code",
   "execution_count": 3,
   "id": "3bfe117f",
   "metadata": {},
   "outputs": [],
   "source": [
    "import tensorflow as tf\n",
    "\n",
    "assert version.parse(tf.__version__) >= version.parse(\"2.8.0\")"
   ]
  },
  {
   "cell_type": "code",
   "execution_count": 4,
   "id": "fd9366ba",
   "metadata": {},
   "outputs": [
    {
     "data": {
      "text/plain": [
       "'2.19.0'"
      ]
     },
     "execution_count": 4,
     "metadata": {},
     "output_type": "execute_result"
    }
   ],
   "source": [
    "tf.__version__"
   ]
  },
  {
   "cell_type": "code",
   "execution_count": 5,
   "id": "d0a92c9c",
   "metadata": {},
   "outputs": [],
   "source": [
    "import matplotlib.pyplot as plt\n",
    "\n",
    "plt.rc('font', size=14)\n",
    "plt.rc('axes', labelsize=14, titlesize=14)\n",
    "plt.rc('legend', fontsize=14)\n",
    "plt.rc('xtick', labelsize=10)\n",
    "plt.rc('ytick', labelsize=10)"
   ]
  },
  {
   "cell_type": "code",
   "execution_count": 6,
   "id": "67b9a357",
   "metadata": {},
   "outputs": [],
   "source": [
    "from pathlib import Path\n",
    "\n",
    "IMAGES_PATH = Path() / \"images\" / \"generative\"\n",
    "IMAGES_PATH.mkdir(parents=True, exist_ok=True)\n",
    "\n",
    "def save_fig(fig_id, tight_layout=True, fig_extension=\"png\", resolution=300):\n",
    "    path = IMAGES_PATH / f\"{fig_id}.{fig_extension}\"\n",
    "    if tight_layout:\n",
    "        plt.tight_layout()\n",
    "    plt.savefig(path, format=fig_extension, dpi=resolution)"
   ]
  },
  {
   "cell_type": "code",
   "execution_count": 7,
   "id": "d8d1e9f1",
   "metadata": {},
   "outputs": [
    {
     "name": "stdout",
     "output_type": "stream",
     "text": [
      "No GPU was detected. Neural nets can be very slow without a GPU.\n"
     ]
    }
   ],
   "source": [
    "import tensorflow as tf\n",
    "\n",
    "if not tf.config.list_physical_devices('GPU'):\n",
    "    print(\"No GPU was detected. Neural nets can be very slow without a GPU.\")\n",
    "    if \"google.colab\" in sys.modules:\n",
    "        print(\"Go to Runtime > Change runtime and select a GPU hardware \"\n",
    "              \"accelerator.\")\n",
    "    if \"kaggle_secrets\" in sys.modules:\n",
    "        print(\"Go to Settings > Accelerator and select GPU.\")"
   ]
  },
  {
   "cell_type": "markdown",
   "id": "2ee629ac",
   "metadata": {},
   "source": [
    "All three are **unsupervised**.\n",
    "\n",
    "Autoencoders: artificial neural networks capable of learning dense representations of the input data (*latent representations* or *codings*), without any supervision. It can be useful for dimensionality reduction, especially for visualization purposes. It can also be used as feature detectors and for unsupervised pretraining of deep neural networks.\n",
    "\n",
    "Some autoencoders are also *generative models* where they are capable of randomly generating new data that looks very similar to the training data.\n",
    "\n",
    "*Generative adversarial networks* (GANs) are neural nets capable of generating data. Widely used for super resolution (increasing the resolution of an image), colorization, image editing, turning simple sketches into photorealistic images, predicting next frames in a video, augmenting dataset, generating other types of data, etc.\n",
    "\n",
    "*Diffusion models* a generative learning model that can generate more diverse and higher-quality images than GANs, but much slower to run.\n",
    "\n",
    "Differences\n",
    "- Autoencoders: learn to copy their inputs to their outputs, aka, the codings are byproducts of the autoencoder learning the identity function under some constraints.\n",
    "- GANs: composed of 2 neural networks, where both compete against each other during training (*adversarial training*)\n",
    "    1. *Generator*, tries to generate data that looks similar to the training data\n",
    "    2. *Discriminator*, tries to tell real data from fake data\n",
    "- *Denoising diffusion probabilistic model* (DPPM), trained to remove a bit of noise from an image. (if you take an image entirely full of gaussian noise and repeatedly run the diffusion model, a high-quality image will gradually emerge, similar to the training images)."
   ]
  },
  {
   "cell_type": "markdown",
   "id": "ed3c1a2c",
   "metadata": {},
   "source": [
    "## Efficient Data Representations\n",
    "\n",
    "Autoencoders looks at the inputs, converts them to an efficient latent representation, and then spits out something that (hopefully) looks very close to the inputs. It is composed of 2 parts\n",
    "1. *Encoder* (recognition network) converting inputs to a latent representation;\n",
    "2. *Decoder* (generative network) converting internal representation to the outputs.\n",
    "\n",
    "Similar to a MLP, but the number of neurons in the output layer MUST EQUAL the number of inputs. The outputs are often called the *reconstructions* (since the autoencoder tries to reconstruct the inputs) and the cost function contains a *reconstruction loss*, which penalizes the model when the reconstructions are different from the inputs.\n",
    "\n",
    "The autoencoder is said to be *undercomplete* as it has a lower dimensionality than the input data, so it is forced to learn the most important features in the input data."
   ]
  },
  {
   "cell_type": "markdown",
   "id": "16f97913",
   "metadata": {},
   "source": [
    "## Performing PCA with an Undercomplete Linear Autoencoder\n",
    "\n",
    "Autoencoder with linear activations and MSE cost function will end up performing PCA!"
   ]
  },
  {
   "cell_type": "code",
   "execution_count": 8,
   "id": "875e2dde",
   "metadata": {},
   "outputs": [
    {
     "name": "stderr",
     "output_type": "stream",
     "text": [
      "2025-06-16 18:03:25.493726: I metal_plugin/src/device/metal_device.cc:1154] Metal device set to: Apple M4\n",
      "2025-06-16 18:03:25.493751: I metal_plugin/src/device/metal_device.cc:296] systemMemory: 24.00 GB\n",
      "2025-06-16 18:03:25.493758: I metal_plugin/src/device/metal_device.cc:313] maxCacheSize: 8.00 GB\n",
      "WARNING: All log messages before absl::InitializeLog() is called are written to STDERR\n",
      "I0000 00:00:1750068205.493772 7448079 pluggable_device_factory.cc:305] Could not identify NUMA node of platform GPU ID 0, defaulting to 0. Your kernel may not have been built with NUMA support.\n",
      "I0000 00:00:1750068205.493792 7448079 pluggable_device_factory.cc:271] Created TensorFlow device (/job:localhost/replica:0/task:0/device:GPU:0 with 0 MB memory) -> physical PluggableDevice (device: 0, name: METAL, pci bus id: <undefined>)\n",
      "WARNING:absl:At this time, the v2.11+ optimizer `tf.keras.optimizers.SGD` runs slowly on M1/M2 Macs, please use the legacy TF-Keras optimizer instead, located at `tf.keras.optimizers.legacy.SGD`.\n"
     ]
    }
   ],
   "source": [
    "import tensorflow as tf\n",
    "\n",
    "tf.random.set_seed(42)  # extra code – ensures reproducibility on CPU\n",
    "\n",
    "encoder = tf.keras.Sequential([tf.keras.layers.Dense(2)])\n",
    "decoder = tf.keras.Sequential([tf.keras.layers.Dense(3)])\n",
    "autoencoder = tf.keras.Sequential([encoder, decoder])\n",
    "\n",
    "optimizer = tf.keras.optimizers.SGD(learning_rate=0.5)\n",
    "autoencoder.compile(loss=\"mse\", optimizer = optimizer)\n"
   ]
  },
  {
   "cell_type": "code",
   "execution_count": 9,
   "id": "347b96a7",
   "metadata": {},
   "outputs": [],
   "source": [
    "# extra code – builds the same 3D dataset as in Chapter 8\n",
    "\n",
    "import numpy as np\n",
    "from scipy.spatial.transform import Rotation\n",
    "\n",
    "m = 60\n",
    "X = np.zeros((m, 3))  # initialize 3D dataset\n",
    "np.random.seed(42)\n",
    "angles = (np.random.rand(m) ** 3 + 0.5) * 2 * np.pi  # uneven distribution\n",
    "X[:, 0], X[:, 1] = np.cos(angles), np.sin(angles) * 0.5  # oval\n",
    "X += 0.28 * np.random.randn(m, 3)  # add more noise\n",
    "X = Rotation.from_rotvec([np.pi / 29, -np.pi / 20, np.pi / 4]).apply(X)\n",
    "X_train = X + [0.2, 0, 0.2]  # shift a bit"
   ]
  },
  {
   "cell_type": "code",
   "execution_count": 10,
   "id": "a44211c5",
   "metadata": {},
   "outputs": [
    {
     "name": "stderr",
     "output_type": "stream",
     "text": [
      "2025-06-16 18:03:25.755784: I tensorflow/core/grappler/optimizers/custom_graph_optimizer_registry.cc:117] Plugin optimizer for device_type GPU is enabled.\n",
      "WARNING: All log messages before absl::InitializeLog() is called are written to STDERR\n",
      "E0000 00:00:1750068205.763976 7448079 meta_optimizer.cc:967] model_pruner failed: INVALID_ARGUMENT: Graph does not contain terminal node SGD/AssignVariableOp.\n"
     ]
    },
    {
     "name": "stdout",
     "output_type": "stream",
     "text": [
      "2/2 [==============================] - 0s 5ms/step\n"
     ]
    }
   ],
   "source": [
    "history = autoencoder.fit(X_train, X_train, epochs=500, verbose=False)\n",
    "codings = encoder.predict(X_train)"
   ]
  },
  {
   "cell_type": "code",
   "execution_count": 11,
   "id": "04f12502",
   "metadata": {},
   "outputs": [
    {
     "data": {
      "text/plain": [
       "(60, 2)"
      ]
     },
     "execution_count": 11,
     "metadata": {},
     "output_type": "execute_result"
    }
   ],
   "source": [
    "codings.shape"
   ]
  },
  {
   "cell_type": "code",
   "execution_count": 12,
   "id": "ab8c37ae",
   "metadata": {},
   "outputs": [
    {
     "data": {
      "image/png": "[encoded data removed]",
      "text/plain": [
       "<Figure size 400x300 with 1 Axes>"
      ]
     },
     "metadata": {},
     "output_type": "display_data"
    }
   ],
   "source": [
    "fig = plt.figure(figsize=(4,3))\n",
    "plt.plot(codings[:,0], codings[:, 1], \"b.\")\n",
    "plt.xlabel(\"$z_1$\", fontsize=18)\n",
    "plt.ylabel(\"$z_2$\", fontsize=18, rotation=0)\n",
    "plt.grid(True)\n",
    "save_fig(\"linear_autoencoder_pca_plot\")\n",
    "plt.show()"
   ]
  },
  {
   "cell_type": "markdown",
   "id": "3c16fa62",
   "metadata": {},
   "source": [
    "Think of autoencoder as performing a form of self-supervised learning, as it is based on a supervised learning technique with automaticlaly generated labels."
   ]
  },
  {
   "cell_type": "markdown",
   "id": "d0b14a2f",
   "metadata": {},
   "source": [
    "## Stacked Autoencoders\n",
    "\n",
    "Autoencoders with multiple hidden layers (basic autoencoder only has 1 hidden layer, which is the encoder part).\n",
    "\n",
    "The architecture of a stacked autoencoder is typically symmetrical with regard to the central hidden layer (coding layer), aka looks like a sandwich."
   ]
  },
  {
   "cell_type": "markdown",
   "id": "d386e678",
   "metadata": {},
   "source": [
    "### Implementation Using Keras"
   ]
  },
  {
   "cell_type": "code",
   "execution_count": 8,
   "id": "ef20518a",
   "metadata": {},
   "outputs": [],
   "source": [
    "import tensorflow as tf\n",
    "import numpy as np\n",
    "\n",
    "# extra code – loads, scales, and splits the fashion MNIST dataset\n",
    "fashion_mnist = tf.keras.datasets.fashion_mnist.load_data()\n",
    "(X_train_full, y_train_full), (X_test, y_test) = fashion_mnist\n",
    "X_train_full = X_train_full.astype(np.float32) / 255\n",
    "X_test = X_test.astype(np.float32) / 255\n",
    "X_train, X_valid = X_train_full[:-5000], X_train_full[-5000:]\n",
    "y_train, y_valid = y_train_full[:-5000], y_train_full[-5000:]"
   ]
  },
  {
   "cell_type": "code",
   "execution_count": 9,
   "id": "669d53a9",
   "metadata": {},
   "outputs": [
    {
     "name": "stdout",
     "output_type": "stream",
     "text": [
      "Epoch 1/20\n",
      "\u001b[1m1719/1719\u001b[0m \u001b[32m━━━━━━━━━━━━━━━━━━━━\u001b[0m\u001b[37m\u001b[0m \u001b[1m4s\u001b[0m 2ms/step - loss: 0.0340 - val_loss: 0.0185\n",
      "Epoch 2/20\n",
      "\u001b[1m1719/1719\u001b[0m \u001b[32m━━━━━━━━━━━━━━━━━━━━\u001b[0m\u001b[37m\u001b[0m \u001b[1m3s\u001b[0m 2ms/step - loss: 0.0176 - val_loss: 0.0167\n",
      "Epoch 3/20\n",
      "\u001b[1m1719/1719\u001b[0m \u001b[32m━━━━━━━━━━━━━━━━━━━━\u001b[0m\u001b[37m\u001b[0m \u001b[1m3s\u001b[0m 2ms/step - loss: 0.0162 - val_loss: 0.0160\n",
      "Epoch 4/20\n",
      "\u001b[1m1719/1719\u001b[0m \u001b[32m━━━━━━━━━━━━━━━━━━━━\u001b[0m\u001b[37m\u001b[0m \u001b[1m3s\u001b[0m 2ms/step - loss: 0.0156 - val_loss: 0.0155\n",
      "Epoch 5/20\n",
      "\u001b[1m1719/1719\u001b[0m \u001b[32m━━━━━━━━━━━━━━━━━━━━\u001b[0m\u001b[37m\u001b[0m \u001b[1m3s\u001b[0m 2ms/step - loss: 0.0151 - val_loss: 0.0150\n",
      "Epoch 6/20\n",
      "\u001b[1m1719/1719\u001b[0m \u001b[32m━━━━━━━━━━━━━━━━━━━━\u001b[0m\u001b[37m\u001b[0m \u001b[1m3s\u001b[0m 2ms/step - loss: 0.0147 - val_loss: 0.0147\n",
      "Epoch 7/20\n",
      "\u001b[1m1719/1719\u001b[0m \u001b[32m━━━━━━━━━━━━━━━━━━━━\u001b[0m\u001b[37m\u001b[0m \u001b[1m3s\u001b[0m 2ms/step - loss: 0.0145 - val_loss: 0.0146\n",
      "Epoch 8/20\n",
      "\u001b[1m1719/1719\u001b[0m \u001b[32m━━━━━━━━━━━━━━━━━━━━\u001b[0m\u001b[37m\u001b[0m \u001b[1m3s\u001b[0m 2ms/step - loss: 0.0143 - val_loss: 0.0144\n",
      "Epoch 9/20\n",
      "\u001b[1m1719/1719\u001b[0m \u001b[32m━━━━━━━━━━━━━━━━━━━━\u001b[0m\u001b[37m\u001b[0m \u001b[1m3s\u001b[0m 2ms/step - loss: 0.0141 - val_loss: 0.0143\n",
      "Epoch 10/20\n",
      "\u001b[1m1719/1719\u001b[0m \u001b[32m━━━━━━━━━━━━━━━━━━━━\u001b[0m\u001b[37m\u001b[0m \u001b[1m3s\u001b[0m 2ms/step - loss: 0.0140 - val_loss: 0.0142\n",
      "Epoch 11/20\n",
      "\u001b[1m1719/1719\u001b[0m \u001b[32m━━━━━━━━━━━━━━━━━━━━\u001b[0m\u001b[37m\u001b[0m \u001b[1m3s\u001b[0m 2ms/step - loss: 0.0139 - val_loss: 0.0141\n",
      "Epoch 12/20\n",
      "\u001b[1m1719/1719\u001b[0m \u001b[32m━━━━━━━━━━━━━━━━━━━━\u001b[0m\u001b[37m\u001b[0m \u001b[1m3s\u001b[0m 2ms/step - loss: 0.0139 - val_loss: 0.0141\n",
      "Epoch 13/20\n",
      "\u001b[1m1719/1719\u001b[0m \u001b[32m━━━━━━━━━━━━━━━━━━━━\u001b[0m\u001b[37m\u001b[0m \u001b[1m3s\u001b[0m 2ms/step - loss: 0.0138 - val_loss: 0.0140\n",
      "Epoch 14/20\n",
      "\u001b[1m1719/1719\u001b[0m \u001b[32m━━━━━━━━━━━━━━━━━━━━\u001b[0m\u001b[37m\u001b[0m \u001b[1m3s\u001b[0m 2ms/step - loss: 0.0137 - val_loss: 0.0140\n",
      "Epoch 15/20\n",
      "\u001b[1m1719/1719\u001b[0m \u001b[32m━━━━━━━━━━━━━━━━━━━━\u001b[0m\u001b[37m\u001b[0m \u001b[1m3s\u001b[0m 2ms/step - loss: 0.0137 - val_loss: 0.0139\n",
      "Epoch 16/20\n",
      "\u001b[1m1719/1719\u001b[0m \u001b[32m━━━━━━━━━━━━━━━━━━━━\u001b[0m\u001b[37m\u001b[0m \u001b[1m3s\u001b[0m 2ms/step - loss: 0.0136 - val_loss: 0.0139\n",
      "Epoch 17/20\n",
      "\u001b[1m1719/1719\u001b[0m \u001b[32m━━━━━━━━━━━━━━━━━━━━\u001b[0m\u001b[37m\u001b[0m \u001b[1m3s\u001b[0m 2ms/step - loss: 0.0136 - val_loss: 0.0139\n",
      "Epoch 18/20\n",
      "\u001b[1m1719/1719\u001b[0m \u001b[32m━━━━━━━━━━━━━━━━━━━━\u001b[0m\u001b[37m\u001b[0m \u001b[1m3s\u001b[0m 2ms/step - loss: 0.0135 - val_loss: 0.0138\n",
      "Epoch 19/20\n",
      "\u001b[1m1719/1719\u001b[0m \u001b[32m━━━━━━━━━━━━━━━━━━━━\u001b[0m\u001b[37m\u001b[0m \u001b[1m3s\u001b[0m 2ms/step - loss: 0.0135 - val_loss: 0.0138\n",
      "Epoch 20/20\n",
      "\u001b[1m1719/1719\u001b[0m \u001b[32m━━━━━━━━━━━━━━━━━━━━\u001b[0m\u001b[37m\u001b[0m \u001b[1m3s\u001b[0m 2ms/step - loss: 0.0135 - val_loss: 0.0138\n"
     ]
    }
   ],
   "source": [
    "tf.random.set_seed(42)  # extra code – ensures reproducibility on CPU\n",
    "\n",
    "stacked_encoder = tf.keras.Sequential([\n",
    "    tf.keras.layers.Flatten(),\n",
    "    tf.keras.layers.Dense(100, activation=\"relu\"),\n",
    "    tf.keras.layers.Dense(30, activation=\"relu\"),\n",
    "])\n",
    "stacked_decoder = tf.keras.Sequential([\n",
    "    tf.keras.layers.Dense(100, activation=\"relu\"),\n",
    "    tf.keras.layers.Dense(28 * 28),\n",
    "    tf.keras.layers.Reshape([28, 28])\n",
    "])\n",
    "stacked_ae = tf.keras.Sequential([stacked_encoder, stacked_decoder])\n",
    "\n",
    "stacked_ae.compile(loss=\"mse\", optimizer=tf.keras.optimizers.Nadam())                   \n",
    "history = stacked_ae.fit(X_train, X_train, epochs=20,\n",
    "                         validation_data=(X_valid, X_valid))"
   ]
  },
  {
   "cell_type": "markdown",
   "id": "5af2e85d",
   "metadata": {},
   "source": [
    "### Visualizing the Reconstructions"
   ]
  },
  {
   "cell_type": "code",
   "execution_count": 10,
   "id": "79d66af5",
   "metadata": {},
   "outputs": [
    {
     "name": "stdout",
     "output_type": "stream",
     "text": [
      "\u001b[1m1/1\u001b[0m \u001b[32m━━━━━━━━━━━━━━━━━━━━\u001b[0m\u001b[37m\u001b[0m \u001b[1m0s\u001b[0m 59ms/step\n"
     ]
    },
    {
     "data": {
      "image/png": "[encoded data removed]",
      "text/plain": [
       "<Figure size 750x300 with 10 Axes>"
      ]
     },
     "metadata": {},
     "output_type": "display_data"
    }
   ],
   "source": [
    "import numpy as np\n",
    "\n",
    "def plot_reconstructions(model, images=X_valid, n_images=5):\n",
    "    reconstructions = np.clip(model.predict(images[:n_images]), 0, 1)\n",
    "    fig = plt.figure(figsize=(n_images * 1.5, 3))\n",
    "    for image_index in range(n_images):\n",
    "        plt.subplot(2, n_images, 1+image_index)\n",
    "        plt.imshow(images[image_index], cmap=\"binary\")\n",
    "        plt.axis(\"off\")\n",
    "\n",
    "        plt.subplot(2, n_images, 1 + n_images + image_index)\n",
    "        plt.imshow(reconstructions[image_index], cmap=\"binary\")\n",
    "        plt.axis(\"off\")\n",
    "    \n",
    "plot_reconstructions(stacked_ae)\n",
    "save_fig(\"reconstruction_plot\")  # extra code – saves the high res figure\n",
    "plt.show()"
   ]
  },
  {
   "cell_type": "markdown",
   "id": "9b3f6ee0",
   "metadata": {},
   "source": [
    "### Visualizing the Fashion MNUST Dataset"
   ]
  },
  {
   "cell_type": "markdown",
   "id": "65a377b1",
   "metadata": {},
   "source": [
    "Since autoencoders can handle large datasets with many instances and features, one strategy is to use an autoencoder to reduce the dimensionality to a reasonable level, then use another dimensionality reduction algorithm for visualization."
   ]
  },
  {
   "cell_type": "code",
   "execution_count": null,
   "id": "134f0c48",
   "metadata": {},
   "outputs": [],
   "source": [
    "from sklearn.manifold import TSNE\n",
    "\n",
    "X_valid_compressed = stacked_decoder.predict(X_valid)\n",
    "tsne = TSNE(init=\"pca\", learning_rate=\"auto\", random_state=42)\n",
    "X_valid_2D = tsne.fit_transform(X_valid_compressed)"
   ]
  },
  {
   "cell_type": "code",
   "execution_count": null,
   "id": "a5627a34",
   "metadata": {},
   "outputs": [],
   "source": [
    "plt.scatter(X_valid_2D[:, 0], X_valid_2D[:, 1], c=y_valid,\n",
    "            s=10, cmap=\"tab10\")\n",
    "plt.show()"
   ]
  },
  {
   "cell_type": "code",
   "execution_count": null,
   "id": "3350f3fd",
   "metadata": {},
   "outputs": [],
   "source": [
    "# extra code – beautifies the previous diagram for the book\n",
    "\n",
    "import matplotlib as mpl\n",
    "\n",
    "plt.figure(figsize=(10, 8))\n",
    "cmap = plt.cm.tab10\n",
    "Z = X_valid_2D\n",
    "Z = (Z - Z.min()) / (Z.max() - Z.min())  # normalize to the 0-1 range\n",
    "plt.scatter(Z[:, 0], Z[:, 1], c=y_valid, s=10, cmap=cmap)\n",
    "image_positions = np.array([[1., 1.]])\n",
    "for index, position in enumerate(Z):\n",
    "    dist = ((position - image_positions) ** 2).sum(axis=1)\n",
    "    if dist.min() > 0.02: # if far enough from other images\n",
    "        image_positions = np.r_[image_positions, [position]]\n",
    "        imagebox = mpl.offsetbox.AnnotationBbox(\n",
    "            mpl.offsetbox.OffsetImage(X_valid[index], cmap=\"binary\"),\n",
    "            position, bboxprops={\"edgecolor\": cmap(y_valid[index]), \"lw\": 2})\n",
    "        plt.gca().add_artist(imagebox)\n",
    "\n",
    "plt.axis(\"off\")\n",
    "save_fig(\"fashion_mnist_visualization_plot\")\n",
    "plt.show()"
   ]
  },
  {
   "cell_type": "markdown",
   "id": "29faac81",
   "metadata": {},
   "source": [
    "### Unsupervised Pretraining Using Sstacked Autoencoders\n",
    "\n",
    "When there is a large dataset but most of it is unlabeled, we can first train a stacked autoencoder using all the data, then reuse the lower layers to create a neural network for the actual task and train it using the labeled data."
   ]
  },
  {
   "cell_type": "markdown",
   "id": "79e8c9b2",
   "metadata": {},
   "source": [
    "### Tying Weights"
   ]
  },
  {
   "cell_type": "markdown",
   "id": "455143f2",
   "metadata": {},
   "source": [
    "A common technique is to tie the weights of the decoder layers to the weights of the encoder layers, which lead to halving the number of weights in the model and can speed up training and limiting the risk of overfitting."
   ]
  },
  {
   "cell_type": "code",
   "execution_count": 16,
   "id": "a65b815b",
   "metadata": {},
   "outputs": [],
   "source": [
    "class DenseTranspose(tf.keras.layers.Layer):\n",
    "    def __init__(self, dense, activation=None, **kwargs):\n",
    "        super().__init__(**kwargs)\n",
    "        self.dense = dense\n",
    "        self.activation = tf.keras.activations.get(activation)\n",
    "    \n",
    "    def build(self, batch_input_shape):\n",
    "        self.biases = self.add_weight(name=\"bias\",\n",
    "                                      shape=self.dense.input_shape[-1],\n",
    "                                      initializer=\"zeros\")\n",
    "        super().build(batch_input_shape)\n",
    "    \n",
    "    def call(self, inputs):\n",
    "        Z = tf.matmul(inputs, self.dense.weights[0], transpose_b=True)\n",
    "        return self.activation(Z + self.biases)"
   ]
  },
  {
   "cell_type": "code",
   "execution_count": null,
   "id": "a1c328d5",
   "metadata": {},
   "outputs": [],
   "source": [
    "dense_1 = tf.keras.layers.Dense(100, activation=\"relu\")\n",
    "dense_2 = tf.keras.layers.Dense(30, ctivation=\"relu\")\n",
    "\n",
    "tied_encoder = tf.keras.Sequential([\n",
    "    tf.keras.layers.Flatten(),\n",
    "    dense_1,\n",
    "    dense_2\n",
    "])\n",
    "\n",
    "tied_decoder = tf.keras.Sequential([\n",
    "    DenseTranspose(dense_2, activation=\"relu\"),\n",
    "    DenseTranspose(dense_1),\n",
    "    tf.keras.layers.Reshape([28, 28])\n",
    "])\n",
    "\n",
    "tied_ae = tf.keras.Sequential([tied_encoder, tied_decoder])"
   ]
  },
  {
   "cell_type": "code",
   "execution_count": null,
   "id": "4f85c34d",
   "metadata": {},
   "outputs": [],
   "source": [
    "# extra code – plots reconstructions\n",
    "plot_reconstructions(tied_ae)\n",
    "plt.show()"
   ]
  },
  {
   "cell_type": "markdown",
   "id": "733ce1af",
   "metadata": {},
   "source": [
    "### Training One Autoencoder at a Time\n",
    "\n",
    "Also called \"greedy layerwise training\"\n",
    "\n",
    "1. Create an autoencoder that learns to reconstruct the inputs, then encode the whole training set as a new data set.\n",
    "2. Train a second autoencoder on this new dataset\n",
    "3. Create a big sandwich using all the autoencoders from 1 and 2.\n"
   ]
  },
  {
   "cell_type": "code",
   "execution_count": null,
   "id": "420fc5a9",
   "metadata": {},
   "outputs": [],
   "source": [
    "def train_autoencoder(n_neurons, X_train, X_valid, n_epochs=10,\n",
    "                      output_activation=None, learning_rate=1e-3):\n",
    "    n_inputs = X_train.shape[-1]\n",
    "    encoder = tf.keras.layers.Dense(n_neurons, activation=\"relu\")\n",
    "    decoder = tf.keras.layers.Dense(n_inputs, activation=output_activation)\n",
    "    autoencoder = tf.keras.Sequential([encoder, decoder])\n",
    "    optimizer = tf.keras.optimizers.Nadam(learning_rate=learning_rate)\n",
    "    autoencoder.compile(loss=\"mse\", optimizer=optimizer)\n",
    "    autoencoder.fit(X_train, X_train, epochs=n_epochs,\n",
    "                    validation_data=(X_valid, X_valid))\n",
    "    return encoder, decoder, encoder(X_train), encoder(X_valid)"
   ]
  },
  {
   "cell_type": "code",
   "execution_count": null,
   "id": "17d7ca64",
   "metadata": {},
   "outputs": [],
   "source": [
    "tf.random.set_seed(42)\n",
    "\n",
    "X_train_flat = tf.keras.layers.Flatten()(X_train)\n",
    "X_valid_flat = tf.keras.layers.Flatten()(X_valid)\n",
    "enc1, dec1, X_train_enc1, X_valid_enc1 = train_autoencoder(\n",
    "    100, X_train_flat, X_valid_flat, learning_rate=5e-4)\n",
    "enc2, dec2, _, _ = train_autoencoder(\n",
    "    30, X_train_enc1, X_valid_enc1, output_activation=\"relu\",\n",
    "    learning_rate=5e-3)"
   ]
  },
  {
   "cell_type": "code",
   "execution_count": null,
   "id": "1f76d419",
   "metadata": {},
   "outputs": [],
   "source": [
    "stacked_ae_1_by_1 = tf.keras.Sequential([\n",
    "    tf.keras.layers.Flatten(),\n",
    "    enc1, enc2, dec2, dec1,\n",
    "    tf.keras.layers.Reshape([28, 28])\n",
    "])"
   ]
  },
  {
   "cell_type": "code",
   "execution_count": null,
   "id": "8d11ddd4",
   "metadata": {},
   "outputs": [],
   "source": [
    "plot_reconstructions(stacked_ae_1_by_1)\n",
    "plt.show()"
   ]
  },
  {
   "cell_type": "markdown",
   "id": "fdf00b2c",
   "metadata": {},
   "source": [
    "If needed, we can then continue training the full stacked autoencoder for a few epochs:"
   ]
  },
  {
   "cell_type": "code",
   "execution_count": null,
   "id": "5e820ead",
   "metadata": {},
   "outputs": [],
   "source": [
    "stacked_ae_1_by_1.compile(loss=\"mse\", optimizer=tf.keras.optimizers.Nadam())\n",
    "history = stacked_ae_1_by_1.fit(X_train, X_train, epochs=5,\n",
    "                                validation_data=(X_valid, X_valid))"
   ]
  },
  {
   "cell_type": "code",
   "execution_count": null,
   "id": "da03b22c",
   "metadata": {},
   "outputs": [],
   "source": [
    "plot_reconstructions(stacked_ae_1_by_1)\n",
    "plt.show()"
   ]
  },
  {
   "cell_type": "markdown",
   "id": "e76eb4df",
   "metadata": {},
   "source": [
    "## Convolutional Autoencoders\n",
    "\n",
    "The encoder is a regular CNN composed of convolutional layers and pooling layers. It reduces the spatial dimensionality of the inputs, while increasing the depth (number of feature maps).\n",
    "\n",
    "The decoder will do the reverse, upscale the image and reduce the depth back to the original dimensions. This can be done by transposing the convolutional layers (or combine upsampling layers with convolutional layers.)"
   ]
  },
  {
   "cell_type": "code",
   "execution_count": null,
   "id": "7664a242",
   "metadata": {},
   "outputs": [],
   "source": [
    "tf.random.set_seed(42)  # extra code – ensures reproducibility on CPU\n",
    "\n",
    "conv_encoder = tf.keras.Sequential([\n",
    "    tf.keras.layers.Reshape([28, 28, 1]),\n",
    "    tf.keras.layers.Conv2D(16, 3, padding=\"same\", activation=\"relu\"),\n",
    "    tf.keras.layers.MaxPool2D(pool_size=2),  # output: 14 × 14 x 16\n",
    "    tf.keras.layers.Conv2D(32, 3, padding=\"same\", activation=\"relu\"),\n",
    "    tf.keras.layers.MaxPool2D(pool_size=2),  # output: 7 × 7 x 32\n",
    "    tf.keras.layers.Conv2D(64, 3, padding=\"same\", activation=\"relu\"),\n",
    "    tf.keras.layers.MaxPool2D(pool_size=2),  # output: 3 × 3 x 64\n",
    "    tf.keras.layers.Conv2D(30, 3, padding=\"same\", activation=\"relu\"),\n",
    "    tf.keras.layers.GlobalAvgPool2D()  # output: 30\n",
    "])\n",
    "\n",
    "conv_decoder = tf.keras.Sequential([\n",
    "    tf.keras.layers.Dense(3 * 3 * 16),\n",
    "    tf.keras.layers.Reshape((3, 3, 16)),\n",
    "    tf.keras.layers.Conv2DTranspose(32, 3, strides=2, activation=\"relu\"),\n",
    "    tf.keras.layers.Conv2DTranspose(16, 3, strides=2, padding=\"same\",\n",
    "                                    activation=\"relu\"),\n",
    "    tf.keras.layers.Conv2DTranspose(1, 3, strides=2, padding=\"same\"),\n",
    "    tf.keras.layers.Reshape([28, 28])\n",
    "])\n",
    "conv_ae = tf.keras.Sequential([conv_encoder, conv_decoder])\n",
    "\n",
    "# extra code – compiles and fits the model\n",
    "conv_ae.compile(loss=\"mse\", optimizer=tf.keras.optimizers.Nadam())\n",
    "history = conv_ae.fit(X_train, X_train, epochs=10,\n",
    "                      validation_data=(X_valid, X_valid))"
   ]
  },
  {
   "cell_type": "code",
   "execution_count": null,
   "id": "bbfcee3f",
   "metadata": {},
   "outputs": [],
   "source": [
    "# extra code – shows the reconstructions\n",
    "plot_reconstructions(conv_ae)\n",
    "plt.show()"
   ]
  },
  {
   "cell_type": "markdown",
   "id": "5f12603c",
   "metadata": {},
   "source": [
    "## Extra Material - Recurrent Autoencoders\n"
   ]
  },
  {
   "cell_type": "code",
   "execution_count": null,
   "id": "11b32b35",
   "metadata": {},
   "outputs": [],
   "source": [
    "tf.random.set_seed(42)\n",
    "\n",
    "recurrent_encoder = tf.keras.Sequential([\n",
    "    tf.keras.layers.LSTM(100, return_sequences=True),\n",
    "    tf.keras.layers.LSTM(30)\n",
    "])\n",
    "recurrent_decoder = tf.keras.Sequential([\n",
    "    tf.keras.layers.RepeatVector(28),\n",
    "    tf.keras.layers.LSTM(100, return_sequences=True),\n",
    "    tf.keras.layers.Dense(28)\n",
    "])\n",
    "recurrent_ae = tf.keras.Sequential([recurrent_encoder, recurrent_decoder])\n",
    "recurrent_ae.compile(loss=\"mse\", optimizer=tf.keras.optimizers.Nadam())"
   ]
  },
  {
   "cell_type": "code",
   "execution_count": null,
   "id": "6120c045",
   "metadata": {},
   "outputs": [],
   "source": [
    "history = recurrent_ae.fit(X_train, X_train, epochs=10,\n",
    "                           validation_data=(X_valid, X_valid))"
   ]
  },
  {
   "cell_type": "code",
   "execution_count": null,
   "id": "619daf60",
   "metadata": {},
   "outputs": [],
   "source": [
    "plot_reconstructions(recurrent_ae)\n",
    "plt.show()"
   ]
  },
  {
   "cell_type": "markdown",
   "id": "d4eacef5",
   "metadata": {},
   "source": [
    "## Denoising Autoencoders\n",
    "\n",
    "Anothe way to force the autoencoder to learn useful features is to add noise to its inputs, training it to recover the original, noise-free inputs. These are called *stacked denoising autoencoders*.\n",
    "\n",
    "The implementation is through a regular stacked autoencoder with an additional `Dropout` layer applied to the encoder's inputs (or you could use a `GaussianNoise` layer instead)."
   ]
  },
  {
   "cell_type": "code",
   "execution_count": 18,
   "id": "e9619bbe",
   "metadata": {},
   "outputs": [
    {
     "name": "stderr",
     "output_type": "stream",
     "text": [
      "WARNING:absl:At this time, the v2.11+ optimizer `tf.keras.optimizers.Nadam` runs slowly on M1/M2 Macs, please use the legacy TF-Keras optimizer instead, located at `tf.keras.optimizers.legacy.Nadam`.\n"
     ]
    },
    {
     "name": "stdout",
     "output_type": "stream",
     "text": [
      "Epoch 1/10\n",
      "1719/1719 [==============================] - 31s 17ms/step - loss: 0.0440 - val_loss: 0.0379\n",
      "Epoch 2/10\n",
      "1719/1719 [==============================] - 29s 17ms/step - loss: 0.0682 - val_loss: 0.0437\n",
      "Epoch 3/10\n",
      "1719/1719 [==============================] - 29s 17ms/step - loss: 0.1071 - val_loss: 0.0503\n",
      "Epoch 4/10\n",
      "1719/1719 [==============================] - 29s 17ms/step - loss: 0.1667 - val_loss: 0.0644\n",
      "Epoch 5/10\n",
      "1719/1719 [==============================] - 29s 17ms/step - loss: 0.3410 - val_loss: 0.0894\n",
      "Epoch 6/10\n",
      "1719/1719 [==============================] - 28s 16ms/step - loss: 0.5964 - val_loss: 0.0386\n",
      "Epoch 7/10\n",
      "1719/1719 [==============================] - 29s 17ms/step - loss: 0.7871 - val_loss: 1.3894\n",
      "Epoch 8/10\n",
      "1719/1719 [==============================] - 29s 17ms/step - loss: 1.2709 - val_loss: 0.0629\n",
      "Epoch 9/10\n",
      "1719/1719 [==============================] - 29s 17ms/step - loss: 1.9198 - val_loss: 0.1303\n",
      "Epoch 10/10\n",
      "1719/1719 [==============================] - 27s 16ms/step - loss: 2.7632 - val_loss: 0.1326\n"
     ]
    }
   ],
   "source": [
    "dropout_encoder = tf.keras.Sequential([\n",
    "    tf.keras.layers.Flatten(),\n",
    "    tf.keras.layers.Dropout(0.5),\n",
    "    tf.keras.layers.Dense(100, activation=\"relu\"),\n",
    "    tf.keras.layers.Dense(30, activation=\"relu\")\n",
    "])\n",
    "dropout_decoder = tf.keras.Sequential([\n",
    "    tf.keras.layers.Dense(100, activation=\"relu\"),\n",
    "    tf.keras.layers.Dense(28 * 28),\n",
    "    tf.keras.layers.Reshape([28, 28])\n",
    "])\n",
    "\n",
    "dropout_ae = tf.keras.Sequential([dropout_encoder, dropout_decoder])\n",
    "\n",
    "# extra code – compiles and fits the model\n",
    "dropout_ae.compile(loss=\"mse\", optimizer=tf.keras.optimizers.Nadam())\n",
    "history = dropout_ae.fit(X_train, X_train, epochs=10,\n",
    "                         validation_data=(X_valid, X_valid))"
   ]
  },
  {
   "cell_type": "code",
   "execution_count": 19,
   "id": "37480a88",
   "metadata": {},
   "outputs": [
    {
     "name": "stdout",
     "output_type": "stream",
     "text": [
      "1/1 [==============================] - 0s 51ms/step\n"
     ]
    },
    {
     "data": {
      "image/png": "[encoded data removed]",
      "text/plain": [
       "<Figure size 750x300 with 10 Axes>"
      ]
     },
     "metadata": {},
     "output_type": "display_data"
    }
   ],
   "source": [
    "# extra code – this cell generates and saves Figure 17–9\n",
    "tf.random.set_seed(42)\n",
    "dropout = tf.keras.layers.Dropout(0.5)\n",
    "plot_reconstructions(dropout_ae, dropout(X_valid, training=True))\n",
    "save_fig(\"dropout_denoising_plot\")\n",
    "plt.show()"
   ]
  },
  {
   "cell_type": "markdown",
   "id": "102fa74b",
   "metadata": {},
   "source": [
    "If you want, you can try replacing the `Dropout` layer with `tf.keras.layers.GaussianNoise(0.2)`."
   ]
  },
  {
   "cell_type": "markdown",
   "id": "ae9209bb",
   "metadata": {},
   "source": [
    "## Sparse Autoencoders\n",
    "\n",
    "By adding an appropriate term to the cost function, the autoencoder is pushed to reduce the number of active neurons in the coding layer. This forces the autoencoder to represent each input as a combination of a small number of activations, as a result each neuron in the coding layer typically ends up representing a useful feature.\n",
    "\n",
    "We can achieve this by using the sigmoid activation function in the coding layer (to constrain the codings to values between 0 and 1), use a large coding layer, and add some $l_1$ regularization to the coding layer's activations.\n",
    "\n",
    "Using l1 norm, rather than l2 norm will push the neural network to preserve the most important codings while eliminating the ones that are not needed for the input image (rather than just reducing all codings)."
   ]
  },
  {
   "cell_type": "code",
   "execution_count": null,
   "id": "7a2a8019",
   "metadata": {},
   "outputs": [],
   "source": [
    "tf.random.set_seed(42)  # extra code – ensures reproducibility on CPU\n",
    "\n",
    "sparse_l1_encoder = tf.keras.Sequential([\n",
    "    tf.keras.layers.Flatten(),\n",
    "    tf.keras.layers.Dense(100, activation=\"relu\"),\n",
    "    tf.keras.layers.Dense(300, activation=\"sigmoid\"),\n",
    "    tf.keras.layers.ActivityRegularization(l1=1e-4)\n",
    "])\n",
    "sparse_l1_decoder = tf.keras.Sequential([\n",
    "    tf.keras.layers.Dense(100, activation=\"relu\"),\n",
    "    tf.keras.layers.Dense(28 * 28),\n",
    "    tf.keras.layers.Reshape([28, 28])\n",
    "])\n",
    "sparse_l1_ae = tf.keras.Sequential([sparse_l1_encoder, sparse_l1_decoder])\n",
    "\n",
    "# extra code – compiles and fits the model\n",
    "sparse_l1_ae.compile(loss=\"mse\", optimizer=tf.keras.optimizers.Nadam())\n",
    "history = sparse_l1_ae.fit(X_train, X_train, epochs=10,\n",
    "                           validation_data=(X_valid, X_valid))"
   ]
  },
  {
   "cell_type": "code",
   "execution_count": null,
   "id": "fe631c7f",
   "metadata": {},
   "outputs": [],
   "source": [
    "# extra code – shows the reconstructions\n",
    "plot_reconstructions(sparse_l1_ae)\n",
    "plt.show()"
   ]
  },
  {
   "cell_type": "markdown",
   "id": "8535f27e",
   "metadata": {},
   "source": [
    "Another approach is to measure the actual sparsity of the coding layer at each training iteration, and penalize the model when the measured sparsity differs from a target sparsity. This is done by computing the average activation of each neuron in the coding layer, over the whole training batch.\n",
    "\n",
    "Once we have the mean activation per neuron, we can penalize the neurons that are too active (or not active enough) by adding a *sparsity loss* to the cost function.\n",
    "\n",
    "Below is a sample curve for the sparsity loss, the recommended approach is to use the Kullback-Leibler (KL) divergence, which has much stronger gradients than the MSE!"
   ]
  },
  {
   "cell_type": "code",
   "execution_count": 20,
   "id": "160dfd1b",
   "metadata": {},
   "outputs": [
    {
     "data": {
      "image/png": "[encoded data removed]",
      "text/plain": [
       "<Figure size 640x480 with 1 Axes>"
      ]
     },
     "metadata": {},
     "output_type": "display_data"
    }
   ],
   "source": [
    "# extra code – this cell generates and saves Figure 17–10\n",
    "p = 0.1\n",
    "q = np.linspace(0.001, 0.999, 500)\n",
    "kl_div = p * np.log(p / q) + (1 - p) * np.log((1 - p) / (1 - q))\n",
    "mse = (p - q) ** 2\n",
    "mae = np.abs(p - q)\n",
    "plt.plot([p, p], [0, 0.3], \"k:\")\n",
    "plt.text(0.05, 0.32, \"Target\\nsparsity\", fontsize=14)\n",
    "plt.plot(q, kl_div, \"b-\", label=\"KL divergence\")\n",
    "plt.plot(q, mae, \"g--\", label=r\"MAE ($\\ell_1$)\")\n",
    "plt.plot(q, mse, \"r--\", linewidth=1, label=r\"MSE ($\\ell_2$)\")\n",
    "plt.legend(loc=\"upper left\", fontsize=14)\n",
    "plt.xlabel(\"Actual sparsity\")\n",
    "plt.ylabel(\"Cost\", rotation=0)\n",
    "plt.axis([0, 1, 0, 0.95])\n",
    "plt.grid(True)\n",
    "save_fig(\"sparsity_loss_plot\")"
   ]
  },
  {
   "cell_type": "markdown",
   "id": "0f9bc7eb",
   "metadata": {},
   "source": [
    "Let's define a custom regularizer for KL-Divergence regularization:"
   ]
  },
  {
   "cell_type": "code",
   "execution_count": null,
   "id": "50aa9503",
   "metadata": {},
   "outputs": [],
   "source": [
    "kl_divergence = tf.keras.losses.kullback_leibler_divergence\n",
    "\n",
    "class KLDivergenceRegularizer(tf.keras.regularizers.Regularizer):\n",
    "    def __init__(self, weight, target):\n",
    "        self.weight = weight\n",
    "        self.target = target\n",
    "\n",
    "    def __call__(self, inputs):\n",
    "        mean_activities = tf.reduce_mean(inputs, axis=0)\n",
    "        return self.weight * (\n",
    "            kl_divergence(self.target, mean_activities) +\n",
    "            kl_divergence(1. - self.target, 1. - mean_activities))"
   ]
  },
  {
   "cell_type": "code",
   "execution_count": null,
   "id": "4b87a2bc",
   "metadata": {},
   "outputs": [],
   "source": [
    "tf.random.set_seed(42)  # extra code – ensures reproducibility on CPU\n",
    "\n",
    "kld_reg = KLDivergenceRegularizer(weight=5e-3, target=0.1)\n",
    "sparse_kl_encoder = tf.keras.Sequential([\n",
    "    tf.keras.layers.Flatten(),\n",
    "    tf.keras.layers.Dense(100, activation=\"relu\"),\n",
    "    tf.keras.layers.Dense(300, activation=\"sigmoid\",\n",
    "                          activity_regularizer=kld_reg)\n",
    "])\n",
    "sparse_kl_decoder = tf.keras.Sequential([\n",
    "    tf.keras.layers.Dense(100, activation=\"relu\"),\n",
    "    tf.keras.layers.Dense(28 * 28),\n",
    "    tf.keras.layers.Reshape([28, 28])\n",
    "])\n",
    "sparse_kl_ae = tf.keras.Sequential([sparse_kl_encoder, sparse_kl_decoder])\n",
    "\n",
    "# extra code – compiles and fits the model\n",
    "sparse_kl_ae.compile(loss=\"mse\", optimizer=tf.keras.optimizers.Nadam())\n",
    "history = sparse_kl_ae.fit(X_train, X_train, epochs=10,\n",
    "                           validation_data=(X_valid, X_valid))"
   ]
  },
  {
   "cell_type": "code",
   "execution_count": null,
   "id": "bea698ab",
   "metadata": {},
   "outputs": [],
   "source": [
    "# extra code – shows the reconstructions\n",
    "plot_reconstructions(sparse_kl_ae)\n",
    "plt.show()"
   ]
  },
  {
   "cell_type": "markdown",
   "id": "f71d660d",
   "metadata": {},
   "source": [
    "## Variational Autoencoders (VAEs)\n",
    "\n",
    "They are different from all the autoencoders above by:\n",
    "- Being a *probabilistic autoencoder*, meaning that their outputs are partly determined by chance, even after training\n",
    "- *generative autoencoders*, meaning that they can generate new instances that look like they were sampled from the training set.\n",
    "\n",
    "VAEs perform variational Bayesian inference, which is an efficient way of carrying out approximate Bayesian inference (recall that it means to update a probability distribution based on new data, using equations derived from Bayes' theorem).\n",
    "\n",
    "Start with a basic autoencoder (containing both an encoder and decoder), but instaed of directly producing a coding for a given input, the encoder produces a *mean coding* $μ$ and a standard deviation $σ$.\n",
    "\n",
    "The actual coding is then sampled randomly from a Gaussian distribution with mean *μ* and standard deviation *σ*. After that the decoder decodes the sample coding normally. \n",
    "\n",
    "The cost function is composed of 2 parts:\n",
    "1. Reconstruction loss that pushes the autoencoder to reproduce its inputs.\n",
    "2. *Latent loss* that pushes the autoencoder to have codings that look as though they were sample from a simple Gaussian distribution (KL divergence between the target distribution and the actual distribution of the codings)."
   ]
  },
  {
   "cell_type": "markdown",
   "id": "97c9dfe7",
   "metadata": {},
   "source": [
    "First make a custom layer to sample the codings"
   ]
  },
  {
   "cell_type": "code",
   "execution_count": null,
   "id": "2b6ce144",
   "metadata": {},
   "outputs": [],
   "source": [
    "class Sampling(tf.keras.layers.Layer):\n",
    "    def call(self, inputs):\n",
    "        mean, log_var = inputs\n",
    "        return tf.random.normal(tf.shape(log_var)) * tf.exp(log_var / 2) + mean "
   ]
  },
  {
   "cell_type": "markdown",
   "id": "939eed41",
   "metadata": {},
   "source": [
    "**Encoder**"
   ]
  },
  {
   "cell_type": "code",
   "execution_count": null,
   "id": "f84aad0a",
   "metadata": {},
   "outputs": [],
   "source": [
    "tf.random.set_seed(42)  # extra code – ensures reproducibility on CPU\n",
    "\n",
    "codings_size = 10\n",
    "\n",
    "inputs = tf.keras.layers.Input(shape=[28, 28])\n",
    "Z = tf.keras.layers.Flatten()(inputs)\n",
    "Z = tf.keras.layers.Dense(150, activation=\"relu\")(Z)\n",
    "Z = tf.keras.layers.Dense(100, activation=\"relu\")(Z)\n",
    "codings_mean = tf.keras.layers.Dense(codings_size)(Z)  # μ\n",
    "codings_log_var = tf.keras.layers.Dense(codings_size)(Z)  # γ\n",
    "codings = Sampling()([codings_mean, codings_log_var])\n",
    "\n",
    "variational_encoder = tf.keras.Model(\n",
    "    inputs=[inputs], outputs=[codings_mean, codings_log_var, codings])"
   ]
  },
  {
   "cell_type": "markdown",
   "id": "3cf704e1",
   "metadata": {},
   "source": [
    "**Decoder**"
   ]
  },
  {
   "cell_type": "code",
   "execution_count": null,
   "id": "c34e5d3f",
   "metadata": {},
   "outputs": [],
   "source": [
    "decoder_inputs = tf.keras.layers.Input(shape=[codings_size])\n",
    "x = tf.keras.layers.Dense(100, activation=\"relu\")(decoder_inputs)\n",
    "x = tf.keras.layers.Dense(150, activation=\"relu\")(x)\n",
    "x = tf.keras.layers.Dense(28 * 28)(x)\n",
    "outputs = tf.keras.layers.Reshape([28, 28])(x)\n",
    "variational_decoder = tf.keras.Model(inputs=[decoder_inputs], outputs=[outputs])"
   ]
  },
  {
   "cell_type": "markdown",
   "id": "accfff1c",
   "metadata": {},
   "source": [
    "**Variational Autoencoder**"
   ]
  },
  {
   "cell_type": "code",
   "execution_count": null,
   "id": "2f6dcfe3",
   "metadata": {},
   "outputs": [],
   "source": [
    "_, _, codings = variational_encoder(inputs)\n",
    "reconstructions = variational_decoder(codings)\n",
    "variational_ae = tf.keras.Model(inputs=[inputs], outputs=[reconstructions])"
   ]
  },
  {
   "cell_type": "code",
   "execution_count": null,
   "id": "7114501f",
   "metadata": {},
   "outputs": [],
   "source": [
    "latent_loss = -0.5 * tf.reduce_sum(\n",
    "    1 + codings_log_var - tf.exp(codings_log_var) - tf.square(codings_mean),\n",
    "    axis=-1)\n",
    "variational_ae.add_loss(tf.reduce_mean(latent_loss) / 784.)"
   ]
  },
  {
   "cell_type": "code",
   "execution_count": null,
   "id": "c2085eed",
   "metadata": {},
   "outputs": [],
   "source": [
    "variational_ae.compile(loss=\"mse\", optimizer=tf.keras.optimizers.Nadam())\n",
    "history = variational_ae.fit(X_train, X_train, epochs=25, batch_size=128,\n",
    "                             validation_data=(X_valid, X_valid))"
   ]
  },
  {
   "cell_type": "code",
   "execution_count": null,
   "id": "68e88036",
   "metadata": {},
   "outputs": [],
   "source": [
    "plot_reconstructions(variational_ae)\n",
    "plt.show()"
   ]
  },
  {
   "cell_type": "markdown",
   "id": "0cd35559",
   "metadata": {},
   "source": [
    "## Generating Fashion MNIST Images"
   ]
  },
  {
   "cell_type": "code",
   "execution_count": 21,
   "id": "4282147e",
   "metadata": {},
   "outputs": [
    {
     "data": {
      "text/plain": [
       "(28, 28)"
      ]
     },
     "execution_count": 21,
     "metadata": {},
     "output_type": "execute_result"
    }
   ],
   "source": [
    "X_train[0].shape"
   ]
  },
  {
   "cell_type": "code",
   "execution_count": null,
   "id": "e6b7acb2",
   "metadata": {},
   "outputs": [],
   "source": [
    "tf.random.set_seed(42)  # extra code – ensures reproducibility on CPU\n",
    "\n",
    "codings = tf.random.normal(shape=[3 * 7, codings_size])\n",
    "images = variational_decoder(codings).numpy()"
   ]
  },
  {
   "cell_type": "code",
   "execution_count": null,
   "id": "bc7d07c7",
   "metadata": {},
   "outputs": [],
   "source": [
    "# extra code – this cells generates and saves Figure 17-12\n",
    "\n",
    "def plot_multiple_images(images, n_cols=None):\n",
    "    n_cols = n_cols or len(images)\n",
    "    n_rows = (len(images) - 1) // n_cols + 1\n",
    "    if images.shape[-1] == 1:\n",
    "        images = images.squeeze(axis=-1)\n",
    "    plt.figure(figsize=(n_cols, n_rows))\n",
    "    for index, image in enumerate(images):\n",
    "        plt.subplot(n_rows, n_cols, index + 1)\n",
    "        plt.imshow(image, cmap=\"binary\")\n",
    "        plt.axis(\"off\")\n",
    "\n",
    "plot_multiple_images(images, 7)\n",
    "save_fig(\"vae_generated_images_plot\", tight_layout=False)\n",
    "plt.show()"
   ]
  },
  {
   "cell_type": "markdown",
   "id": "0b9c35d9",
   "metadata": {},
   "source": [
    "Now let's perform semantic interpolation between 2 images:"
   ]
  },
  {
   "cell_type": "code",
   "execution_count": null,
   "id": "99f7de55",
   "metadata": {},
   "outputs": [],
   "source": [
    "tf.random.set_seed(42)  # extra code – ensures reproducibility on CPU\n",
    "\n",
    "codings = np.zeros([7, codings_size])\n",
    "codings[:, 3] = np.linspace(-0.8, 0.8, 7)  # axis 3 looks best in this case\n",
    "images = variational_decoder(codings).numpy()"
   ]
  },
  {
   "cell_type": "code",
   "execution_count": null,
   "id": "22f987ef",
   "metadata": {},
   "outputs": [],
   "source": [
    "# extra code – this cell generates and saves Figure 17–13\n",
    "plot_multiple_images(images)\n",
    "save_fig(\"semantic_interpolation_plot\", tight_layout=False)\n",
    "plt.show()"
   ]
  },
  {
   "cell_type": "markdown",
   "id": "3a70c1b0",
   "metadata": {},
   "source": [
    "## Generative Adversarial Networks"
   ]
  },
  {
   "cell_type": "markdown",
   "id": "a4d15292",
   "metadata": {},
   "source": [
    "Composed of 2 neural networks:\n",
    "1. *Generator*, takes a random distribution as input (typically Gaussian) and outputs some data, typically an image. Offers the same functionality as a decoder in a variational autoencoder.\n",
    "2. *Discriminator*, takes either a fake image from the generator or a real image from the training set as input, and must guess whether the input image is fake or real.\n",
    "\n",
    "Training then happens in 2 phases:\n",
    "1. Train the discriminator, where a batch of real images is sampled from the training set and is completed with an equal number of fake images produced by the generator. In this phase, backpropagation only optimizes the weights of the discriminator during this phase.\n",
    "2. Train the generator, use it to produce another batch of fake images, then have the discriminator to tell whether the images are fake or real. This time, we do not add real images in the batch, and labels images to 1 (real), on other words we want the generator to produce images that the discriminator will (wrongly) believe to be real. Backpropagation only affects the weights of the generator in this phase."
   ]
  },
  {
   "cell_type": "code",
   "execution_count": null,
   "id": "561c9dea",
   "metadata": {},
   "outputs": [],
   "source": [
    "codings_size = 30\n",
    "\n",
    "Dense = tf.keras.layers.Dense\n",
    "generator = tf.keras.Sequential([\n",
    "    Dense(100, activation=\"relu\", kernel_initializer=\"he_normal\"),\n",
    "    Dense(150, activation=\"relu\", kernel_initializer=\"he_normal\"),\n",
    "    Dense(28 * 28, activation=\"sigmoid\"),\n",
    "    tf.keras.layers.Reshape([28, 28])\n",
    "])\n",
    "discriminator = tf.keras.Sequential([\n",
    "    tf.keras.layers.Flatten(),\n",
    "    Dense(150, activation=\"relu\", kernel_initializer=\"he_normal\"),\n",
    "    Dense(100, activation=\"relu\", kernel_initializer=\"he_normal\"),\n",
    "    Dense(1, activation=\"sigmoid\"),\n",
    "])\n",
    "\n",
    "gan = tf.keras.Sequential([generator, discriminator])"
   ]
  },
  {
   "cell_type": "code",
   "execution_count": null,
   "id": "0e9fc16e",
   "metadata": {},
   "outputs": [],
   "source": [
    "discriminator.compile(loss=\"binary_crossentropy\", optimizer=\"rmsprop\")\n",
    "discriminator.trainable = False\n",
    "gan.compile(loss=\"binary_crossentropy\", optimizer=\"rmsprop\")"
   ]
  },
  {
   "cell_type": "markdown",
   "id": "97e5cf4c",
   "metadata": {},
   "source": [
    "**Need to write a custom training loop**"
   ]
  },
  {
   "cell_type": "code",
   "execution_count": null,
   "id": "708b7998",
   "metadata": {},
   "outputs": [],
   "source": [
    "batch_size = 32\n",
    "dataset = tf.data.Dataset.from_tensor_slices(X_train).shuffle(buffer_size=1000)\n",
    "dataset = dataset.batch(batch_size, drop_remainder=True).prefetch(1)"
   ]
  },
  {
   "cell_type": "code",
   "execution_count": null,
   "id": "6f5849e7",
   "metadata": {},
   "outputs": [],
   "source": [
    "def train_gan(gan, dataset, batch_size, codings_size, n_epochs):\n",
    "    generator, discriminator = gan.layers\n",
    "    for epoch in range(n_epochs):\n",
    "        for X_batch in dataset:\n",
    "            # phase 1 - trainining the discriminator\n",
    "            noise = tf.random.normal(shape=[batch_size, codings_size])\n",
    "            generated_images = generator(noise)\n",
    "            X_fake_and_real = tf.concat([generated_images, X_batch], axis=0)\n",
    "            y1 = tf.constant([[0.]] * batch_size + [[1.]] * batch_size)\n",
    "            discriminator.train_on_batch(X_fake_and_real, y1)\n",
    "\n",
    "            # phase 2 - traiing the generator\n",
    "            noise = tf.random.normal(shape=[batch_size, codings_size])\n",
    "            y2 = tf.constant([[1.]] * batch_size)\n",
    "            gan.train_on_batch(noise, y2)\n",
    "\n",
    "train_gan(gan, dataset, batch_size, codings_size, n_epochs=50)"
   ]
  },
  {
   "cell_type": "code",
   "execution_count": null,
   "id": "38580347",
   "metadata": {},
   "outputs": [],
   "source": [
    "tf.random.set_seed(42)  # extra code – ensures reproducibility on CPU\n",
    "\n",
    "codings = tf.random.normal(shape=[batch_size, codings_size])\n",
    "generated_images = generator.predict(codings)"
   ]
  },
  {
   "cell_type": "markdown",
   "id": "ed20b763",
   "metadata": {},
   "source": [
    "### The Difficulties of Training GANs\n",
    "\n",
    "GANs can only reach a single Nash equilibrium, when the generator producs perfectly realistic images, and the discriminator is forced to guess (50% real, 50% fake). Nonetheless, there is nothing that guarantess that the equilibrium will ever be reached.\n",
    "\n",
    "This is due to *mode collapse*: when the generator's outputs gradually become less diverse and gradually cycle across a few classes, never really becoming very good at any of them.\n",
    "\n",
    "Also, since the generator and discriminator are constantly pushing against each other, their parameters may end up oscillating and become unstable, so it is very sensitive to hyperparameters and need a lot of effort fine-tuning them.\n",
    "\n",
    "    One method to overcome this is by *experience replay* where we store the images produced by the generator at each iteration in a replay  bufer (gradually dropping older generated images) and training the discriminator using real images + fake images drawn from this buffer.\n",
    "\n",
    "    Another is *mini-batch discrimination*, where we measure how similar images are across the batch and provide this statistic to the discriminator so it can easily reject a batch of fake images that lack diversity!"
   ]
  },
  {
   "cell_type": "markdown",
   "id": "7fa027e2",
   "metadata": {},
   "source": [
    "### Deep Convolutional GANs\n",
    "\n",
    "The guidelines are:\n",
    "- Replace any poolig layers with strided convolutions (in the discriminator) and transposed convolutions (in the generator)\n",
    "- Use batch normalization in both the generator and discriminator, except in the generator's output layer and discriminator's input layer\n",
    "- Remove fully connected hidden layers for deeper architectures\n",
    "- Use ReLU activation in the generator for all layers except the output layer, which should use tanh\n",
    "- Use leaky ReLU activation in the discriminator for all layers."
   ]
  },
  {
   "cell_type": "code",
   "execution_count": null,
   "id": "b7fd0501",
   "metadata": {},
   "outputs": [],
   "source": [
    "tf.random.set_seed(42)  # extra code – ensures reproducibility on CPU\n",
    "\n",
    "codings_size = 100\n",
    "\n",
    "generator = tf.keras.Sequential([\n",
    "    tf.keras.layers.Dense(7 * 7 * 128),\n",
    "    tf.keras.layers.Reshape([7, 7, 128]),\n",
    "    tf.keras.layers.BatchNormalization(),\n",
    "    tf.keras.layers.Conv2DTranspose(64, kernel_size=5, strides=2,\n",
    "                                    padding=\"same\", activation=\"relu\"),\n",
    "    tf.keras.layers.BatchNormalization(),\n",
    "    tf.keras.layers.Conv2DTranspose(1, kernel_size=5, strides=2,\n",
    "                                    padding=\"same\", activation=\"tanh\"),\n",
    "])\n",
    "\n",
    "discriminator = tf.keras.Sequential([\n",
    "    tf.keras.layers.Conv2D(64, kernel_size=5, strides=2, padding=\"same\",\n",
    "                        activation=tf.keras.layers.LeakyReLU(0.2)),\n",
    "    tf.keras.layers.Dropout(0.4),\n",
    "    tf.keras.layers.Conv2D(128, kernel_size=5, strides=2, padding=\"same\",\n",
    "                        activation=tf.keras.layers.LeakyReLU(0.2)),\n",
    "    tf.keras.layers.Dropout(0.4),\n",
    "    tf.keras.layers.Flatten(),\n",
    "    tf.keras.layers.Dense(1, activation=\"sigmoid\")\n",
    "])\n",
    "\n",
    "gan = tf.keras.Sequential([generator, discriminator])"
   ]
  },
  {
   "cell_type": "code",
   "execution_count": null,
   "id": "1c8e824b",
   "metadata": {},
   "outputs": [],
   "source": [
    "# extra code – compiles the discrimator and the gan, as earlier\n",
    "discriminator.compile(loss=\"binary_crossentropy\", optimizer=\"rmsprop\")\n",
    "discriminator.trainable = False\n",
    "gan.compile(loss=\"binary_crossentropy\", optimizer=\"rmsprop\")"
   ]
  },
  {
   "cell_type": "code",
   "execution_count": null,
   "id": "c6302609",
   "metadata": {},
   "outputs": [],
   "source": [
    "# note that in this case X_train's values have been normalized!\n",
    "X_train_dcgan = X_train.reshape(-1, 28, 28, 1) * 2. - 1. # reshape and rescale"
   ]
  },
  {
   "cell_type": "code",
   "execution_count": null,
   "id": "93e2adb2",
   "metadata": {},
   "outputs": [],
   "source": [
    "# extra code – generates the dataset and trains the GAN, just like earlier\n",
    "batch_size = 32\n",
    "dataset = tf.data.Dataset.from_tensor_slices(X_train_dcgan)\n",
    "dataset = dataset.shuffle(1000)\n",
    "dataset = dataset.batch(batch_size, drop_remainder=True).prefetch(1)\n",
    "train_gan(gan, dataset, batch_size, codings_size, n_epochs=50)"
   ]
  },
  {
   "cell_type": "code",
   "execution_count": null,
   "id": "d861d6a7",
   "metadata": {},
   "outputs": [],
   "source": [
    "# extra code – this cell generates and saves Figure 17–16\n",
    "tf.random.set_seed(42)\n",
    "noise = tf.random.normal(shape=[batch_size, codings_size])\n",
    "generated_images = generator.predict(noise)\n",
    "plot_multiple_images(generated_images, 8)\n",
    "save_fig(\"dcgan_generated_images_plot\", tight_layout=False)"
   ]
  },
  {
   "cell_type": "markdown",
   "id": "0d89c6b6",
   "metadata": {},
   "source": [
    "If you add each iamge's class as an extra input to both the generator and discriminator, they will both learn what each class looks like, and thus will be able to contorl the class of each image produce by the generator. This is called a *conditional GAN* (CGAN)."
   ]
  },
  {
   "cell_type": "markdown",
   "id": "a69ca68b",
   "metadata": {},
   "source": [
    "### Progressive Growing of GANs"
   ]
  },
  {
   "cell_type": "markdown",
   "id": "de010ac8",
   "metadata": {},
   "source": []
  },
  {
   "cell_type": "markdown",
   "id": "61da82df",
   "metadata": {},
   "source": [
    "### StyleGANs\n",
    "\n",
    "used *style transfer* techniques in the generator to ensure that the generated images have the same local structure as the training images, at every scale, greatly improving the quality of the generated images.\n",
    "\n",
    "A StyleGAN generator is composed of 2 networks\n",
    "1. *Mapping Network*, mapping the latent representation **z** (codings) to a vector **w**. This vector is then sent through multiple *affine transformation* (`Dense` layers with no activation functions), which produces multiple vectors. These vectors control the style of the generated images at different levels.\n",
    "2. *Synthesis network*, responsible for generating the images. It processes input through multiple convolutional and upsampling layers with 2 twist\n",
    "    1. Some noise is added to the input and to all the outputs of the convolutional layers (before the activation function)\n",
    "    2. Each noise layer is followed by an *adaptive instance normalization* (AdaIN) layer, where it standardizes each feature map independently, then uses the style vector to determine the scale and offset of each feature map.\n",
    "\n",
    "The reason for adding noise independently is important because of\n",
    "- If the noise comes from the codings, it meant that the generator had to dedicate a significant portion of the codings' representational power to store noise;\n",
    "- This noise will also have to flow through the network and reach the final layers of the generator, which seems like an unnecessary constraing and probably slowed down training;\n",
    "- Some visual artifacts may appear because the same noise was used at different levels so if the generator tried to do it, it would lead to even more visual artifacts;\n",
    "- Some parts of the generator's weight would be dedicated to generate this pseudorandom noise, which seems wasteful;\n",
    "\n",
    "Finally, StyleGAN also uses a technique called *mixing regularization*, where a percentage of the generate d images are produced using 2 diffferent codings. Specifically the codings c1 and c2 are sent through the mapping network, giving 2 style vectors w1 and w2. Then the synthesis network generates an image based on the styles w1 for the first levels and the styles w2 for the remaining level, where the cutoff level is picked randomly. This helps in preventing the network from assuming that styles at adjacent levels are correlated, which could encourage locality in the GAN and having each style vector only affecting a limited number of traits in the generated image."
   ]
  },
  {
   "cell_type": "markdown",
   "id": "94c8feee",
   "metadata": {},
   "source": [
    "## Diffusion Models\n",
    "\n",
    "Core idea is to train a model to learn the reverse process: start from a completely mixed state, and gradually \"unmix\" milk and tea from a mix of milk and tea.\n",
    "\n",
    "*Denoising Diffusion Probabilistic Model* (DDPM), \n",
    "1. *forward process*: suppose you start with a picture of a cat and at each time step we add a little bit of Gaussian noise to the image (the noise is independent for each pixel, aka isotropic). After certain time t, the cat is completely hidden by the noise. \n",
    "2. *reverse process*: training a model that can remove a tiny bit of noise from an image, and repeat the operation many times until all the noise is gone, which will gradually make a brand new cat appear!"
   ]
  },
  {
   "cell_type": "code",
   "execution_count": 25,
   "id": "44696b31",
   "metadata": {},
   "outputs": [],
   "source": [
    "def variance_schedule (T, s = 0.008, max_beta = 0.999):\n",
    "    t = np.arange(T + 1)\n",
    "    f = np.cos((t / T + s) / (1+s) * np.pi / 2) ** 2\n",
    "    alpha = np.clip(f[1:]/ f[:-1], 1-max_beta, 1)\n",
    "    alpha = np.append(1, alpha).astype(np.float32)\n",
    "    beta = 1 - alpha\n",
    "    alpha_cumprod = np.cumprod(alpha)\n",
    "    return alpha, alpha_cumprod, beta\n",
    "\n",
    "T = 4000\n",
    "alpha, alpha_cumprod, beta = variance_schedule(T)"
   ]
  },
  {
   "cell_type": "code",
   "execution_count": 26,
   "id": "2bc3383a",
   "metadata": {},
   "outputs": [
    {
     "data": {
      "image/png": "[encoded data removed]",
      "text/plain": [
       "<Figure size 600x300 with 1 Axes>"
      ]
     },
     "metadata": {},
     "output_type": "display_data"
    }
   ],
   "source": [
    "# extra code – this cell generates and saves Figure 17–21\n",
    "plt.figure(figsize=(6, 3))\n",
    "plt.plot(beta, \"r--\", label=r\"$\\beta_t$\")\n",
    "plt.plot(alpha_cumprod, \"b\", label=r\"$\\bar{\\alpha}_t$\")\n",
    "plt.axis([0, T, 0, 1])\n",
    "plt.grid(True)\n",
    "plt.xlabel(r\"t\")\n",
    "plt.legend()\n",
    "save_fig(\"variance_schedule_plot\")\n",
    "plt.show()"
   ]
  },
  {
   "cell_type": "markdown",
   "id": "cdd7f19f",
   "metadata": {},
   "source": [
    "The `prepare_batch()` function takes a batch of images and adds noise to each of them, using a different random time between 1 and $T$ for each image, and it returns a tuple containing the inputs and the targets:\n",
    "\n",
    "* The inputs are a `dict` containing the noisy images and the corresponding times. The function uses equation (4) from the DDPM paper to compute the noisy images in one shot, directly from the original images. It's a shortcut for the forward diffusion process.\n",
    "* The target is the noise that was used to produce the noisy images."
   ]
  },
  {
   "cell_type": "code",
   "execution_count": 28,
   "id": "24e593cc",
   "metadata": {},
   "outputs": [],
   "source": [
    "def prepare_batch(X):\n",
    "    X = tf.cast(X[..., tf.newaxis], tf.float32) * 2 - 1  # scale from –1 to +1\n",
    "    X_shape = tf.shape(X)\n",
    "    t = tf.random.uniform([X_shape[0]], minval=1, maxval=T + 1, dtype=tf.int32)\n",
    "    alpha_cm = tf.gather(alpha_cumprod, t)\n",
    "    alpha_cm = tf.reshape(alpha_cm, [X_shape[0]] + [1] * (len(X_shape) - 1))\n",
    "    noise = tf.random.normal(X_shape)\n",
    "    return {\n",
    "        \"X_noisy\": alpha_cm ** 0.5 * X + (1 - alpha_cm) ** 0.5 * noise,\n",
    "        \"time\": t,\n",
    "    }, noise"
   ]
  },
  {
   "cell_type": "markdown",
   "id": "399cad7f",
   "metadata": {},
   "source": [
    "Note that the target is the `noise`, while the input is the dictionary containing the noisy image and the time step used to generate them."
   ]
  },
  {
   "cell_type": "markdown",
   "id": "adbfbd62",
   "metadata": {},
   "source": [
    "Now let's prepare a `tf.data.Dataset` for training, and one for validation."
   ]
  },
  {
   "cell_type": "code",
   "execution_count": 29,
   "id": "2b32d613",
   "metadata": {},
   "outputs": [],
   "source": [
    "def prepare_dataset(X, batch_size=32, shuffle=False):\n",
    "    ds = tf.data.Dataset.from_tensor_slices(X)\n",
    "    if shuffle:\n",
    "        ds = ds.shuffle(10_000)\n",
    "    return ds.batch(batch_size).map(prepare_batch).prefetch(1)\n",
    "\n",
    "tf.random.set_seed(43)  # extra code – ensures reproducibility on CPU\n",
    "train_set = prepare_dataset(X_train, batch_size=32, shuffle=True)\n",
    "valid_set = prepare_dataset(X_valid, batch_size=32)"
   ]
  },
  {
   "cell_type": "markdown",
   "id": "a08f9340",
   "metadata": {},
   "source": [
    "As a quick sanity check, let's take a look at a few training samples, along with the corresponding noise to predict, and the original images (which we get by subtracting the appropriately scaled noise from the appropriately scaled noisy image):"
   ]
  },
  {
   "cell_type": "code",
   "execution_count": null,
   "id": "5b567c26",
   "metadata": {},
   "outputs": [],
   "source": [
    "# extra code – just a quick sanity check\n",
    "\n",
    "def subtract_noise(X_noisy, time, noise):\n",
    "    X_shape = tf.shape(X_noisy)\n",
    "    alpha_cm = tf.gather(alpha_cumprod, time)\n",
    "    alpha_cm = tf.reshape(alpha_cm, [X_shape[0]] + [1] * (len(X_shape) - 1))\n",
    "    return (X_noisy - (1 - alpha_cm) ** 0.5 * noise) / alpha_cm ** 0.5\n",
    "\n",
    "X_dict, Y_noise = list(train_set.take(1))[0]  # get the first batch\n",
    "X_original = subtract_noise(X_dict[\"X_noisy\"], X_dict[\"time\"], Y_noise)\n",
    "\n",
    "print(\"Original images\")\n",
    "plot_multiple_images(X_original[:8].numpy())\n",
    "plt.show()\n",
    "print(\"Time steps:\", X_dict[\"time\"].numpy()[:8])\n",
    "print(\"Noisy images\")\n",
    "plot_multiple_images(X_dict[\"X_noisy\"][:8].numpy())\n",
    "plt.show()\n",
    "print(\"Noise to predict\")\n",
    "plot_multiple_images(Y_noise[:8].numpy())\n",
    "plt.show()"
   ]
  },
  {
   "cell_type": "markdown",
   "id": "03c18710",
   "metadata": {},
   "source": [
    "Now we're ready to build the diffusion model itself. It will need to process both images and times. We will encode the times using a sinusoidal encoding, as suggested in the DDPM paper, just like in the [Attention is all you need](https://arxiv.org/abs/1706.03762) paper. Given a vector of _m_ integers representing time indices (integers), the layer returns an _m_ × _d_ matrix, where _d_ is the chosen embedding size."
   ]
  },
  {
   "cell_type": "code",
   "execution_count": null,
   "id": "b125e54d",
   "metadata": {},
   "outputs": [],
   "source": [
    "# extra code – implements a custom time encoding layer\n",
    "\n",
    "embed_size = 64\n",
    "\n",
    "class TimeEncoding(tf.keras.layers.Layer):\n",
    "    def __init__(self, T, embed_size, dtype=tf.float32, **kwargs):\n",
    "        super().__init__(dtype=dtype, **kwargs)\n",
    "        assert embed_size % 2 == 0, \"embed_size must be even\"\n",
    "        p, i = np.meshgrid(np.arange(T + 1), 2 * np.arange(embed_size // 2))\n",
    "        t_emb = np.empty((T + 1, embed_size))\n",
    "        t_emb[:, ::2] = np.sin(p / 10_000 ** (i / embed_size)).T\n",
    "        t_emb[:, 1::2] = np.cos(p / 10_000 ** (i / embed_size)).T\n",
    "        self.time_encodings = tf.constant(t_emb.astype(self.dtype))\n",
    "\n",
    "    def call(self, inputs):\n",
    "        return tf.gather(self.time_encodings, inputs)"
   ]
  },
  {
   "cell_type": "markdown",
   "id": "a6b4851c",
   "metadata": {},
   "source": [
    "Now let's build the model. In the Improved DDPM paper, they use a UNet model. We'll create a UNet-like model, that processes the image through `Conv2D` + `BatchNormalization` layers and skip connections, gradually downsampling the image (using `MaxPooling` layers with `strides=2`), then growing it back again (using `Upsampling2D` layers). Skip connections are also added across the downsampling part and the upsampling part. We also add the time encodings to the output of each block, after passing them through a `Dense` layer to resize them to the right dimension.\n",
    "\n",
    "* **Note**: an image's time encoding is added to every pixel in the image, along the last axis (channels). So the number of units in the `Conv2D` layer must correspond to the embedding size, and we must reshape the `time_enc` tensor to add the width and height dimensions.\n",
    "* This UNet implementation was inspired by keras.io's [image segmentation example](https://keras.io/examples/vision/oxford_pets_image_segmentation/), as well as from the [official diffusion models implementation](https://github.com/hojonathanho/diffusion/blob/master/diffusion_tf/models/unet.py). Compared to the first implementation, I added a few things, especially time encodings and skip connections across down/up parts. Compared to the second implementation, I removed a few things, especially the attention layers. It seemed like overkill for Fashion MNIST, but feel free to add them."
   ]
  },
  {
   "cell_type": "code",
   "execution_count": null,
   "id": "8a020e59",
   "metadata": {},
   "outputs": [],
   "source": [
    "def build_diffusion_model():\n",
    "    X_noisy = tf.keras.layers.Input(shape=[28, 28, 1], name=\"X_noisy\")\n",
    "    time_input = tf.keras.layers.Input(shape=[], dtype=tf.int32, name=\"time\")\n",
    "    time_enc = TimeEncoding(T, embed_size)(time_input)\n",
    "\n",
    "    dim = 16\n",
    "    Z = tf.keras.layers.ZeroPadding2D((3, 3))(X_noisy)\n",
    "    Z = tf.keras.layers.Conv2D(dim, 3)(Z)\n",
    "    Z = tf.keras.layers.BatchNormalization()(Z)\n",
    "    Z = tf.keras.layers.Activation(\"relu\")(Z)\n",
    "\n",
    "    time = tf.keras.layers.Dense(dim)(time_enc)  # adapt time encoding\n",
    "    Z = time[:, tf.newaxis, tf.newaxis, :] + Z  # add time data to every pixel\n",
    "\n",
    "    skip = Z\n",
    "    cross_skips = []  # skip connections across the down & up parts of the UNet\n",
    "\n",
    "    for dim in (32, 64, 128):\n",
    "        Z = tf.keras.layers.Activation(\"relu\")(Z)\n",
    "        Z = tf.keras.layers.SeparableConv2D(dim, 3, padding=\"same\")(Z)\n",
    "        Z = tf.keras.layers.BatchNormalization()(Z)\n",
    "\n",
    "        Z = tf.keras.layers.Activation(\"relu\")(Z)\n",
    "        Z = tf.keras.layers.SeparableConv2D(dim, 3, padding=\"same\")(Z)\n",
    "        Z = tf.keras.layers.BatchNormalization()(Z)\n",
    "\n",
    "        cross_skips.append(Z)\n",
    "        Z = tf.keras.layers.MaxPooling2D(3, strides=2, padding=\"same\")(Z)\n",
    "        skip_link = tf.keras.layers.Conv2D(dim, 1, strides=2,\n",
    "                                           padding=\"same\")(skip)\n",
    "        Z = tf.keras.layers.add([Z, skip_link])\n",
    "\n",
    "        time = tf.keras.layers.Dense(dim)(time_enc)\n",
    "        Z = time[:, tf.newaxis, tf.newaxis, :] + Z\n",
    "        skip = Z\n",
    "\n",
    "    for dim in (64, 32, 16):\n",
    "        Z = tf.keras.layers.Activation(\"relu\")(Z)\n",
    "        Z = tf.keras.layers.Conv2DTranspose(dim, 3, padding=\"same\")(Z)\n",
    "        Z = tf.keras.layers.BatchNormalization()(Z)\n",
    "\n",
    "        Z = tf.keras.layers.Activation(\"relu\")(Z)\n",
    "        Z = tf.keras.layers.Conv2DTranspose(dim, 3, padding=\"same\")(Z)\n",
    "        Z = tf.keras.layers.BatchNormalization()(Z)\n",
    "\n",
    "        Z = tf.keras.layers.UpSampling2D(2)(Z)\n",
    "\n",
    "        skip_link = tf.keras.layers.UpSampling2D(2)(skip)\n",
    "        skip_link = tf.keras.layers.Conv2D(dim, 1, padding=\"same\")(skip_link)\n",
    "        Z = tf.keras.layers.add([Z, skip_link])\n",
    "\n",
    "        time = tf.keras.layers.Dense(dim)(time_enc)\n",
    "        Z = time[:, tf.newaxis, tf.newaxis, :] + Z\n",
    "        Z = tf.keras.layers.concatenate([Z, cross_skips.pop()], axis=-1)\n",
    "        skip = Z\n",
    "\n",
    "    outputs = tf.keras.layers.Conv2D(1, 3, padding=\"same\")(Z)[:, 2:-2, 2:-2]\n",
    "    return tf.keras.Model(inputs=[X_noisy, time_input], outputs=[outputs])"
   ]
  },
  {
   "cell_type": "code",
   "execution_count": null,
   "id": "fe2e04ac",
   "metadata": {},
   "outputs": [],
   "source": [
    "tf.random.set_seed(42)  # extra code – ensures reproducibility on the CPU\n",
    "model = build_diffusion_model()\n",
    "model.compile(loss=tf.keras.losses.Huber(), optimizer=tf.keras.optimizers.Nadam())\n",
    "\n",
    "# extra code – adds a ModelCheckpoint callback\n",
    "checkpoint_cb = tf.keras.callbacks.ModelCheckpoint(\"my_diffusion_model\",\n",
    "                                                   save_best_only=True)\n",
    "\n",
    "history = model.fit(train_set, validation_data=valid_set, epochs=100,\n",
    "                    callbacks=[checkpoint_cb])  # extra code"
   ]
  },
  {
   "cell_type": "markdown",
   "id": "daee7d82",
   "metadata": {},
   "source": [
    "Now that the model is trained, we can use it to generate new images. For this, we just generate Gaussian noise, and pretend this is the result of the diffusion process, and we're at time $T$. Then we use the model to predict the image at time $T - 1$, then we call it again to get $T - 2$, and so on, removing a bit of noise at each step. At the end, we get an image that looks like it's from the Fashion MNIST dataset. The equation for this reverse process is at the top of page 4 in the DDPM paper (step 4 in algorithm 2)."
   ]
  },
  {
   "cell_type": "code",
   "execution_count": null,
   "id": "b6035a97",
   "metadata": {},
   "outputs": [],
   "source": [
    "def generate(model, batch_size=32):\n",
    "    X = tf.random.normal([batch_size, 28, 28, 1])\n",
    "    for t in range(T - 1, 0, -1):\n",
    "        print(f\"\\rt = {t}\", end=\" \")  # extra code – show progress\n",
    "        noise = (tf.random.normal if t > 1 else tf.zeros)(tf.shape(X))\n",
    "        X_noise = model({\"X_noisy\": X, \"time\": tf.constant([t] * batch_size)})\n",
    "        X = (\n",
    "            1 / alpha[t] ** 0.5\n",
    "            * (X - beta[t] / (1 - alpha_cumprod[t]) ** 0.5 * X_noise)\n",
    "            + (1 - alpha[t]) ** 0.5 * noise\n",
    "        )\n",
    "    return X\n",
    "\n",
    "tf.random.set_seed(42)  # extra code – ensures reproducibility on the CPU\n",
    "X_gen = generate(model)  # generated images"
   ]
  },
  {
   "cell_type": "code",
   "execution_count": null,
   "id": "ad6f337b",
   "metadata": {},
   "outputs": [],
   "source": [
    "plot_multiple_images(X_gen.numpy(), 8)\n",
    "save_fig(\"ddpm_generated_images_plot\")\n",
    "plt.show()"
   ]
  },
  {
   "cell_type": "markdown",
   "id": "34505c48",
   "metadata": {},
   "source": [
    " Some of these images are really convincing! Compared to GANs, diffusion models tend to generate more diverse images, and they have surpassed GANs in image quality. Moreover, training is much more stable. However, generating images takes *much* longer."
   ]
  },
  {
   "cell_type": "markdown",
   "id": "e87c36fa",
   "metadata": {},
   "source": [
    "There are also *latent diffusion models*, where the diffusion process takes place in latent space (rather than pixel space). This is achieved through using a powerful autoencoder to compress each training image into a much smaller latent space, where the diffusion process takes place, then the autoencoder is used to decompress the final latent representation, generating the output image."
   ]
  },
  {
   "cell_type": "markdown",
   "id": "bd0efa98",
   "metadata": {},
   "source": [
    "# Exercise"
   ]
  },
  {
   "cell_type": "markdown",
   "id": "4a1eda8c",
   "metadata": {},
   "source": [
    "13. Go through KerasCV's Stable Diffusion tutorial to generate a drawing of a salamander reading a book!"
   ]
  },
  {
   "cell_type": "markdown",
   "id": "ae90e8a2",
   "metadata": {},
   "source": []
  }
 ],
 "metadata": {
  "kernelspec": {
   "display_name": ".venv(autoencoder_python10) (3.10.11)",
   "language": "python",
   "name": "python3"
  },
  "language_info": {
   "codemirror_mode": {
    "name": "ipython",
    "version": 3
   },
   "file_extension": ".py",
   "mimetype": "text/x-python",
   "name": "python",
   "nbconvert_exporter": "python",
   "pygments_lexer": "ipython3",
   "version": "3.10.11"
  }
 },
 "nbformat": 4,
 "nbformat_minor": 5
}
