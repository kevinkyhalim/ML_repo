{
 "cells": [
  {
   "cell_type": "code",
   "execution_count": 1,
   "id": "a6622ee0",
   "metadata": {},
   "outputs": [],
   "source": [
    "import pandas as pd  # for easily manipulating databases\n",
    "import numpy as np  # for numerical computations\n",
    "import matplotlib.pyplot as plt  # for plotting\n",
    "import pickle  # pickle is Python's \"serialization\" package -- used to save and load any python object easily"
   ]
  },
  {
   "cell_type": "markdown",
   "id": "71fda389",
   "metadata": {},
   "source": [
    "# Lab: Support Vector Machines\n",
    "\n",
    "## The Khan dataset (Gene expression)\n",
    "\n",
    "This week we will work with the Khan dataset, which is a dataset of tumour tissue samples and their gene expression profiles. The covariates are 2,308 gene expression levels, and the targets are a categorical label of tumour type. So we will be exploring (multi-class) classification with SVMs here.\n",
    "\n",
    "We also take this opportunity to introduce to you another useful Python package: Pickle. pickle is Python's \"serialization\" routine, which basically allows you save virtually any Python object (including its current state) and then move it around and load it and pick up where you left off. The dataset here is is saved as a pickle file 'khan_gene.pkl' and you can use the following expression to load it (see the docs if you want to understand further)."
   ]
  },
  {
   "cell_type": "code",
   "execution_count": 14,
   "id": "3d08c045",
   "metadata": {},
   "outputs": [
    {
     "name": "stdout",
     "output_type": "stream",
     "text": [
      "dict_keys(['xtest', 'xtrain', 'ytest', 'ytrain'])\n",
      "      G0001     G0002     G0003     G0004     G0005     G0006     G0007  \\\n",
      "0  0.773344 -2.438405 -0.482562 -2.721135 -1.217058  0.827809  1.342604   \n",
      "1 -0.078178 -2.415754  0.412772 -2.825146 -0.626236  0.054488  1.429498   \n",
      "2 -0.084469 -1.649739 -0.241308 -2.875286 -0.889405 -0.027474  1.159300   \n",
      "3  0.965614 -2.380547  0.625297 -1.741256 -0.845366  0.949687  1.093801   \n",
      "4  0.075664 -1.728785  0.852626  0.272695 -1.841370  0.327936  1.251219   \n",
      "\n",
      "      G0008     G0009     G0010  ...     G2299     G2300     G2301     G2302  \\\n",
      "0  0.057042  0.133569  0.565427  ... -0.238511 -0.027474 -1.660205  0.588231   \n",
      "1 -0.120249  0.456792  0.159053  ... -0.657394 -0.246284 -0.836325 -0.571284   \n",
      "2  0.015676  0.191942  0.496585  ... -0.696352  0.024985 -1.059872 -0.403767   \n",
      "3  0.819736 -0.284620  0.994732  ...  0.259746  0.357115 -1.893128  0.255107   \n",
      "4  0.771450  0.030917  0.278313  ... -0.200404  0.061753 -2.273998 -0.039365   \n",
      "\n",
      "      G2303     G2304     G2305     G2306     G2307     V2308  \n",
      "0 -0.463624 -3.952845 -5.496768 -1.414282 -0.647600 -1.763172  \n",
      "1  0.034788 -2.478130 -3.661264 -1.093923 -1.209320 -0.824395  \n",
      "2 -0.678653 -2.939352 -2.736450 -1.965399 -0.805868 -1.139434  \n",
      "3  0.163309 -1.021929 -2.077843 -1.127629  0.331531 -2.179483  \n",
      "4  0.368801 -2.566551 -1.675044 -1.082050 -0.965218 -1.836966  \n",
      "\n",
      "[5 rows x 2308 columns]\n",
      "0    2\n",
      "1    2\n",
      "2    2\n",
      "3    2\n",
      "4    2\n",
      "Name: Y, dtype: int64\n",
      "(63, 2308)\n",
      "(20, 2308)\n",
      "Y\n",
      "2    23\n",
      "4    20\n",
      "3    12\n",
      "1     8\n",
      "Name: count, dtype: int64\n"
     ]
    }
   ],
   "source": [
    "data = pickle.load(open('./khan_gene.pkl', 'rb'))\n",
    "\n",
    "# if you poked around, you would see that its a dictionary. Let's look what's inside.\n",
    "print(data.keys())\n",
    "\n",
    "# looks like a training and testing set. let's look how big it is and also display some of the data\n",
    "print(data['xtrain'].head())  # the entires in the dictionary are Pandas Dataframes\n",
    "print(data['ytrain'].head())\n",
    "print(data['xtrain'].shape)\n",
    "print(data['xtest'].shape)\n",
    "\n",
    "X_train, Y_train = data['xtrain'], data['ytrain']\n",
    "X_test, Y_test = data['xtest'], data['ytest']\n",
    "\n",
    "# explore the different classes\n",
    "print(data['ytrain'].value_counts())  # remember value_counts shows you all the unique values and their frequencies"
   ]
  },
  {
   "cell_type": "markdown",
   "id": "84dc1713",
   "metadata": {},
   "source": [
    "We see there are 63 examples in the training set and 20 examples in the testing set. We also see there are 4 different tumour classes (the labels). This dataset is the first time we've worked with p>n. In fact, p>>n here! It is always fundamentally easy to overfit in this regime.\n",
    "\n",
    "### Problem 1:\n",
    "\n",
    "Among the kernel functions we discussed in lecture, which should you probably use in this p>>n case and why?\n",
    "\n",
    "### Solutions:\n",
    "We should use the linear kernel, because if the dimensionality is much larger than the number of examples, then there is certainly no need for the additional complexity afforded by other kernels such as the polynomial or radial kernel. "
   ]
  },
  {
   "cell_type": "markdown",
   "id": "a1340358-efa6-4fc7-b100-0b447e97ba66",
   "metadata": {},
   "source": [
    "## SVMs in scikit-learn\n",
    "\n",
    "You can implement a linear SVM in scikit-learn like so. Note there are a few different ways to implement a linear SVM (you can look at the docs (https://scikit-learn.org/stable/modules/svm.html).\n",
    "\n",
    "### Problem 2\n",
    "In lectures, we did not discuss multi-class classification with SVMs much, and like most scikit-learn functions, SVC automatically detects that you need a multi-class classifier and accomodates you. Look at the documentation and determine what method it's using to perform multi-class classificaiton.\n",
    "\n",
    "### Solutions:\n",
    "At the top of this page: https://scikit-learn.org/stable/modules/generated/sklearn.svm.SVC.html#sklearn.svm.SVC, it states that the one-vs-one is used for multi-class support."
   ]
  },
  {
   "cell_type": "code",
   "execution_count": null,
   "id": "c4c0604a",
   "metadata": {},
   "outputs": [],
   "source": [
    "from sklearn import svm\n",
    "\n",
    "clf = svm.SVC(C=1.0, kernel='linear')\n",
    "clf.fit(X_train, Y_train)  # like all scikit-learn methods, they will automatically infer from the dataset that you are doing multi-class classification\n",
    "print(\"Test set predictions:\", clf.predict(X_test))  # the predictions\n",
    "\n",
    "# let's look at the support vectors\n",
    "sv = clf.support_vectors_\n",
    "print(sv.shape)\n",
    "print(\"So there are %d support vectors\" % sv.shape[0])\n",
    "\n",
    "# have a look at the predicted class labels \n",
    "Y_pred = clf.predict(X_train)\n",
    "print(Y_pred)\n",
    "print(clf.classes_)  # the columns in the matrix correspond to these class labels (ordering is important) "
   ]
  },
  {
   "cell_type": "markdown",
   "id": "fc1f25e7-f746-443b-801f-4fd15cfced51",
   "metadata": {},
   "source": [
    "### Problem 4:\n",
    "\n",
    "Compute the training error and explain the result.\n",
    "\n",
    "### Solutions:\n",
    "The training error is computed like so. It's zero. This is because when p>>n, it is easy to find a hyperplane in this high-dimensional space that can perfectly separate the data."
   ]
  },
  {
   "cell_type": "code",
   "execution_count": 17,
   "id": "a76d8705-2636-4251-ab01-2c49e39621fc",
   "metadata": {},
   "outputs": [
    {
     "name": "stdout",
     "output_type": "stream",
     "text": [
      "Training error: 0.0\n"
     ]
    }
   ],
   "source": [
    "# the training error would be fit like so\n",
    "Y_train_fit = clf.predict(X_train)\n",
    "train_error = np.mean((Y_train - Y_train_fit)**2)  # this is MSE\n",
    "print(\"Training error:\", train_error)"
   ]
  },
  {
   "cell_type": "markdown",
   "id": "90c2ca16",
   "metadata": {},
   "source": [
    "## Comparison Experiment\n",
    "\n",
    "When p>>n, you need to do aggressive feature selection. What models should you immediately start thinking about? Recall that models like Lasso and random forests perform aggressive feature selection. But this is classification -- so what model is analogous to Lasso? The natural choice is logistic regression with an L1 penalty. \n",
    "\n",
    "We will prepare to run a comparative experiment.\n",
    "\n",
    "First, pool the observations into one dataset like so. The following code says to concatenate the DataFrames like X_train and X_test along the first axis. Importantly, we should tell Pandas to ignore the index labels."
   ]
  },
  {
   "cell_type": "code",
   "execution_count": 29,
   "id": "a6ecac74-5337-45b9-a5f2-cf374837b842",
   "metadata": {},
   "outputs": [
    {
     "name": "stdout",
     "output_type": "stream",
     "text": [
      "      G0001     G0002     G0003     G0004     G0005     G0006     G0007  \\\n",
      "0  0.773344 -2.438405 -0.482562 -2.721135 -1.217058  0.827809  1.342604   \n",
      "1 -0.078178 -2.415754  0.412772 -2.825146 -0.626236  0.054488  1.429498   \n",
      "2 -0.084469 -1.649739 -0.241308 -2.875286 -0.889405 -0.027474  1.159300   \n",
      "3  0.965614 -2.380547  0.625297 -1.741256 -0.845366  0.949687  1.093801   \n",
      "4  0.075664 -1.728785  0.852626  0.272695 -1.841370  0.327936  1.251219   \n",
      "\n",
      "      G0008     G0009     G0010  ...     G2299     G2300     G2301     G2302  \\\n",
      "0  0.057042  0.133569  0.565427  ... -0.238511 -0.027474 -1.660205  0.588231   \n",
      "1 -0.120249  0.456792  0.159053  ... -0.657394 -0.246284 -0.836325 -0.571284   \n",
      "2  0.015676  0.191942  0.496585  ... -0.696352  0.024985 -1.059872 -0.403767   \n",
      "3  0.819736 -0.284620  0.994732  ...  0.259746  0.357115 -1.893128  0.255107   \n",
      "4  0.771450  0.030917  0.278313  ... -0.200404  0.061753 -2.273998 -0.039365   \n",
      "\n",
      "      G2303     G2304     G2305     G2306     G2307     V2308  \n",
      "0 -0.463624 -3.952845 -5.496768 -1.414282 -0.647600 -1.763172  \n",
      "1  0.034788 -2.478130 -3.661264 -1.093923 -1.209320 -0.824395  \n",
      "2 -0.678653 -2.939352 -2.736450 -1.965399 -0.805868 -1.139434  \n",
      "3  0.163309 -1.021929 -2.077843 -1.127629  0.331531 -2.179483  \n",
      "4  0.368801 -2.566551 -1.675044 -1.082050 -0.965218 -1.836966  \n",
      "\n",
      "[5 rows x 2308 columns]\n",
      "0    2\n",
      "1    2\n",
      "2    2\n",
      "3    2\n",
      "4    2\n",
      "Name: Y, dtype: int64\n",
      "(83, 2308)\n",
      "(83,)\n"
     ]
    }
   ],
   "source": [
    "X = pd.concat([X_train, X_test], axis=0, ignore_index=True)\n",
    "Y = pd.concat([Y_train, Y_test], axis=0, ignore_index=True)\n",
    "\n",
    "print(X.head())\n",
    "print(Y.head())\n",
    "\n",
    "print(X.shape)\n",
    "print(Y.shape)"
   ]
  },
  {
   "cell_type": "markdown",
   "id": "ba9db095-001e-4188-9072-4b7e24bc42d0",
   "metadata": {},
   "source": [
    "### Prepare for an experiment\n",
    "\n",
    "If you did an exploration of the data, you'd see that all predictors are numeric valued, their values are all within the same range, and there are no missing values:"
   ]
  },
  {
   "cell_type": "code",
   "execution_count": 70,
   "id": "c84c64a0-0591-4518-a895-f39e7b0c3ae3",
   "metadata": {},
   "outputs": [
    {
     "name": "stdout",
     "output_type": "stream",
     "text": [
      "float64    2308\n",
      "Name: count, dtype: int64\n",
      "0\n",
      "           G0001      G0002      G0003      G0004      G0005      G0006  \\\n",
      "count  83.000000  83.000000  83.000000  83.000000  83.000000  83.000000   \n",
      "mean    0.095508  -1.661939  -0.203707  -1.359657  -1.376694   0.355879   \n",
      "std     0.904378   0.882391   0.704871   1.174159   0.585545   0.780256   \n",
      "min    -2.683846  -3.007805  -1.851509  -3.366796  -3.216379  -1.263723   \n",
      "25%    -0.265028  -2.322890  -0.568117  -2.277448  -1.806496  -0.065349   \n",
      "50%     0.239410  -1.813392  -0.103030  -1.736136  -1.266558   0.519032   \n",
      "75%     0.735390  -1.147199   0.290426   0.113641  -0.933310   0.878176   \n",
      "max     1.471485   0.654770   1.160742   0.583779  -0.264747   2.452728   \n",
      "\n",
      "           G0007      G0008      G0009      G0010  ...      G2299      G2300  \\\n",
      "count  83.000000  83.000000  83.000000  83.000000  ...  83.000000  83.000000   \n",
      "mean    1.681210   0.137365   0.241915   0.393151  ...  -0.459341  -0.575929   \n",
      "std     0.443620   0.497517   0.451735   0.509725  ...   0.686443   0.658340   \n",
      "min     0.776063  -1.218072  -0.639227  -1.572142  ...  -2.276917  -2.226550   \n",
      "25%     1.400180  -0.266450  -0.051030   0.061377  ...  -0.887540  -1.013634   \n",
      "50%     1.603541   0.194250   0.191942   0.470379  ...  -0.307477  -0.543693   \n",
      "75%     1.932492   0.461451   0.548549   0.722011  ...  -0.004870  -0.132281   \n",
      "max     2.946642   1.224011   1.437866   1.169443  ...   1.077559   1.281323   \n",
      "\n",
      "           G2301      G2302      G2303      G2304      G2305      G2306  \\\n",
      "count  83.000000  83.000000  83.000000  83.000000  83.000000  83.000000   \n",
      "mean   -1.326569  -0.742486  -0.633767  -1.777800  -1.673760  -0.967169   \n",
      "std     0.691523   0.553185   1.095169   0.937735   0.875732   0.614945   \n",
      "min    -2.847312  -2.273998  -3.294138  -4.803621  -5.496768  -3.146555   \n",
      "25%    -1.853447  -1.038884  -1.433326  -2.331722  -2.127933  -1.365390   \n",
      "50%    -1.253163  -0.731680  -0.454918  -1.586698  -1.680397  -1.064211   \n",
      "75%    -0.813623  -0.412507   0.286692  -1.189754  -1.062350  -0.623558   \n",
      "max     0.210180   0.588231   1.040171   0.059118   0.385874   0.479335   \n",
      "\n",
      "           G2307      V2308  \n",
      "count  83.000000  83.000000  \n",
      "mean   -0.510991  -1.454831  \n",
      "std     0.593329   0.629243  \n",
      "min    -2.691193  -3.110021  \n",
      "25%    -0.834146  -1.896223  \n",
      "50%    -0.428939  -1.393923  \n",
      "75%    -0.146951  -0.988490  \n",
      "max     0.570471   0.041142  \n",
      "\n",
      "[8 rows x 2308 columns]\n",
      "Y\n",
      "2    29\n",
      "4    25\n",
      "3    18\n",
      "1    11\n",
      "Name: count, dtype: int64\n"
     ]
    }
   ],
   "source": [
    "print(X.dtypes.value_counts())  # all predictors are numeric valued\n",
    "print(X.isnull().sum().sum())  # there are no missing values\n",
    "\n",
    "print(X.describe())  # eyeball descriptive summaries of the data\n",
    "\n",
    "# In classification, it's also a good idea to look at the \"balance\" of the labels in the dataset\n",
    "print(Y.value_counts())"
   ]
  },
  {
   "cell_type": "markdown",
   "id": "fe21e6ff-29a0-4696-b2f8-9a4acfffc106",
   "metadata": {},
   "source": [
    "## Experiment\n",
    "\n",
    "Now run the experiment as we have done in previous labs to compare random forest classifiers, gradient boosting classifiers, and the (linear) SVC. Note that logistic regression with an L1 penalty takes a bit too long to run on this huge p dataset, so you can leave it out of this exercise; for the same reason, you may wish to skip cross-validating over the GBT parameters.\n",
    "\n",
    "### Problem 5\n",
    "What is a good naive baseline to use? Think of one and include in the comparison.\n",
    "\n",
    "Additionally, what performance metric should you use for this classification problem? There are several choices, and in my opinion AUC is still the most popular and respected choice. However, using AUC here involves several concepts and data cleaning/management steps that are cumbersome for the purposes of this lab, so we will instead simply use accuracy (which should be too bad since the dataset does not appear to be severely imbalanced).\n",
    "\n",
    "Finally, because this dataset has a small number of training examples, we should probably not randomly subsample train/test splits like we have done in previous labs. We should use something like K-fold splitting to ensure we maximally use up all the available data.\n",
    "\n",
    "The following code snippet below is copy and pasted from previous labs, where I have already applied the use of the accuracy score and K-fold train/test splits for you. Modify it to your needs.\n",
    "\n",
    "### Solutions:\n",
    "In the below code, I use the majority class appearing in Y_train as the naive baseline. The predicted class proability for every test case with this naive baseline is the fraction of training datapoints belonging to this majority class."
   ]
  },
  {
   "cell_type": "code",
   "execution_count": 72,
   "id": "1831400a",
   "metadata": {},
   "outputs": [
    {
     "name": "stdout",
     "output_type": "stream",
     "text": [
      "N train: 74\n",
      "N test: 9\n",
      "Finished RF split: 1\n",
      "Finished GBT split: 1\n",
      "Finished SVM split: 1\n",
      "This split took: 14.22 secs\n",
      "N train: 74\n",
      "N test: 9\n",
      "Finished RF split: 2\n",
      "Finished GBT split: 2\n",
      "Finished SVM split: 2\n",
      "This split took: 14.05 secs\n",
      "N train: 74\n",
      "N test: 9\n",
      "Finished RF split: 3\n",
      "Finished GBT split: 3\n",
      "Finished SVM split: 3\n",
      "This split took: 14.50 secs\n",
      "N train: 75\n",
      "N test: 8\n",
      "Finished RF split: 4\n",
      "Finished GBT split: 4\n",
      "Finished SVM split: 4\n",
      "This split took: 14.81 secs\n",
      "N train: 75\n",
      "N test: 8\n",
      "Finished RF split: 5\n",
      "Finished GBT split: 5\n",
      "Finished SVM split: 5\n",
      "This split took: 14.70 secs\n",
      "N train: 75\n",
      "N test: 8\n",
      "Finished RF split: 6\n",
      "Finished GBT split: 6\n",
      "Finished SVM split: 6\n",
      "This split took: 13.81 secs\n",
      "N train: 75\n",
      "N test: 8\n",
      "Finished RF split: 7\n",
      "Finished GBT split: 7\n",
      "Finished SVM split: 7\n",
      "This split took: 15.01 secs\n",
      "N train: 75\n",
      "N test: 8\n",
      "Finished RF split: 8\n",
      "Finished GBT split: 8\n",
      "Finished SVM split: 8\n",
      "This split took: 14.80 secs\n",
      "N train: 75\n",
      "N test: 8\n",
      "Finished RF split: 9\n",
      "Finished GBT split: 9\n",
      "Finished SVM split: 9\n",
      "This split took: 14.44 secs\n",
      "N train: 75\n",
      "N test: 8\n",
      "Finished RF split: 10\n",
      "Finished GBT split: 10\n",
      "Finished SVM split: 10\n",
      "This split took: 14.76 secs\n"
     ]
    }
   ],
   "source": [
    "from sklearn.linear_model import LogisticRegressionCV  # logistic regression with built in regularization. The penalty parameter is Cross-validated\n",
    "from sklearn.ensemble import RandomForestClassifier, GradientBoostingClassifier\n",
    "from sklearn.metrics import accuracy_score\n",
    "from sklearn.model_selection import KFold\n",
    "import matplotlib.pyplot as plt # for plotting\n",
    "import time # for timekeeping\n",
    "\n",
    "\"\"\"\n",
    "\n",
    "\n",
    "\"\"\"\n",
    "\n",
    "# The following grids will be used to cross-validate over the GBT and SVM parameters\n",
    "from sklearn.model_selection import GridSearchCV, RandomizedSearchCV\n",
    "param_grid_gbt = {\n",
    "    'n_estimators': [50, 100, 200],\n",
    "    'learning_rate': [0.01, 0.05, 0.1],\n",
    "}\n",
    "\n",
    "param_grid_svm = {\n",
    "    'C': [0.001, 0.01, 0.1, 1, 10, 100],\n",
    "}\n",
    "\n",
    "# container for the AUC scores\n",
    "scores = {}  # this time we will use a dictionary structure to contain the performance metrics\n",
    "for model_name in ['rf', 'gbt', 'svm']:\n",
    "    scores[model_name] = []  # initialize this dictionary entry to an empty list\n",
    "\n",
    "kf = KFold(n_splits=10, shuffle=True)   # will make a test set size of about 10% of the data \n",
    "\n",
    "i_ = 0\n",
    "for train_inds, test_inds in kf.split(X):\n",
    "    \n",
    "    t_start = time.time()  # used to time things\n",
    "    i_ += 1\n",
    "\n",
    "    print(\"N train:\", len(train_inds))\n",
    "    print(\"N test:\", len(test_inds))\n",
    "\n",
    "    X_train = X.iloc[train_inds, :].copy()  # remember .iloc is used for integer indexing!\n",
    "    X_test = X.iloc[test_inds, :].copy()\n",
    "    \n",
    "    Y_train = Y.iloc[train_inds]\n",
    "    Y_test = Y.iloc[test_inds]\n",
    "    \n",
    "    # standardize the predictors\n",
    "    for key in X_train.columns:\n",
    "        x_mean = X_train[key].mean()\n",
    "        x_std = X_train[key].std()\n",
    "        X_train.loc[:, key] = (X_train[key] - x_mean) / x_std  # vectorized\n",
    "        X_test.loc[:, key] = (X_test[key] - x_mean) / x_std  # use the training statistics to transform the test cases\n",
    "\n",
    "    # # logistic regression with L1 penalty cross-validated\n",
    "    # clf = LogisticRegressionCV(penalty='l1', solver='saga', max_iter=10000)  # uses 5-fold cross validation by default\n",
    "    # clf.fit(X_train, Y_train)  \n",
    "    # Y_pred = clf.predict_proba(X_test)  \n",
    "    # auc = roc_auc_score(Y_test, Y_pred, multi_class='ovr')  # one-vs-rest scheme for multi-class classification\n",
    "    # auc_scores['logreg_l1'].append(auc)\n",
    "    # print(\"Finished logreg l1 split:\", i_)\n",
    "\n",
    "    # Random Forest Classifier\n",
    "    clf = RandomForestClassifier(n_estimators=500)\n",
    "    clf.fit(X_train, Y_train) \n",
    "    Y_pred = clf.predict(X_test)\n",
    "    score = accuracy_score(Y_test, Y_pred)\n",
    "    scores['rf'].append(score)\n",
    "    print(\"Finished RF split:\", i_)\n",
    "\n",
    "    # Gradient Boosting Classifier\n",
    "    clf = GradientBoostingClassifier(n_estimators=500)\n",
    "    clf.fit(X_train, Y_train)\n",
    "    Y_pred = clf.predict(X_test)\n",
    "    score = accuracy_score(Y_test, Y_pred)\n",
    "    scores['gbt'].append(score)\n",
    "    print(\"Finished GBT split:\", i_)\n",
    "\n",
    "    # SVM\n",
    "    grid = GridSearchCV(\n",
    "        svm.SVC(kernel='linear'),\n",
    "        param_grid_svm,\n",
    "        cv=5,\n",
    "    )\n",
    "    grid.fit(X_train, Y_train)\n",
    "    clf = grid.best_estimator_\n",
    "    clf.fit(X_train, Y_train) \n",
    "    Y_pred = clf.predict(X_test)\n",
    "    score = accuracy_score(Y_test, Y_pred)\n",
    "    scores['svm'].append(score)\n",
    "    print(\"Finished SVM split:\", i_)\n",
    "    \n",
    "    t_elapsed = time.time() - t_start\n",
    "    print(\"This split took: %.2f secs\" % t_elapsed)"
   ]
  },
  {
   "cell_type": "code",
   "execution_count": 73,
   "id": "61dbe089-ecc9-4188-894b-76f1e524d400",
   "metadata": {},
   "outputs": [
    {
     "name": "stdout",
     "output_type": "stream",
     "text": [
      "logreg_l1 ave accuracy: nan\n",
      "rf ave accuracy: 1.0\n",
      "gbt ave accuracy: 0.9\n",
      "svm ave accuracy: 1.0\n"
     ]
    },
    {
     "name": "stderr",
     "output_type": "stream",
     "text": [
      "/Users/koa/anaconda3/lib/python3.10/site-packages/numpy/core/fromnumeric.py:3504: RuntimeWarning: Mean of empty slice.\n",
      "  return _methods._mean(a, axis=axis, dtype=dtype,\n",
      "/Users/koa/anaconda3/lib/python3.10/site-packages/numpy/core/_methods.py:129: RuntimeWarning: invalid value encountered in scalar divide\n",
      "  ret = ret.dtype.type(ret / rcount)\n"
     ]
    },
    {
     "data": {
      "text/plain": [
       "Text(0, 0.5, 'Accuracy')"
      ]
     },
     "execution_count": 73,
     "metadata": {},
     "output_type": "execute_result"
    },
    {
     "data": {
      "image/png": "[encoded data removed]",
      "text/plain": [
       "<Figure size 640x480 with 1 Axes>"
      ]
     },
     "metadata": {},
     "output_type": "display_data"
    }
   ],
   "source": [
    "model_names = list(scores.keys())\n",
    "\n",
    "for name in model_names:\n",
    "    scores_ = scores[name]\n",
    "    print(\"%s ave accuracy:\" % name, np.mean(scores_))\n",
    "\n",
    "plt.boxplot([scores[name] for name in model_names])\n",
    "plt.xticks(list(range(1, len(model_names) + 1)), model_names)\n",
    "plt.ylabel('Accuracy')"
   ]
  },
  {
   "cell_type": "code",
   "execution_count": 74,
   "id": "001d7ca4-6b83-4ac2-a820-bd8b9a8cbe18",
   "metadata": {},
   "outputs": [
    {
     "data": {
      "text/plain": [
       "{'logreg_l1': [],\n",
       " 'rf': [1.0, 1.0, 1.0, 1.0, 1.0, 1.0, 1.0, 1.0, 1.0, 1.0],\n",
       " 'gbt': [1.0, 1.0, 1.0, 1.0, 0.875, 0.625, 0.75, 1.0, 0.75, 1.0],\n",
       " 'svm': [1.0, 1.0, 1.0, 1.0, 1.0, 1.0, 1.0, 1.0, 1.0, 1.0]}"
      ]
     },
     "execution_count": 74,
     "metadata": {},
     "output_type": "execute_result"
    }
   ],
   "source": [
    "scores"
   ]
  },
  {
   "cell_type": "code",
   "execution_count": null,
   "id": "a10f6548-18b7-41e8-96c0-39f0dbaa7759",
   "metadata": {},
   "outputs": [],
   "source": []
  }
 ],
 "metadata": {
  "kernelspec": {
   "display_name": "Python 3 (ipykernel)",
   "language": "python",
   "name": "python3"
  },
  "language_info": {
   "codemirror_mode": {
    "name": "ipython",
    "version": 3
   },
   "file_extension": ".py",
   "mimetype": "text/x-python",
   "name": "python",
   "nbconvert_exporter": "python",
   "pygments_lexer": "ipython3",
   "version": "3.10.9"
  }
 },
 "nbformat": 4,
 "nbformat_minor": 5
}
