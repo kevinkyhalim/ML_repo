{
 "cells": [
  {
   "attachments": {},
   "cell_type": "markdown",
   "metadata": {},
   "source": [
    "# [Chapter 5] Exploring the global organ donation trends data\n",
    "\n",
    "[DSLC stages]: EDA\n",
    "\n",
    "\n",
    "In this document, we will conduct an EDA of the organ donation data. The general format of this document is that each section involves asking a question of the data and we then produce several exploratory visualizations to answer the question. Interesting findings are evaluated using PCS, and a few are turned into explanatory findings. \n",
    "\n",
    "Let's load and clean/pre-process the organ donation data (recall that we developed the cleaning/pre-processing workflow in the file `01_cleaning.qmd`, and saved our cleaning function in the file `R/prepareOrganData.R`). It is often helpful to keep a copy of the original uncleaned data in your environment. \n"
   ]
  },
  {
   "cell_type": "code",
   "execution_count": 1,
   "metadata": {},
   "outputs": [],
   "source": [
    "import pandas as pd\n",
    "import numpy as np\n",
    "import plotly.express as px\n",
    "import plotly.graph_objects as go\n",
    "from plotly.subplots import make_subplots\n",
    "from functions.prepare_organ_data import prepare_organ_data\n",
    "from functions.impute_feature import impute_feature\n",
    "\n",
    "pd.set_option('display.max_columns', None)"
   ]
  },
  {
   "cell_type": "code",
   "execution_count": 2,
   "metadata": {},
   "outputs": [
    {
     "name": "stderr",
     "output_type": "stream",
     "text": [
      "/Users/kevinkyhalim/ML_repo/1. Learning/Veridical Data Science/5. Exploratory Data Analysis/organ_donations/dslc_documentation/functions/impute_feature.py:14: FutureWarning: SeriesGroupBy.fillna is deprecated and will be removed in a future version. Use obj.ffill() or obj.bfill() for forward or backward filling instead. If you want to fill with a single value, use Series.fillna instead\n",
      "  data[\"imputed_feature_tmp_prev\"] = data.groupby(group)[\"imputed_feature_tmp_prev\"].fillna(method='ffill')\n",
      "/Users/kevinkyhalim/ML_repo/1. Learning/Veridical Data Science/5. Exploratory Data Analysis/organ_donations/dslc_documentation/functions/impute_feature.py:14: FutureWarning: Series.fillna with 'method' is deprecated and will raise in a future version. Use obj.ffill() or obj.bfill() instead.\n",
      "  data[\"imputed_feature_tmp_prev\"] = data.groupby(group)[\"imputed_feature_tmp_prev\"].fillna(method='ffill')\n",
      "/Users/kevinkyhalim/ML_repo/1. Learning/Veridical Data Science/5. Exploratory Data Analysis/organ_donations/dslc_documentation/functions/impute_feature.py:16: FutureWarning: SeriesGroupBy.fillna is deprecated and will be removed in a future version. Use obj.ffill() or obj.bfill() for forward or backward filling instead. If you want to fill with a single value, use Series.fillna instead\n",
      "  data[\"imputed_feature_tmp_next\"] = data.groupby(group)[\"imputed_feature_tmp_next\"].fillna(method='bfill')\n",
      "/Users/kevinkyhalim/ML_repo/1. Learning/Veridical Data Science/5. Exploratory Data Analysis/organ_donations/dslc_documentation/functions/impute_feature.py:16: FutureWarning: Series.fillna with 'method' is deprecated and will raise in a future version. Use obj.ffill() or obj.bfill() instead.\n",
      "  data[\"imputed_feature_tmp_next\"] = data.groupby(group)[\"imputed_feature_tmp_next\"].fillna(method='bfill')\n",
      "/Users/kevinkyhalim/ML_repo/1. Learning/Veridical Data Science/5. Exploratory Data Analysis/organ_donations/dslc_documentation/functions/impute_feature.py:20: FutureWarning: A value is trying to be set on a copy of a DataFrame or Series through chained assignment using an inplace method.\n",
      "The behavior will change in pandas 3.0. This inplace method will never work because the intermediate object on which we are setting values always behaves as a copy.\n",
      "\n",
      "For example, when doing 'df[col].method(value, inplace=True)', try using 'df.method({col: value}, inplace=True)' or df[col] = df[col].method(value) instead, to perform the operation inplace on the original object.\n",
      "\n",
      "\n",
      "  data['feature_imputed'].fillna(0, inplace=True)\n",
      "/Users/kevinkyhalim/ML_repo/1. Learning/Veridical Data Science/5. Exploratory Data Analysis/organ_donations/dslc_documentation/functions/impute_feature.py:14: FutureWarning: SeriesGroupBy.fillna is deprecated and will be removed in a future version. Use obj.ffill() or obj.bfill() for forward or backward filling instead. If you want to fill with a single value, use Series.fillna instead\n",
      "  data[\"imputed_feature_tmp_prev\"] = data.groupby(group)[\"imputed_feature_tmp_prev\"].fillna(method='ffill')\n",
      "/Users/kevinkyhalim/ML_repo/1. Learning/Veridical Data Science/5. Exploratory Data Analysis/organ_donations/dslc_documentation/functions/impute_feature.py:14: FutureWarning: Series.fillna with 'method' is deprecated and will raise in a future version. Use obj.ffill() or obj.bfill() instead.\n",
      "  data[\"imputed_feature_tmp_prev\"] = data.groupby(group)[\"imputed_feature_tmp_prev\"].fillna(method='ffill')\n",
      "/Users/kevinkyhalim/ML_repo/1. Learning/Veridical Data Science/5. Exploratory Data Analysis/organ_donations/dslc_documentation/functions/impute_feature.py:16: FutureWarning: SeriesGroupBy.fillna is deprecated and will be removed in a future version. Use obj.ffill() or obj.bfill() for forward or backward filling instead. If you want to fill with a single value, use Series.fillna instead\n",
      "  data[\"imputed_feature_tmp_next\"] = data.groupby(group)[\"imputed_feature_tmp_next\"].fillna(method='bfill')\n",
      "/Users/kevinkyhalim/ML_repo/1. Learning/Veridical Data Science/5. Exploratory Data Analysis/organ_donations/dslc_documentation/functions/impute_feature.py:16: FutureWarning: Series.fillna with 'method' is deprecated and will raise in a future version. Use obj.ffill() or obj.bfill() instead.\n",
      "  data[\"imputed_feature_tmp_next\"] = data.groupby(group)[\"imputed_feature_tmp_next\"].fillna(method='bfill')\n",
      "/Users/kevinkyhalim/ML_repo/1. Learning/Veridical Data Science/5. Exploratory Data Analysis/organ_donations/dslc_documentation/functions/impute_feature.py:20: FutureWarning: A value is trying to be set on a copy of a DataFrame or Series through chained assignment using an inplace method.\n",
      "The behavior will change in pandas 3.0. This inplace method will never work because the intermediate object on which we are setting values always behaves as a copy.\n",
      "\n",
      "For example, when doing 'df[col].method(value, inplace=True)', try using 'df.method({col: value}, inplace=True)' or df[col] = df[col].method(value) instead, to perform the operation inplace on the original object.\n",
      "\n",
      "\n",
      "  data['feature_imputed'].fillna(0, inplace=True)\n",
      "/Users/kevinkyhalim/ML_repo/1. Learning/Veridical Data Science/5. Exploratory Data Analysis/organ_donations/dslc_documentation/functions/prepare_organ_data.py:70: FutureWarning: unique with argument that is not not a Series, Index, ExtensionArray, or np.ndarray is deprecated and will raise in a future version.\n",
      "  column_order = pd.unique(column_order)\n"
     ]
    },
    {
     "data": {
      "text/html": [
       "<div>\n",
       "<style scoped>\n",
       "    .dataframe tbody tr th:only-of-type {\n",
       "        vertical-align: middle;\n",
       "    }\n",
       "\n",
       "    .dataframe tbody tr th {\n",
       "        vertical-align: top;\n",
       "    }\n",
       "\n",
       "    .dataframe thead th {\n",
       "        text-align: right;\n",
       "    }\n",
       "</style>\n",
       "<table border=\"1\" class=\"dataframe\">\n",
       "  <thead>\n",
       "    <tr style=\"text-align: right;\">\n",
       "      <th></th>\n",
       "      <th>country</th>\n",
       "      <th>year</th>\n",
       "      <th>region</th>\n",
       "      <th>population</th>\n",
       "      <th>population_imputed</th>\n",
       "      <th>total_deceased_donors</th>\n",
       "      <th>total_deceased_donors_imputed</th>\n",
       "      <th>deceased_donors_brain_death</th>\n",
       "      <th>deceased_donors_circulatory_death</th>\n",
       "      <th>total_utilized_deceased_donors</th>\n",
       "      <th>utilized_deceased_donors_brain_death</th>\n",
       "      <th>utilized_deceased_donors_circulatory_death</th>\n",
       "      <th>deceased_kidney_tx</th>\n",
       "      <th>living_kidney_tx</th>\n",
       "      <th>total_kidney_tx</th>\n",
       "      <th>deceased_liver_tx</th>\n",
       "      <th>domino_liver_tx</th>\n",
       "      <th>living_liver_tx</th>\n",
       "      <th>total_liver_tx</th>\n",
       "      <th>total_heart_tx</th>\n",
       "      <th>living_lung_tx</th>\n",
       "      <th>LD Lung Tx</th>\n",
       "      <th>total_lung_tx</th>\n",
       "      <th>total_pancreas_tx</th>\n",
       "      <th>total_kidney_pancreas_tx</th>\n",
       "      <th>total_small_bowel_tx</th>\n",
       "    </tr>\n",
       "  </thead>\n",
       "  <tbody>\n",
       "    <tr>\n",
       "      <th>0</th>\n",
       "      <td>Andorra</td>\n",
       "      <td>2000</td>\n",
       "      <td>Europe</td>\n",
       "      <td>100000.0</td>\n",
       "      <td>100000.0</td>\n",
       "      <td>NaN</td>\n",
       "      <td>0.0</td>\n",
       "      <td>NaN</td>\n",
       "      <td>NaN</td>\n",
       "      <td>NaN</td>\n",
       "      <td>NaN</td>\n",
       "      <td>NaN</td>\n",
       "      <td>NaN</td>\n",
       "      <td>NaN</td>\n",
       "      <td>NaN</td>\n",
       "      <td>NaN</td>\n",
       "      <td>NaN</td>\n",
       "      <td>NaN</td>\n",
       "      <td>NaN</td>\n",
       "      <td>NaN</td>\n",
       "      <td>NaN</td>\n",
       "      <td>NaN</td>\n",
       "      <td>NaN</td>\n",
       "      <td>NaN</td>\n",
       "      <td>NaN</td>\n",
       "      <td>NaN</td>\n",
       "    </tr>\n",
       "    <tr>\n",
       "      <th>1</th>\n",
       "      <td>Andorra</td>\n",
       "      <td>2001</td>\n",
       "      <td>Europe</td>\n",
       "      <td>100000.0</td>\n",
       "      <td>100000.0</td>\n",
       "      <td>NaN</td>\n",
       "      <td>0.0</td>\n",
       "      <td>NaN</td>\n",
       "      <td>NaN</td>\n",
       "      <td>NaN</td>\n",
       "      <td>NaN</td>\n",
       "      <td>NaN</td>\n",
       "      <td>NaN</td>\n",
       "      <td>NaN</td>\n",
       "      <td>NaN</td>\n",
       "      <td>NaN</td>\n",
       "      <td>NaN</td>\n",
       "      <td>NaN</td>\n",
       "      <td>NaN</td>\n",
       "      <td>NaN</td>\n",
       "      <td>NaN</td>\n",
       "      <td>NaN</td>\n",
       "      <td>NaN</td>\n",
       "      <td>NaN</td>\n",
       "      <td>NaN</td>\n",
       "      <td>NaN</td>\n",
       "    </tr>\n",
       "    <tr>\n",
       "      <th>2</th>\n",
       "      <td>Andorra</td>\n",
       "      <td>2002</td>\n",
       "      <td>Europe</td>\n",
       "      <td>100000.0</td>\n",
       "      <td>100000.0</td>\n",
       "      <td>NaN</td>\n",
       "      <td>0.0</td>\n",
       "      <td>NaN</td>\n",
       "      <td>NaN</td>\n",
       "      <td>NaN</td>\n",
       "      <td>NaN</td>\n",
       "      <td>NaN</td>\n",
       "      <td>NaN</td>\n",
       "      <td>NaN</td>\n",
       "      <td>NaN</td>\n",
       "      <td>NaN</td>\n",
       "      <td>NaN</td>\n",
       "      <td>NaN</td>\n",
       "      <td>NaN</td>\n",
       "      <td>NaN</td>\n",
       "      <td>NaN</td>\n",
       "      <td>NaN</td>\n",
       "      <td>NaN</td>\n",
       "      <td>NaN</td>\n",
       "      <td>NaN</td>\n",
       "      <td>NaN</td>\n",
       "    </tr>\n",
       "    <tr>\n",
       "      <th>3</th>\n",
       "      <td>Andorra</td>\n",
       "      <td>2003</td>\n",
       "      <td>Europe</td>\n",
       "      <td>100000.0</td>\n",
       "      <td>100000.0</td>\n",
       "      <td>NaN</td>\n",
       "      <td>0.0</td>\n",
       "      <td>NaN</td>\n",
       "      <td>NaN</td>\n",
       "      <td>NaN</td>\n",
       "      <td>NaN</td>\n",
       "      <td>NaN</td>\n",
       "      <td>NaN</td>\n",
       "      <td>NaN</td>\n",
       "      <td>NaN</td>\n",
       "      <td>NaN</td>\n",
       "      <td>NaN</td>\n",
       "      <td>NaN</td>\n",
       "      <td>NaN</td>\n",
       "      <td>NaN</td>\n",
       "      <td>NaN</td>\n",
       "      <td>NaN</td>\n",
       "      <td>NaN</td>\n",
       "      <td>NaN</td>\n",
       "      <td>NaN</td>\n",
       "      <td>NaN</td>\n",
       "    </tr>\n",
       "    <tr>\n",
       "      <th>4</th>\n",
       "      <td>Andorra</td>\n",
       "      <td>2004</td>\n",
       "      <td>Europe</td>\n",
       "      <td>100000.0</td>\n",
       "      <td>100000.0</td>\n",
       "      <td>NaN</td>\n",
       "      <td>0.0</td>\n",
       "      <td>NaN</td>\n",
       "      <td>NaN</td>\n",
       "      <td>NaN</td>\n",
       "      <td>NaN</td>\n",
       "      <td>NaN</td>\n",
       "      <td>NaN</td>\n",
       "      <td>NaN</td>\n",
       "      <td>NaN</td>\n",
       "      <td>NaN</td>\n",
       "      <td>NaN</td>\n",
       "      <td>NaN</td>\n",
       "      <td>NaN</td>\n",
       "      <td>NaN</td>\n",
       "      <td>NaN</td>\n",
       "      <td>NaN</td>\n",
       "      <td>NaN</td>\n",
       "      <td>NaN</td>\n",
       "      <td>NaN</td>\n",
       "      <td>NaN</td>\n",
       "    </tr>\n",
       "  </tbody>\n",
       "</table>\n",
       "</div>"
      ],
      "text/plain": [
       "   country  year  region  population  population_imputed  \\\n",
       "0  Andorra  2000  Europe    100000.0            100000.0   \n",
       "1  Andorra  2001  Europe    100000.0            100000.0   \n",
       "2  Andorra  2002  Europe    100000.0            100000.0   \n",
       "3  Andorra  2003  Europe    100000.0            100000.0   \n",
       "4  Andorra  2004  Europe    100000.0            100000.0   \n",
       "\n",
       "   total_deceased_donors  total_deceased_donors_imputed  \\\n",
       "0                    NaN                            0.0   \n",
       "1                    NaN                            0.0   \n",
       "2                    NaN                            0.0   \n",
       "3                    NaN                            0.0   \n",
       "4                    NaN                            0.0   \n",
       "\n",
       "   deceased_donors_brain_death  deceased_donors_circulatory_death  \\\n",
       "0                          NaN                                NaN   \n",
       "1                          NaN                                NaN   \n",
       "2                          NaN                                NaN   \n",
       "3                          NaN                                NaN   \n",
       "4                          NaN                                NaN   \n",
       "\n",
       "   total_utilized_deceased_donors  utilized_deceased_donors_brain_death  \\\n",
       "0                             NaN                                   NaN   \n",
       "1                             NaN                                   NaN   \n",
       "2                             NaN                                   NaN   \n",
       "3                             NaN                                   NaN   \n",
       "4                             NaN                                   NaN   \n",
       "\n",
       "   utilized_deceased_donors_circulatory_death  deceased_kidney_tx  \\\n",
       "0                                         NaN                 NaN   \n",
       "1                                         NaN                 NaN   \n",
       "2                                         NaN                 NaN   \n",
       "3                                         NaN                 NaN   \n",
       "4                                         NaN                 NaN   \n",
       "\n",
       "   living_kidney_tx  total_kidney_tx  deceased_liver_tx  domino_liver_tx  \\\n",
       "0               NaN              NaN                NaN              NaN   \n",
       "1               NaN              NaN                NaN              NaN   \n",
       "2               NaN              NaN                NaN              NaN   \n",
       "3               NaN              NaN                NaN              NaN   \n",
       "4               NaN              NaN                NaN              NaN   \n",
       "\n",
       "   living_liver_tx  total_liver_tx  total_heart_tx  living_lung_tx  \\\n",
       "0              NaN             NaN             NaN             NaN   \n",
       "1              NaN             NaN             NaN             NaN   \n",
       "2              NaN             NaN             NaN             NaN   \n",
       "3              NaN             NaN             NaN             NaN   \n",
       "4              NaN             NaN             NaN             NaN   \n",
       "\n",
       "   LD Lung Tx  total_lung_tx  total_pancreas_tx  total_kidney_pancreas_tx  \\\n",
       "0         NaN            NaN                NaN                       NaN   \n",
       "1         NaN            NaN                NaN                       NaN   \n",
       "2         NaN            NaN                NaN                       NaN   \n",
       "3         NaN            NaN                NaN                       NaN   \n",
       "4         NaN            NaN                NaN                       NaN   \n",
       "\n",
       "   total_small_bowel_tx  \n",
       "0                   NaN  \n",
       "1                   NaN  \n",
       "2                   NaN  \n",
       "3                   NaN  \n",
       "4                   NaN  "
      ]
     },
     "execution_count": 2,
     "metadata": {},
     "output_type": "execute_result"
    }
   ],
   "source": [
    "# load the organs data\n",
    "organs_original = pd.read_csv(\"../data/global-organ-donation_2018.csv\")\n",
    "# create the organs_clean object\n",
    "organs_clean = prepare_organ_data(organs_original)\n",
    "organs_clean.head()"
   ]
  },
  {
   "attachments": {},
   "cell_type": "markdown",
   "metadata": {},
   "source": [
    "Next, since many of our explorations will involve looking at the donor *rates*, let's create a version of the original and imputed donor counts *per million* (we could have included this in the `prepareOrganData()` function, since it can be thought of as a pre-processing featurization step). \n"
   ]
  },
  {
   "cell_type": "code",
   "execution_count": 3,
   "metadata": {},
   "outputs": [],
   "source": [
    "# add a donors_per_mil column for the donors cols\n",
    "organs_clean = organs_clean.assign(total_deceased_donors_per_mil = (organs_clean.total_deceased_donors / (organs_clean.population_imputed + 1)) * 1_000_000)\n",
    "organs_clean = organs_clean.assign(total_deceased_donors_imputed_per_mil = (organs_clean.total_deceased_donors_imputed / (organs_clean.population_imputed + 1)) * 1_000_000)\n",
    "  # note that we use `population_imputed + 1` in the denominator because there are some countries with a reported population of 0."
   ]
  },
  {
   "attachments": {},
   "cell_type": "markdown",
   "metadata": {},
   "source": [
    "## High-level summary of the data\n",
    "\n",
    "The first question we ask is very vague: *what do the variables in the data look like?* Before looking at specific trends, it's helpful to give a high-level summary of the variables of interest (let's focus here on just population, the donor count, and the donor rate per million). These summaries aren't necessarily supposed to tell a story about the trends in the data, but rather are just supposed to give us a sense of what the data itself looks like.\n"
   ]
  },
  {
   "cell_type": "code",
   "execution_count": 4,
   "metadata": {},
   "outputs": [
    {
     "data": {
      "text/plain": [
       "Index(['country', 'year', 'region', 'population', 'population_imputed',\n",
       "       'total_deceased_donors', 'total_deceased_donors_imputed',\n",
       "       'deceased_donors_brain_death', 'deceased_donors_circulatory_death',\n",
       "       'total_utilized_deceased_donors',\n",
       "       'utilized_deceased_donors_brain_death',\n",
       "       'utilized_deceased_donors_circulatory_death', 'deceased_kidney_tx',\n",
       "       'living_kidney_tx', 'total_kidney_tx', 'deceased_liver_tx',\n",
       "       'domino_liver_tx', 'living_liver_tx', 'total_liver_tx',\n",
       "       'total_heart_tx', 'living_lung_tx', 'LD Lung Tx', 'total_lung_tx',\n",
       "       'total_pancreas_tx', 'total_kidney_pancreas_tx', 'total_small_bowel_tx',\n",
       "       'total_deceased_donors_per_mil',\n",
       "       'total_deceased_donors_imputed_per_mil'],\n",
       "      dtype='object')"
      ]
     },
     "execution_count": 4,
     "metadata": {},
     "output_type": "execute_result"
    }
   ],
   "source": [
    "organs_clean.columns"
   ]
  },
  {
   "cell_type": "code",
   "execution_count": null,
   "metadata": {},
   "outputs": [
    {
     "data": {
      "application/vnd.plotly.v1+json": {
       "config": {
        "plotlyServerURL": "https://plot.ly"
       },
       "data": [
        {
         "name": "Population",
         "type": "histogram",
         "x": {
          "bdata": "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",
          "dtype": "f8"
         },
         "xaxis": "x",
         "yaxis": "y"
        },
        {
         "name": "Total deceased donors",
         "type": "histogram",
         "x": {
          "bdata": "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",
          "dtype": "f8"
         },
         "xaxis": "x2",
         "yaxis": "y2"
        },
        {
         "name": "Deceased donors per million",
         "type": "histogram",
         "x": {
          "bdata": "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",
          "dtype": "f8"
         },
         "xaxis": "x3",
         "yaxis": "y3"
        }
       ],
       "layout": {
        "showlegend": false,
        "template": {
         "data": {
          "bar": [
           {
            "error_x": {
             "color": "#2a3f5f"
            },
            "error_y": {
             "color": "#2a3f5f"
            },
            "marker": {
             "line": {
              "color": "#E5ECF6",
              "width": 0.5
             },
             "pattern": {
              "fillmode": "overlay",
              "size": 10,
              "solidity": 0.2
             }
            },
            "type": "bar"
           }
          ],
          "barpolar": [
           {
            "marker": {
             "line": {
              "color": "#E5ECF6",
              "width": 0.5
             },
             "pattern": {
              "fillmode": "overlay",
              "size": 10,
              "solidity": 0.2
             }
            },
            "type": "barpolar"
           }
          ],
          "carpet": [
           {
            "aaxis": {
             "endlinecolor": "#2a3f5f",
             "gridcolor": "white",
             "linecolor": "white",
             "minorgridcolor": "white",
             "startlinecolor": "#2a3f5f"
            },
            "baxis": {
             "endlinecolor": "#2a3f5f",
             "gridcolor": "white",
             "linecolor": "white",
             "minorgridcolor": "white",
             "startlinecolor": "#2a3f5f"
            },
            "type": "carpet"
           }
          ],
          "choropleth": [
           {
            "colorbar": {
             "outlinewidth": 0,
             "ticks": ""
            },
            "type": "choropleth"
           }
          ],
          "contour": [
           {
            "colorbar": {
             "outlinewidth": 0,
             "ticks": ""
            },
            "colorscale": [
             [
              0,
              "#0d0887"
             ],
             [
              0.1111111111111111,
              "#46039f"
             ],
             [
              0.2222222222222222,
              "#7201a8"
             ],
             [
              0.3333333333333333,
              "#9c179e"
             ],
             [
              0.4444444444444444,
              "#bd3786"
             ],
             [
              0.5555555555555556,
              "#d8576b"
             ],
             [
              0.6666666666666666,
              "#ed7953"
             ],
             [
              0.7777777777777778,
              "#fb9f3a"
             ],
             [
              0.8888888888888888,
              "#fdca26"
             ],
             [
              1,
              "#f0f921"
             ]
            ],
            "type": "contour"
           }
          ],
          "contourcarpet": [
           {
            "colorbar": {
             "outlinewidth": 0,
             "ticks": ""
            },
            "type": "contourcarpet"
           }
          ],
          "heatmap": [
           {
            "colorbar": {
             "outlinewidth": 0,
             "ticks": ""
            },
            "colorscale": [
             [
              0,
              "#0d0887"
             ],
             [
              0.1111111111111111,
              "#46039f"
             ],
             [
              0.2222222222222222,
              "#7201a8"
             ],
             [
              0.3333333333333333,
              "#9c179e"
             ],
             [
              0.4444444444444444,
              "#bd3786"
             ],
             [
              0.5555555555555556,
              "#d8576b"
             ],
             [
              0.6666666666666666,
              "#ed7953"
             ],
             [
              0.7777777777777778,
              "#fb9f3a"
             ],
             [
              0.8888888888888888,
              "#fdca26"
             ],
             [
              1,
              "#f0f921"
             ]
            ],
            "type": "heatmap"
           }
          ],
          "histogram": [
           {
            "marker": {
             "pattern": {
              "fillmode": "overlay",
              "size": 10,
              "solidity": 0.2
             }
            },
            "type": "histogram"
           }
          ],
          "histogram2d": [
           {
            "colorbar": {
             "outlinewidth": 0,
             "ticks": ""
            },
            "colorscale": [
             [
              0,
              "#0d0887"
             ],
             [
              0.1111111111111111,
              "#46039f"
             ],
             [
              0.2222222222222222,
              "#7201a8"
             ],
             [
              0.3333333333333333,
              "#9c179e"
             ],
             [
              0.4444444444444444,
              "#bd3786"
             ],
             [
              0.5555555555555556,
              "#d8576b"
             ],
             [
              0.6666666666666666,
              "#ed7953"
             ],
             [
              0.7777777777777778,
              "#fb9f3a"
             ],
             [
              0.8888888888888888,
              "#fdca26"
             ],
             [
              1,
              "#f0f921"
             ]
            ],
            "type": "histogram2d"
           }
          ],
          "histogram2dcontour": [
           {
            "colorbar": {
             "outlinewidth": 0,
             "ticks": ""
            },
            "colorscale": [
             [
              0,
              "#0d0887"
             ],
             [
              0.1111111111111111,
              "#46039f"
             ],
             [
              0.2222222222222222,
              "#7201a8"
             ],
             [
              0.3333333333333333,
              "#9c179e"
             ],
             [
              0.4444444444444444,
              "#bd3786"
             ],
             [
              0.5555555555555556,
              "#d8576b"
             ],
             [
              0.6666666666666666,
              "#ed7953"
             ],
             [
              0.7777777777777778,
              "#fb9f3a"
             ],
             [
              0.8888888888888888,
              "#fdca26"
             ],
             [
              1,
              "#f0f921"
             ]
            ],
            "type": "histogram2dcontour"
           }
          ],
          "mesh3d": [
           {
            "colorbar": {
             "outlinewidth": 0,
             "ticks": ""
            },
            "type": "mesh3d"
           }
          ],
          "parcoords": [
           {
            "line": {
             "colorbar": {
              "outlinewidth": 0,
              "ticks": ""
             }
            },
            "type": "parcoords"
           }
          ],
          "pie": [
           {
            "automargin": true,
            "type": "pie"
           }
          ],
          "scatter": [
           {
            "fillpattern": {
             "fillmode": "overlay",
             "size": 10,
             "solidity": 0.2
            },
            "type": "scatter"
           }
          ],
          "scatter3d": [
           {
            "line": {
             "colorbar": {
              "outlinewidth": 0,
              "ticks": ""
             }
            },
            "marker": {
             "colorbar": {
              "outlinewidth": 0,
              "ticks": ""
             }
            },
            "type": "scatter3d"
           }
          ],
          "scattercarpet": [
           {
            "marker": {
             "colorbar": {
              "outlinewidth": 0,
              "ticks": ""
             }
            },
            "type": "scattercarpet"
           }
          ],
          "scattergeo": [
           {
            "marker": {
             "colorbar": {
              "outlinewidth": 0,
              "ticks": ""
             }
            },
            "type": "scattergeo"
           }
          ],
          "scattergl": [
           {
            "marker": {
             "colorbar": {
              "outlinewidth": 0,
              "ticks": ""
             }
            },
            "type": "scattergl"
           }
          ],
          "scattermap": [
           {
            "marker": {
             "colorbar": {
              "outlinewidth": 0,
              "ticks": ""
             }
            },
            "type": "scattermap"
           }
          ],
          "scattermapbox": [
           {
            "marker": {
             "colorbar": {
              "outlinewidth": 0,
              "ticks": ""
             }
            },
            "type": "scattermapbox"
           }
          ],
          "scatterpolar": [
           {
            "marker": {
             "colorbar": {
              "outlinewidth": 0,
              "ticks": ""
             }
            },
            "type": "scatterpolar"
           }
          ],
          "scatterpolargl": [
           {
            "marker": {
             "colorbar": {
              "outlinewidth": 0,
              "ticks": ""
             }
            },
            "type": "scatterpolargl"
           }
          ],
          "scatterternary": [
           {
            "marker": {
             "colorbar": {
              "outlinewidth": 0,
              "ticks": ""
             }
            },
            "type": "scatterternary"
           }
          ],
          "surface": [
           {
            "colorbar": {
             "outlinewidth": 0,
             "ticks": ""
            },
            "colorscale": [
             [
              0,
              "#0d0887"
             ],
             [
              0.1111111111111111,
              "#46039f"
             ],
             [
              0.2222222222222222,
              "#7201a8"
             ],
             [
              0.3333333333333333,
              "#9c179e"
             ],
             [
              0.4444444444444444,
              "#bd3786"
             ],
             [
              0.5555555555555556,
              "#d8576b"
             ],
             [
              0.6666666666666666,
              "#ed7953"
             ],
             [
              0.7777777777777778,
              "#fb9f3a"
             ],
             [
              0.8888888888888888,
              "#fdca26"
             ],
             [
              1,
              "#f0f921"
             ]
            ],
            "type": "surface"
           }
          ],
          "table": [
           {
            "cells": {
             "fill": {
              "color": "#EBF0F8"
             },
             "line": {
              "color": "white"
             }
            },
            "header": {
             "fill": {
              "color": "#C8D4E3"
             },
             "line": {
              "color": "white"
             }
            },
            "type": "table"
           }
          ]
         },
         "layout": {
          "annotationdefaults": {
           "arrowcolor": "#2a3f5f",
           "arrowhead": 0,
           "arrowwidth": 1
          },
          "autotypenumbers": "strict",
          "coloraxis": {
           "colorbar": {
            "outlinewidth": 0,
            "ticks": ""
           }
          },
          "colorscale": {
           "diverging": [
            [
             0,
             "#8e0152"
            ],
            [
             0.1,
             "#c51b7d"
            ],
            [
             0.2,
             "#de77ae"
            ],
            [
             0.3,
             "#f1b6da"
            ],
            [
             0.4,
             "#fde0ef"
            ],
            [
             0.5,
             "#f7f7f7"
            ],
            [
             0.6,
             "#e6f5d0"
            ],
            [
             0.7,
             "#b8e186"
            ],
            [
             0.8,
             "#7fbc41"
            ],
            [
             0.9,
             "#4d9221"
            ],
            [
             1,
             "#276419"
            ]
           ],
           "sequential": [
            [
             0,
             "#0d0887"
            ],
            [
             0.1111111111111111,
             "#46039f"
            ],
            [
             0.2222222222222222,
             "#7201a8"
            ],
            [
             0.3333333333333333,
             "#9c179e"
            ],
            [
             0.4444444444444444,
             "#bd3786"
            ],
            [
             0.5555555555555556,
             "#d8576b"
            ],
            [
             0.6666666666666666,
             "#ed7953"
            ],
            [
             0.7777777777777778,
             "#fb9f3a"
            ],
            [
             0.8888888888888888,
             "#fdca26"
            ],
            [
             1,
             "#f0f921"
            ]
           ],
           "sequentialminus": [
            [
             0,
             "#0d0887"
            ],
            [
             0.1111111111111111,
             "#46039f"
            ],
            [
             0.2222222222222222,
             "#7201a8"
            ],
            [
             0.3333333333333333,
             "#9c179e"
            ],
            [
             0.4444444444444444,
             "#bd3786"
            ],
            [
             0.5555555555555556,
             "#d8576b"
            ],
            [
             0.6666666666666666,
             "#ed7953"
            ],
            [
             0.7777777777777778,
             "#fb9f3a"
            ],
            [
             0.8888888888888888,
             "#fdca26"
            ],
            [
             1,
             "#f0f921"
            ]
           ]
          },
          "colorway": [
           "#636efa",
           "#EF553B",
           "#00cc96",
           "#ab63fa",
           "#FFA15A",
           "#19d3f3",
           "#FF6692",
           "#B6E880",
           "#FF97FF",
           "#FECB52"
          ],
          "font": {
           "color": "#2a3f5f"
          },
          "geo": {
           "bgcolor": "white",
           "lakecolor": "white",
           "landcolor": "#E5ECF6",
           "showlakes": true,
           "showland": true,
           "subunitcolor": "white"
          },
          "hoverlabel": {
           "align": "left"
          },
          "hovermode": "closest",
          "mapbox": {
           "style": "light"
          },
          "paper_bgcolor": "white",
          "plot_bgcolor": "#E5ECF6",
          "polar": {
           "angularaxis": {
            "gridcolor": "white",
            "linecolor": "white",
            "ticks": ""
           },
           "bgcolor": "#E5ECF6",
           "radialaxis": {
            "gridcolor": "white",
            "linecolor": "white",
            "ticks": ""
           }
          },
          "scene": {
           "xaxis": {
            "backgroundcolor": "#E5ECF6",
            "gridcolor": "white",
            "gridwidth": 2,
            "linecolor": "white",
            "showbackground": true,
            "ticks": "",
            "zerolinecolor": "white"
           },
           "yaxis": {
            "backgroundcolor": "#E5ECF6",
            "gridcolor": "white",
            "gridwidth": 2,
            "linecolor": "white",
            "showbackground": true,
            "ticks": "",
            "zerolinecolor": "white"
           },
           "zaxis": {
            "backgroundcolor": "#E5ECF6",
            "gridcolor": "white",
            "gridwidth": 2,
            "linecolor": "white",
            "showbackground": true,
            "ticks": "",
            "zerolinecolor": "white"
           }
          },
          "shapedefaults": {
           "line": {
            "color": "#2a3f5f"
           }
          },
          "ternary": {
           "aaxis": {
            "gridcolor": "white",
            "linecolor": "white",
            "ticks": ""
           },
           "baxis": {
            "gridcolor": "white",
            "linecolor": "white",
            "ticks": ""
           },
           "bgcolor": "#E5ECF6",
           "caxis": {
            "gridcolor": "white",
            "linecolor": "white",
            "ticks": ""
           }
          },
          "title": {
           "x": 0.05
          },
          "xaxis": {
           "automargin": true,
           "gridcolor": "white",
           "linecolor": "white",
           "ticks": "",
           "title": {
            "standoff": 15
           },
           "zerolinecolor": "white",
           "zerolinewidth": 2
          },
          "yaxis": {
           "automargin": true,
           "gridcolor": "white",
           "linecolor": "white",
           "ticks": "",
           "title": {
            "standoff": 15
           },
           "zerolinecolor": "white",
           "zerolinewidth": 2
          }
         }
        },
        "title": {
         "text": "Histograms of important variables"
        },
        "xaxis": {
         "anchor": "y",
         "domain": [
          0,
          0.2888888888888889
         ],
         "title": {
          "text": "Population"
         }
        },
        "xaxis2": {
         "anchor": "y2",
         "domain": [
          0.35555555555555557,
          0.6444444444444445
         ],
         "title": {
          "text": "Total deceased donors"
         }
        },
        "xaxis3": {
         "anchor": "y3",
         "domain": [
          0.7111111111111111,
          1
         ],
         "title": {
          "text": "Total deceased donors per million"
         }
        },
        "yaxis": {
         "anchor": "x",
         "domain": [
          0,
          1
         ]
        },
        "yaxis2": {
         "anchor": "x2",
         "domain": [
          0,
          1
         ]
        },
        "yaxis3": {
         "anchor": "x3",
         "domain": [
          0,
          1
         ]
        }
       }
      }
     },
     "metadata": {},
     "output_type": "display_data"
    }
   ],
   "source": [
    "fig = make_subplots(rows=1, cols=3)\n",
    "fig.add_trace(\n",
    "    go.Histogram(x=organs_clean[\"population\"], name=\"Population\"),\n",
    "    row=1, col=1)\n",
    "fig.add_trace(\n",
    "    go.Histogram(x=organs_clean[\"total_deceased_donors\"], name=\"Total deceased donors\"),\n",
    "    row=1, col=2)\n",
    "fig.add_trace(\n",
    "    go.Histogram(x=organs_clean[\"total_deceased_donors_per_mil\"], name=\"Deceased donors per million\"),\n",
    "    row=1, col=3)\n",
    "# add axes\n",
    "fig.update_layout(\n",
    "    title_text=\"Histograms of important variables\",\n",
    "    xaxis1_title_text=\"Population\",\n",
    "    xaxis2_title_text=\"Total deceased donors\",\n",
    "    xaxis3_title_text=\"Total deceased donors per million\",\n",
    "    showlegend=False,\n",
    ")\n",
    "fig.show()"
   ]
  },
  {
   "attachments": {},
   "cell_type": "markdown",
   "metadata": {},
   "source": [
    "The donor count and donor count per million seem to have a concentration around 0. "
   ]
  },
  {
   "attachments": {},
   "cell_type": "markdown",
   "metadata": {},
   "source": [
    "## Global organ donations are increasing over time\n",
    "\n",
    "*Are global organ donations are increasing over time*? \n",
    "\n",
    "The plot below shows the increasing trend in (imputed) organ donations across the world over time. The imputed donor counts are based on the \"average\" imputation method.  \n"
   ]
  },
  {
   "cell_type": "code",
   "execution_count": null,
   "metadata": {},
   "outputs": [
    {
     "data": {
      "application/vnd.plotly.v1+json": {
       "config": {
        "plotlyServerURL": "https://plot.ly"
       },
       "data": [
        {
         "hovertemplate": "variable=total_deceased_donors_imputed<br>year=%{x}<br>value=%{y}<extra></extra>",
         "legendgroup": "total_deceased_donors_imputed",
         "line": {
          "color": "#636efa",
          "dash": "solid"
         },
         "marker": {
          "symbol": "circle"
         },
         "mode": "lines",
         "name": "total_deceased_donors_imputed",
         "orientation": "v",
         "showlegend": true,
         "type": "scatter",
         "x": [
          2000,
          2001,
          2002,
          2003,
          2004,
          2005,
          2006,
          2007,
          2008,
          2009,
          2010,
          2011,
          2012,
          2013,
          2014,
          2015,
          2016,
          2017
         ],
         "xaxis": "x",
         "y": [
          21321,
          21442.5,
          21781.5,
          22069,
          23461.5,
          24161.5,
          24954.5,
          25420,
          25955,
          26492.5,
          27166.5,
          28608,
          29350.5,
          29746,
          30590,
          32244.5,
          35247,
          36885
         ],
         "yaxis": "y"
        }
       ],
       "layout": {
        "legend": {
         "title": {
          "text": "variable"
         },
         "tracegroupgap": 0
        },
        "margin": {
         "t": 60
        },
        "template": {
         "data": {
          "bar": [
           {
            "error_x": {
             "color": "#2a3f5f"
            },
            "error_y": {
             "color": "#2a3f5f"
            },
            "marker": {
             "line": {
              "color": "#E5ECF6",
              "width": 0.5
             },
             "pattern": {
              "fillmode": "overlay",
              "size": 10,
              "solidity": 0.2
             }
            },
            "type": "bar"
           }
          ],
          "barpolar": [
           {
            "marker": {
             "line": {
              "color": "#E5ECF6",
              "width": 0.5
             },
             "pattern": {
              "fillmode": "overlay",
              "size": 10,
              "solidity": 0.2
             }
            },
            "type": "barpolar"
           }
          ],
          "carpet": [
           {
            "aaxis": {
             "endlinecolor": "#2a3f5f",
             "gridcolor": "white",
             "linecolor": "white",
             "minorgridcolor": "white",
             "startlinecolor": "#2a3f5f"
            },
            "baxis": {
             "endlinecolor": "#2a3f5f",
             "gridcolor": "white",
             "linecolor": "white",
             "minorgridcolor": "white",
             "startlinecolor": "#2a3f5f"
            },
            "type": "carpet"
           }
          ],
          "choropleth": [
           {
            "colorbar": {
             "outlinewidth": 0,
             "ticks": ""
            },
            "type": "choropleth"
           }
          ],
          "contour": [
           {
            "colorbar": {
             "outlinewidth": 0,
             "ticks": ""
            },
            "colorscale": [
             [
              0,
              "#0d0887"
             ],
             [
              0.1111111111111111,
              "#46039f"
             ],
             [
              0.2222222222222222,
              "#7201a8"
             ],
             [
              0.3333333333333333,
              "#9c179e"
             ],
             [
              0.4444444444444444,
              "#bd3786"
             ],
             [
              0.5555555555555556,
              "#d8576b"
             ],
             [
              0.6666666666666666,
              "#ed7953"
             ],
             [
              0.7777777777777778,
              "#fb9f3a"
             ],
             [
              0.8888888888888888,
              "#fdca26"
             ],
             [
              1,
              "#f0f921"
             ]
            ],
            "type": "contour"
           }
          ],
          "contourcarpet": [
           {
            "colorbar": {
             "outlinewidth": 0,
             "ticks": ""
            },
            "type": "contourcarpet"
           }
          ],
          "heatmap": [
           {
            "colorbar": {
             "outlinewidth": 0,
             "ticks": ""
            },
            "colorscale": [
             [
              0,
              "#0d0887"
             ],
             [
              0.1111111111111111,
              "#46039f"
             ],
             [
              0.2222222222222222,
              "#7201a8"
             ],
             [
              0.3333333333333333,
              "#9c179e"
             ],
             [
              0.4444444444444444,
              "#bd3786"
             ],
             [
              0.5555555555555556,
              "#d8576b"
             ],
             [
              0.6666666666666666,
              "#ed7953"
             ],
             [
              0.7777777777777778,
              "#fb9f3a"
             ],
             [
              0.8888888888888888,
              "#fdca26"
             ],
             [
              1,
              "#f0f921"
             ]
            ],
            "type": "heatmap"
           }
          ],
          "heatmapgl": [
           {
            "colorbar": {
             "outlinewidth": 0,
             "ticks": ""
            },
            "colorscale": [
             [
              0,
              "#0d0887"
             ],
             [
              0.1111111111111111,
              "#46039f"
             ],
             [
              0.2222222222222222,
              "#7201a8"
             ],
             [
              0.3333333333333333,
              "#9c179e"
             ],
             [
              0.4444444444444444,
              "#bd3786"
             ],
             [
              0.5555555555555556,
              "#d8576b"
             ],
             [
              0.6666666666666666,
              "#ed7953"
             ],
             [
              0.7777777777777778,
              "#fb9f3a"
             ],
             [
              0.8888888888888888,
              "#fdca26"
             ],
             [
              1,
              "#f0f921"
             ]
            ],
            "type": "heatmapgl"
           }
          ],
          "histogram": [
           {
            "marker": {
             "pattern": {
              "fillmode": "overlay",
              "size": 10,
              "solidity": 0.2
             }
            },
            "type": "histogram"
           }
          ],
          "histogram2d": [
           {
            "colorbar": {
             "outlinewidth": 0,
             "ticks": ""
            },
            "colorscale": [
             [
              0,
              "#0d0887"
             ],
             [
              0.1111111111111111,
              "#46039f"
             ],
             [
              0.2222222222222222,
              "#7201a8"
             ],
             [
              0.3333333333333333,
              "#9c179e"
             ],
             [
              0.4444444444444444,
              "#bd3786"
             ],
             [
              0.5555555555555556,
              "#d8576b"
             ],
             [
              0.6666666666666666,
              "#ed7953"
             ],
             [
              0.7777777777777778,
              "#fb9f3a"
             ],
             [
              0.8888888888888888,
              "#fdca26"
             ],
             [
              1,
              "#f0f921"
             ]
            ],
            "type": "histogram2d"
           }
          ],
          "histogram2dcontour": [
           {
            "colorbar": {
             "outlinewidth": 0,
             "ticks": ""
            },
            "colorscale": [
             [
              0,
              "#0d0887"
             ],
             [
              0.1111111111111111,
              "#46039f"
             ],
             [
              0.2222222222222222,
              "#7201a8"
             ],
             [
              0.3333333333333333,
              "#9c179e"
             ],
             [
              0.4444444444444444,
              "#bd3786"
             ],
             [
              0.5555555555555556,
              "#d8576b"
             ],
             [
              0.6666666666666666,
              "#ed7953"
             ],
             [
              0.7777777777777778,
              "#fb9f3a"
             ],
             [
              0.8888888888888888,
              "#fdca26"
             ],
             [
              1,
              "#f0f921"
             ]
            ],
            "type": "histogram2dcontour"
           }
          ],
          "mesh3d": [
           {
            "colorbar": {
             "outlinewidth": 0,
             "ticks": ""
            },
            "type": "mesh3d"
           }
          ],
          "parcoords": [
           {
            "line": {
             "colorbar": {
              "outlinewidth": 0,
              "ticks": ""
             }
            },
            "type": "parcoords"
           }
          ],
          "pie": [
           {
            "automargin": true,
            "type": "pie"
           }
          ],
          "scatter": [
           {
            "fillpattern": {
             "fillmode": "overlay",
             "size": 10,
             "solidity": 0.2
            },
            "type": "scatter"
           }
          ],
          "scatter3d": [
           {
            "line": {
             "colorbar": {
              "outlinewidth": 0,
              "ticks": ""
             }
            },
            "marker": {
             "colorbar": {
              "outlinewidth": 0,
              "ticks": ""
             }
            },
            "type": "scatter3d"
           }
          ],
          "scattercarpet": [
           {
            "marker": {
             "colorbar": {
              "outlinewidth": 0,
              "ticks": ""
             }
            },
            "type": "scattercarpet"
           }
          ],
          "scattergeo": [
           {
            "marker": {
             "colorbar": {
              "outlinewidth": 0,
              "ticks": ""
             }
            },
            "type": "scattergeo"
           }
          ],
          "scattergl": [
           {
            "marker": {
             "colorbar": {
              "outlinewidth": 0,
              "ticks": ""
             }
            },
            "type": "scattergl"
           }
          ],
          "scattermapbox": [
           {
            "marker": {
             "colorbar": {
              "outlinewidth": 0,
              "ticks": ""
             }
            },
            "type": "scattermapbox"
           }
          ],
          "scatterpolar": [
           {
            "marker": {
             "colorbar": {
              "outlinewidth": 0,
              "ticks": ""
             }
            },
            "type": "scatterpolar"
           }
          ],
          "scatterpolargl": [
           {
            "marker": {
             "colorbar": {
              "outlinewidth": 0,
              "ticks": ""
             }
            },
            "type": "scatterpolargl"
           }
          ],
          "scatterternary": [
           {
            "marker": {
             "colorbar": {
              "outlinewidth": 0,
              "ticks": ""
             }
            },
            "type": "scatterternary"
           }
          ],
          "surface": [
           {
            "colorbar": {
             "outlinewidth": 0,
             "ticks": ""
            },
            "colorscale": [
             [
              0,
              "#0d0887"
             ],
             [
              0.1111111111111111,
              "#46039f"
             ],
             [
              0.2222222222222222,
              "#7201a8"
             ],
             [
              0.3333333333333333,
              "#9c179e"
             ],
             [
              0.4444444444444444,
              "#bd3786"
             ],
             [
              0.5555555555555556,
              "#d8576b"
             ],
             [
              0.6666666666666666,
              "#ed7953"
             ],
             [
              0.7777777777777778,
              "#fb9f3a"
             ],
             [
              0.8888888888888888,
              "#fdca26"
             ],
             [
              1,
              "#f0f921"
             ]
            ],
            "type": "surface"
           }
          ],
          "table": [
           {
            "cells": {
             "fill": {
              "color": "#EBF0F8"
             },
             "line": {
              "color": "white"
             }
            },
            "header": {
             "fill": {
              "color": "#C8D4E3"
             },
             "line": {
              "color": "white"
             }
            },
            "type": "table"
           }
          ]
         },
         "layout": {
          "annotationdefaults": {
           "arrowcolor": "#2a3f5f",
           "arrowhead": 0,
           "arrowwidth": 1
          },
          "autotypenumbers": "strict",
          "coloraxis": {
           "colorbar": {
            "outlinewidth": 0,
            "ticks": ""
           }
          },
          "colorscale": {
           "diverging": [
            [
             0,
             "#8e0152"
            ],
            [
             0.1,
             "#c51b7d"
            ],
            [
             0.2,
             "#de77ae"
            ],
            [
             0.3,
             "#f1b6da"
            ],
            [
             0.4,
             "#fde0ef"
            ],
            [
             0.5,
             "#f7f7f7"
            ],
            [
             0.6,
             "#e6f5d0"
            ],
            [
             0.7,
             "#b8e186"
            ],
            [
             0.8,
             "#7fbc41"
            ],
            [
             0.9,
             "#4d9221"
            ],
            [
             1,
             "#276419"
            ]
           ],
           "sequential": [
            [
             0,
             "#0d0887"
            ],
            [
             0.1111111111111111,
             "#46039f"
            ],
            [
             0.2222222222222222,
             "#7201a8"
            ],
            [
             0.3333333333333333,
             "#9c179e"
            ],
            [
             0.4444444444444444,
             "#bd3786"
            ],
            [
             0.5555555555555556,
             "#d8576b"
            ],
            [
             0.6666666666666666,
             "#ed7953"
            ],
            [
             0.7777777777777778,
             "#fb9f3a"
            ],
            [
             0.8888888888888888,
             "#fdca26"
            ],
            [
             1,
             "#f0f921"
            ]
           ],
           "sequentialminus": [
            [
             0,
             "#0d0887"
            ],
            [
             0.1111111111111111,
             "#46039f"
            ],
            [
             0.2222222222222222,
             "#7201a8"
            ],
            [
             0.3333333333333333,
             "#9c179e"
            ],
            [
             0.4444444444444444,
             "#bd3786"
            ],
            [
             0.5555555555555556,
             "#d8576b"
            ],
            [
             0.6666666666666666,
             "#ed7953"
            ],
            [
             0.7777777777777778,
             "#fb9f3a"
            ],
            [
             0.8888888888888888,
             "#fdca26"
            ],
            [
             1,
             "#f0f921"
            ]
           ]
          },
          "colorway": [
           "#636efa",
           "#EF553B",
           "#00cc96",
           "#ab63fa",
           "#FFA15A",
           "#19d3f3",
           "#FF6692",
           "#B6E880",
           "#FF97FF",
           "#FECB52"
          ],
          "font": {
           "color": "#2a3f5f"
          },
          "geo": {
           "bgcolor": "white",
           "lakecolor": "white",
           "landcolor": "#E5ECF6",
           "showlakes": true,
           "showland": true,
           "subunitcolor": "white"
          },
          "hoverlabel": {
           "align": "left"
          },
          "hovermode": "closest",
          "mapbox": {
           "style": "light"
          },
          "paper_bgcolor": "white",
          "plot_bgcolor": "#E5ECF6",
          "polar": {
           "angularaxis": {
            "gridcolor": "white",
            "linecolor": "white",
            "ticks": ""
           },
           "bgcolor": "#E5ECF6",
           "radialaxis": {
            "gridcolor": "white",
            "linecolor": "white",
            "ticks": ""
           }
          },
          "scene": {
           "xaxis": {
            "backgroundcolor": "#E5ECF6",
            "gridcolor": "white",
            "gridwidth": 2,
            "linecolor": "white",
            "showbackground": true,
            "ticks": "",
            "zerolinecolor": "white"
           },
           "yaxis": {
            "backgroundcolor": "#E5ECF6",
            "gridcolor": "white",
            "gridwidth": 2,
            "linecolor": "white",
            "showbackground": true,
            "ticks": "",
            "zerolinecolor": "white"
           },
           "zaxis": {
            "backgroundcolor": "#E5ECF6",
            "gridcolor": "white",
            "gridwidth": 2,
            "linecolor": "white",
            "showbackground": true,
            "ticks": "",
            "zerolinecolor": "white"
           }
          },
          "shapedefaults": {
           "line": {
            "color": "#2a3f5f"
           }
          },
          "ternary": {
           "aaxis": {
            "gridcolor": "white",
            "linecolor": "white",
            "ticks": ""
           },
           "baxis": {
            "gridcolor": "white",
            "linecolor": "white",
            "ticks": ""
           },
           "bgcolor": "#E5ECF6",
           "caxis": {
            "gridcolor": "white",
            "linecolor": "white",
            "ticks": ""
           }
          },
          "title": {
           "x": 0.05
          },
          "xaxis": {
           "automargin": true,
           "gridcolor": "white",
           "linecolor": "white",
           "ticks": "",
           "title": {
            "standoff": 15
           },
           "zerolinecolor": "white",
           "zerolinewidth": 2
          },
          "yaxis": {
           "automargin": true,
           "gridcolor": "white",
           "linecolor": "white",
           "ticks": "",
           "title": {
            "standoff": 15
           },
           "zerolinecolor": "white",
           "zerolinewidth": 2
          }
         }
        },
        "xaxis": {
         "anchor": "y",
         "domain": [
          0,
          1
         ],
         "title": {
          "text": "year"
         }
        },
        "yaxis": {
         "anchor": "x",
         "domain": [
          0,
          1
         ],
         "title": {
          "text": "value"
         }
        }
       }
      }
     },
     "metadata": {},
     "output_type": "display_data"
    }
   ],
   "source": [
    "donors_by_year = organs_clean.groupby(\"year\")[\"total_deceased_donors_imputed\"].sum()\n",
    "px.line(donors_by_year)"
   ]
  },
  {
   "cell_type": "code",
   "execution_count": 8,
   "metadata": {},
   "outputs": [],
   "source": [
    "# compute the number of organ donations in 2017\n",
    "total_2017 = organs_clean.query('year == 2017')[\"total_deceased_donors_imputed\"].sum()\n",
    "# compute the number of organ donations in 2000\n",
    "total_2000 = organs_clean.query('year == 2000')[\"total_deceased_donors_imputed\"].sum()\n"
   ]
  },
  {
   "cell_type": "code",
   "execution_count": 9,
   "metadata": {},
   "outputs": [
    {
     "data": {
      "text/plain": [
       "np.float64(21321.0)"
      ]
     },
     "execution_count": 9,
     "metadata": {},
     "output_type": "execute_result"
    }
   ],
   "source": [
    "total_2000"
   ]
  },
  {
   "cell_type": "code",
   "execution_count": 10,
   "metadata": {},
   "outputs": [
    {
     "data": {
      "text/plain": [
       "np.float64(36885.0)"
      ]
     },
     "execution_count": 10,
     "metadata": {},
     "output_type": "execute_result"
    }
   ],
   "source": [
    "total_2017"
   ]
  },
  {
   "attachments": {},
   "cell_type": "markdown",
   "metadata": {},
   "source": [
    "Clearly there has been quite a significant increase in organ donations over time. \n"
   ]
  },
  {
   "attachments": {},
   "cell_type": "markdown",
   "metadata": {},
   "source": [
    "### PCS evaluation\n",
    "\n",
    "#### Stability to a cleaning and pre-processing judgment call\n",
    "\n",
    "Let's check the stability of the main takeaway from this plot concerning the organ donation trends over time to the imputation judgment call that we made.\n",
    "\n",
    "The figure below shows how the trendline using each of the imputation methods (Average imputation, Previous imputation, and no imputation). The \"Previous imputation method seems to yield similar results to no imputation (removing missing values), except for in the last year or two. The \"Average\" imputation method yields higher donor counts overall. The overall trend that the number of organ donations is increasing is certainly stable, but the \"Previous\" imputation method and no imputation (\"None\") make the rate of increase seem much more rapid. However, based on our domain understanding of these missing values (and assuming that most of the missing values are more likely to be closer to the \"Average\" imputed value than the previous imputed value or 0), we feel that the \"Average\" imputed results are likely to be a better representation of reality."
   ]
  },
  {
   "cell_type": "code",
   "execution_count": 11,
   "metadata": {},
   "outputs": [
    {
     "name": "stderr",
     "output_type": "stream",
     "text": [
      "/Users/kevinkyhalim/ML_repo/1. Learning/Veridical Data Science/5. Exploratory Data Analysis/organ_donations/dslc_documentation/functions/impute_feature.py:7: FutureWarning:\n",
      "\n",
      "DataFrameGroupBy.fillna is deprecated and will be removed in a future version. Use obj.ffill() or obj.bfill() for forward or backward filling instead. If you want to fill with a single value, use DataFrame.fillna instead\n",
      "\n",
      "/Users/kevinkyhalim/ML_repo/1. Learning/Veridical Data Science/5. Exploratory Data Analysis/organ_donations/dslc_documentation/functions/impute_feature.py:7: FutureWarning:\n",
      "\n",
      "DataFrame.fillna with 'method' is deprecated and will raise in a future version. Use obj.ffill() or obj.bfill() instead.\n",
      "\n"
     ]
    },
    {
     "data": {
      "application/vnd.plotly.v1+json": {
       "config": {
        "plotlyServerURL": "https://plot.ly"
       },
       "data": [
        {
         "hovertemplate": "imputation_method=None<br>year=%{x}<br>value=%{y}<extra></extra>",
         "legendgroup": "None",
         "line": {
          "color": "#636efa",
          "dash": "solid"
         },
         "marker": {
          "symbol": "circle"
         },
         "mode": "lines",
         "name": "None",
         "orientation": "v",
         "showlegend": true,
         "type": "scatter",
         "x": {
          "bdata": "0AfRB9IH0wfUB9UH1gfXB9gH2QfaB9sH3AfdB94H3wfgB+EH",
          "dtype": "i2"
         },
         "xaxis": "x",
         "y": {
          "bdata": "AAAAAAA2w0AAAAAAADzFQAAAAAAAhsNAAAAAAADfzUAAAAAAQPTSQAAAAAAAM9RAAAAAAACw1EAAAAAAgPHUQAAAAACA09VAAAAAAIBe1kAAAAAAALbXQAAAAAAALNlAAAAAAMDm2UAAAAAAAFnaQAAAAAAAwdpAAAAAAAAU30AAAAAAgLPgQAAAAABALd1A",
          "dtype": "f8"
         },
         "yaxis": "y"
        },
        {
         "hovertemplate": "imputation_method=Average<br>year=%{x}<br>value=%{y}<extra></extra>",
         "legendgroup": "Average",
         "line": {
          "color": "#EF553B",
          "dash": "solid"
         },
         "marker": {
          "symbol": "circle"
         },
         "mode": "lines",
         "name": "Average",
         "orientation": "v",
         "showlegend": true,
         "type": "scatter",
         "x": {
          "bdata": "0AfRB9IH0wfUB9UH1gfXB9gH2QfaB9sH3AfdB94H3wfgB+EH",
          "dtype": "i2"
         },
         "xaxis": "x",
         "y": {
          "bdata": "AAAAAEDS1EAAAAAAoPDUQAAAAABgRdVAAAAAAECN1UAAAAAAYOnWQAAAAABgmNdAAAAAAKBe2EAAAAAAANPYQAAAAADAWNlAAAAAACDf2UAAAAAAoIfaQAAAAAAA8NtAAAAAAKCp3EAAAAAAgAzdQAAAAACA391AAAAAACB930AAAAAA4DXhQAAAAACgAuJA",
          "dtype": "f8"
         },
         "yaxis": "y"
        },
        {
         "hovertemplate": "imputation_method=Previous<br>year=%{x}<br>value=%{y}<extra></extra>",
         "legendgroup": "Previous",
         "line": {
          "color": "#00cc96",
          "dash": "solid"
         },
         "marker": {
          "symbol": "circle"
         },
         "mode": "lines",
         "name": "Previous",
         "orientation": "v",
         "showlegend": true,
         "type": "scatter",
         "x": {
          "bdata": "0AfRB9IH0wfUB9UH1gfXB9gH2QfaB9sH3AfdB94H3wfgB+EH",
          "dtype": "i2"
         },
         "xaxis": "x",
         "y": {
          "bdata": "AAAAAAA2w0AAAAAAgGTFQAAAAACA9sVAAAAAAIDyzUAAAAAAQA7TQAAAAACANdRAAAAAAADu1EAAAAAAgGDVQAAAAADA69VAAAAAAAB01kAAAAAAQLnXQAAAAAAALNlAAAAAAIDn2UAAAAAAAFnaQAAAAADALttAAAAAAAB/30AAAAAAwDXhQAAAAACgAuJA",
          "dtype": "f8"
         },
         "yaxis": "y"
        }
       ],
       "layout": {
        "legend": {
         "title": {
          "text": "imputation_method"
         },
         "tracegroupgap": 0
        },
        "margin": {
         "t": 60
        },
        "template": {
         "data": {
          "bar": [
           {
            "error_x": {
             "color": "#2a3f5f"
            },
            "error_y": {
             "color": "#2a3f5f"
            },
            "marker": {
             "line": {
              "color": "#E5ECF6",
              "width": 0.5
             },
             "pattern": {
              "fillmode": "overlay",
              "size": 10,
              "solidity": 0.2
             }
            },
            "type": "bar"
           }
          ],
          "barpolar": [
           {
            "marker": {
             "line": {
              "color": "#E5ECF6",
              "width": 0.5
             },
             "pattern": {
              "fillmode": "overlay",
              "size": 10,
              "solidity": 0.2
             }
            },
            "type": "barpolar"
           }
          ],
          "carpet": [
           {
            "aaxis": {
             "endlinecolor": "#2a3f5f",
             "gridcolor": "white",
             "linecolor": "white",
             "minorgridcolor": "white",
             "startlinecolor": "#2a3f5f"
            },
            "baxis": {
             "endlinecolor": "#2a3f5f",
             "gridcolor": "white",
             "linecolor": "white",
             "minorgridcolor": "white",
             "startlinecolor": "#2a3f5f"
            },
            "type": "carpet"
           }
          ],
          "choropleth": [
           {
            "colorbar": {
             "outlinewidth": 0,
             "ticks": ""
            },
            "type": "choropleth"
           }
          ],
          "contour": [
           {
            "colorbar": {
             "outlinewidth": 0,
             "ticks": ""
            },
            "colorscale": [
             [
              0,
              "#0d0887"
             ],
             [
              0.1111111111111111,
              "#46039f"
             ],
             [
              0.2222222222222222,
              "#7201a8"
             ],
             [
              0.3333333333333333,
              "#9c179e"
             ],
             [
              0.4444444444444444,
              "#bd3786"
             ],
             [
              0.5555555555555556,
              "#d8576b"
             ],
             [
              0.6666666666666666,
              "#ed7953"
             ],
             [
              0.7777777777777778,
              "#fb9f3a"
             ],
             [
              0.8888888888888888,
              "#fdca26"
             ],
             [
              1,
              "#f0f921"
             ]
            ],
            "type": "contour"
           }
          ],
          "contourcarpet": [
           {
            "colorbar": {
             "outlinewidth": 0,
             "ticks": ""
            },
            "type": "contourcarpet"
           }
          ],
          "heatmap": [
           {
            "colorbar": {
             "outlinewidth": 0,
             "ticks": ""
            },
            "colorscale": [
             [
              0,
              "#0d0887"
             ],
             [
              0.1111111111111111,
              "#46039f"
             ],
             [
              0.2222222222222222,
              "#7201a8"
             ],
             [
              0.3333333333333333,
              "#9c179e"
             ],
             [
              0.4444444444444444,
              "#bd3786"
             ],
             [
              0.5555555555555556,
              "#d8576b"
             ],
             [
              0.6666666666666666,
              "#ed7953"
             ],
             [
              0.7777777777777778,
              "#fb9f3a"
             ],
             [
              0.8888888888888888,
              "#fdca26"
             ],
             [
              1,
              "#f0f921"
             ]
            ],
            "type": "heatmap"
           }
          ],
          "histogram": [
           {
            "marker": {
             "pattern": {
              "fillmode": "overlay",
              "size": 10,
              "solidity": 0.2
             }
            },
            "type": "histogram"
           }
          ],
          "histogram2d": [
           {
            "colorbar": {
             "outlinewidth": 0,
             "ticks": ""
            },
            "colorscale": [
             [
              0,
              "#0d0887"
             ],
             [
              0.1111111111111111,
              "#46039f"
             ],
             [
              0.2222222222222222,
              "#7201a8"
             ],
             [
              0.3333333333333333,
              "#9c179e"
             ],
             [
              0.4444444444444444,
              "#bd3786"
             ],
             [
              0.5555555555555556,
              "#d8576b"
             ],
             [
              0.6666666666666666,
              "#ed7953"
             ],
             [
              0.7777777777777778,
              "#fb9f3a"
             ],
             [
              0.8888888888888888,
              "#fdca26"
             ],
             [
              1,
              "#f0f921"
             ]
            ],
            "type": "histogram2d"
           }
          ],
          "histogram2dcontour": [
           {
            "colorbar": {
             "outlinewidth": 0,
             "ticks": ""
            },
            "colorscale": [
             [
              0,
              "#0d0887"
             ],
             [
              0.1111111111111111,
              "#46039f"
             ],
             [
              0.2222222222222222,
              "#7201a8"
             ],
             [
              0.3333333333333333,
              "#9c179e"
             ],
             [
              0.4444444444444444,
              "#bd3786"
             ],
             [
              0.5555555555555556,
              "#d8576b"
             ],
             [
              0.6666666666666666,
              "#ed7953"
             ],
             [
              0.7777777777777778,
              "#fb9f3a"
             ],
             [
              0.8888888888888888,
              "#fdca26"
             ],
             [
              1,
              "#f0f921"
             ]
            ],
            "type": "histogram2dcontour"
           }
          ],
          "mesh3d": [
           {
            "colorbar": {
             "outlinewidth": 0,
             "ticks": ""
            },
            "type": "mesh3d"
           }
          ],
          "parcoords": [
           {
            "line": {
             "colorbar": {
              "outlinewidth": 0,
              "ticks": ""
             }
            },
            "type": "parcoords"
           }
          ],
          "pie": [
           {
            "automargin": true,
            "type": "pie"
           }
          ],
          "scatter": [
           {
            "fillpattern": {
             "fillmode": "overlay",
             "size": 10,
             "solidity": 0.2
            },
            "type": "scatter"
           }
          ],
          "scatter3d": [
           {
            "line": {
             "colorbar": {
              "outlinewidth": 0,
              "ticks": ""
             }
            },
            "marker": {
             "colorbar": {
              "outlinewidth": 0,
              "ticks": ""
             }
            },
            "type": "scatter3d"
           }
          ],
          "scattercarpet": [
           {
            "marker": {
             "colorbar": {
              "outlinewidth": 0,
              "ticks": ""
             }
            },
            "type": "scattercarpet"
           }
          ],
          "scattergeo": [
           {
            "marker": {
             "colorbar": {
              "outlinewidth": 0,
              "ticks": ""
             }
            },
            "type": "scattergeo"
           }
          ],
          "scattergl": [
           {
            "marker": {
             "colorbar": {
              "outlinewidth": 0,
              "ticks": ""
             }
            },
            "type": "scattergl"
           }
          ],
          "scattermap": [
           {
            "marker": {
             "colorbar": {
              "outlinewidth": 0,
              "ticks": ""
             }
            },
            "type": "scattermap"
           }
          ],
          "scattermapbox": [
           {
            "marker": {
             "colorbar": {
              "outlinewidth": 0,
              "ticks": ""
             }
            },
            "type": "scattermapbox"
           }
          ],
          "scatterpolar": [
           {
            "marker": {
             "colorbar": {
              "outlinewidth": 0,
              "ticks": ""
             }
            },
            "type": "scatterpolar"
           }
          ],
          "scatterpolargl": [
           {
            "marker": {
             "colorbar": {
              "outlinewidth": 0,
              "ticks": ""
             }
            },
            "type": "scatterpolargl"
           }
          ],
          "scatterternary": [
           {
            "marker": {
             "colorbar": {
              "outlinewidth": 0,
              "ticks": ""
             }
            },
            "type": "scatterternary"
           }
          ],
          "surface": [
           {
            "colorbar": {
             "outlinewidth": 0,
             "ticks": ""
            },
            "colorscale": [
             [
              0,
              "#0d0887"
             ],
             [
              0.1111111111111111,
              "#46039f"
             ],
             [
              0.2222222222222222,
              "#7201a8"
             ],
             [
              0.3333333333333333,
              "#9c179e"
             ],
             [
              0.4444444444444444,
              "#bd3786"
             ],
             [
              0.5555555555555556,
              "#d8576b"
             ],
             [
              0.6666666666666666,
              "#ed7953"
             ],
             [
              0.7777777777777778,
              "#fb9f3a"
             ],
             [
              0.8888888888888888,
              "#fdca26"
             ],
             [
              1,
              "#f0f921"
             ]
            ],
            "type": "surface"
           }
          ],
          "table": [
           {
            "cells": {
             "fill": {
              "color": "#EBF0F8"
             },
             "line": {
              "color": "white"
             }
            },
            "header": {
             "fill": {
              "color": "#C8D4E3"
             },
             "line": {
              "color": "white"
             }
            },
            "type": "table"
           }
          ]
         },
         "layout": {
          "annotationdefaults": {
           "arrowcolor": "#2a3f5f",
           "arrowhead": 0,
           "arrowwidth": 1
          },
          "autotypenumbers": "strict",
          "coloraxis": {
           "colorbar": {
            "outlinewidth": 0,
            "ticks": ""
           }
          },
          "colorscale": {
           "diverging": [
            [
             0,
             "#8e0152"
            ],
            [
             0.1,
             "#c51b7d"
            ],
            [
             0.2,
             "#de77ae"
            ],
            [
             0.3,
             "#f1b6da"
            ],
            [
             0.4,
             "#fde0ef"
            ],
            [
             0.5,
             "#f7f7f7"
            ],
            [
             0.6,
             "#e6f5d0"
            ],
            [
             0.7,
             "#b8e186"
            ],
            [
             0.8,
             "#7fbc41"
            ],
            [
             0.9,
             "#4d9221"
            ],
            [
             1,
             "#276419"
            ]
           ],
           "sequential": [
            [
             0,
             "#0d0887"
            ],
            [
             0.1111111111111111,
             "#46039f"
            ],
            [
             0.2222222222222222,
             "#7201a8"
            ],
            [
             0.3333333333333333,
             "#9c179e"
            ],
            [
             0.4444444444444444,
             "#bd3786"
            ],
            [
             0.5555555555555556,
             "#d8576b"
            ],
            [
             0.6666666666666666,
             "#ed7953"
            ],
            [
             0.7777777777777778,
             "#fb9f3a"
            ],
            [
             0.8888888888888888,
             "#fdca26"
            ],
            [
             1,
             "#f0f921"
            ]
           ],
           "sequentialminus": [
            [
             0,
             "#0d0887"
            ],
            [
             0.1111111111111111,
             "#46039f"
            ],
            [
             0.2222222222222222,
             "#7201a8"
            ],
            [
             0.3333333333333333,
             "#9c179e"
            ],
            [
             0.4444444444444444,
             "#bd3786"
            ],
            [
             0.5555555555555556,
             "#d8576b"
            ],
            [
             0.6666666666666666,
             "#ed7953"
            ],
            [
             0.7777777777777778,
             "#fb9f3a"
            ],
            [
             0.8888888888888888,
             "#fdca26"
            ],
            [
             1,
             "#f0f921"
            ]
           ]
          },
          "colorway": [
           "#636efa",
           "#EF553B",
           "#00cc96",
           "#ab63fa",
           "#FFA15A",
           "#19d3f3",
           "#FF6692",
           "#B6E880",
           "#FF97FF",
           "#FECB52"
          ],
          "font": {
           "color": "#2a3f5f"
          },
          "geo": {
           "bgcolor": "white",
           "lakecolor": "white",
           "landcolor": "#E5ECF6",
           "showlakes": true,
           "showland": true,
           "subunitcolor": "white"
          },
          "hoverlabel": {
           "align": "left"
          },
          "hovermode": "closest",
          "mapbox": {
           "style": "light"
          },
          "paper_bgcolor": "white",
          "plot_bgcolor": "#E5ECF6",
          "polar": {
           "angularaxis": {
            "gridcolor": "white",
            "linecolor": "white",
            "ticks": ""
           },
           "bgcolor": "#E5ECF6",
           "radialaxis": {
            "gridcolor": "white",
            "linecolor": "white",
            "ticks": ""
           }
          },
          "scene": {
           "xaxis": {
            "backgroundcolor": "#E5ECF6",
            "gridcolor": "white",
            "gridwidth": 2,
            "linecolor": "white",
            "showbackground": true,
            "ticks": "",
            "zerolinecolor": "white"
           },
           "yaxis": {
            "backgroundcolor": "#E5ECF6",
            "gridcolor": "white",
            "gridwidth": 2,
            "linecolor": "white",
            "showbackground": true,
            "ticks": "",
            "zerolinecolor": "white"
           },
           "zaxis": {
            "backgroundcolor": "#E5ECF6",
            "gridcolor": "white",
            "gridwidth": 2,
            "linecolor": "white",
            "showbackground": true,
            "ticks": "",
            "zerolinecolor": "white"
           }
          },
          "shapedefaults": {
           "line": {
            "color": "#2a3f5f"
           }
          },
          "ternary": {
           "aaxis": {
            "gridcolor": "white",
            "linecolor": "white",
            "ticks": ""
           },
           "baxis": {
            "gridcolor": "white",
            "linecolor": "white",
            "ticks": ""
           },
           "bgcolor": "#E5ECF6",
           "caxis": {
            "gridcolor": "white",
            "linecolor": "white",
            "ticks": ""
           }
          },
          "title": {
           "x": 0.05
          },
          "xaxis": {
           "automargin": true,
           "gridcolor": "white",
           "linecolor": "white",
           "ticks": "",
           "title": {
            "standoff": 15
           },
           "zerolinecolor": "white",
           "zerolinewidth": 2
          },
          "yaxis": {
           "automargin": true,
           "gridcolor": "white",
           "linecolor": "white",
           "ticks": "",
           "title": {
            "standoff": 15
           },
           "zerolinecolor": "white",
           "zerolinewidth": 2
          }
         }
        },
        "xaxis": {
         "anchor": "y",
         "domain": [
          0,
          1
         ],
         "title": {
          "text": "year"
         }
        },
        "yaxis": {
         "anchor": "x",
         "domain": [
          0,
          1
         ],
         "title": {
          "text": "value"
         }
        }
       }
      }
     },
     "metadata": {},
     "output_type": "display_data"
    }
   ],
   "source": [
    "# add previous imputed donor count value\n",
    "organs_clean[\"total_deceased_donors_imputed_previous\"] = impute_feature(organs_clean, \n",
    "                                                                        feature=\"total_deceased_donors\", \n",
    "                                                                        group=\"country\", \n",
    "                                                                        impute_method=\"previous\") \n",
    "# compute the donor counts by year for each imputation approach\n",
    "unimputed_donors_by_year = organs_clean.groupby(\"year\")[\"total_deceased_donors\"].sum()  \n",
    "imputed_average_donors_by_year = organs_clean.groupby(\"year\")[\"total_deceased_donors_imputed\"].sum()  \n",
    "imputed_previous_donors_by_year = organs_clean.groupby(\"year\")[\"total_deceased_donors_imputed_previous\"].sum()  \n",
    "\n",
    "imputed_donors_by_year_df = pd.DataFrame({\n",
    "    \"None\": unimputed_donors_by_year,\n",
    "    \"Average\": imputed_average_donors_by_year,\n",
    "    \"Previous\": imputed_previous_donors_by_year,\n",
    "    \"year\": organs_clean[\"year\"].unique()\n",
    "    }\n",
    "  ).melt(id_vars=\"year\", var_name=\"imputation_method\")\n",
    "  \n",
    "px.line(imputed_donors_by_year_df, x=\"year\", y=\"value\", color=\"imputation_method\")"
   ]
  },
  {
   "attachments": {},
   "cell_type": "markdown",
   "metadata": {},
   "source": [
    "## The US has the *most donors*, but Spain has the *highest donor rate*\n",
    "\n",
    "\n",
    "The next question we want to ask is *which country had the highest number of organ donations per million people in 2017?*. To answer this question, let's first print out the donor counts for the 20 countries with the highest donor counts in 2017. In the table below, it is clear that the US has the most organ donations by far, followed by China and Brazil. "
   ]
  },
  {
   "cell_type": "code",
   "execution_count": 12,
   "metadata": {},
   "outputs": [
    {
     "data": {
      "text/plain": [
       "country\n",
       "United States of America      10286.0\n",
       "China                          4080.0\n",
       "Brazil                         3420.0\n",
       "Spain                          2183.0\n",
       "France                         1933.0\n",
       "Italy                          1714.0\n",
       "United Kingdom                 1492.0\n",
       "Iran (Islamic Republic of)      870.0\n",
       "Canada                          802.0\n",
       "Germany                         797.0\n",
       "Argentina                       593.0\n",
       "Russian Federation              572.0\n",
       "Turkey                          562.0\n",
       "Poland                          560.0\n",
       "Australia                       510.0\n",
       "Mexico                          509.0\n",
       "Republic of Korea               501.0\n",
       "Colombia                        437.0\n",
       "India                           391.0\n",
       "Portugal                        351.0\n",
       "Name: total_deceased_donors_imputed, dtype: float64"
      ]
     },
     "execution_count": 12,
     "metadata": {},
     "output_type": "execute_result"
    }
   ],
   "source": [
    "organs_2017 = organs_clean[organs_clean[\"year\"] == 2017]\n",
    "countries_top_20_2017 = organs_2017.set_index(\"country\")[\"total_deceased_donors_imputed\"] \\\n",
    "    .sort_values(ascending=False) \\\n",
    "    .head(20)\n",
    "countries_top_20_2017\n"
   ]
  },
  {
   "attachments": {},
   "cell_type": "markdown",
   "metadata": {},
   "source": [
    "We can visualize this using a bar chart. "
   ]
  },
  {
   "cell_type": "code",
   "execution_count": 13,
   "metadata": {},
   "outputs": [
    {
     "data": {
      "application/vnd.plotly.v1+json": {
       "config": {
        "plotlyServerURL": "https://plot.ly"
       },
       "data": [
        {
         "hovertemplate": "variable=total_deceased_donors_imputed<br>country=%{x}<br>value=%{y}<extra></extra>",
         "legendgroup": "total_deceased_donors_imputed",
         "marker": {
          "color": "#636efa",
          "pattern": {
           "shape": ""
          }
         },
         "name": "total_deceased_donors_imputed",
         "orientation": "v",
         "showlegend": true,
         "textposition": "auto",
         "type": "bar",
         "x": [
          "United States of America",
          "China",
          "Brazil",
          "Spain",
          "France",
          "Italy",
          "United Kingdom",
          "Iran (Islamic Republic of)",
          "Canada",
          "Germany",
          "Argentina",
          "Russian Federation",
          "Turkey",
          "Poland",
          "Australia",
          "Mexico",
          "Republic of Korea",
          "Colombia",
          "India",
          "Portugal"
         ],
         "xaxis": "x",
         "y": {
          "bdata": "AAAAAAAXxEAAAAAAAOCvQAAAAAAAuKpAAAAAAAAOoUAAAAAAADSeQAAAAAAAyJpAAAAAAABQl0AAAAAAADCLQAAAAAAAEIlAAAAAAADoiEAAAAAAAIiCQAAAAAAA4IFAAAAAAACQgUAAAAAAAICBQAAAAAAA4H9AAAAAAADQf0AAAAAAAFB/QAAAAAAAUHtAAAAAAABweEAAAAAAAPB1QA==",
          "dtype": "f8"
         },
         "yaxis": "y"
        }
       ],
       "layout": {
        "barmode": "relative",
        "legend": {
         "title": {
          "text": "variable"
         },
         "tracegroupgap": 0
        },
        "margin": {
         "t": 60
        },
        "template": {
         "data": {
          "bar": [
           {
            "error_x": {
             "color": "#2a3f5f"
            },
            "error_y": {
             "color": "#2a3f5f"
            },
            "marker": {
             "line": {
              "color": "#E5ECF6",
              "width": 0.5
             },
             "pattern": {
              "fillmode": "overlay",
              "size": 10,
              "solidity": 0.2
             }
            },
            "type": "bar"
           }
          ],
          "barpolar": [
           {
            "marker": {
             "line": {
              "color": "#E5ECF6",
              "width": 0.5
             },
             "pattern": {
              "fillmode": "overlay",
              "size": 10,
              "solidity": 0.2
             }
            },
            "type": "barpolar"
           }
          ],
          "carpet": [
           {
            "aaxis": {
             "endlinecolor": "#2a3f5f",
             "gridcolor": "white",
             "linecolor": "white",
             "minorgridcolor": "white",
             "startlinecolor": "#2a3f5f"
            },
            "baxis": {
             "endlinecolor": "#2a3f5f",
             "gridcolor": "white",
             "linecolor": "white",
             "minorgridcolor": "white",
             "startlinecolor": "#2a3f5f"
            },
            "type": "carpet"
           }
          ],
          "choropleth": [
           {
            "colorbar": {
             "outlinewidth": 0,
             "ticks": ""
            },
            "type": "choropleth"
           }
          ],
          "contour": [
           {
            "colorbar": {
             "outlinewidth": 0,
             "ticks": ""
            },
            "colorscale": [
             [
              0,
              "#0d0887"
             ],
             [
              0.1111111111111111,
              "#46039f"
             ],
             [
              0.2222222222222222,
              "#7201a8"
             ],
             [
              0.3333333333333333,
              "#9c179e"
             ],
             [
              0.4444444444444444,
              "#bd3786"
             ],
             [
              0.5555555555555556,
              "#d8576b"
             ],
             [
              0.6666666666666666,
              "#ed7953"
             ],
             [
              0.7777777777777778,
              "#fb9f3a"
             ],
             [
              0.8888888888888888,
              "#fdca26"
             ],
             [
              1,
              "#f0f921"
             ]
            ],
            "type": "contour"
           }
          ],
          "contourcarpet": [
           {
            "colorbar": {
             "outlinewidth": 0,
             "ticks": ""
            },
            "type": "contourcarpet"
           }
          ],
          "heatmap": [
           {
            "colorbar": {
             "outlinewidth": 0,
             "ticks": ""
            },
            "colorscale": [
             [
              0,
              "#0d0887"
             ],
             [
              0.1111111111111111,
              "#46039f"
             ],
             [
              0.2222222222222222,
              "#7201a8"
             ],
             [
              0.3333333333333333,
              "#9c179e"
             ],
             [
              0.4444444444444444,
              "#bd3786"
             ],
             [
              0.5555555555555556,
              "#d8576b"
             ],
             [
              0.6666666666666666,
              "#ed7953"
             ],
             [
              0.7777777777777778,
              "#fb9f3a"
             ],
             [
              0.8888888888888888,
              "#fdca26"
             ],
             [
              1,
              "#f0f921"
             ]
            ],
            "type": "heatmap"
           }
          ],
          "histogram": [
           {
            "marker": {
             "pattern": {
              "fillmode": "overlay",
              "size": 10,
              "solidity": 0.2
             }
            },
            "type": "histogram"
           }
          ],
          "histogram2d": [
           {
            "colorbar": {
             "outlinewidth": 0,
             "ticks": ""
            },
            "colorscale": [
             [
              0,
              "#0d0887"
             ],
             [
              0.1111111111111111,
              "#46039f"
             ],
             [
              0.2222222222222222,
              "#7201a8"
             ],
             [
              0.3333333333333333,
              "#9c179e"
             ],
             [
              0.4444444444444444,
              "#bd3786"
             ],
             [
              0.5555555555555556,
              "#d8576b"
             ],
             [
              0.6666666666666666,
              "#ed7953"
             ],
             [
              0.7777777777777778,
              "#fb9f3a"
             ],
             [
              0.8888888888888888,
              "#fdca26"
             ],
             [
              1,
              "#f0f921"
             ]
            ],
            "type": "histogram2d"
           }
          ],
          "histogram2dcontour": [
           {
            "colorbar": {
             "outlinewidth": 0,
             "ticks": ""
            },
            "colorscale": [
             [
              0,
              "#0d0887"
             ],
             [
              0.1111111111111111,
              "#46039f"
             ],
             [
              0.2222222222222222,
              "#7201a8"
             ],
             [
              0.3333333333333333,
              "#9c179e"
             ],
             [
              0.4444444444444444,
              "#bd3786"
             ],
             [
              0.5555555555555556,
              "#d8576b"
             ],
             [
              0.6666666666666666,
              "#ed7953"
             ],
             [
              0.7777777777777778,
              "#fb9f3a"
             ],
             [
              0.8888888888888888,
              "#fdca26"
             ],
             [
              1,
              "#f0f921"
             ]
            ],
            "type": "histogram2dcontour"
           }
          ],
          "mesh3d": [
           {
            "colorbar": {
             "outlinewidth": 0,
             "ticks": ""
            },
            "type": "mesh3d"
           }
          ],
          "parcoords": [
           {
            "line": {
             "colorbar": {
              "outlinewidth": 0,
              "ticks": ""
             }
            },
            "type": "parcoords"
           }
          ],
          "pie": [
           {
            "automargin": true,
            "type": "pie"
           }
          ],
          "scatter": [
           {
            "fillpattern": {
             "fillmode": "overlay",
             "size": 10,
             "solidity": 0.2
            },
            "type": "scatter"
           }
          ],
          "scatter3d": [
           {
            "line": {
             "colorbar": {
              "outlinewidth": 0,
              "ticks": ""
             }
            },
            "marker": {
             "colorbar": {
              "outlinewidth": 0,
              "ticks": ""
             }
            },
            "type": "scatter3d"
           }
          ],
          "scattercarpet": [
           {
            "marker": {
             "colorbar": {
              "outlinewidth": 0,
              "ticks": ""
             }
            },
            "type": "scattercarpet"
           }
          ],
          "scattergeo": [
           {
            "marker": {
             "colorbar": {
              "outlinewidth": 0,
              "ticks": ""
             }
            },
            "type": "scattergeo"
           }
          ],
          "scattergl": [
           {
            "marker": {
             "colorbar": {
              "outlinewidth": 0,
              "ticks": ""
             }
            },
            "type": "scattergl"
           }
          ],
          "scattermap": [
           {
            "marker": {
             "colorbar": {
              "outlinewidth": 0,
              "ticks": ""
             }
            },
            "type": "scattermap"
           }
          ],
          "scattermapbox": [
           {
            "marker": {
             "colorbar": {
              "outlinewidth": 0,
              "ticks": ""
             }
            },
            "type": "scattermapbox"
           }
          ],
          "scatterpolar": [
           {
            "marker": {
             "colorbar": {
              "outlinewidth": 0,
              "ticks": ""
             }
            },
            "type": "scatterpolar"
           }
          ],
          "scatterpolargl": [
           {
            "marker": {
             "colorbar": {
              "outlinewidth": 0,
              "ticks": ""
             }
            },
            "type": "scatterpolargl"
           }
          ],
          "scatterternary": [
           {
            "marker": {
             "colorbar": {
              "outlinewidth": 0,
              "ticks": ""
             }
            },
            "type": "scatterternary"
           }
          ],
          "surface": [
           {
            "colorbar": {
             "outlinewidth": 0,
             "ticks": ""
            },
            "colorscale": [
             [
              0,
              "#0d0887"
             ],
             [
              0.1111111111111111,
              "#46039f"
             ],
             [
              0.2222222222222222,
              "#7201a8"
             ],
             [
              0.3333333333333333,
              "#9c179e"
             ],
             [
              0.4444444444444444,
              "#bd3786"
             ],
             [
              0.5555555555555556,
              "#d8576b"
             ],
             [
              0.6666666666666666,
              "#ed7953"
             ],
             [
              0.7777777777777778,
              "#fb9f3a"
             ],
             [
              0.8888888888888888,
              "#fdca26"
             ],
             [
              1,
              "#f0f921"
             ]
            ],
            "type": "surface"
           }
          ],
          "table": [
           {
            "cells": {
             "fill": {
              "color": "#EBF0F8"
             },
             "line": {
              "color": "white"
             }
            },
            "header": {
             "fill": {
              "color": "#C8D4E3"
             },
             "line": {
              "color": "white"
             }
            },
            "type": "table"
           }
          ]
         },
         "layout": {
          "annotationdefaults": {
           "arrowcolor": "#2a3f5f",
           "arrowhead": 0,
           "arrowwidth": 1
          },
          "autotypenumbers": "strict",
          "coloraxis": {
           "colorbar": {
            "outlinewidth": 0,
            "ticks": ""
           }
          },
          "colorscale": {
           "diverging": [
            [
             0,
             "#8e0152"
            ],
            [
             0.1,
             "#c51b7d"
            ],
            [
             0.2,
             "#de77ae"
            ],
            [
             0.3,
             "#f1b6da"
            ],
            [
             0.4,
             "#fde0ef"
            ],
            [
             0.5,
             "#f7f7f7"
            ],
            [
             0.6,
             "#e6f5d0"
            ],
            [
             0.7,
             "#b8e186"
            ],
            [
             0.8,
             "#7fbc41"
            ],
            [
             0.9,
             "#4d9221"
            ],
            [
             1,
             "#276419"
            ]
           ],
           "sequential": [
            [
             0,
             "#0d0887"
            ],
            [
             0.1111111111111111,
             "#46039f"
            ],
            [
             0.2222222222222222,
             "#7201a8"
            ],
            [
             0.3333333333333333,
             "#9c179e"
            ],
            [
             0.4444444444444444,
             "#bd3786"
            ],
            [
             0.5555555555555556,
             "#d8576b"
            ],
            [
             0.6666666666666666,
             "#ed7953"
            ],
            [
             0.7777777777777778,
             "#fb9f3a"
            ],
            [
             0.8888888888888888,
             "#fdca26"
            ],
            [
             1,
             "#f0f921"
            ]
           ],
           "sequentialminus": [
            [
             0,
             "#0d0887"
            ],
            [
             0.1111111111111111,
             "#46039f"
            ],
            [
             0.2222222222222222,
             "#7201a8"
            ],
            [
             0.3333333333333333,
             "#9c179e"
            ],
            [
             0.4444444444444444,
             "#bd3786"
            ],
            [
             0.5555555555555556,
             "#d8576b"
            ],
            [
             0.6666666666666666,
             "#ed7953"
            ],
            [
             0.7777777777777778,
             "#fb9f3a"
            ],
            [
             0.8888888888888888,
             "#fdca26"
            ],
            [
             1,
             "#f0f921"
            ]
           ]
          },
          "colorway": [
           "#636efa",
           "#EF553B",
           "#00cc96",
           "#ab63fa",
           "#FFA15A",
           "#19d3f3",
           "#FF6692",
           "#B6E880",
           "#FF97FF",
           "#FECB52"
          ],
          "font": {
           "color": "#2a3f5f"
          },
          "geo": {
           "bgcolor": "white",
           "lakecolor": "white",
           "landcolor": "#E5ECF6",
           "showlakes": true,
           "showland": true,
           "subunitcolor": "white"
          },
          "hoverlabel": {
           "align": "left"
          },
          "hovermode": "closest",
          "mapbox": {
           "style": "light"
          },
          "paper_bgcolor": "white",
          "plot_bgcolor": "#E5ECF6",
          "polar": {
           "angularaxis": {
            "gridcolor": "white",
            "linecolor": "white",
            "ticks": ""
           },
           "bgcolor": "#E5ECF6",
           "radialaxis": {
            "gridcolor": "white",
            "linecolor": "white",
            "ticks": ""
           }
          },
          "scene": {
           "xaxis": {
            "backgroundcolor": "#E5ECF6",
            "gridcolor": "white",
            "gridwidth": 2,
            "linecolor": "white",
            "showbackground": true,
            "ticks": "",
            "zerolinecolor": "white"
           },
           "yaxis": {
            "backgroundcolor": "#E5ECF6",
            "gridcolor": "white",
            "gridwidth": 2,
            "linecolor": "white",
            "showbackground": true,
            "ticks": "",
            "zerolinecolor": "white"
           },
           "zaxis": {
            "backgroundcolor": "#E5ECF6",
            "gridcolor": "white",
            "gridwidth": 2,
            "linecolor": "white",
            "showbackground": true,
            "ticks": "",
            "zerolinecolor": "white"
           }
          },
          "shapedefaults": {
           "line": {
            "color": "#2a3f5f"
           }
          },
          "ternary": {
           "aaxis": {
            "gridcolor": "white",
            "linecolor": "white",
            "ticks": ""
           },
           "baxis": {
            "gridcolor": "white",
            "linecolor": "white",
            "ticks": ""
           },
           "bgcolor": "#E5ECF6",
           "caxis": {
            "gridcolor": "white",
            "linecolor": "white",
            "ticks": ""
           }
          },
          "title": {
           "x": 0.05
          },
          "xaxis": {
           "automargin": true,
           "gridcolor": "white",
           "linecolor": "white",
           "ticks": "",
           "title": {
            "standoff": 15
           },
           "zerolinecolor": "white",
           "zerolinewidth": 2
          },
          "yaxis": {
           "automargin": true,
           "gridcolor": "white",
           "linecolor": "white",
           "ticks": "",
           "title": {
            "standoff": 15
           },
           "zerolinecolor": "white",
           "zerolinewidth": 2
          }
         }
        },
        "xaxis": {
         "anchor": "y",
         "domain": [
          0,
          1
         ],
         "title": {
          "text": "country"
         }
        },
        "yaxis": {
         "anchor": "x",
         "domain": [
          0,
          1
         ],
         "title": {
          "text": "value"
         }
        }
       }
      }
     },
     "metadata": {},
     "output_type": "display_data"
    }
   ],
   "source": [
    "px.bar(countries_top_20_2017)"
   ]
  },
  {
   "attachments": {},
   "cell_type": "markdown",
   "metadata": {},
   "source": [
    "Since the populations of each of these countries are quite different, these counts are not actually really comparing apples-to-apples.  Let's instead look at a comparison of the donor counts *per million* for each country. \n"
   ]
  },
  {
   "cell_type": "code",
   "execution_count": 14,
   "metadata": {},
   "outputs": [
    {
     "data": {
      "text/plain": [
       "country\n",
       "Spain                       47.047413\n",
       "Portugal                    34.077667\n",
       "Croatia                     33.333325\n",
       "United States of America    31.697997\n",
       "Belgium                     30.526313\n",
       "Malta                       29.999925\n",
       "France                      29.738461\n",
       "Italy                       28.855218\n",
       "Czech Republic              25.377356\n",
       "Austria                     24.482756\n",
       "Belarus                     23.578945\n",
       "United Kingdom              22.537764\n",
       "Canada                      21.912568\n",
       "Norway                      21.886788\n",
       "Finland                     21.454542\n",
       "Australia                   20.816326\n",
       "Ireland                     20.624996\n",
       "Slovenia                    20.476181\n",
       "Iceland                     19.999933\n",
       "Sweden                      19.393937\n",
       "Name: total_deceased_donors_imputed_per_mil, dtype: float64"
      ]
     },
     "execution_count": 14,
     "metadata": {},
     "output_type": "execute_result"
    }
   ],
   "source": [
    "countries_top_20_2017_per_mil = organs_2017.set_index(\"country\")[\"total_deceased_donors_imputed_per_mil\"] \\\n",
    "    .sort_values(ascending=False) \\\n",
    "    .head(20)\n",
    "countries_top_20_2017_per_mil"
   ]
  },
  {
   "attachments": {},
   "cell_type": "markdown",
   "metadata": {},
   "source": [
    "Again, we can visualize this using a bar chart"
   ]
  },
  {
   "cell_type": "code",
   "execution_count": 15,
   "metadata": {},
   "outputs": [
    {
     "data": {
      "application/vnd.plotly.v1+json": {
       "config": {
        "plotlyServerURL": "https://plot.ly"
       },
       "data": [
        {
         "hovertemplate": "variable=total_deceased_donors_imputed_per_mil<br>country=%{x}<br>value=%{y}<extra></extra>",
         "legendgroup": "total_deceased_donors_imputed_per_mil",
         "marker": {
          "color": "#636efa",
          "pattern": {
           "shape": ""
          }
         },
         "name": "total_deceased_donors_imputed_per_mil",
         "orientation": "v",
         "showlegend": true,
         "textposition": "auto",
         "type": "bar",
         "x": [
          "Spain",
          "Portugal",
          "Croatia",
          "United States of America",
          "Belgium",
          "Malta",
          "France",
          "Italy",
          "Czech Republic",
          "Austria",
          "Belarus",
          "United Kingdom",
          "Canada",
          "Norway",
          "Finland",
          "Australia",
          "Ireland",
          "Slovenia",
          "Iceland",
          "Sweden"
         ],
         "xaxis": "x",
         "y": {
          "bdata": "oO43nxGGR0D/eJ368AlBQFQmF2iqqkBAAmtt66+yP0C4UsJ0vIY+QBNCthX7/z1A/QgQyQu9PUDCr0+X79o8QFpPvWiaYDlA3TZx4pV7OEDIY2m7NZQ3QF/u8+aqiTZA0USKCZ7pNUCY0j6PBOM1QDPm09VcdDVAm6JGuPrQNED1EOm3/580QA2P4/rmeTRAJ82Fofv/M0Aszm8V2WQzQA==",
          "dtype": "f8"
         },
         "yaxis": "y"
        }
       ],
       "layout": {
        "barmode": "relative",
        "legend": {
         "title": {
          "text": "variable"
         },
         "tracegroupgap": 0
        },
        "margin": {
         "t": 60
        },
        "template": {
         "data": {
          "bar": [
           {
            "error_x": {
             "color": "#2a3f5f"
            },
            "error_y": {
             "color": "#2a3f5f"
            },
            "marker": {
             "line": {
              "color": "#E5ECF6",
              "width": 0.5
             },
             "pattern": {
              "fillmode": "overlay",
              "size": 10,
              "solidity": 0.2
             }
            },
            "type": "bar"
           }
          ],
          "barpolar": [
           {
            "marker": {
             "line": {
              "color": "#E5ECF6",
              "width": 0.5
             },
             "pattern": {
              "fillmode": "overlay",
              "size": 10,
              "solidity": 0.2
             }
            },
            "type": "barpolar"
           }
          ],
          "carpet": [
           {
            "aaxis": {
             "endlinecolor": "#2a3f5f",
             "gridcolor": "white",
             "linecolor": "white",
             "minorgridcolor": "white",
             "startlinecolor": "#2a3f5f"
            },
            "baxis": {
             "endlinecolor": "#2a3f5f",
             "gridcolor": "white",
             "linecolor": "white",
             "minorgridcolor": "white",
             "startlinecolor": "#2a3f5f"
            },
            "type": "carpet"
           }
          ],
          "choropleth": [
           {
            "colorbar": {
             "outlinewidth": 0,
             "ticks": ""
            },
            "type": "choropleth"
           }
          ],
          "contour": [
           {
            "colorbar": {
             "outlinewidth": 0,
             "ticks": ""
            },
            "colorscale": [
             [
              0,
              "#0d0887"
             ],
             [
              0.1111111111111111,
              "#46039f"
             ],
             [
              0.2222222222222222,
              "#7201a8"
             ],
             [
              0.3333333333333333,
              "#9c179e"
             ],
             [
              0.4444444444444444,
              "#bd3786"
             ],
             [
              0.5555555555555556,
              "#d8576b"
             ],
             [
              0.6666666666666666,
              "#ed7953"
             ],
             [
              0.7777777777777778,
              "#fb9f3a"
             ],
             [
              0.8888888888888888,
              "#fdca26"
             ],
             [
              1,
              "#f0f921"
             ]
            ],
            "type": "contour"
           }
          ],
          "contourcarpet": [
           {
            "colorbar": {
             "outlinewidth": 0,
             "ticks": ""
            },
            "type": "contourcarpet"
           }
          ],
          "heatmap": [
           {
            "colorbar": {
             "outlinewidth": 0,
             "ticks": ""
            },
            "colorscale": [
             [
              0,
              "#0d0887"
             ],
             [
              0.1111111111111111,
              "#46039f"
             ],
             [
              0.2222222222222222,
              "#7201a8"
             ],
             [
              0.3333333333333333,
              "#9c179e"
             ],
             [
              0.4444444444444444,
              "#bd3786"
             ],
             [
              0.5555555555555556,
              "#d8576b"
             ],
             [
              0.6666666666666666,
              "#ed7953"
             ],
             [
              0.7777777777777778,
              "#fb9f3a"
             ],
             [
              0.8888888888888888,
              "#fdca26"
             ],
             [
              1,
              "#f0f921"
             ]
            ],
            "type": "heatmap"
           }
          ],
          "histogram": [
           {
            "marker": {
             "pattern": {
              "fillmode": "overlay",
              "size": 10,
              "solidity": 0.2
             }
            },
            "type": "histogram"
           }
          ],
          "histogram2d": [
           {
            "colorbar": {
             "outlinewidth": 0,
             "ticks": ""
            },
            "colorscale": [
             [
              0,
              "#0d0887"
             ],
             [
              0.1111111111111111,
              "#46039f"
             ],
             [
              0.2222222222222222,
              "#7201a8"
             ],
             [
              0.3333333333333333,
              "#9c179e"
             ],
             [
              0.4444444444444444,
              "#bd3786"
             ],
             [
              0.5555555555555556,
              "#d8576b"
             ],
             [
              0.6666666666666666,
              "#ed7953"
             ],
             [
              0.7777777777777778,
              "#fb9f3a"
             ],
             [
              0.8888888888888888,
              "#fdca26"
             ],
             [
              1,
              "#f0f921"
             ]
            ],
            "type": "histogram2d"
           }
          ],
          "histogram2dcontour": [
           {
            "colorbar": {
             "outlinewidth": 0,
             "ticks": ""
            },
            "colorscale": [
             [
              0,
              "#0d0887"
             ],
             [
              0.1111111111111111,
              "#46039f"
             ],
             [
              0.2222222222222222,
              "#7201a8"
             ],
             [
              0.3333333333333333,
              "#9c179e"
             ],
             [
              0.4444444444444444,
              "#bd3786"
             ],
             [
              0.5555555555555556,
              "#d8576b"
             ],
             [
              0.6666666666666666,
              "#ed7953"
             ],
             [
              0.7777777777777778,
              "#fb9f3a"
             ],
             [
              0.8888888888888888,
              "#fdca26"
             ],
             [
              1,
              "#f0f921"
             ]
            ],
            "type": "histogram2dcontour"
           }
          ],
          "mesh3d": [
           {
            "colorbar": {
             "outlinewidth": 0,
             "ticks": ""
            },
            "type": "mesh3d"
           }
          ],
          "parcoords": [
           {
            "line": {
             "colorbar": {
              "outlinewidth": 0,
              "ticks": ""
             }
            },
            "type": "parcoords"
           }
          ],
          "pie": [
           {
            "automargin": true,
            "type": "pie"
           }
          ],
          "scatter": [
           {
            "fillpattern": {
             "fillmode": "overlay",
             "size": 10,
             "solidity": 0.2
            },
            "type": "scatter"
           }
          ],
          "scatter3d": [
           {
            "line": {
             "colorbar": {
              "outlinewidth": 0,
              "ticks": ""
             }
            },
            "marker": {
             "colorbar": {
              "outlinewidth": 0,
              "ticks": ""
             }
            },
            "type": "scatter3d"
           }
          ],
          "scattercarpet": [
           {
            "marker": {
             "colorbar": {
              "outlinewidth": 0,
              "ticks": ""
             }
            },
            "type": "scattercarpet"
           }
          ],
          "scattergeo": [
           {
            "marker": {
             "colorbar": {
              "outlinewidth": 0,
              "ticks": ""
             }
            },
            "type": "scattergeo"
           }
          ],
          "scattergl": [
           {
            "marker": {
             "colorbar": {
              "outlinewidth": 0,
              "ticks": ""
             }
            },
            "type": "scattergl"
           }
          ],
          "scattermap": [
           {
            "marker": {
             "colorbar": {
              "outlinewidth": 0,
              "ticks": ""
             }
            },
            "type": "scattermap"
           }
          ],
          "scattermapbox": [
           {
            "marker": {
             "colorbar": {
              "outlinewidth": 0,
              "ticks": ""
             }
            },
            "type": "scattermapbox"
           }
          ],
          "scatterpolar": [
           {
            "marker": {
             "colorbar": {
              "outlinewidth": 0,
              "ticks": ""
             }
            },
            "type": "scatterpolar"
           }
          ],
          "scatterpolargl": [
           {
            "marker": {
             "colorbar": {
              "outlinewidth": 0,
              "ticks": ""
             }
            },
            "type": "scatterpolargl"
           }
          ],
          "scatterternary": [
           {
            "marker": {
             "colorbar": {
              "outlinewidth": 0,
              "ticks": ""
             }
            },
            "type": "scatterternary"
           }
          ],
          "surface": [
           {
            "colorbar": {
             "outlinewidth": 0,
             "ticks": ""
            },
            "colorscale": [
             [
              0,
              "#0d0887"
             ],
             [
              0.1111111111111111,
              "#46039f"
             ],
             [
              0.2222222222222222,
              "#7201a8"
             ],
             [
              0.3333333333333333,
              "#9c179e"
             ],
             [
              0.4444444444444444,
              "#bd3786"
             ],
             [
              0.5555555555555556,
              "#d8576b"
             ],
             [
              0.6666666666666666,
              "#ed7953"
             ],
             [
              0.7777777777777778,
              "#fb9f3a"
             ],
             [
              0.8888888888888888,
              "#fdca26"
             ],
             [
              1,
              "#f0f921"
             ]
            ],
            "type": "surface"
           }
          ],
          "table": [
           {
            "cells": {
             "fill": {
              "color": "#EBF0F8"
             },
             "line": {
              "color": "white"
             }
            },
            "header": {
             "fill": {
              "color": "#C8D4E3"
             },
             "line": {
              "color": "white"
             }
            },
            "type": "table"
           }
          ]
         },
         "layout": {
          "annotationdefaults": {
           "arrowcolor": "#2a3f5f",
           "arrowhead": 0,
           "arrowwidth": 1
          },
          "autotypenumbers": "strict",
          "coloraxis": {
           "colorbar": {
            "outlinewidth": 0,
            "ticks": ""
           }
          },
          "colorscale": {
           "diverging": [
            [
             0,
             "#8e0152"
            ],
            [
             0.1,
             "#c51b7d"
            ],
            [
             0.2,
             "#de77ae"
            ],
            [
             0.3,
             "#f1b6da"
            ],
            [
             0.4,
             "#fde0ef"
            ],
            [
             0.5,
             "#f7f7f7"
            ],
            [
             0.6,
             "#e6f5d0"
            ],
            [
             0.7,
             "#b8e186"
            ],
            [
             0.8,
             "#7fbc41"
            ],
            [
             0.9,
             "#4d9221"
            ],
            [
             1,
             "#276419"
            ]
           ],
           "sequential": [
            [
             0,
             "#0d0887"
            ],
            [
             0.1111111111111111,
             "#46039f"
            ],
            [
             0.2222222222222222,
             "#7201a8"
            ],
            [
             0.3333333333333333,
             "#9c179e"
            ],
            [
             0.4444444444444444,
             "#bd3786"
            ],
            [
             0.5555555555555556,
             "#d8576b"
            ],
            [
             0.6666666666666666,
             "#ed7953"
            ],
            [
             0.7777777777777778,
             "#fb9f3a"
            ],
            [
             0.8888888888888888,
             "#fdca26"
            ],
            [
             1,
             "#f0f921"
            ]
           ],
           "sequentialminus": [
            [
             0,
             "#0d0887"
            ],
            [
             0.1111111111111111,
             "#46039f"
            ],
            [
             0.2222222222222222,
             "#7201a8"
            ],
            [
             0.3333333333333333,
             "#9c179e"
            ],
            [
             0.4444444444444444,
             "#bd3786"
            ],
            [
             0.5555555555555556,
             "#d8576b"
            ],
            [
             0.6666666666666666,
             "#ed7953"
            ],
            [
             0.7777777777777778,
             "#fb9f3a"
            ],
            [
             0.8888888888888888,
             "#fdca26"
            ],
            [
             1,
             "#f0f921"
            ]
           ]
          },
          "colorway": [
           "#636efa",
           "#EF553B",
           "#00cc96",
           "#ab63fa",
           "#FFA15A",
           "#19d3f3",
           "#FF6692",
           "#B6E880",
           "#FF97FF",
           "#FECB52"
          ],
          "font": {
           "color": "#2a3f5f"
          },
          "geo": {
           "bgcolor": "white",
           "lakecolor": "white",
           "landcolor": "#E5ECF6",
           "showlakes": true,
           "showland": true,
           "subunitcolor": "white"
          },
          "hoverlabel": {
           "align": "left"
          },
          "hovermode": "closest",
          "mapbox": {
           "style": "light"
          },
          "paper_bgcolor": "white",
          "plot_bgcolor": "#E5ECF6",
          "polar": {
           "angularaxis": {
            "gridcolor": "white",
            "linecolor": "white",
            "ticks": ""
           },
           "bgcolor": "#E5ECF6",
           "radialaxis": {
            "gridcolor": "white",
            "linecolor": "white",
            "ticks": ""
           }
          },
          "scene": {
           "xaxis": {
            "backgroundcolor": "#E5ECF6",
            "gridcolor": "white",
            "gridwidth": 2,
            "linecolor": "white",
            "showbackground": true,
            "ticks": "",
            "zerolinecolor": "white"
           },
           "yaxis": {
            "backgroundcolor": "#E5ECF6",
            "gridcolor": "white",
            "gridwidth": 2,
            "linecolor": "white",
            "showbackground": true,
            "ticks": "",
            "zerolinecolor": "white"
           },
           "zaxis": {
            "backgroundcolor": "#E5ECF6",
            "gridcolor": "white",
            "gridwidth": 2,
            "linecolor": "white",
            "showbackground": true,
            "ticks": "",
            "zerolinecolor": "white"
           }
          },
          "shapedefaults": {
           "line": {
            "color": "#2a3f5f"
           }
          },
          "ternary": {
           "aaxis": {
            "gridcolor": "white",
            "linecolor": "white",
            "ticks": ""
           },
           "baxis": {
            "gridcolor": "white",
            "linecolor": "white",
            "ticks": ""
           },
           "bgcolor": "#E5ECF6",
           "caxis": {
            "gridcolor": "white",
            "linecolor": "white",
            "ticks": ""
           }
          },
          "title": {
           "x": 0.05
          },
          "xaxis": {
           "automargin": true,
           "gridcolor": "white",
           "linecolor": "white",
           "ticks": "",
           "title": {
            "standoff": 15
           },
           "zerolinecolor": "white",
           "zerolinewidth": 2
          },
          "yaxis": {
           "automargin": true,
           "gridcolor": "white",
           "linecolor": "white",
           "ticks": "",
           "title": {
            "standoff": 15
           },
           "zerolinecolor": "white",
           "zerolinewidth": 2
          }
         }
        },
        "xaxis": {
         "anchor": "y",
         "domain": [
          0,
          1
         ],
         "title": {
          "text": "country"
         }
        },
        "yaxis": {
         "anchor": "x",
         "domain": [
          0,
          1
         ],
         "title": {
          "text": "value"
         }
        }
       }
      }
     },
     "metadata": {},
     "output_type": "display_data"
    }
   ],
   "source": [
    "px.bar(countries_top_20_2017_per_mil)"
   ]
  },
  {
   "attachments": {},
   "cell_type": "markdown",
   "metadata": {},
   "source": [
    "When viewed in the context of population size, it appears that *Spain* (not the US) is the clear world-leader in organ donation *Rates*. China and Brazil don't even feature this time (because their number of organ donations are not actually that impressive when viewed in the context of the size of their population).\n"
   ]
  },
  {
   "attachments": {},
   "cell_type": "markdown",
   "metadata": {},
   "source": [
    "### PCS evaluation\n",
    "\n",
    "#### Predictability\n",
    "\n",
    "A quick literature search revealed that it is a very well-known fact that Spain is the world leader in organ donations. While it seems that many of these reports are based on the same data as this dataset that we are using, the fact that this information seems so broadly reported feels like reasonable evidence of the predictability of this finding. \n",
    "\n",
    "Another way that we can demonstrate the predictability of this finding is by showing that it occurs not just in 2017, but also for 2016. The figure below reproduces the two bar charts above, but using the 2016 data. The results are very similar (although the extent to which Spain's rates are higher than Portugal and Croatia's is less extreme)."
   ]
  },
  {
   "cell_type": "code",
   "execution_count": 17,
   "metadata": {},
   "outputs": [
    {
     "data": {
      "application/vnd.plotly.v1+json": {
       "config": {
        "plotlyServerURL": "https://plot.ly"
       },
       "data": [
        {
         "name": "Total donor counts",
         "type": "bar",
         "x": [
          "United States of America",
          "China",
          "Brazil",
          "Spain",
          "France",
          "Italy",
          "United Kingdom",
          "Iran (Islamic Republic of)",
          "Germany",
          "Canada",
          "Turkey",
          "Poland",
          "Argentina",
          "Australia",
          "Republic of Korea",
          "Russian Federation",
          "Mexico",
          "India",
          "Belgium",
          "Colombia"
         ],
         "xaxis": "x",
         "y": {
          "bdata": "AAAAAAB5w0AAAAAAAOCvQAAAAAAATqdAAAAAAACMn0AAAAAAAAydQAAAAAAAGJdAAAAAAADklUAAAAAAADCLQAAAAAAAyIpAAAAAAACwh0AAAAAAAJCBQAAAAAAA8IBAAAAAAAAYgEAAAAAAAHB/QAAAAAAAUH9AAAAAAABwfkAAAAAAAGB9QAAAAAAAcHhAAAAAAADwdUAAAAAAAHB1QA==",
          "dtype": "f8"
         },
         "yaxis": "y"
        },
        {
         "name": "Donor counts per mil",
         "type": "bar",
         "x": [
          "Spain",
          "Croatia",
          "Portugal",
          "Belgium",
          "United States of America",
          "Iceland",
          "France",
          "Czech Republic",
          "Austria",
          "Malta",
          "Finland",
          "Italy",
          "Belarus",
          "Lithuania",
          "United Kingdom",
          "Norway",
          "Canada",
          "Australia",
          "Slovenia",
          "Sweden"
         ],
         "xaxis": "x2",
         "y": {
          "bdata": "hIylbOblRUBcTtLhC8NDQOALRPT1W0BAxsE2xRrKPkBG1zSqGcM+QLmzSHL5/z1AskhAb4y7PECg39osVVU5QJo16ryIOzlAEDdt5/v/OEC8TjVALro4QLrpY1Y5tzhAUU5PrlBeN0AZpc2cYLk1QApBEgVPhTVAcrP3J4LxNEAWq6K+rOE0QPNXtCwYszRArZE3YP//M0BkjcV5bLIzQA==",
          "dtype": "f8"
         },
         "yaxis": "y2"
        }
       ],
       "layout": {
        "showlegend": false,
        "template": {
         "data": {
          "bar": [
           {
            "error_x": {
             "color": "#2a3f5f"
            },
            "error_y": {
             "color": "#2a3f5f"
            },
            "marker": {
             "line": {
              "color": "#E5ECF6",
              "width": 0.5
             },
             "pattern": {
              "fillmode": "overlay",
              "size": 10,
              "solidity": 0.2
             }
            },
            "type": "bar"
           }
          ],
          "barpolar": [
           {
            "marker": {
             "line": {
              "color": "#E5ECF6",
              "width": 0.5
             },
             "pattern": {
              "fillmode": "overlay",
              "size": 10,
              "solidity": 0.2
             }
            },
            "type": "barpolar"
           }
          ],
          "carpet": [
           {
            "aaxis": {
             "endlinecolor": "#2a3f5f",
             "gridcolor": "white",
             "linecolor": "white",
             "minorgridcolor": "white",
             "startlinecolor": "#2a3f5f"
            },
            "baxis": {
             "endlinecolor": "#2a3f5f",
             "gridcolor": "white",
             "linecolor": "white",
             "minorgridcolor": "white",
             "startlinecolor": "#2a3f5f"
            },
            "type": "carpet"
           }
          ],
          "choropleth": [
           {
            "colorbar": {
             "outlinewidth": 0,
             "ticks": ""
            },
            "type": "choropleth"
           }
          ],
          "contour": [
           {
            "colorbar": {
             "outlinewidth": 0,
             "ticks": ""
            },
            "colorscale": [
             [
              0,
              "#0d0887"
             ],
             [
              0.1111111111111111,
              "#46039f"
             ],
             [
              0.2222222222222222,
              "#7201a8"
             ],
             [
              0.3333333333333333,
              "#9c179e"
             ],
             [
              0.4444444444444444,
              "#bd3786"
             ],
             [
              0.5555555555555556,
              "#d8576b"
             ],
             [
              0.6666666666666666,
              "#ed7953"
             ],
             [
              0.7777777777777778,
              "#fb9f3a"
             ],
             [
              0.8888888888888888,
              "#fdca26"
             ],
             [
              1,
              "#f0f921"
             ]
            ],
            "type": "contour"
           }
          ],
          "contourcarpet": [
           {
            "colorbar": {
             "outlinewidth": 0,
             "ticks": ""
            },
            "type": "contourcarpet"
           }
          ],
          "heatmap": [
           {
            "colorbar": {
             "outlinewidth": 0,
             "ticks": ""
            },
            "colorscale": [
             [
              0,
              "#0d0887"
             ],
             [
              0.1111111111111111,
              "#46039f"
             ],
             [
              0.2222222222222222,
              "#7201a8"
             ],
             [
              0.3333333333333333,
              "#9c179e"
             ],
             [
              0.4444444444444444,
              "#bd3786"
             ],
             [
              0.5555555555555556,
              "#d8576b"
             ],
             [
              0.6666666666666666,
              "#ed7953"
             ],
             [
              0.7777777777777778,
              "#fb9f3a"
             ],
             [
              0.8888888888888888,
              "#fdca26"
             ],
             [
              1,
              "#f0f921"
             ]
            ],
            "type": "heatmap"
           }
          ],
          "histogram": [
           {
            "marker": {
             "pattern": {
              "fillmode": "overlay",
              "size": 10,
              "solidity": 0.2
             }
            },
            "type": "histogram"
           }
          ],
          "histogram2d": [
           {
            "colorbar": {
             "outlinewidth": 0,
             "ticks": ""
            },
            "colorscale": [
             [
              0,
              "#0d0887"
             ],
             [
              0.1111111111111111,
              "#46039f"
             ],
             [
              0.2222222222222222,
              "#7201a8"
             ],
             [
              0.3333333333333333,
              "#9c179e"
             ],
             [
              0.4444444444444444,
              "#bd3786"
             ],
             [
              0.5555555555555556,
              "#d8576b"
             ],
             [
              0.6666666666666666,
              "#ed7953"
             ],
             [
              0.7777777777777778,
              "#fb9f3a"
             ],
             [
              0.8888888888888888,
              "#fdca26"
             ],
             [
              1,
              "#f0f921"
             ]
            ],
            "type": "histogram2d"
           }
          ],
          "histogram2dcontour": [
           {
            "colorbar": {
             "outlinewidth": 0,
             "ticks": ""
            },
            "colorscale": [
             [
              0,
              "#0d0887"
             ],
             [
              0.1111111111111111,
              "#46039f"
             ],
             [
              0.2222222222222222,
              "#7201a8"
             ],
             [
              0.3333333333333333,
              "#9c179e"
             ],
             [
              0.4444444444444444,
              "#bd3786"
             ],
             [
              0.5555555555555556,
              "#d8576b"
             ],
             [
              0.6666666666666666,
              "#ed7953"
             ],
             [
              0.7777777777777778,
              "#fb9f3a"
             ],
             [
              0.8888888888888888,
              "#fdca26"
             ],
             [
              1,
              "#f0f921"
             ]
            ],
            "type": "histogram2dcontour"
           }
          ],
          "mesh3d": [
           {
            "colorbar": {
             "outlinewidth": 0,
             "ticks": ""
            },
            "type": "mesh3d"
           }
          ],
          "parcoords": [
           {
            "line": {
             "colorbar": {
              "outlinewidth": 0,
              "ticks": ""
             }
            },
            "type": "parcoords"
           }
          ],
          "pie": [
           {
            "automargin": true,
            "type": "pie"
           }
          ],
          "scatter": [
           {
            "fillpattern": {
             "fillmode": "overlay",
             "size": 10,
             "solidity": 0.2
            },
            "type": "scatter"
           }
          ],
          "scatter3d": [
           {
            "line": {
             "colorbar": {
              "outlinewidth": 0,
              "ticks": ""
             }
            },
            "marker": {
             "colorbar": {
              "outlinewidth": 0,
              "ticks": ""
             }
            },
            "type": "scatter3d"
           }
          ],
          "scattercarpet": [
           {
            "marker": {
             "colorbar": {
              "outlinewidth": 0,
              "ticks": ""
             }
            },
            "type": "scattercarpet"
           }
          ],
          "scattergeo": [
           {
            "marker": {
             "colorbar": {
              "outlinewidth": 0,
              "ticks": ""
             }
            },
            "type": "scattergeo"
           }
          ],
          "scattergl": [
           {
            "marker": {
             "colorbar": {
              "outlinewidth": 0,
              "ticks": ""
             }
            },
            "type": "scattergl"
           }
          ],
          "scattermap": [
           {
            "marker": {
             "colorbar": {
              "outlinewidth": 0,
              "ticks": ""
             }
            },
            "type": "scattermap"
           }
          ],
          "scattermapbox": [
           {
            "marker": {
             "colorbar": {
              "outlinewidth": 0,
              "ticks": ""
             }
            },
            "type": "scattermapbox"
           }
          ],
          "scatterpolar": [
           {
            "marker": {
             "colorbar": {
              "outlinewidth": 0,
              "ticks": ""
             }
            },
            "type": "scatterpolar"
           }
          ],
          "scatterpolargl": [
           {
            "marker": {
             "colorbar": {
              "outlinewidth": 0,
              "ticks": ""
             }
            },
            "type": "scatterpolargl"
           }
          ],
          "scatterternary": [
           {
            "marker": {
             "colorbar": {
              "outlinewidth": 0,
              "ticks": ""
             }
            },
            "type": "scatterternary"
           }
          ],
          "surface": [
           {
            "colorbar": {
             "outlinewidth": 0,
             "ticks": ""
            },
            "colorscale": [
             [
              0,
              "#0d0887"
             ],
             [
              0.1111111111111111,
              "#46039f"
             ],
             [
              0.2222222222222222,
              "#7201a8"
             ],
             [
              0.3333333333333333,
              "#9c179e"
             ],
             [
              0.4444444444444444,
              "#bd3786"
             ],
             [
              0.5555555555555556,
              "#d8576b"
             ],
             [
              0.6666666666666666,
              "#ed7953"
             ],
             [
              0.7777777777777778,
              "#fb9f3a"
             ],
             [
              0.8888888888888888,
              "#fdca26"
             ],
             [
              1,
              "#f0f921"
             ]
            ],
            "type": "surface"
           }
          ],
          "table": [
           {
            "cells": {
             "fill": {
              "color": "#EBF0F8"
             },
             "line": {
              "color": "white"
             }
            },
            "header": {
             "fill": {
              "color": "#C8D4E3"
             },
             "line": {
              "color": "white"
             }
            },
            "type": "table"
           }
          ]
         },
         "layout": {
          "annotationdefaults": {
           "arrowcolor": "#2a3f5f",
           "arrowhead": 0,
           "arrowwidth": 1
          },
          "autotypenumbers": "strict",
          "coloraxis": {
           "colorbar": {
            "outlinewidth": 0,
            "ticks": ""
           }
          },
          "colorscale": {
           "diverging": [
            [
             0,
             "#8e0152"
            ],
            [
             0.1,
             "#c51b7d"
            ],
            [
             0.2,
             "#de77ae"
            ],
            [
             0.3,
             "#f1b6da"
            ],
            [
             0.4,
             "#fde0ef"
            ],
            [
             0.5,
             "#f7f7f7"
            ],
            [
             0.6,
             "#e6f5d0"
            ],
            [
             0.7,
             "#b8e186"
            ],
            [
             0.8,
             "#7fbc41"
            ],
            [
             0.9,
             "#4d9221"
            ],
            [
             1,
             "#276419"
            ]
           ],
           "sequential": [
            [
             0,
             "#0d0887"
            ],
            [
             0.1111111111111111,
             "#46039f"
            ],
            [
             0.2222222222222222,
             "#7201a8"
            ],
            [
             0.3333333333333333,
             "#9c179e"
            ],
            [
             0.4444444444444444,
             "#bd3786"
            ],
            [
             0.5555555555555556,
             "#d8576b"
            ],
            [
             0.6666666666666666,
             "#ed7953"
            ],
            [
             0.7777777777777778,
             "#fb9f3a"
            ],
            [
             0.8888888888888888,
             "#fdca26"
            ],
            [
             1,
             "#f0f921"
            ]
           ],
           "sequentialminus": [
            [
             0,
             "#0d0887"
            ],
            [
             0.1111111111111111,
             "#46039f"
            ],
            [
             0.2222222222222222,
             "#7201a8"
            ],
            [
             0.3333333333333333,
             "#9c179e"
            ],
            [
             0.4444444444444444,
             "#bd3786"
            ],
            [
             0.5555555555555556,
             "#d8576b"
            ],
            [
             0.6666666666666666,
             "#ed7953"
            ],
            [
             0.7777777777777778,
             "#fb9f3a"
            ],
            [
             0.8888888888888888,
             "#fdca26"
            ],
            [
             1,
             "#f0f921"
            ]
           ]
          },
          "colorway": [
           "#636efa",
           "#EF553B",
           "#00cc96",
           "#ab63fa",
           "#FFA15A",
           "#19d3f3",
           "#FF6692",
           "#B6E880",
           "#FF97FF",
           "#FECB52"
          ],
          "font": {
           "color": "#2a3f5f"
          },
          "geo": {
           "bgcolor": "white",
           "lakecolor": "white",
           "landcolor": "#E5ECF6",
           "showlakes": true,
           "showland": true,
           "subunitcolor": "white"
          },
          "hoverlabel": {
           "align": "left"
          },
          "hovermode": "closest",
          "mapbox": {
           "style": "light"
          },
          "paper_bgcolor": "white",
          "plot_bgcolor": "#E5ECF6",
          "polar": {
           "angularaxis": {
            "gridcolor": "white",
            "linecolor": "white",
            "ticks": ""
           },
           "bgcolor": "#E5ECF6",
           "radialaxis": {
            "gridcolor": "white",
            "linecolor": "white",
            "ticks": ""
           }
          },
          "scene": {
           "xaxis": {
            "backgroundcolor": "#E5ECF6",
            "gridcolor": "white",
            "gridwidth": 2,
            "linecolor": "white",
            "showbackground": true,
            "ticks": "",
            "zerolinecolor": "white"
           },
           "yaxis": {
            "backgroundcolor": "#E5ECF6",
            "gridcolor": "white",
            "gridwidth": 2,
            "linecolor": "white",
            "showbackground": true,
            "ticks": "",
            "zerolinecolor": "white"
           },
           "zaxis": {
            "backgroundcolor": "#E5ECF6",
            "gridcolor": "white",
            "gridwidth": 2,
            "linecolor": "white",
            "showbackground": true,
            "ticks": "",
            "zerolinecolor": "white"
           }
          },
          "shapedefaults": {
           "line": {
            "color": "#2a3f5f"
           }
          },
          "ternary": {
           "aaxis": {
            "gridcolor": "white",
            "linecolor": "white",
            "ticks": ""
           },
           "baxis": {
            "gridcolor": "white",
            "linecolor": "white",
            "ticks": ""
           },
           "bgcolor": "#E5ECF6",
           "caxis": {
            "gridcolor": "white",
            "linecolor": "white",
            "ticks": ""
           }
          },
          "title": {
           "x": 0.05
          },
          "xaxis": {
           "automargin": true,
           "gridcolor": "white",
           "linecolor": "white",
           "ticks": "",
           "title": {
            "standoff": 15
           },
           "zerolinecolor": "white",
           "zerolinewidth": 2
          },
          "yaxis": {
           "automargin": true,
           "gridcolor": "white",
           "linecolor": "white",
           "ticks": "",
           "title": {
            "standoff": 15
           },
           "zerolinecolor": "white",
           "zerolinewidth": 2
          }
         }
        },
        "title": {
         "text": "Histograms of 2016 donor counts"
        },
        "xaxis": {
         "anchor": "y",
         "domain": [
          0,
          0.45
         ],
         "title": {
          "text": "Total donor counts"
         }
        },
        "xaxis2": {
         "anchor": "y2",
         "domain": [
          0.55,
          1
         ],
         "title": {
          "text": "Donor counts per mil"
         }
        },
        "yaxis": {
         "anchor": "x",
         "domain": [
          0,
          1
         ]
        },
        "yaxis2": {
         "anchor": "x2",
         "domain": [
          0,
          1
         ]
        }
       }
      }
     },
     "metadata": {},
     "output_type": "display_data"
    }
   ],
   "source": [
    "organs_2016 = organs_clean[organs_clean[\"year\"] == 2016]\n",
    "countries_top_20_2016 = organs_2016.set_index(\"country\")[\"total_deceased_donors_imputed\"] \\\n",
    "    .sort_values(ascending=False) \\\n",
    "    .head(20)\n",
    "countries_top_20_2016_per_mil = organs_2016.set_index(\"country\")[\"total_deceased_donors_imputed_per_mil\"] \\\n",
    "    .sort_values(ascending=False) \\\n",
    "    .head(20)\n",
    "\n",
    "fig = make_subplots(rows=1, cols=2)\n",
    "fig.add_trace(\n",
    "    go.Bar(x=countries_top_20_2016.index, y=countries_top_20_2016, name=\"Total donor counts\"),\n",
    "    row=1, col=1)\n",
    "fig.add_trace(\n",
    "    go.Bar(x=countries_top_20_2016_per_mil.index, y=countries_top_20_2016_per_mil, name=\"Donor counts per mil\"),\n",
    "    row=1, col=2)\n",
    "# add axes\n",
    "fig.update_layout(\n",
    "    title_text=\"Histograms of 2016 donor counts\",\n",
    "    xaxis1_title_text=\"Total donor counts\",\n",
    "    xaxis2_title_text=\"Donor counts per mil\",\n",
    "    showlegend=False,\n",
    ")\n",
    "fig.show()"
   ]
  },
  {
   "attachments": {},
   "cell_type": "markdown",
   "metadata": {},
   "source": [
    "#### Stability to a data visualization judgment call\n",
    "\n",
    "Since this result is unlikely to change due to data perturbations and imputation judgment calls, let's conduct a brief stability analysis evaluating whether our conclusions change if we use a different visualization technique to look at the data. \n",
    "\n",
    "The figure below shows a heatmap of the organ donation rate for each country for each year (the rows are arranged in order of the 2017 rate). From this figure it is still very clear that Spain is a world leader in organ donations!\n"
   ]
  },
  {
   "cell_type": "code",
   "execution_count": 18,
   "metadata": {},
   "outputs": [
    {
     "data": {
      "application/vnd.plotly.v1+json": {
       "config": {
        "plotlyServerURL": "https://plot.ly"
       },
       "data": [
        {
         "coloraxis": "coloraxis",
         "hovertemplate": "year: %{x}<br>country: %{y}<br>color: %{z}<extra></extra>",
         "name": "0",
         "type": "heatmap",
         "x": [
          "year_2000",
          "year_2001",
          "year_2002",
          "year_2003",
          "year_2004",
          "year_2005",
          "year_2006",
          "year_2007",
          "year_2008",
          "year_2009",
          "year_2010",
          "year_2011",
          "year_2012",
          "year_2013",
          "year_2014",
          "year_2015",
          "year_2016",
          "year_2017"
         ],
         "xaxis": "x",
         "y": [
          "Spain",
          "Portugal",
          "Croatia",
          "United States of America",
          "Belgium",
          "Malta",
          "France",
          "Italy",
          "Czech Republic",
          "Austria",
          "Belarus",
          "United Kingdom",
          "Canada",
          "Norway",
          "Finland",
          "Australia",
          "Ireland",
          "Slovenia",
          "Iceland",
          "Sweden"
         ],
         "yaxis": "y",
         "z": {
          "bdata": "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",
          "dtype": "f8",
          "shape": "20, 18"
         }
        }
       ],
       "layout": {
        "coloraxis": {
         "colorscale": [
          [
           0,
           "rgb(255,255,255)"
          ],
          [
           0.125,
           "rgb(240,240,240)"
          ],
          [
           0.25,
           "rgb(217,217,217)"
          ],
          [
           0.375,
           "rgb(189,189,189)"
          ],
          [
           0.5,
           "rgb(150,150,150)"
          ],
          [
           0.625,
           "rgb(115,115,115)"
          ],
          [
           0.75,
           "rgb(82,82,82)"
          ],
          [
           0.875,
           "rgb(37,37,37)"
          ],
          [
           1,
           "rgb(0,0,0)"
          ]
         ]
        },
        "margin": {
         "t": 60
        },
        "template": {
         "data": {
          "bar": [
           {
            "error_x": {
             "color": "#2a3f5f"
            },
            "error_y": {
             "color": "#2a3f5f"
            },
            "marker": {
             "line": {
              "color": "#E5ECF6",
              "width": 0.5
             },
             "pattern": {
              "fillmode": "overlay",
              "size": 10,
              "solidity": 0.2
             }
            },
            "type": "bar"
           }
          ],
          "barpolar": [
           {
            "marker": {
             "line": {
              "color": "#E5ECF6",
              "width": 0.5
             },
             "pattern": {
              "fillmode": "overlay",
              "size": 10,
              "solidity": 0.2
             }
            },
            "type": "barpolar"
           }
          ],
          "carpet": [
           {
            "aaxis": {
             "endlinecolor": "#2a3f5f",
             "gridcolor": "white",
             "linecolor": "white",
             "minorgridcolor": "white",
             "startlinecolor": "#2a3f5f"
            },
            "baxis": {
             "endlinecolor": "#2a3f5f",
             "gridcolor": "white",
             "linecolor": "white",
             "minorgridcolor": "white",
             "startlinecolor": "#2a3f5f"
            },
            "type": "carpet"
           }
          ],
          "choropleth": [
           {
            "colorbar": {
             "outlinewidth": 0,
             "ticks": ""
            },
            "type": "choropleth"
           }
          ],
          "contour": [
           {
            "colorbar": {
             "outlinewidth": 0,
             "ticks": ""
            },
            "colorscale": [
             [
              0,
              "#0d0887"
             ],
             [
              0.1111111111111111,
              "#46039f"
             ],
             [
              0.2222222222222222,
              "#7201a8"
             ],
             [
              0.3333333333333333,
              "#9c179e"
             ],
             [
              0.4444444444444444,
              "#bd3786"
             ],
             [
              0.5555555555555556,
              "#d8576b"
             ],
             [
              0.6666666666666666,
              "#ed7953"
             ],
             [
              0.7777777777777778,
              "#fb9f3a"
             ],
             [
              0.8888888888888888,
              "#fdca26"
             ],
             [
              1,
              "#f0f921"
             ]
            ],
            "type": "contour"
           }
          ],
          "contourcarpet": [
           {
            "colorbar": {
             "outlinewidth": 0,
             "ticks": ""
            },
            "type": "contourcarpet"
           }
          ],
          "heatmap": [
           {
            "colorbar": {
             "outlinewidth": 0,
             "ticks": ""
            },
            "colorscale": [
             [
              0,
              "#0d0887"
             ],
             [
              0.1111111111111111,
              "#46039f"
             ],
             [
              0.2222222222222222,
              "#7201a8"
             ],
             [
              0.3333333333333333,
              "#9c179e"
             ],
             [
              0.4444444444444444,
              "#bd3786"
             ],
             [
              0.5555555555555556,
              "#d8576b"
             ],
             [
              0.6666666666666666,
              "#ed7953"
             ],
             [
              0.7777777777777778,
              "#fb9f3a"
             ],
             [
              0.8888888888888888,
              "#fdca26"
             ],
             [
              1,
              "#f0f921"
             ]
            ],
            "type": "heatmap"
           }
          ],
          "histogram": [
           {
            "marker": {
             "pattern": {
              "fillmode": "overlay",
              "size": 10,
              "solidity": 0.2
             }
            },
            "type": "histogram"
           }
          ],
          "histogram2d": [
           {
            "colorbar": {
             "outlinewidth": 0,
             "ticks": ""
            },
            "colorscale": [
             [
              0,
              "#0d0887"
             ],
             [
              0.1111111111111111,
              "#46039f"
             ],
             [
              0.2222222222222222,
              "#7201a8"
             ],
             [
              0.3333333333333333,
              "#9c179e"
             ],
             [
              0.4444444444444444,
              "#bd3786"
             ],
             [
              0.5555555555555556,
              "#d8576b"
             ],
             [
              0.6666666666666666,
              "#ed7953"
             ],
             [
              0.7777777777777778,
              "#fb9f3a"
             ],
             [
              0.8888888888888888,
              "#fdca26"
             ],
             [
              1,
              "#f0f921"
             ]
            ],
            "type": "histogram2d"
           }
          ],
          "histogram2dcontour": [
           {
            "colorbar": {
             "outlinewidth": 0,
             "ticks": ""
            },
            "colorscale": [
             [
              0,
              "#0d0887"
             ],
             [
              0.1111111111111111,
              "#46039f"
             ],
             [
              0.2222222222222222,
              "#7201a8"
             ],
             [
              0.3333333333333333,
              "#9c179e"
             ],
             [
              0.4444444444444444,
              "#bd3786"
             ],
             [
              0.5555555555555556,
              "#d8576b"
             ],
             [
              0.6666666666666666,
              "#ed7953"
             ],
             [
              0.7777777777777778,
              "#fb9f3a"
             ],
             [
              0.8888888888888888,
              "#fdca26"
             ],
             [
              1,
              "#f0f921"
             ]
            ],
            "type": "histogram2dcontour"
           }
          ],
          "mesh3d": [
           {
            "colorbar": {
             "outlinewidth": 0,
             "ticks": ""
            },
            "type": "mesh3d"
           }
          ],
          "parcoords": [
           {
            "line": {
             "colorbar": {
              "outlinewidth": 0,
              "ticks": ""
             }
            },
            "type": "parcoords"
           }
          ],
          "pie": [
           {
            "automargin": true,
            "type": "pie"
           }
          ],
          "scatter": [
           {
            "fillpattern": {
             "fillmode": "overlay",
             "size": 10,
             "solidity": 0.2
            },
            "type": "scatter"
           }
          ],
          "scatter3d": [
           {
            "line": {
             "colorbar": {
              "outlinewidth": 0,
              "ticks": ""
             }
            },
            "marker": {
             "colorbar": {
              "outlinewidth": 0,
              "ticks": ""
             }
            },
            "type": "scatter3d"
           }
          ],
          "scattercarpet": [
           {
            "marker": {
             "colorbar": {
              "outlinewidth": 0,
              "ticks": ""
             }
            },
            "type": "scattercarpet"
           }
          ],
          "scattergeo": [
           {
            "marker": {
             "colorbar": {
              "outlinewidth": 0,
              "ticks": ""
             }
            },
            "type": "scattergeo"
           }
          ],
          "scattergl": [
           {
            "marker": {
             "colorbar": {
              "outlinewidth": 0,
              "ticks": ""
             }
            },
            "type": "scattergl"
           }
          ],
          "scattermap": [
           {
            "marker": {
             "colorbar": {
              "outlinewidth": 0,
              "ticks": ""
             }
            },
            "type": "scattermap"
           }
          ],
          "scattermapbox": [
           {
            "marker": {
             "colorbar": {
              "outlinewidth": 0,
              "ticks": ""
             }
            },
            "type": "scattermapbox"
           }
          ],
          "scatterpolar": [
           {
            "marker": {
             "colorbar": {
              "outlinewidth": 0,
              "ticks": ""
             }
            },
            "type": "scatterpolar"
           }
          ],
          "scatterpolargl": [
           {
            "marker": {
             "colorbar": {
              "outlinewidth": 0,
              "ticks": ""
             }
            },
            "type": "scatterpolargl"
           }
          ],
          "scatterternary": [
           {
            "marker": {
             "colorbar": {
              "outlinewidth": 0,
              "ticks": ""
             }
            },
            "type": "scatterternary"
           }
          ],
          "surface": [
           {
            "colorbar": {
             "outlinewidth": 0,
             "ticks": ""
            },
            "colorscale": [
             [
              0,
              "#0d0887"
             ],
             [
              0.1111111111111111,
              "#46039f"
             ],
             [
              0.2222222222222222,
              "#7201a8"
             ],
             [
              0.3333333333333333,
              "#9c179e"
             ],
             [
              0.4444444444444444,
              "#bd3786"
             ],
             [
              0.5555555555555556,
              "#d8576b"
             ],
             [
              0.6666666666666666,
              "#ed7953"
             ],
             [
              0.7777777777777778,
              "#fb9f3a"
             ],
             [
              0.8888888888888888,
              "#fdca26"
             ],
             [
              1,
              "#f0f921"
             ]
            ],
            "type": "surface"
           }
          ],
          "table": [
           {
            "cells": {
             "fill": {
              "color": "#EBF0F8"
             },
             "line": {
              "color": "white"
             }
            },
            "header": {
             "fill": {
              "color": "#C8D4E3"
             },
             "line": {
              "color": "white"
             }
            },
            "type": "table"
           }
          ]
         },
         "layout": {
          "annotationdefaults": {
           "arrowcolor": "#2a3f5f",
           "arrowhead": 0,
           "arrowwidth": 1
          },
          "autotypenumbers": "strict",
          "coloraxis": {
           "colorbar": {
            "outlinewidth": 0,
            "ticks": ""
           }
          },
          "colorscale": {
           "diverging": [
            [
             0,
             "#8e0152"
            ],
            [
             0.1,
             "#c51b7d"
            ],
            [
             0.2,
             "#de77ae"
            ],
            [
             0.3,
             "#f1b6da"
            ],
            [
             0.4,
             "#fde0ef"
            ],
            [
             0.5,
             "#f7f7f7"
            ],
            [
             0.6,
             "#e6f5d0"
            ],
            [
             0.7,
             "#b8e186"
            ],
            [
             0.8,
             "#7fbc41"
            ],
            [
             0.9,
             "#4d9221"
            ],
            [
             1,
             "#276419"
            ]
           ],
           "sequential": [
            [
             0,
             "#0d0887"
            ],
            [
             0.1111111111111111,
             "#46039f"
            ],
            [
             0.2222222222222222,
             "#7201a8"
            ],
            [
             0.3333333333333333,
             "#9c179e"
            ],
            [
             0.4444444444444444,
             "#bd3786"
            ],
            [
             0.5555555555555556,
             "#d8576b"
            ],
            [
             0.6666666666666666,
             "#ed7953"
            ],
            [
             0.7777777777777778,
             "#fb9f3a"
            ],
            [
             0.8888888888888888,
             "#fdca26"
            ],
            [
             1,
             "#f0f921"
            ]
           ],
           "sequentialminus": [
            [
             0,
             "#0d0887"
            ],
            [
             0.1111111111111111,
             "#46039f"
            ],
            [
             0.2222222222222222,
             "#7201a8"
            ],
            [
             0.3333333333333333,
             "#9c179e"
            ],
            [
             0.4444444444444444,
             "#bd3786"
            ],
            [
             0.5555555555555556,
             "#d8576b"
            ],
            [
             0.6666666666666666,
             "#ed7953"
            ],
            [
             0.7777777777777778,
             "#fb9f3a"
            ],
            [
             0.8888888888888888,
             "#fdca26"
            ],
            [
             1,
             "#f0f921"
            ]
           ]
          },
          "colorway": [
           "#636efa",
           "#EF553B",
           "#00cc96",
           "#ab63fa",
           "#FFA15A",
           "#19d3f3",
           "#FF6692",
           "#B6E880",
           "#FF97FF",
           "#FECB52"
          ],
          "font": {
           "color": "#2a3f5f"
          },
          "geo": {
           "bgcolor": "white",
           "lakecolor": "white",
           "landcolor": "#E5ECF6",
           "showlakes": true,
           "showland": true,
           "subunitcolor": "white"
          },
          "hoverlabel": {
           "align": "left"
          },
          "hovermode": "closest",
          "mapbox": {
           "style": "light"
          },
          "paper_bgcolor": "white",
          "plot_bgcolor": "#E5ECF6",
          "polar": {
           "angularaxis": {
            "gridcolor": "white",
            "linecolor": "white",
            "ticks": ""
           },
           "bgcolor": "#E5ECF6",
           "radialaxis": {
            "gridcolor": "white",
            "linecolor": "white",
            "ticks": ""
           }
          },
          "scene": {
           "xaxis": {
            "backgroundcolor": "#E5ECF6",
            "gridcolor": "white",
            "gridwidth": 2,
            "linecolor": "white",
            "showbackground": true,
            "ticks": "",
            "zerolinecolor": "white"
           },
           "yaxis": {
            "backgroundcolor": "#E5ECF6",
            "gridcolor": "white",
            "gridwidth": 2,
            "linecolor": "white",
            "showbackground": true,
            "ticks": "",
            "zerolinecolor": "white"
           },
           "zaxis": {
            "backgroundcolor": "#E5ECF6",
            "gridcolor": "white",
            "gridwidth": 2,
            "linecolor": "white",
            "showbackground": true,
            "ticks": "",
            "zerolinecolor": "white"
           }
          },
          "shapedefaults": {
           "line": {
            "color": "#2a3f5f"
           }
          },
          "ternary": {
           "aaxis": {
            "gridcolor": "white",
            "linecolor": "white",
            "ticks": ""
           },
           "baxis": {
            "gridcolor": "white",
            "linecolor": "white",
            "ticks": ""
           },
           "bgcolor": "#E5ECF6",
           "caxis": {
            "gridcolor": "white",
            "linecolor": "white",
            "ticks": ""
           }
          },
          "title": {
           "x": 0.05
          },
          "xaxis": {
           "automargin": true,
           "gridcolor": "white",
           "linecolor": "white",
           "ticks": "",
           "title": {
            "standoff": 15
           },
           "zerolinecolor": "white",
           "zerolinewidth": 2
          },
          "yaxis": {
           "automargin": true,
           "gridcolor": "white",
           "linecolor": "white",
           "ticks": "",
           "title": {
            "standoff": 15
           },
           "zerolinecolor": "white",
           "zerolinewidth": 2
          }
         }
        },
        "xaxis": {
         "anchor": "y",
         "constrain": "domain",
         "domain": [
          0,
          1
         ],
         "scaleanchor": "y",
         "title": {
          "text": "year"
         }
        },
        "yaxis": {
         "anchor": "x",
         "autorange": "reversed",
         "constrain": "domain",
         "domain": [
          0,
          1
         ],
         "title": {
          "text": "country"
         }
        }
       }
      }
     },
     "metadata": {},
     "output_type": "display_data"
    }
   ],
   "source": [
    "# extract the names of the top 20 countries from 2017\n",
    "countries_top_2017 = countries_top_20_2017_per_mil.index\n",
    "# filter the organs_clean data (all years) to these top 20 countries\n",
    "organs_top_countries = organs_clean.query('country in @countries_top_2017').copy()\n",
    "# add the word \"year\" to the year column so that we can use it as a variable name later\n",
    "organs_top_countries[\"year\"] = \"year_\" + organs_top_countries[\"year\"].astype(str)\n",
    "# select just the three columns: year, country, total_deceased_donors_imputed_per_mil\n",
    "organs_top_countries_per_mil = organs_top_countries[[\"year\", \"country\", \"total_deceased_donors_imputed_per_mil\"]]\n",
    "# spread the data across year\n",
    "organs_top_countries_per_mil_wide = (organs_top_countries_per_mil.pivot(\n",
    "    index=\"country\", \n",
    "    columns=\"year\", \n",
    "    values=\"total_deceased_donors_imputed_per_mil\"\n",
    "  ).sort_values(\"year_2017\", ascending=False))\n",
    "px.imshow(organs_top_countries_per_mil_wide, color_continuous_scale=\"Greys\")"
   ]
  },
  {
   "attachments": {},
   "cell_type": "markdown",
   "metadata": {},
   "source": [
    "### Creating an explanatory figure\n",
    "\n",
    "\n",
    "Let's turn this 2017 donor rates per million figure into a nice explanatory figure that we can use to show people Spain's donor rate. \n",
    "\n",
    "\n",
    "All we will do is clean up the plot by removing the background, tidying the axis names, and highlighting Spain. \n"
   ]
  },
  {
   "cell_type": "code",
   "execution_count": 19,
   "metadata": {},
   "outputs": [
    {
     "data": {
      "application/vnd.plotly.v1+json": {
       "config": {
        "plotlyServerURL": "https://plot.ly"
       },
       "data": [
        {
         "hovertemplate": "Spain=True<br>=%{x}<br>Organ donations per million=%{y}<extra></extra>",
         "legendgroup": "True",
         "marker": {
          "color": "orange",
          "pattern": {
           "shape": ""
          }
         },
         "name": "True",
         "orientation": "v",
         "showlegend": true,
         "textposition": "auto",
         "type": "bar",
         "x": [
          "Spain"
         ],
         "xaxis": "x",
         "y": {
          "bdata": "oO43nxGGR0A=",
          "dtype": "f8"
         },
         "yaxis": "y"
        },
        {
         "hovertemplate": "Spain=False<br>=%{x}<br>Organ donations per million=%{y}<extra></extra>",
         "legendgroup": "False",
         "marker": {
          "color": "grey",
          "pattern": {
           "shape": ""
          }
         },
         "name": "False",
         "orientation": "v",
         "showlegend": true,
         "textposition": "auto",
         "type": "bar",
         "x": [
          "Portugal",
          "Croatia",
          "United States of America",
          "Belgium",
          "Malta",
          "France",
          "Italy",
          "Czech Republic",
          "Austria",
          "Belarus",
          "United Kingdom",
          "Canada",
          "Norway",
          "Finland",
          "Australia",
          "Ireland",
          "Slovenia",
          "Iceland",
          "Sweden"
         ],
         "xaxis": "x",
         "y": {
          "bdata": "/3id+vAJQUBUJhdoqqpAQAJrbeuvsj9AuFLCdLyGPkATQrYV+/89QP0IEMkLvT1Awq9Pl+/aPEBaT71ommA5QN02ceKVezhAyGNpuzWUN0Bf7vPmqok2QNFEigme6TVAmNI+jwTjNUAz5tPVXHQ1QJuiRrj60DRA9RDpt/+fNEANj+P65nk0QCfNhaH7/zNALM5vFdlkM0A=",
          "dtype": "f8"
         },
         "yaxis": "y"
        }
       ],
       "layout": {
        "barmode": "relative",
        "font": {
         "family": "Arial"
        },
        "legend": {
         "title": {
          "text": "Spain"
         },
         "tracegroupgap": 0
        },
        "showlegend": false,
        "template": {
         "data": {
          "bar": [
           {
            "error_x": {
             "color": "#2a3f5f"
            },
            "error_y": {
             "color": "#2a3f5f"
            },
            "marker": {
             "line": {
              "color": "#E5ECF6",
              "width": 0.5
             },
             "pattern": {
              "fillmode": "overlay",
              "size": 10,
              "solidity": 0.2
             }
            },
            "type": "bar"
           }
          ],
          "barpolar": [
           {
            "marker": {
             "line": {
              "color": "#E5ECF6",
              "width": 0.5
             },
             "pattern": {
              "fillmode": "overlay",
              "size": 10,
              "solidity": 0.2
             }
            },
            "type": "barpolar"
           }
          ],
          "carpet": [
           {
            "aaxis": {
             "endlinecolor": "#2a3f5f",
             "gridcolor": "white",
             "linecolor": "white",
             "minorgridcolor": "white",
             "startlinecolor": "#2a3f5f"
            },
            "baxis": {
             "endlinecolor": "#2a3f5f",
             "gridcolor": "white",
             "linecolor": "white",
             "minorgridcolor": "white",
             "startlinecolor": "#2a3f5f"
            },
            "type": "carpet"
           }
          ],
          "choropleth": [
           {
            "colorbar": {
             "outlinewidth": 0,
             "ticks": ""
            },
            "type": "choropleth"
           }
          ],
          "contour": [
           {
            "colorbar": {
             "outlinewidth": 0,
             "ticks": ""
            },
            "colorscale": [
             [
              0,
              "#0d0887"
             ],
             [
              0.1111111111111111,
              "#46039f"
             ],
             [
              0.2222222222222222,
              "#7201a8"
             ],
             [
              0.3333333333333333,
              "#9c179e"
             ],
             [
              0.4444444444444444,
              "#bd3786"
             ],
             [
              0.5555555555555556,
              "#d8576b"
             ],
             [
              0.6666666666666666,
              "#ed7953"
             ],
             [
              0.7777777777777778,
              "#fb9f3a"
             ],
             [
              0.8888888888888888,
              "#fdca26"
             ],
             [
              1,
              "#f0f921"
             ]
            ],
            "type": "contour"
           }
          ],
          "contourcarpet": [
           {
            "colorbar": {
             "outlinewidth": 0,
             "ticks": ""
            },
            "type": "contourcarpet"
           }
          ],
          "heatmap": [
           {
            "colorbar": {
             "outlinewidth": 0,
             "ticks": ""
            },
            "colorscale": [
             [
              0,
              "#0d0887"
             ],
             [
              0.1111111111111111,
              "#46039f"
             ],
             [
              0.2222222222222222,
              "#7201a8"
             ],
             [
              0.3333333333333333,
              "#9c179e"
             ],
             [
              0.4444444444444444,
              "#bd3786"
             ],
             [
              0.5555555555555556,
              "#d8576b"
             ],
             [
              0.6666666666666666,
              "#ed7953"
             ],
             [
              0.7777777777777778,
              "#fb9f3a"
             ],
             [
              0.8888888888888888,
              "#fdca26"
             ],
             [
              1,
              "#f0f921"
             ]
            ],
            "type": "heatmap"
           }
          ],
          "histogram": [
           {
            "marker": {
             "pattern": {
              "fillmode": "overlay",
              "size": 10,
              "solidity": 0.2
             }
            },
            "type": "histogram"
           }
          ],
          "histogram2d": [
           {
            "colorbar": {
             "outlinewidth": 0,
             "ticks": ""
            },
            "colorscale": [
             [
              0,
              "#0d0887"
             ],
             [
              0.1111111111111111,
              "#46039f"
             ],
             [
              0.2222222222222222,
              "#7201a8"
             ],
             [
              0.3333333333333333,
              "#9c179e"
             ],
             [
              0.4444444444444444,
              "#bd3786"
             ],
             [
              0.5555555555555556,
              "#d8576b"
             ],
             [
              0.6666666666666666,
              "#ed7953"
             ],
             [
              0.7777777777777778,
              "#fb9f3a"
             ],
             [
              0.8888888888888888,
              "#fdca26"
             ],
             [
              1,
              "#f0f921"
             ]
            ],
            "type": "histogram2d"
           }
          ],
          "histogram2dcontour": [
           {
            "colorbar": {
             "outlinewidth": 0,
             "ticks": ""
            },
            "colorscale": [
             [
              0,
              "#0d0887"
             ],
             [
              0.1111111111111111,
              "#46039f"
             ],
             [
              0.2222222222222222,
              "#7201a8"
             ],
             [
              0.3333333333333333,
              "#9c179e"
             ],
             [
              0.4444444444444444,
              "#bd3786"
             ],
             [
              0.5555555555555556,
              "#d8576b"
             ],
             [
              0.6666666666666666,
              "#ed7953"
             ],
             [
              0.7777777777777778,
              "#fb9f3a"
             ],
             [
              0.8888888888888888,
              "#fdca26"
             ],
             [
              1,
              "#f0f921"
             ]
            ],
            "type": "histogram2dcontour"
           }
          ],
          "mesh3d": [
           {
            "colorbar": {
             "outlinewidth": 0,
             "ticks": ""
            },
            "type": "mesh3d"
           }
          ],
          "parcoords": [
           {
            "line": {
             "colorbar": {
              "outlinewidth": 0,
              "ticks": ""
             }
            },
            "type": "parcoords"
           }
          ],
          "pie": [
           {
            "automargin": true,
            "type": "pie"
           }
          ],
          "scatter": [
           {
            "fillpattern": {
             "fillmode": "overlay",
             "size": 10,
             "solidity": 0.2
            },
            "type": "scatter"
           }
          ],
          "scatter3d": [
           {
            "line": {
             "colorbar": {
              "outlinewidth": 0,
              "ticks": ""
             }
            },
            "marker": {
             "colorbar": {
              "outlinewidth": 0,
              "ticks": ""
             }
            },
            "type": "scatter3d"
           }
          ],
          "scattercarpet": [
           {
            "marker": {
             "colorbar": {
              "outlinewidth": 0,
              "ticks": ""
             }
            },
            "type": "scattercarpet"
           }
          ],
          "scattergeo": [
           {
            "marker": {
             "colorbar": {
              "outlinewidth": 0,
              "ticks": ""
             }
            },
            "type": "scattergeo"
           }
          ],
          "scattergl": [
           {
            "marker": {
             "colorbar": {
              "outlinewidth": 0,
              "ticks": ""
             }
            },
            "type": "scattergl"
           }
          ],
          "scattermap": [
           {
            "marker": {
             "colorbar": {
              "outlinewidth": 0,
              "ticks": ""
             }
            },
            "type": "scattermap"
           }
          ],
          "scattermapbox": [
           {
            "marker": {
             "colorbar": {
              "outlinewidth": 0,
              "ticks": ""
             }
            },
            "type": "scattermapbox"
           }
          ],
          "scatterpolar": [
           {
            "marker": {
             "colorbar": {
              "outlinewidth": 0,
              "ticks": ""
             }
            },
            "type": "scatterpolar"
           }
          ],
          "scatterpolargl": [
           {
            "marker": {
             "colorbar": {
              "outlinewidth": 0,
              "ticks": ""
             }
            },
            "type": "scatterpolargl"
           }
          ],
          "scatterternary": [
           {
            "marker": {
             "colorbar": {
              "outlinewidth": 0,
              "ticks": ""
             }
            },
            "type": "scatterternary"
           }
          ],
          "surface": [
           {
            "colorbar": {
             "outlinewidth": 0,
             "ticks": ""
            },
            "colorscale": [
             [
              0,
              "#0d0887"
             ],
             [
              0.1111111111111111,
              "#46039f"
             ],
             [
              0.2222222222222222,
              "#7201a8"
             ],
             [
              0.3333333333333333,
              "#9c179e"
             ],
             [
              0.4444444444444444,
              "#bd3786"
             ],
             [
              0.5555555555555556,
              "#d8576b"
             ],
             [
              0.6666666666666666,
              "#ed7953"
             ],
             [
              0.7777777777777778,
              "#fb9f3a"
             ],
             [
              0.8888888888888888,
              "#fdca26"
             ],
             [
              1,
              "#f0f921"
             ]
            ],
            "type": "surface"
           }
          ],
          "table": [
           {
            "cells": {
             "fill": {
              "color": "#EBF0F8"
             },
             "line": {
              "color": "white"
             }
            },
            "header": {
             "fill": {
              "color": "#C8D4E3"
             },
             "line": {
              "color": "white"
             }
            },
            "type": "table"
           }
          ]
         },
         "layout": {
          "annotationdefaults": {
           "arrowcolor": "#2a3f5f",
           "arrowhead": 0,
           "arrowwidth": 1
          },
          "autotypenumbers": "strict",
          "coloraxis": {
           "colorbar": {
            "outlinewidth": 0,
            "ticks": ""
           }
          },
          "colorscale": {
           "diverging": [
            [
             0,
             "#8e0152"
            ],
            [
             0.1,
             "#c51b7d"
            ],
            [
             0.2,
             "#de77ae"
            ],
            [
             0.3,
             "#f1b6da"
            ],
            [
             0.4,
             "#fde0ef"
            ],
            [
             0.5,
             "#f7f7f7"
            ],
            [
             0.6,
             "#e6f5d0"
            ],
            [
             0.7,
             "#b8e186"
            ],
            [
             0.8,
             "#7fbc41"
            ],
            [
             0.9,
             "#4d9221"
            ],
            [
             1,
             "#276419"
            ]
           ],
           "sequential": [
            [
             0,
             "#0d0887"
            ],
            [
             0.1111111111111111,
             "#46039f"
            ],
            [
             0.2222222222222222,
             "#7201a8"
            ],
            [
             0.3333333333333333,
             "#9c179e"
            ],
            [
             0.4444444444444444,
             "#bd3786"
            ],
            [
             0.5555555555555556,
             "#d8576b"
            ],
            [
             0.6666666666666666,
             "#ed7953"
            ],
            [
             0.7777777777777778,
             "#fb9f3a"
            ],
            [
             0.8888888888888888,
             "#fdca26"
            ],
            [
             1,
             "#f0f921"
            ]
           ],
           "sequentialminus": [
            [
             0,
             "#0d0887"
            ],
            [
             0.1111111111111111,
             "#46039f"
            ],
            [
             0.2222222222222222,
             "#7201a8"
            ],
            [
             0.3333333333333333,
             "#9c179e"
            ],
            [
             0.4444444444444444,
             "#bd3786"
            ],
            [
             0.5555555555555556,
             "#d8576b"
            ],
            [
             0.6666666666666666,
             "#ed7953"
            ],
            [
             0.7777777777777778,
             "#fb9f3a"
            ],
            [
             0.8888888888888888,
             "#fdca26"
            ],
            [
             1,
             "#f0f921"
            ]
           ]
          },
          "colorway": [
           "#636efa",
           "#EF553B",
           "#00cc96",
           "#ab63fa",
           "#FFA15A",
           "#19d3f3",
           "#FF6692",
           "#B6E880",
           "#FF97FF",
           "#FECB52"
          ],
          "font": {
           "color": "#2a3f5f"
          },
          "geo": {
           "bgcolor": "white",
           "lakecolor": "white",
           "landcolor": "#E5ECF6",
           "showlakes": true,
           "showland": true,
           "subunitcolor": "white"
          },
          "hoverlabel": {
           "align": "left"
          },
          "hovermode": "closest",
          "mapbox": {
           "style": "light"
          },
          "paper_bgcolor": "white",
          "plot_bgcolor": "#E5ECF6",
          "polar": {
           "angularaxis": {
            "gridcolor": "white",
            "linecolor": "white",
            "ticks": ""
           },
           "bgcolor": "#E5ECF6",
           "radialaxis": {
            "gridcolor": "white",
            "linecolor": "white",
            "ticks": ""
           }
          },
          "scene": {
           "xaxis": {
            "backgroundcolor": "#E5ECF6",
            "gridcolor": "white",
            "gridwidth": 2,
            "linecolor": "white",
            "showbackground": true,
            "ticks": "",
            "zerolinecolor": "white"
           },
           "yaxis": {
            "backgroundcolor": "#E5ECF6",
            "gridcolor": "white",
            "gridwidth": 2,
            "linecolor": "white",
            "showbackground": true,
            "ticks": "",
            "zerolinecolor": "white"
           },
           "zaxis": {
            "backgroundcolor": "#E5ECF6",
            "gridcolor": "white",
            "gridwidth": 2,
            "linecolor": "white",
            "showbackground": true,
            "ticks": "",
            "zerolinecolor": "white"
           }
          },
          "shapedefaults": {
           "line": {
            "color": "#2a3f5f"
           }
          },
          "ternary": {
           "aaxis": {
            "gridcolor": "white",
            "linecolor": "white",
            "ticks": ""
           },
           "baxis": {
            "gridcolor": "white",
            "linecolor": "white",
            "ticks": ""
           },
           "bgcolor": "#E5ECF6",
           "caxis": {
            "gridcolor": "white",
            "linecolor": "white",
            "ticks": ""
           }
          },
          "title": {
           "x": 0.05
          },
          "xaxis": {
           "automargin": true,
           "gridcolor": "white",
           "linecolor": "white",
           "ticks": "",
           "title": {
            "standoff": 15
           },
           "zerolinecolor": "white",
           "zerolinewidth": 2
          },
          "yaxis": {
           "automargin": true,
           "gridcolor": "white",
           "linecolor": "white",
           "ticks": "",
           "title": {
            "standoff": 15
           },
           "zerolinecolor": "white",
           "zerolinewidth": 2
          }
         }
        },
        "title": {
         "text": "Organ donation rates per million in 2017 (for the top 20 countries)"
        },
        "xaxis": {
         "anchor": "y",
         "domain": [
          0,
          1
         ],
         "tickangle": -90,
         "title": {
          "text": ""
         }
        },
        "yaxis": {
         "anchor": "x",
         "domain": [
          0,
          1
         ],
         "title": {
          "text": "Organ donations per million"
         }
        }
       }
      }
     },
     "metadata": {},
     "output_type": "display_data"
    }
   ],
   "source": [
    "# convert the series to a data frame\n",
    "countries_top_20_2017_per_mil_df = (countries_top_20_2017_per_mil.to_frame(name = \"donors_per_mil\")\n",
    "                                                                 .reset_index())\n",
    "# add a boolean column for identifying which entry corresponds to Spain (to use for color later)\n",
    "countries_top_20_2017_per_mil_df[\"Spain\"] = countries_top_20_2017_per_mil_df[\"country\"] == \"Spain\"\n",
    "# create bar chart\n",
    "bar_2017 = px.bar(countries_top_20_2017_per_mil_df, \n",
    "                  x=\"country\", \n",
    "                  y=\"donors_per_mil\", \n",
    "                  color = \"Spain\",\n",
    "                  color_discrete_sequence=[\"orange\", \"grey\"],\n",
    "                  labels={\n",
    "                      \"donors_per_mil\": \"Organ donations per million\",\n",
    "                      \"country\": \"\",\n",
    "                      },\n",
    "                  title=\"Organ donation rates per million in 2017 (for the top 20 countries)\")\n",
    "# customize bar chart\n",
    "bar_2017.update_layout(\n",
    "    font_family=\"Arial\",\n",
    "    showlegend=False\n",
    ")\n",
    "bar_2017.update_xaxes(tickangle=-90)"
   ]
  },
  {
   "attachments": {},
   "cell_type": "markdown",
   "metadata": {},
   "source": []
  },
  {
   "attachments": {},
   "cell_type": "markdown",
   "metadata": {},
   "source": [
    "\n",
    "## Visualizing the donor rates over time for each country\n",
    "\n",
    "The heatmap above that we produced in our stability analysis above gave us an idea that it might be interesting to visualize the donor rates over time using line plots. \n",
    "\n",
    "The figure below shows the (imputed) number of donations per million for each country. We highlighted a few countries just to make it easier to tease out some interesting trends. This plot is definitely a mess, but it contains some useful information!\n"
   ]
  },
  {
   "cell_type": "code",
   "execution_count": null,
   "metadata": {},
   "outputs": [
    {
     "data": {
      "application/vnd.plotly.v1+json": {
       "config": {
        "plotlyServerURL": "https://plot.ly"
       },
       "data": [
        {
         "hovertemplate": "highlight=Other<br>year=%{x}<br>total_deceased_donors_per_mil=%{y}<extra></extra>",
         "legendgroup": "Other",
         "line": {
          "color": "grey",
          "dash": "solid"
         },
         "marker": {
          "symbol": "circle"
         },
         "mode": "lines",
         "name": "Other",
         "opacity": 0.4,
         "showlegend": true,
         "type": "scattergl",
         "x": {
          "bdata": "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",
          "dtype": "i2"
         },
         "xaxis": "x",
         "y": {
          "bdata": "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",
          "dtype": "f8"
         },
         "yaxis": "y"
        },
        {
         "hovertemplate": "highlight=Belgium<br>year=%{x}<br>total_deceased_donors_per_mil=%{y}<extra></extra>",
         "legendgroup": "Belgium",
         "line": {
          "color": "#84ACCE",
          "dash": "solid"
         },
         "marker": {
          "symbol": "circle"
         },
         "mode": "lines",
         "name": "Belgium",
         "opacity": 0.4,
         "showlegend": true,
         "type": "scattergl",
         "x": {
          "bdata": "0AfRB9IH0wfUB9UH1gfXB9gH2QfaB9sH3AfdB94H3wfgB+EH",
          "dtype": "i2"
         },
         "xaxis": "x",
         "y": {
          "bdata": "w+/Q7xgZOUArYKZbq401QAsCahOGpjVASdwcIHwCN0CKiXjy8Ak2QDiwYGOd2DdAD37frIkdO0DLcwjrhWE8QKtEZlxhGDpA9xr5qQTjOkAtZmbkeac0QOoJ39nspT5ANPf1HGgvPkAwCcaHbjA9QDW+p/Da7zpAQnnxccmXP0DGwTbFGso+QLhSwnS8hj5A",
          "dtype": "f8"
         },
         "yaxis": "y"
        },
        {
         "hovertemplate": "highlight=Spain<br>year=%{x}<br>total_deceased_donors_per_mil=%{y}<extra></extra>",
         "legendgroup": "Spain",
         "line": {
          "color": "#F6AE2D",
          "dash": "solid"
         },
         "marker": {
          "symbol": "circle"
         },
         "mode": "lines",
         "name": "Spain",
         "opacity": 0.4,
         "showlegend": true,
         "type": "scattergl",
         "x": {
          "bdata": "0AfRB9IH0wfUB9UH1gfXB9gH2QfaB9sH3AfdB94H3wfgB+EH",
          "dtype": "i2"
         },
         "xaxis": "x",
         "y": {
          "bdata": "AAAAAAAA+H8AAAAAAAD4fwAAAAAAAPh/F2KQtQOOQUDMyEsB9i9CQAVV32le70FASBlLvoFiQUDmoYtndcZBQLW8ck/rrUFA4b37DlriQUDLfabMD5RAQEoVVCi77EFAr7+C1KyNQUAZL/0g2KRBQNquV00K20FAQ1n1lm8TRECEjKVs5uVFQKDuN58RhkdA",
          "dtype": "f8"
         },
         "yaxis": "y"
        },
        {
         "hovertemplate": "highlight=Croatia<br>year=%{x}<br>total_deceased_donors_per_mil=%{y}<extra></extra>",
         "legendgroup": "Croatia",
         "line": {
          "color": "#589D6F",
          "dash": "solid"
         },
         "marker": {
          "symbol": "circle"
         },
         "mode": "lines",
         "name": "Croatia",
         "opacity": 0.4,
         "showlegend": true,
         "type": "scattergl",
         "x": {
          "bdata": "0AfRB9IH0wfUB9UH1gfXB9gH2QfaB9sH3AfdB94H3wfgB+EH",
          "dtype": "i2"
         },
         "xaxis": "x",
         "y": {
          "bdata": "7ALMBVVVBUDKvkDV6TsbQDp6ncxhciFAK88KSC66IUCJRtX2c9EqQIuzv+ZjISNAlii+sFjIKECrbOWYpjcpQFeJXSIhCzJAK88KSC66MUDeUusti64+QAiQ9hx00UBAfTfjd+hiQUB5Ure4gr5AQEJYB/fhjkFANYRAl3keREBcTtLhC8NDQFQmF2iqqkBA",
          "dtype": "f8"
         },
         "yaxis": "y"
        },
        {
         "hovertemplate": "highlight=Malta<br>year=%{x}<br>total_deceased_donors_per_mil=%{y}<extra></extra>",
         "legendgroup": "Malta",
         "line": {
          "color": "#CEA1C3",
          "dash": "solid"
         },
         "marker": {
          "symbol": "circle"
         },
         "mode": "lines",
         "name": "Malta",
         "opacity": 0.4,
         "showlegend": true,
         "type": "scattergl",
         "x": {
          "bdata": "0AfRB9IH0wfUB9UH1gfXB9gH2QfaB9sH3AfdB94H3wfgB+EH",
          "dtype": "i2"
         },
         "xaxis": "x",
         "y": {
          "bdata": "E0K2Ffv/LUATQrYV+/8tQBNCthX7/y1AE0K2Ffv/LUANLCS5/P8jQAAAAAAAAPh/AAAAAAAA+H8AAAAAAAD4fwAAAAAAAPh/jrFIUPx/NkCOsUhQ/H82QBNCthX7/z1AE0K2Ffv/PUCMpv8h/X9BQBNCthX7/z1AE0K2Ffv/LUAQN23n+/84QBNCthX7/z1A",
          "dtype": "f8"
         },
         "yaxis": "y"
        },
        {
         "hovertemplate": "highlight=United States of America<br>year=%{x}<br>total_deceased_donors_per_mil=%{y}<extra></extra>",
         "legendgroup": "United States of America",
         "line": {
          "color": "#E68992",
          "dash": "solid"
         },
         "marker": {
          "symbol": "circle"
         },
         "mode": "lines",
         "name": "United States of America",
         "opacity": 0.4,
         "showlegend": true,
         "type": "scattergl",
         "x": {
          "bdata": "0AfRB9IH0wfUB9UH1gfXB9gH2QfaB9sH3AfdB94H3wfgB+EH",
          "dtype": "i2"
         },
         "xaxis": "x",
         "y": {
          "bdata": "sE/pwHJ/NUBc4IUrJEQ1QBBmqrCvdDVAqtzH92v2NUCJfWGD9hI4QLkjjYZ4djlADq0C9nGiOkBheyhQqZo6QAPAKFIB3zlAnB4UfK59OUCrHqQJawI5QF19JgUQ9DlAeXxr4gnJOUB8xd8kItU5QNfm81RgpTpAtZRosJI2PEBG1zSqGcM+QAJrbeuvsj9A",
          "dtype": "f8"
         },
         "yaxis": "y"
        }
       ],
       "layout": {
        "legend": {
         "title": {
          "text": "highlight"
         },
         "tracegroupgap": 0
        },
        "margin": {
         "t": 60
        },
        "template": {
         "data": {
          "bar": [
           {
            "error_x": {
             "color": "#2a3f5f"
            },
            "error_y": {
             "color": "#2a3f5f"
            },
            "marker": {
             "line": {
              "color": "#E5ECF6",
              "width": 0.5
             },
             "pattern": {
              "fillmode": "overlay",
              "size": 10,
              "solidity": 0.2
             }
            },
            "type": "bar"
           }
          ],
          "barpolar": [
           {
            "marker": {
             "line": {
              "color": "#E5ECF6",
              "width": 0.5
             },
             "pattern": {
              "fillmode": "overlay",
              "size": 10,
              "solidity": 0.2
             }
            },
            "type": "barpolar"
           }
          ],
          "carpet": [
           {
            "aaxis": {
             "endlinecolor": "#2a3f5f",
             "gridcolor": "white",
             "linecolor": "white",
             "minorgridcolor": "white",
             "startlinecolor": "#2a3f5f"
            },
            "baxis": {
             "endlinecolor": "#2a3f5f",
             "gridcolor": "white",
             "linecolor": "white",
             "minorgridcolor": "white",
             "startlinecolor": "#2a3f5f"
            },
            "type": "carpet"
           }
          ],
          "choropleth": [
           {
            "colorbar": {
             "outlinewidth": 0,
             "ticks": ""
            },
            "type": "choropleth"
           }
          ],
          "contour": [
           {
            "colorbar": {
             "outlinewidth": 0,
             "ticks": ""
            },
            "colorscale": [
             [
              0,
              "#0d0887"
             ],
             [
              0.1111111111111111,
              "#46039f"
             ],
             [
              0.2222222222222222,
              "#7201a8"
             ],
             [
              0.3333333333333333,
              "#9c179e"
             ],
             [
              0.4444444444444444,
              "#bd3786"
             ],
             [
              0.5555555555555556,
              "#d8576b"
             ],
             [
              0.6666666666666666,
              "#ed7953"
             ],
             [
              0.7777777777777778,
              "#fb9f3a"
             ],
             [
              0.8888888888888888,
              "#fdca26"
             ],
             [
              1,
              "#f0f921"
             ]
            ],
            "type": "contour"
           }
          ],
          "contourcarpet": [
           {
            "colorbar": {
             "outlinewidth": 0,
             "ticks": ""
            },
            "type": "contourcarpet"
           }
          ],
          "heatmap": [
           {
            "colorbar": {
             "outlinewidth": 0,
             "ticks": ""
            },
            "colorscale": [
             [
              0,
              "#0d0887"
             ],
             [
              0.1111111111111111,
              "#46039f"
             ],
             [
              0.2222222222222222,
              "#7201a8"
             ],
             [
              0.3333333333333333,
              "#9c179e"
             ],
             [
              0.4444444444444444,
              "#bd3786"
             ],
             [
              0.5555555555555556,
              "#d8576b"
             ],
             [
              0.6666666666666666,
              "#ed7953"
             ],
             [
              0.7777777777777778,
              "#fb9f3a"
             ],
             [
              0.8888888888888888,
              "#fdca26"
             ],
             [
              1,
              "#f0f921"
             ]
            ],
            "type": "heatmap"
           }
          ],
          "histogram": [
           {
            "marker": {
             "pattern": {
              "fillmode": "overlay",
              "size": 10,
              "solidity": 0.2
             }
            },
            "type": "histogram"
           }
          ],
          "histogram2d": [
           {
            "colorbar": {
             "outlinewidth": 0,
             "ticks": ""
            },
            "colorscale": [
             [
              0,
              "#0d0887"
             ],
             [
              0.1111111111111111,
              "#46039f"
             ],
             [
              0.2222222222222222,
              "#7201a8"
             ],
             [
              0.3333333333333333,
              "#9c179e"
             ],
             [
              0.4444444444444444,
              "#bd3786"
             ],
             [
              0.5555555555555556,
              "#d8576b"
             ],
             [
              0.6666666666666666,
              "#ed7953"
             ],
             [
              0.7777777777777778,
              "#fb9f3a"
             ],
             [
              0.8888888888888888,
              "#fdca26"
             ],
             [
              1,
              "#f0f921"
             ]
            ],
            "type": "histogram2d"
           }
          ],
          "histogram2dcontour": [
           {
            "colorbar": {
             "outlinewidth": 0,
             "ticks": ""
            },
            "colorscale": [
             [
              0,
              "#0d0887"
             ],
             [
              0.1111111111111111,
              "#46039f"
             ],
             [
              0.2222222222222222,
              "#7201a8"
             ],
             [
              0.3333333333333333,
              "#9c179e"
             ],
             [
              0.4444444444444444,
              "#bd3786"
             ],
             [
              0.5555555555555556,
              "#d8576b"
             ],
             [
              0.6666666666666666,
              "#ed7953"
             ],
             [
              0.7777777777777778,
              "#fb9f3a"
             ],
             [
              0.8888888888888888,
              "#fdca26"
             ],
             [
              1,
              "#f0f921"
             ]
            ],
            "type": "histogram2dcontour"
           }
          ],
          "mesh3d": [
           {
            "colorbar": {
             "outlinewidth": 0,
             "ticks": ""
            },
            "type": "mesh3d"
           }
          ],
          "parcoords": [
           {
            "line": {
             "colorbar": {
              "outlinewidth": 0,
              "ticks": ""
             }
            },
            "type": "parcoords"
           }
          ],
          "pie": [
           {
            "automargin": true,
            "type": "pie"
           }
          ],
          "scatter": [
           {
            "fillpattern": {
             "fillmode": "overlay",
             "size": 10,
             "solidity": 0.2
            },
            "type": "scatter"
           }
          ],
          "scatter3d": [
           {
            "line": {
             "colorbar": {
              "outlinewidth": 0,
              "ticks": ""
             }
            },
            "marker": {
             "colorbar": {
              "outlinewidth": 0,
              "ticks": ""
             }
            },
            "type": "scatter3d"
           }
          ],
          "scattercarpet": [
           {
            "marker": {
             "colorbar": {
              "outlinewidth": 0,
              "ticks": ""
             }
            },
            "type": "scattercarpet"
           }
          ],
          "scattergeo": [
           {
            "marker": {
             "colorbar": {
              "outlinewidth": 0,
              "ticks": ""
             }
            },
            "type": "scattergeo"
           }
          ],
          "scattergl": [
           {
            "marker": {
             "colorbar": {
              "outlinewidth": 0,
              "ticks": ""
             }
            },
            "type": "scattergl"
           }
          ],
          "scattermap": [
           {
            "marker": {
             "colorbar": {
              "outlinewidth": 0,
              "ticks": ""
             }
            },
            "type": "scattermap"
           }
          ],
          "scattermapbox": [
           {
            "marker": {
             "colorbar": {
              "outlinewidth": 0,
              "ticks": ""
             }
            },
            "type": "scattermapbox"
           }
          ],
          "scatterpolar": [
           {
            "marker": {
             "colorbar": {
              "outlinewidth": 0,
              "ticks": ""
             }
            },
            "type": "scatterpolar"
           }
          ],
          "scatterpolargl": [
           {
            "marker": {
             "colorbar": {
              "outlinewidth": 0,
              "ticks": ""
             }
            },
            "type": "scatterpolargl"
           }
          ],
          "scatterternary": [
           {
            "marker": {
             "colorbar": {
              "outlinewidth": 0,
              "ticks": ""
             }
            },
            "type": "scatterternary"
           }
          ],
          "surface": [
           {
            "colorbar": {
             "outlinewidth": 0,
             "ticks": ""
            },
            "colorscale": [
             [
              0,
              "#0d0887"
             ],
             [
              0.1111111111111111,
              "#46039f"
             ],
             [
              0.2222222222222222,
              "#7201a8"
             ],
             [
              0.3333333333333333,
              "#9c179e"
             ],
             [
              0.4444444444444444,
              "#bd3786"
             ],
             [
              0.5555555555555556,
              "#d8576b"
             ],
             [
              0.6666666666666666,
              "#ed7953"
             ],
             [
              0.7777777777777778,
              "#fb9f3a"
             ],
             [
              0.8888888888888888,
              "#fdca26"
             ],
             [
              1,
              "#f0f921"
             ]
            ],
            "type": "surface"
           }
          ],
          "table": [
           {
            "cells": {
             "fill": {
              "color": "#EBF0F8"
             },
             "line": {
              "color": "white"
             }
            },
            "header": {
             "fill": {
              "color": "#C8D4E3"
             },
             "line": {
              "color": "white"
             }
            },
            "type": "table"
           }
          ]
         },
         "layout": {
          "annotationdefaults": {
           "arrowcolor": "#2a3f5f",
           "arrowhead": 0,
           "arrowwidth": 1
          },
          "autotypenumbers": "strict",
          "coloraxis": {
           "colorbar": {
            "outlinewidth": 0,
            "ticks": ""
           }
          },
          "colorscale": {
           "diverging": [
            [
             0,
             "#8e0152"
            ],
            [
             0.1,
             "#c51b7d"
            ],
            [
             0.2,
             "#de77ae"
            ],
            [
             0.3,
             "#f1b6da"
            ],
            [
             0.4,
             "#fde0ef"
            ],
            [
             0.5,
             "#f7f7f7"
            ],
            [
             0.6,
             "#e6f5d0"
            ],
            [
             0.7,
             "#b8e186"
            ],
            [
             0.8,
             "#7fbc41"
            ],
            [
             0.9,
             "#4d9221"
            ],
            [
             1,
             "#276419"
            ]
           ],
           "sequential": [
            [
             0,
             "#0d0887"
            ],
            [
             0.1111111111111111,
             "#46039f"
            ],
            [
             0.2222222222222222,
             "#7201a8"
            ],
            [
             0.3333333333333333,
             "#9c179e"
            ],
            [
             0.4444444444444444,
             "#bd3786"
            ],
            [
             0.5555555555555556,
             "#d8576b"
            ],
            [
             0.6666666666666666,
             "#ed7953"
            ],
            [
             0.7777777777777778,
             "#fb9f3a"
            ],
            [
             0.8888888888888888,
             "#fdca26"
            ],
            [
             1,
             "#f0f921"
            ]
           ],
           "sequentialminus": [
            [
             0,
             "#0d0887"
            ],
            [
             0.1111111111111111,
             "#46039f"
            ],
            [
             0.2222222222222222,
             "#7201a8"
            ],
            [
             0.3333333333333333,
             "#9c179e"
            ],
            [
             0.4444444444444444,
             "#bd3786"
            ],
            [
             0.5555555555555556,
             "#d8576b"
            ],
            [
             0.6666666666666666,
             "#ed7953"
            ],
            [
             0.7777777777777778,
             "#fb9f3a"
            ],
            [
             0.8888888888888888,
             "#fdca26"
            ],
            [
             1,
             "#f0f921"
            ]
           ]
          },
          "colorway": [
           "#636efa",
           "#EF553B",
           "#00cc96",
           "#ab63fa",
           "#FFA15A",
           "#19d3f3",
           "#FF6692",
           "#B6E880",
           "#FF97FF",
           "#FECB52"
          ],
          "font": {
           "color": "#2a3f5f"
          },
          "geo": {
           "bgcolor": "white",
           "lakecolor": "white",
           "landcolor": "#E5ECF6",
           "showlakes": true,
           "showland": true,
           "subunitcolor": "white"
          },
          "hoverlabel": {
           "align": "left"
          },
          "hovermode": "closest",
          "mapbox": {
           "style": "light"
          },
          "paper_bgcolor": "white",
          "plot_bgcolor": "#E5ECF6",
          "polar": {
           "angularaxis": {
            "gridcolor": "white",
            "linecolor": "white",
            "ticks": ""
           },
           "bgcolor": "#E5ECF6",
           "radialaxis": {
            "gridcolor": "white",
            "linecolor": "white",
            "ticks": ""
           }
          },
          "scene": {
           "xaxis": {
            "backgroundcolor": "#E5ECF6",
            "gridcolor": "white",
            "gridwidth": 2,
            "linecolor": "white",
            "showbackground": true,
            "ticks": "",
            "zerolinecolor": "white"
           },
           "yaxis": {
            "backgroundcolor": "#E5ECF6",
            "gridcolor": "white",
            "gridwidth": 2,
            "linecolor": "white",
            "showbackground": true,
            "ticks": "",
            "zerolinecolor": "white"
           },
           "zaxis": {
            "backgroundcolor": "#E5ECF6",
            "gridcolor": "white",
            "gridwidth": 2,
            "linecolor": "white",
            "showbackground": true,
            "ticks": "",
            "zerolinecolor": "white"
           }
          },
          "shapedefaults": {
           "line": {
            "color": "#2a3f5f"
           }
          },
          "ternary": {
           "aaxis": {
            "gridcolor": "white",
            "linecolor": "white",
            "ticks": ""
           },
           "baxis": {
            "gridcolor": "white",
            "linecolor": "white",
            "ticks": ""
           },
           "bgcolor": "#E5ECF6",
           "caxis": {
            "gridcolor": "white",
            "linecolor": "white",
            "ticks": ""
           }
          },
          "title": {
           "x": 0.05
          },
          "xaxis": {
           "automargin": true,
           "gridcolor": "white",
           "linecolor": "white",
           "ticks": "",
           "title": {
            "standoff": 15
           },
           "zerolinecolor": "white",
           "zerolinewidth": 2
          },
          "yaxis": {
           "automargin": true,
           "gridcolor": "white",
           "linecolor": "white",
           "ticks": "",
           "title": {
            "standoff": 15
           },
           "zerolinecolor": "white",
           "zerolinewidth": 2
          }
         }
        },
        "xaxis": {
         "anchor": "y",
         "domain": [
          0,
          1
         ],
         "title": {
          "text": "year"
         }
        },
        "yaxis": {
         "anchor": "x",
         "domain": [
          0,
          1
         ],
         "title": {
          "text": "total_deceased_donors_per_mil"
         }
        }
       }
      }
     },
     "metadata": {},
     "output_type": "display_data"
    }
   ],
   "source": [
    "organs_highlight_countries = organs_clean\n",
    "# add a column containing TRUE only for the countries to highlight in the plot below\n",
    "organs_highlight_countries[\"highlight\"] = np.where(organs_highlight_countries[\"country\"].isin([\"Spain\", \"Croatia\", \"Belgium\", \"Malta\", \"United States of America\"]),\n",
    "                                                   organs_highlight_countries[\"country\"], \n",
    "                                                   \"Other\")\n",
    "# create a line plot\n",
    "fig = px.line(organs_clean, \n",
    "              x=\"year\",\n",
    "              y=\"total_deceased_donors_per_mil\",\n",
    "              color=\"highlight\",\n",
    "              color_discrete_sequence=[\"grey\", \"#84ACCE\", \"#F6AE2D\", \"#589D6F\", \"#CEA1C3\", \"#E68992\"])\n",
    "fig.update_traces(opacity=0.4)"
   ]
  },
  {
   "attachments": {},
   "cell_type": "markdown",
   "metadata": {},
   "source": [
    "\n",
    "### PCS evaluations\n",
    "\n",
    "Since our conclusions from this figure is related to our results above, the PCS evaluations that we conducted above are also relevant to this Figure (e.g., we showed stability to a visualization judgment calls by the same information using a heatmap, and we showed predictability used domain literature to show that it is well-known that Spain is a world leader in organ donation rates). But we can also conduct a PCS analysis of these findings to some data perturbations and some additional visualization judgment calls (such as our choice of which countries lines to include in the plot).\n"
   ]
  },
  {
   "attachments": {},
   "cell_type": "markdown",
   "metadata": {},
   "source": [
    "\n",
    "#### Stability to data perturbations\n",
    "\n",
    "\n",
    "To investigate how much our our figure changes as a result of our data perturbations, we create four different versions of the perturbed dataset and overlay the four perturbed trend lines (dashed lines) over the original trend lines (solid lines) in Figure \\@ref(fig:lines-highlight-perturb). To reduce overplotting, we filter to the countries that have at least one year with 500 donations. \n",
    "\n",
    "Spain's trend lines are highlighted in purple. Fortunately, even with 30% of the organ donor counts perturbed, Spain is consistently the world leader in deceased organ donations, indicating that this conclusion is fairly stable even to these fairly extreme data perturbations.\n"
   ]
  },
  {
   "cell_type": "code",
   "execution_count": 21,
   "metadata": {},
   "outputs": [],
   "source": [
    "# compute the SD of donor count for each country\n",
    "donors_sd_by_country = organs_clean.groupby(\"country\")[\"total_deceased_donors_imputed\"] \\\n",
    "    .std() \\\n",
    "    .to_frame(name=\"sd\") \\\n",
    "    .reset_index()\n",
    "# create a version of organs_clean with the sd as a column\n",
    "organs_clean_with_sd = organs_clean.merge(donors_sd_by_country)"
   ]
  },
  {
   "cell_type": "code",
   "execution_count": null,
   "metadata": {},
   "outputs": [],
   "source": [
    "def compute_perturbed_donor_count():\n",
    "  perturbed_count = np.where(\n",
    "    # if total_deceased_donors_imputed is not equal to 0 AND the random bernoulli number is equal to 1 (30% chance)\n",
    "    (organs_clean[\"total_deceased_donors_imputed\"] != 0) & (np.random.binomial(1, 0.3, len(organs_clean.index)) == 1),\n",
    "    # compute the sum of the imputed donor count and a normal value with mean 0 and SD equal to the country's donor count SD\n",
    "    organs_clean[\"total_deceased_donors_imputed\"].add(np.random.normal(0, list(organs_clean_with_sd[\"sd\"]), 1 * len(organs_clean.index))),\n",
    "    # else just return the original imputed donor count\n",
    "    organs_clean[\"total_deceased_donors_imputed\"]\n",
    "  )\n",
    "  return perturbed_count"
   ]
  },
  {
   "cell_type": "code",
   "execution_count": 24,
   "metadata": {},
   "outputs": [
    {
     "data": {
      "text/html": [
       "<div>\n",
       "<style scoped>\n",
       "    .dataframe tbody tr th:only-of-type {\n",
       "        vertical-align: middle;\n",
       "    }\n",
       "\n",
       "    .dataframe tbody tr th {\n",
       "        vertical-align: top;\n",
       "    }\n",
       "\n",
       "    .dataframe thead th {\n",
       "        text-align: right;\n",
       "    }\n",
       "</style>\n",
       "<table border=\"1\" class=\"dataframe\">\n",
       "  <thead>\n",
       "    <tr style=\"text-align: right;\">\n",
       "      <th></th>\n",
       "      <th>total_deceased_donors_imputed_per_mil</th>\n",
       "      <th>donors_pert1_per_mil</th>\n",
       "      <th>donors_pert2_per_mil</th>\n",
       "      <th>donors_pert3_per_mil</th>\n",
       "      <th>donors_pert4_per_mil</th>\n",
       "    </tr>\n",
       "  </thead>\n",
       "  <tbody>\n",
       "    <tr>\n",
       "      <th>2297</th>\n",
       "      <td>0.000000</td>\n",
       "      <td>0.000000</td>\n",
       "      <td>0.000000</td>\n",
       "      <td>0.000000</td>\n",
       "      <td>0.000000</td>\n",
       "    </tr>\n",
       "    <tr>\n",
       "      <th>2976</th>\n",
       "      <td>1.285714</td>\n",
       "      <td>0.454457</td>\n",
       "      <td>1.285714</td>\n",
       "      <td>1.285714</td>\n",
       "      <td>1.271734</td>\n",
       "    </tr>\n",
       "    <tr>\n",
       "      <th>591</th>\n",
       "      <td>17.228914</td>\n",
       "      <td>17.228916</td>\n",
       "      <td>17.228916</td>\n",
       "      <td>17.228916</td>\n",
       "      <td>15.831900</td>\n",
       "    </tr>\n",
       "    <tr>\n",
       "      <th>3376</th>\n",
       "      <td>0.168539</td>\n",
       "      <td>0.168539</td>\n",
       "      <td>-0.004893</td>\n",
       "      <td>0.274628</td>\n",
       "      <td>0.168539</td>\n",
       "    </tr>\n",
       "    <tr>\n",
       "      <th>3144</th>\n",
       "      <td>0.093458</td>\n",
       "      <td>-0.092051</td>\n",
       "      <td>0.093458</td>\n",
       "      <td>-0.143227</td>\n",
       "      <td>0.093458</td>\n",
       "    </tr>\n",
       "    <tr>\n",
       "      <th>888</th>\n",
       "      <td>0.000000</td>\n",
       "      <td>0.000000</td>\n",
       "      <td>0.000000</td>\n",
       "      <td>0.000000</td>\n",
       "      <td>0.000000</td>\n",
       "    </tr>\n",
       "    <tr>\n",
       "      <th>606</th>\n",
       "      <td>0.000000</td>\n",
       "      <td>0.000000</td>\n",
       "      <td>0.000000</td>\n",
       "      <td>0.000000</td>\n",
       "      <td>0.000000</td>\n",
       "    </tr>\n",
       "    <tr>\n",
       "      <th>394</th>\n",
       "      <td>0.871560</td>\n",
       "      <td>NaN</td>\n",
       "      <td>NaN</td>\n",
       "      <td>NaN</td>\n",
       "      <td>NaN</td>\n",
       "    </tr>\n",
       "    <tr>\n",
       "      <th>2164</th>\n",
       "      <td>0.000000</td>\n",
       "      <td>0.000000</td>\n",
       "      <td>0.000000</td>\n",
       "      <td>0.000000</td>\n",
       "      <td>0.000000</td>\n",
       "    </tr>\n",
       "    <tr>\n",
       "      <th>2897</th>\n",
       "      <td>0.000000</td>\n",
       "      <td>NaN</td>\n",
       "      <td>NaN</td>\n",
       "      <td>NaN</td>\n",
       "      <td>NaN</td>\n",
       "    </tr>\n",
       "  </tbody>\n",
       "</table>\n",
       "</div>"
      ],
      "text/plain": [
       "      total_deceased_donors_imputed_per_mil  donors_pert1_per_mil  \\\n",
       "2297                               0.000000              0.000000   \n",
       "2976                               1.285714              0.454457   \n",
       "591                               17.228914             17.228916   \n",
       "3376                               0.168539              0.168539   \n",
       "3144                               0.093458             -0.092051   \n",
       "888                                0.000000              0.000000   \n",
       "606                                0.000000              0.000000   \n",
       "394                                0.871560                   NaN   \n",
       "2164                               0.000000              0.000000   \n",
       "2897                               0.000000                   NaN   \n",
       "\n",
       "      donors_pert2_per_mil  donors_pert3_per_mil  donors_pert4_per_mil  \n",
       "2297              0.000000              0.000000              0.000000  \n",
       "2976              1.285714              1.285714              1.271734  \n",
       "591              17.228916             17.228916             15.831900  \n",
       "3376             -0.004893              0.274628              0.168539  \n",
       "3144              0.093458             -0.143227              0.093458  \n",
       "888               0.000000              0.000000              0.000000  \n",
       "606               0.000000              0.000000              0.000000  \n",
       "394                    NaN                   NaN                   NaN  \n",
       "2164              0.000000              0.000000              0.000000  \n",
       "2897                   NaN                   NaN                   NaN  "
      ]
     },
     "execution_count": 24,
     "metadata": {},
     "output_type": "execute_result"
    }
   ],
   "source": [
    "perturbed_organs_clean = organs_clean\n",
    "# compute four versions of the imputed donor count and add them as columns\n",
    "perturbed_organs_clean[\"donors_pert1_per_mil\"] = 1_000_000 * compute_perturbed_donor_count() / organs_clean[\"population\"]\n",
    "perturbed_organs_clean[\"donors_pert2_per_mil\"] = 1_000_000 * compute_perturbed_donor_count() / organs_clean[\"population\"]\n",
    "perturbed_organs_clean[\"donors_pert3_per_mil\"] = 1_000_000 * compute_perturbed_donor_count() / organs_clean[\"population\"]\n",
    "perturbed_organs_clean[\"donors_pert4_per_mil\"] = 1_000_000 * compute_perturbed_donor_count() / organs_clean[\"population\"]\n",
    "# print out a random sample of 10 rows and compare the original imputed count with the perturbed versions\n",
    "perturbed_organs_clean.sample(10)[[\"total_deceased_donors_imputed_per_mil\", \"donors_pert1_per_mil\", \"donors_pert2_per_mil\", \"donors_pert3_per_mil\", \"donors_pert4_per_mil\"]]"
   ]
  },
  {
   "cell_type": "code",
   "execution_count": null,
   "metadata": {},
   "outputs": [],
   "source": [
    "# identify the countries with at least 500 total donors in a single year\n",
    "countries_500_donors = perturbed_organs_clean.groupby(\"country\")[\"total_deceased_donors_imputed\"] \\\n",
    "    .max() \\\n",
    "    .to_frame() \\\n",
    "    .query('total_deceased_donors_imputed >= 500') \\\n",
    "    .index\n",
    "# filter to the countries with at least 500 total donors in a single year\n",
    "perturbed_organs_clean_min_500 = perturbed_organs_clean[perturbed_organs_clean[\"country\"].isin(countries_500_donors)]"
   ]
  },
  {
   "cell_type": "code",
   "execution_count": 26,
   "metadata": {},
   "outputs": [
    {
     "data": {
      "text/html": [
       "<div>\n",
       "<style scoped>\n",
       "    .dataframe tbody tr th:only-of-type {\n",
       "        vertical-align: middle;\n",
       "    }\n",
       "\n",
       "    .dataframe tbody tr th {\n",
       "        vertical-align: top;\n",
       "    }\n",
       "\n",
       "    .dataframe thead th {\n",
       "        text-align: right;\n",
       "    }\n",
       "</style>\n",
       "<table border=\"1\" class=\"dataframe\">\n",
       "  <thead>\n",
       "    <tr style=\"text-align: right;\">\n",
       "      <th></th>\n",
       "      <th>year</th>\n",
       "      <th>country</th>\n",
       "      <th>perturbed</th>\n",
       "      <th>donor_count</th>\n",
       "      <th>spain</th>\n",
       "    </tr>\n",
       "  </thead>\n",
       "  <tbody>\n",
       "    <tr>\n",
       "      <th>0</th>\n",
       "      <td>2000</td>\n",
       "      <td>Argentina</td>\n",
       "      <td>total_deceased_donors_per_mil</td>\n",
       "      <td>NaN</td>\n",
       "      <td>False</td>\n",
       "    </tr>\n",
       "    <tr>\n",
       "      <th>1</th>\n",
       "      <td>2001</td>\n",
       "      <td>Argentina</td>\n",
       "      <td>total_deceased_donors_per_mil</td>\n",
       "      <td>NaN</td>\n",
       "      <td>False</td>\n",
       "    </tr>\n",
       "    <tr>\n",
       "      <th>2</th>\n",
       "      <td>2002</td>\n",
       "      <td>Argentina</td>\n",
       "      <td>total_deceased_donors_per_mil</td>\n",
       "      <td>NaN</td>\n",
       "      <td>False</td>\n",
       "    </tr>\n",
       "    <tr>\n",
       "      <th>3</th>\n",
       "      <td>2003</td>\n",
       "      <td>Argentina</td>\n",
       "      <td>total_deceased_donors_per_mil</td>\n",
       "      <td>NaN</td>\n",
       "      <td>False</td>\n",
       "    </tr>\n",
       "    <tr>\n",
       "      <th>4</th>\n",
       "      <td>2004</td>\n",
       "      <td>Argentina</td>\n",
       "      <td>total_deceased_donors_per_mil</td>\n",
       "      <td>10.359897</td>\n",
       "      <td>False</td>\n",
       "    </tr>\n",
       "    <tr>\n",
       "      <th>...</th>\n",
       "      <td>...</td>\n",
       "      <td>...</td>\n",
       "      <td>...</td>\n",
       "      <td>...</td>\n",
       "      <td>...</td>\n",
       "    </tr>\n",
       "    <tr>\n",
       "      <th>1615</th>\n",
       "      <td>2013</td>\n",
       "      <td>United States of America</td>\n",
       "      <td>donors_pert4_per_mil</td>\n",
       "      <td>23.534792</td>\n",
       "      <td>False</td>\n",
       "    </tr>\n",
       "    <tr>\n",
       "      <th>1616</th>\n",
       "      <td>2014</td>\n",
       "      <td>United States of America</td>\n",
       "      <td>donors_pert4_per_mil</td>\n",
       "      <td>26.646001</td>\n",
       "      <td>False</td>\n",
       "    </tr>\n",
       "    <tr>\n",
       "      <th>1617</th>\n",
       "      <td>2015</td>\n",
       "      <td>United States of America</td>\n",
       "      <td>donors_pert4_per_mil</td>\n",
       "      <td>28.213176</td>\n",
       "      <td>False</td>\n",
       "    </tr>\n",
       "    <tr>\n",
       "      <th>1618</th>\n",
       "      <td>2016</td>\n",
       "      <td>United States of America</td>\n",
       "      <td>donors_pert4_per_mil</td>\n",
       "      <td>30.762110</td>\n",
       "      <td>False</td>\n",
       "    </tr>\n",
       "    <tr>\n",
       "      <th>1619</th>\n",
       "      <td>2017</td>\n",
       "      <td>United States of America</td>\n",
       "      <td>donors_pert4_per_mil</td>\n",
       "      <td>31.697997</td>\n",
       "      <td>False</td>\n",
       "    </tr>\n",
       "  </tbody>\n",
       "</table>\n",
       "<p>1620 rows × 5 columns</p>\n",
       "</div>"
      ],
      "text/plain": [
       "      year                   country                      perturbed  \\\n",
       "0     2000                 Argentina  total_deceased_donors_per_mil   \n",
       "1     2001                 Argentina  total_deceased_donors_per_mil   \n",
       "2     2002                 Argentina  total_deceased_donors_per_mil   \n",
       "3     2003                 Argentina  total_deceased_donors_per_mil   \n",
       "4     2004                 Argentina  total_deceased_donors_per_mil   \n",
       "...    ...                       ...                            ...   \n",
       "1615  2013  United States of America           donors_pert4_per_mil   \n",
       "1616  2014  United States of America           donors_pert4_per_mil   \n",
       "1617  2015  United States of America           donors_pert4_per_mil   \n",
       "1618  2016  United States of America           donors_pert4_per_mil   \n",
       "1619  2017  United States of America           donors_pert4_per_mil   \n",
       "\n",
       "      donor_count  spain  \n",
       "0             NaN  False  \n",
       "1             NaN  False  \n",
       "2             NaN  False  \n",
       "3             NaN  False  \n",
       "4       10.359897  False  \n",
       "...           ...    ...  \n",
       "1615    23.534792  False  \n",
       "1616    26.646001  False  \n",
       "1617    28.213176  False  \n",
       "1618    30.762110  False  \n",
       "1619    31.697997  False  \n",
       "\n",
       "[1620 rows x 5 columns]"
      ]
     },
     "execution_count": 26,
     "metadata": {},
     "output_type": "execute_result"
    }
   ],
   "source": [
    "# create a melted version of the data frame with the various perturbed donor counts in a single column\n",
    "perturbed_organs_clean_min_500_melted = perturbed_organs_clean_min_500.melt(value_vars=[\"total_deceased_donors_per_mil\", \n",
    "                                                                                 \"donors_pert1_per_mil\", \n",
    "                                                                                 \"donors_pert2_per_mil\", \n",
    "                                                                                 \"donors_pert3_per_mil\", \n",
    "                                                                                 \"donors_pert4_per_mil\"], \n",
    "                                                                     id_vars=[\"year\", \"country\"], \n",
    "                                                                     var_name=\"perturbed\", \n",
    "                                                                     value_name=\"donor_count\")\n",
    "# add a column to use for highlighting which lines correspond to Spain\n",
    "perturbed_organs_clean_min_500_melted[\"spain\"] = perturbed_organs_clean_min_500_melted[\"country\"] == \"Spain\"\n",
    "perturbed_organs_clean_min_500_melted"
   ]
  },
  {
   "cell_type": "code",
   "execution_count": null,
   "metadata": {},
   "outputs": [
    {
     "data": {
      "application/vnd.plotly.v1+json": {
       "config": {
        "plotlyServerURL": "https://plot.ly"
       },
       "data": [
        {
         "hovertemplate": "spain=False<br>perturbed=total_deceased_donors_per_mil<br>year=%{x}<br>donor_count=%{y}<extra></extra>",
         "legendgroup": "False, total_deceased_donors_per_mil",
         "line": {
          "color": "grey",
          "dash": "solid"
         },
         "marker": {
          "symbol": "circle"
         },
         "mode": "lines",
         "name": "False, total_deceased_donors_per_mil",
         "opacity": 0.4,
         "showlegend": true,
         "type": "scattergl",
         "x": {
          "bdata": "0AfRB9IH0wfUB9UH1gfXB9gH2QfaB9sH3AfdB94H3wfgB+EH0AfRB9IH0wfUB9UH1gfXB9gH2QfaB9sH3AfdB94H3wfgB+EH0AfRB9IH0wfUB9UH1gfXB9gH2QfaB9sH3AfdB94H3wfgB+EH0AfRB9IH0wfUB9UH1gfXB9gH2QfaB9sH3AfdB94H3wfgB+EH0AfRB9IH0wfUB9UH1gfXB9gH2QfaB9sH3AfdB94H3wfgB+EH0AfRB9IH0wfUB9UH1gfXB9gH2QfaB9sH3AfdB94H3wfgB+EH0AfRB9IH0wfUB9UH1gfXB9gH2QfaB9sH3AfdB94H3wfgB+EH0AfRB9IH0wfUB9UH1gfXB9gH2QfaB9sH3AfdB94H3wfgB+EH0AfRB9IH0wfUB9UH1gfXB9gH2QfaB9sH3AfdB94H3wfgB+EH0AfRB9IH0wfUB9UH1gfXB9gH2QfaB9sH3AfdB94H3wfgB+EH0AfRB9IH0wfUB9UH1gfXB9gH2QfaB9sH3AfdB94H3wfgB+EH0AfRB9IH0wfUB9UH1gfXB9gH2QfaB9sH3AfdB94H3wfgB+EH0AfRB9IH0wfUB9UH1gfXB9gH2QfaB9sH3AfdB94H3wfgB+EH0AfRB9IH0wfUB9UH1gfXB9gH2QfaB9sH3AfdB94H3wfgB+EH0AfRB9IH0wfUB9UH1gfXB9gH2QfaB9sH3AfdB94H3wfgB+EH0AfRB9IH0wfUB9UH1gfXB9gH2QfaB9sH3AfdB94H3wfgB+EH0AfRB9IH0wfUB9UH1gfXB9gH2QfaB9sH3AfdB94H3wfgB+EH",
          "dtype": "i2"
         },
         "xaxis": "x",
         "y": {
          "bdata": "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",
          "dtype": "f8"
         },
         "yaxis": "y"
        },
        {
         "hovertemplate": "spain=False<br>perturbed=donors_pert1_per_mil<br>year=%{x}<br>donor_count=%{y}<extra></extra>",
         "legendgroup": "False, donors_pert1_per_mil",
         "line": {
          "color": "grey",
          "dash": "dash"
         },
         "marker": {
          "symbol": "circle"
         },
         "mode": "lines",
         "name": "False, donors_pert1_per_mil",
         "opacity": 0.4,
         "showlegend": true,
         "type": "scattergl",
         "x": {
          "bdata": "0AfRB9IH0wfUB9UH1gfXB9gH2QfaB9sH3AfdB94H3wfgB+EH0AfRB9IH0wfUB9UH1gfXB9gH2QfaB9sH3AfdB94H3wfgB+EH0AfRB9IH0wfUB9UH1gfXB9gH2QfaB9sH3AfdB94H3wfgB+EH0AfRB9IH0wfUB9UH1gfXB9gH2QfaB9sH3AfdB94H3wfgB+EH0AfRB9IH0wfUB9UH1gfXB9gH2QfaB9sH3AfdB94H3wfgB+EH0AfRB9IH0wfUB9UH1gfXB9gH2QfaB9sH3AfdB94H3wfgB+EH0AfRB9IH0wfUB9UH1gfXB9gH2QfaB9sH3AfdB94H3wfgB+EH0AfRB9IH0wfUB9UH1gfXB9gH2QfaB9sH3AfdB94H3wfgB+EH0AfRB9IH0wfUB9UH1gfXB9gH2QfaB9sH3AfdB94H3wfgB+EH0AfRB9IH0wfUB9UH1gfXB9gH2QfaB9sH3AfdB94H3wfgB+EH0AfRB9IH0wfUB9UH1gfXB9gH2QfaB9sH3AfdB94H3wfgB+EH0AfRB9IH0wfUB9UH1gfXB9gH2QfaB9sH3AfdB94H3wfgB+EH0AfRB9IH0wfUB9UH1gfXB9gH2QfaB9sH3AfdB94H3wfgB+EH0AfRB9IH0wfUB9UH1gfXB9gH2QfaB9sH3AfdB94H3wfgB+EH0AfRB9IH0wfUB9UH1gfXB9gH2QfaB9sH3AfdB94H3wfgB+EH0AfRB9IH0wfUB9UH1gfXB9gH2QfaB9sH3AfdB94H3wfgB+EH0AfRB9IH0wfUB9UH1gfXB9gH2QfaB9sH3AfdB94H3wfgB+EH",
          "dtype": "i2"
         },
         "xaxis": "x",
         "y": {
          "bdata": "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",
          "dtype": "f8"
         },
         "yaxis": "y"
        },
        {
         "hovertemplate": "spain=False<br>perturbed=donors_pert2_per_mil<br>year=%{x}<br>donor_count=%{y}<extra></extra>",
         "legendgroup": "False, donors_pert2_per_mil",
         "line": {
          "color": "grey",
          "dash": "dash"
         },
         "marker": {
          "symbol": "circle"
         },
         "mode": "lines",
         "name": "False, donors_pert2_per_mil",
         "opacity": 0.4,
         "showlegend": true,
         "type": "scattergl",
         "x": {
          "bdata": "0AfRB9IH0wfUB9UH1gfXB9gH2QfaB9sH3AfdB94H3wfgB+EH0AfRB9IH0wfUB9UH1gfXB9gH2QfaB9sH3AfdB94H3wfgB+EH0AfRB9IH0wfUB9UH1gfXB9gH2QfaB9sH3AfdB94H3wfgB+EH0AfRB9IH0wfUB9UH1gfXB9gH2QfaB9sH3AfdB94H3wfgB+EH0AfRB9IH0wfUB9UH1gfXB9gH2QfaB9sH3AfdB94H3wfgB+EH0AfRB9IH0wfUB9UH1gfXB9gH2QfaB9sH3AfdB94H3wfgB+EH0AfRB9IH0wfUB9UH1gfXB9gH2QfaB9sH3AfdB94H3wfgB+EH0AfRB9IH0wfUB9UH1gfXB9gH2QfaB9sH3AfdB94H3wfgB+EH0AfRB9IH0wfUB9UH1gfXB9gH2QfaB9sH3AfdB94H3wfgB+EH0AfRB9IH0wfUB9UH1gfXB9gH2QfaB9sH3AfdB94H3wfgB+EH0AfRB9IH0wfUB9UH1gfXB9gH2QfaB9sH3AfdB94H3wfgB+EH0AfRB9IH0wfUB9UH1gfXB9gH2QfaB9sH3AfdB94H3wfgB+EH0AfRB9IH0wfUB9UH1gfXB9gH2QfaB9sH3AfdB94H3wfgB+EH0AfRB9IH0wfUB9UH1gfXB9gH2QfaB9sH3AfdB94H3wfgB+EH0AfRB9IH0wfUB9UH1gfXB9gH2QfaB9sH3AfdB94H3wfgB+EH0AfRB9IH0wfUB9UH1gfXB9gH2QfaB9sH3AfdB94H3wfgB+EH0AfRB9IH0wfUB9UH1gfXB9gH2QfaB9sH3AfdB94H3wfgB+EH",
          "dtype": "i2"
         },
         "xaxis": "x",
         "y": {
          "bdata": "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",
          "dtype": "f8"
         },
         "yaxis": "y"
        },
        {
         "hovertemplate": "spain=False<br>perturbed=donors_pert3_per_mil<br>year=%{x}<br>donor_count=%{y}<extra></extra>",
         "legendgroup": "False, donors_pert3_per_mil",
         "line": {
          "color": "grey",
          "dash": "dash"
         },
         "marker": {
          "symbol": "circle"
         },
         "mode": "lines",
         "name": "False, donors_pert3_per_mil",
         "opacity": 0.4,
         "showlegend": true,
         "type": "scattergl",
         "x": {
          "bdata": "0AfRB9IH0wfUB9UH1gfXB9gH2QfaB9sH3AfdB94H3wfgB+EH0AfRB9IH0wfUB9UH1gfXB9gH2QfaB9sH3AfdB94H3wfgB+EH0AfRB9IH0wfUB9UH1gfXB9gH2QfaB9sH3AfdB94H3wfgB+EH0AfRB9IH0wfUB9UH1gfXB9gH2QfaB9sH3AfdB94H3wfgB+EH0AfRB9IH0wfUB9UH1gfXB9gH2QfaB9sH3AfdB94H3wfgB+EH0AfRB9IH0wfUB9UH1gfXB9gH2QfaB9sH3AfdB94H3wfgB+EH0AfRB9IH0wfUB9UH1gfXB9gH2QfaB9sH3AfdB94H3wfgB+EH0AfRB9IH0wfUB9UH1gfXB9gH2QfaB9sH3AfdB94H3wfgB+EH0AfRB9IH0wfUB9UH1gfXB9gH2QfaB9sH3AfdB94H3wfgB+EH0AfRB9IH0wfUB9UH1gfXB9gH2QfaB9sH3AfdB94H3wfgB+EH0AfRB9IH0wfUB9UH1gfXB9gH2QfaB9sH3AfdB94H3wfgB+EH0AfRB9IH0wfUB9UH1gfXB9gH2QfaB9sH3AfdB94H3wfgB+EH0AfRB9IH0wfUB9UH1gfXB9gH2QfaB9sH3AfdB94H3wfgB+EH0AfRB9IH0wfUB9UH1gfXB9gH2QfaB9sH3AfdB94H3wfgB+EH0AfRB9IH0wfUB9UH1gfXB9gH2QfaB9sH3AfdB94H3wfgB+EH0AfRB9IH0wfUB9UH1gfXB9gH2QfaB9sH3AfdB94H3wfgB+EH0AfRB9IH0wfUB9UH1gfXB9gH2QfaB9sH3AfdB94H3wfgB+EH",
          "dtype": "i2"
         },
         "xaxis": "x",
         "y": {
          "bdata": "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",
          "dtype": "f8"
         },
         "yaxis": "y"
        },
        {
         "hovertemplate": "spain=False<br>perturbed=donors_pert4_per_mil<br>year=%{x}<br>donor_count=%{y}<extra></extra>",
         "legendgroup": "False, donors_pert4_per_mil",
         "line": {
          "color": "grey",
          "dash": "dash"
         },
         "marker": {
          "symbol": "circle"
         },
         "mode": "lines",
         "name": "False, donors_pert4_per_mil",
         "opacity": 0.4,
         "showlegend": true,
         "type": "scattergl",
         "x": {
          "bdata": "0AfRB9IH0wfUB9UH1gfXB9gH2QfaB9sH3AfdB94H3wfgB+EH0AfRB9IH0wfUB9UH1gfXB9gH2QfaB9sH3AfdB94H3wfgB+EH0AfRB9IH0wfUB9UH1gfXB9gH2QfaB9sH3AfdB94H3wfgB+EH0AfRB9IH0wfUB9UH1gfXB9gH2QfaB9sH3AfdB94H3wfgB+EH0AfRB9IH0wfUB9UH1gfXB9gH2QfaB9sH3AfdB94H3wfgB+EH0AfRB9IH0wfUB9UH1gfXB9gH2QfaB9sH3AfdB94H3wfgB+EH0AfRB9IH0wfUB9UH1gfXB9gH2QfaB9sH3AfdB94H3wfgB+EH0AfRB9IH0wfUB9UH1gfXB9gH2QfaB9sH3AfdB94H3wfgB+EH0AfRB9IH0wfUB9UH1gfXB9gH2QfaB9sH3AfdB94H3wfgB+EH0AfRB9IH0wfUB9UH1gfXB9gH2QfaB9sH3AfdB94H3wfgB+EH0AfRB9IH0wfUB9UH1gfXB9gH2QfaB9sH3AfdB94H3wfgB+EH0AfRB9IH0wfUB9UH1gfXB9gH2QfaB9sH3AfdB94H3wfgB+EH0AfRB9IH0wfUB9UH1gfXB9gH2QfaB9sH3AfdB94H3wfgB+EH0AfRB9IH0wfUB9UH1gfXB9gH2QfaB9sH3AfdB94H3wfgB+EH0AfRB9IH0wfUB9UH1gfXB9gH2QfaB9sH3AfdB94H3wfgB+EH0AfRB9IH0wfUB9UH1gfXB9gH2QfaB9sH3AfdB94H3wfgB+EH0AfRB9IH0wfUB9UH1gfXB9gH2QfaB9sH3AfdB94H3wfgB+EH",
          "dtype": "i2"
         },
         "xaxis": "x",
         "y": {
          "bdata": "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",
          "dtype": "f8"
         },
         "yaxis": "y"
        },
        {
         "hovertemplate": "spain=True<br>perturbed=total_deceased_donors_per_mil<br>year=%{x}<br>donor_count=%{y}<extra></extra>",
         "legendgroup": "True, total_deceased_donors_per_mil",
         "line": {
          "color": "#9C528B",
          "dash": "solid"
         },
         "marker": {
          "symbol": "circle"
         },
         "mode": "lines",
         "name": "True, total_deceased_donors_per_mil",
         "opacity": 0.4,
         "showlegend": true,
         "type": "scattergl",
         "x": {
          "bdata": "0AfRB9IH0wfUB9UH1gfXB9gH2QfaB9sH3AfdB94H3wfgB+EH",
          "dtype": "i2"
         },
         "xaxis": "x",
         "y": {
          "bdata": "AAAAAAAA+H8AAAAAAAD4fwAAAAAAAPh/F2KQtQOOQUDMyEsB9i9CQAVV32le70FASBlLvoFiQUDmoYtndcZBQLW8ck/rrUFA4b37DlriQUDLfabMD5RAQEoVVCi77EFAr7+C1KyNQUAZL/0g2KRBQNquV00K20FAQ1n1lm8TRECEjKVs5uVFQKDuN58RhkdA",
          "dtype": "f8"
         },
         "yaxis": "y"
        },
        {
         "hovertemplate": "spain=True<br>perturbed=donors_pert1_per_mil<br>year=%{x}<br>donor_count=%{y}<extra></extra>",
         "legendgroup": "True, donors_pert1_per_mil",
         "line": {
          "color": "#9C528B",
          "dash": "dash"
         },
         "marker": {
          "symbol": "circle"
         },
         "mode": "lines",
         "name": "True, donors_pert1_per_mil",
         "opacity": 0.4,
         "showlegend": true,
         "type": "scattergl",
         "x": {
          "bdata": "0AfRB9IH0wfUB9UH1gfXB9gH2QfaB9sH3AfdB94H3wfgB+EH",
          "dtype": "i2"
         },
         "xaxis": "x",
         "y": {
          "bdata": "gep+fBDxPEC1geLqADJFQFMRS0UsFUJAf9y6vAOOQUCtXrgI9i9CQJBZw5beK0NAdNYWOUOIQEBnpGJudcZBQG9BGVbrrUFAA3qqFVriQUDaEFE7/Fw5QO2yyy677EFA26zN2qyNQUBnhMO71m1DQNCgJ4GXxUJAlb9Dnm8TRECWtZ105uVFQBphuacRhkdA",
          "dtype": "f8"
         },
         "yaxis": "y"
        },
        {
         "hovertemplate": "spain=True<br>perturbed=donors_pert2_per_mil<br>year=%{x}<br>donor_count=%{y}<extra></extra>",
         "legendgroup": "True, donors_pert2_per_mil",
         "line": {
          "color": "#9C528B",
          "dash": "dash"
         },
         "marker": {
          "symbol": "circle"
         },
         "mode": "lines",
         "name": "True, donors_pert2_per_mil",
         "opacity": 0.4,
         "showlegend": true,
         "type": "scattergl",
         "x": {
          "bdata": "0AfRB9IH0wfUB9UH1gfXB9gH2QfaB9sH3AfdB94H3wfgB+EH",
          "dtype": "i2"
         },
         "xaxis": "x",
         "y": {
          "bdata": "+OCDDz44QkBTEUtFLBVCQH14FH4U/kdAf9y6vAOOQUCtXrgI9i9CQH6U2nBe70FAB4oDxYFiQUBnpGJudcZBQG9BGVbrrUFAV6GqGMMIQ0A/UMrSD5RAQO2yyy677EFA26zN2qyNQUC49kwn2KRBQBbos1MK20FAKQy15eT7RECWtZ105uVFQBphuacRhkdA",
          "dtype": "f8"
         },
         "yaxis": "y"
        },
        {
         "hovertemplate": "spain=True<br>perturbed=donors_pert3_per_mil<br>year=%{x}<br>donor_count=%{y}<extra></extra>",
         "legendgroup": "True, donors_pert3_per_mil",
         "line": {
          "color": "#9C528B",
          "dash": "dash"
         },
         "marker": {
          "symbol": "circle"
         },
         "mode": "lines",
         "name": "True, donors_pert3_per_mil",
         "opacity": 0.4,
         "showlegend": true,
         "type": "scattergl",
         "x": {
          "bdata": "0AfRB9IH0wfUB9UH1gfXB9gH2QfaB9sH3AfdB94H3wfgB+EH",
          "dtype": "i2"
         },
         "xaxis": "x",
         "y": {
          "bdata": "kbmghRuzREBTEUtFLBVCQFMRS0UsFUJAcbBRjIhZQUC2w5SxcVs8QOiniFbd30RAB4oDxYFiQUBnpGJudcZBQG9BGVbrrUFA59nrPWRjQ0A5Klw98N1CQO2yyy677EFA26zN2qyNQUC49kwn2KRBQDeEVrJIAkNAlb9Dnm8TRECWtZ105uVFQNyyNOxR10ZA",
          "dtype": "f8"
         },
         "yaxis": "y"
        },
        {
         "hovertemplate": "spain=True<br>perturbed=donors_pert4_per_mil<br>year=%{x}<br>donor_count=%{y}<extra></extra>",
         "legendgroup": "True, donors_pert4_per_mil",
         "line": {
          "color": "#9C528B",
          "dash": "dash"
         },
         "marker": {
          "symbol": "circle"
         },
         "mode": "lines",
         "name": "True, donors_pert4_per_mil",
         "opacity": 0.4,
         "showlegend": true,
         "type": "scattergl",
         "x": {
          "bdata": "0AfRB9IH0wfUB9UH1gfXB9gH2QfaB9sH3AfdB94H3wfgB+EH",
          "dtype": "i2"
         },
         "xaxis": "x",
         "y": {
          "bdata": "+OCDDz44QkBvPVW6nhdDQOleLH43+D5Af9y6vAOOQUDLxFUbrflCQH6U2nBe70FAB4oDxYFiQUBnpGJudcZBQG9BGVbrrUFAiXynf8JoQ0A/UMrSD5RAQBq/WGxTzEJA26zN2qyNQUC49kwn2KRBQBbos1MK20FAiXqCeakiQ0CWtZ105uVFQBphuacRhkdA",
          "dtype": "f8"
         },
         "yaxis": "y"
        }
       ],
       "layout": {
        "legend": {
         "title": {
          "text": "spain, perturbed"
         },
         "tracegroupgap": 0
        },
        "margin": {
         "t": 60
        },
        "template": {
         "data": {
          "bar": [
           {
            "error_x": {
             "color": "#2a3f5f"
            },
            "error_y": {
             "color": "#2a3f5f"
            },
            "marker": {
             "line": {
              "color": "#E5ECF6",
              "width": 0.5
             },
             "pattern": {
              "fillmode": "overlay",
              "size": 10,
              "solidity": 0.2
             }
            },
            "type": "bar"
           }
          ],
          "barpolar": [
           {
            "marker": {
             "line": {
              "color": "#E5ECF6",
              "width": 0.5
             },
             "pattern": {
              "fillmode": "overlay",
              "size": 10,
              "solidity": 0.2
             }
            },
            "type": "barpolar"
           }
          ],
          "carpet": [
           {
            "aaxis": {
             "endlinecolor": "#2a3f5f",
             "gridcolor": "white",
             "linecolor": "white",
             "minorgridcolor": "white",
             "startlinecolor": "#2a3f5f"
            },
            "baxis": {
             "endlinecolor": "#2a3f5f",
             "gridcolor": "white",
             "linecolor": "white",
             "minorgridcolor": "white",
             "startlinecolor": "#2a3f5f"
            },
            "type": "carpet"
           }
          ],
          "choropleth": [
           {
            "colorbar": {
             "outlinewidth": 0,
             "ticks": ""
            },
            "type": "choropleth"
           }
          ],
          "contour": [
           {
            "colorbar": {
             "outlinewidth": 0,
             "ticks": ""
            },
            "colorscale": [
             [
              0,
              "#0d0887"
             ],
             [
              0.1111111111111111,
              "#46039f"
             ],
             [
              0.2222222222222222,
              "#7201a8"
             ],
             [
              0.3333333333333333,
              "#9c179e"
             ],
             [
              0.4444444444444444,
              "#bd3786"
             ],
             [
              0.5555555555555556,
              "#d8576b"
             ],
             [
              0.6666666666666666,
              "#ed7953"
             ],
             [
              0.7777777777777778,
              "#fb9f3a"
             ],
             [
              0.8888888888888888,
              "#fdca26"
             ],
             [
              1,
              "#f0f921"
             ]
            ],
            "type": "contour"
           }
          ],
          "contourcarpet": [
           {
            "colorbar": {
             "outlinewidth": 0,
             "ticks": ""
            },
            "type": "contourcarpet"
           }
          ],
          "heatmap": [
           {
            "colorbar": {
             "outlinewidth": 0,
             "ticks": ""
            },
            "colorscale": [
             [
              0,
              "#0d0887"
             ],
             [
              0.1111111111111111,
              "#46039f"
             ],
             [
              0.2222222222222222,
              "#7201a8"
             ],
             [
              0.3333333333333333,
              "#9c179e"
             ],
             [
              0.4444444444444444,
              "#bd3786"
             ],
             [
              0.5555555555555556,
              "#d8576b"
             ],
             [
              0.6666666666666666,
              "#ed7953"
             ],
             [
              0.7777777777777778,
              "#fb9f3a"
             ],
             [
              0.8888888888888888,
              "#fdca26"
             ],
             [
              1,
              "#f0f921"
             ]
            ],
            "type": "heatmap"
           }
          ],
          "histogram": [
           {
            "marker": {
             "pattern": {
              "fillmode": "overlay",
              "size": 10,
              "solidity": 0.2
             }
            },
            "type": "histogram"
           }
          ],
          "histogram2d": [
           {
            "colorbar": {
             "outlinewidth": 0,
             "ticks": ""
            },
            "colorscale": [
             [
              0,
              "#0d0887"
             ],
             [
              0.1111111111111111,
              "#46039f"
             ],
             [
              0.2222222222222222,
              "#7201a8"
             ],
             [
              0.3333333333333333,
              "#9c179e"
             ],
             [
              0.4444444444444444,
              "#bd3786"
             ],
             [
              0.5555555555555556,
              "#d8576b"
             ],
             [
              0.6666666666666666,
              "#ed7953"
             ],
             [
              0.7777777777777778,
              "#fb9f3a"
             ],
             [
              0.8888888888888888,
              "#fdca26"
             ],
             [
              1,
              "#f0f921"
             ]
            ],
            "type": "histogram2d"
           }
          ],
          "histogram2dcontour": [
           {
            "colorbar": {
             "outlinewidth": 0,
             "ticks": ""
            },
            "colorscale": [
             [
              0,
              "#0d0887"
             ],
             [
              0.1111111111111111,
              "#46039f"
             ],
             [
              0.2222222222222222,
              "#7201a8"
             ],
             [
              0.3333333333333333,
              "#9c179e"
             ],
             [
              0.4444444444444444,
              "#bd3786"
             ],
             [
              0.5555555555555556,
              "#d8576b"
             ],
             [
              0.6666666666666666,
              "#ed7953"
             ],
             [
              0.7777777777777778,
              "#fb9f3a"
             ],
             [
              0.8888888888888888,
              "#fdca26"
             ],
             [
              1,
              "#f0f921"
             ]
            ],
            "type": "histogram2dcontour"
           }
          ],
          "mesh3d": [
           {
            "colorbar": {
             "outlinewidth": 0,
             "ticks": ""
            },
            "type": "mesh3d"
           }
          ],
          "parcoords": [
           {
            "line": {
             "colorbar": {
              "outlinewidth": 0,
              "ticks": ""
             }
            },
            "type": "parcoords"
           }
          ],
          "pie": [
           {
            "automargin": true,
            "type": "pie"
           }
          ],
          "scatter": [
           {
            "fillpattern": {
             "fillmode": "overlay",
             "size": 10,
             "solidity": 0.2
            },
            "type": "scatter"
           }
          ],
          "scatter3d": [
           {
            "line": {
             "colorbar": {
              "outlinewidth": 0,
              "ticks": ""
             }
            },
            "marker": {
             "colorbar": {
              "outlinewidth": 0,
              "ticks": ""
             }
            },
            "type": "scatter3d"
           }
          ],
          "scattercarpet": [
           {
            "marker": {
             "colorbar": {
              "outlinewidth": 0,
              "ticks": ""
             }
            },
            "type": "scattercarpet"
           }
          ],
          "scattergeo": [
           {
            "marker": {
             "colorbar": {
              "outlinewidth": 0,
              "ticks": ""
             }
            },
            "type": "scattergeo"
           }
          ],
          "scattergl": [
           {
            "marker": {
             "colorbar": {
              "outlinewidth": 0,
              "ticks": ""
             }
            },
            "type": "scattergl"
           }
          ],
          "scattermap": [
           {
            "marker": {
             "colorbar": {
              "outlinewidth": 0,
              "ticks": ""
             }
            },
            "type": "scattermap"
           }
          ],
          "scattermapbox": [
           {
            "marker": {
             "colorbar": {
              "outlinewidth": 0,
              "ticks": ""
             }
            },
            "type": "scattermapbox"
           }
          ],
          "scatterpolar": [
           {
            "marker": {
             "colorbar": {
              "outlinewidth": 0,
              "ticks": ""
             }
            },
            "type": "scatterpolar"
           }
          ],
          "scatterpolargl": [
           {
            "marker": {
             "colorbar": {
              "outlinewidth": 0,
              "ticks": ""
             }
            },
            "type": "scatterpolargl"
           }
          ],
          "scatterternary": [
           {
            "marker": {
             "colorbar": {
              "outlinewidth": 0,
              "ticks": ""
             }
            },
            "type": "scatterternary"
           }
          ],
          "surface": [
           {
            "colorbar": {
             "outlinewidth": 0,
             "ticks": ""
            },
            "colorscale": [
             [
              0,
              "#0d0887"
             ],
             [
              0.1111111111111111,
              "#46039f"
             ],
             [
              0.2222222222222222,
              "#7201a8"
             ],
             [
              0.3333333333333333,
              "#9c179e"
             ],
             [
              0.4444444444444444,
              "#bd3786"
             ],
             [
              0.5555555555555556,
              "#d8576b"
             ],
             [
              0.6666666666666666,
              "#ed7953"
             ],
             [
              0.7777777777777778,
              "#fb9f3a"
             ],
             [
              0.8888888888888888,
              "#fdca26"
             ],
             [
              1,
              "#f0f921"
             ]
            ],
            "type": "surface"
           }
          ],
          "table": [
           {
            "cells": {
             "fill": {
              "color": "#EBF0F8"
             },
             "line": {
              "color": "white"
             }
            },
            "header": {
             "fill": {
              "color": "#C8D4E3"
             },
             "line": {
              "color": "white"
             }
            },
            "type": "table"
           }
          ]
         },
         "layout": {
          "annotationdefaults": {
           "arrowcolor": "#2a3f5f",
           "arrowhead": 0,
           "arrowwidth": 1
          },
          "autotypenumbers": "strict",
          "coloraxis": {
           "colorbar": {
            "outlinewidth": 0,
            "ticks": ""
           }
          },
          "colorscale": {
           "diverging": [
            [
             0,
             "#8e0152"
            ],
            [
             0.1,
             "#c51b7d"
            ],
            [
             0.2,
             "#de77ae"
            ],
            [
             0.3,
             "#f1b6da"
            ],
            [
             0.4,
             "#fde0ef"
            ],
            [
             0.5,
             "#f7f7f7"
            ],
            [
             0.6,
             "#e6f5d0"
            ],
            [
             0.7,
             "#b8e186"
            ],
            [
             0.8,
             "#7fbc41"
            ],
            [
             0.9,
             "#4d9221"
            ],
            [
             1,
             "#276419"
            ]
           ],
           "sequential": [
            [
             0,
             "#0d0887"
            ],
            [
             0.1111111111111111,
             "#46039f"
            ],
            [
             0.2222222222222222,
             "#7201a8"
            ],
            [
             0.3333333333333333,
             "#9c179e"
            ],
            [
             0.4444444444444444,
             "#bd3786"
            ],
            [
             0.5555555555555556,
             "#d8576b"
            ],
            [
             0.6666666666666666,
             "#ed7953"
            ],
            [
             0.7777777777777778,
             "#fb9f3a"
            ],
            [
             0.8888888888888888,
             "#fdca26"
            ],
            [
             1,
             "#f0f921"
            ]
           ],
           "sequentialminus": [
            [
             0,
             "#0d0887"
            ],
            [
             0.1111111111111111,
             "#46039f"
            ],
            [
             0.2222222222222222,
             "#7201a8"
            ],
            [
             0.3333333333333333,
             "#9c179e"
            ],
            [
             0.4444444444444444,
             "#bd3786"
            ],
            [
             0.5555555555555556,
             "#d8576b"
            ],
            [
             0.6666666666666666,
             "#ed7953"
            ],
            [
             0.7777777777777778,
             "#fb9f3a"
            ],
            [
             0.8888888888888888,
             "#fdca26"
            ],
            [
             1,
             "#f0f921"
            ]
           ]
          },
          "colorway": [
           "#636efa",
           "#EF553B",
           "#00cc96",
           "#ab63fa",
           "#FFA15A",
           "#19d3f3",
           "#FF6692",
           "#B6E880",
           "#FF97FF",
           "#FECB52"
          ],
          "font": {
           "color": "#2a3f5f"
          },
          "geo": {
           "bgcolor": "white",
           "lakecolor": "white",
           "landcolor": "#E5ECF6",
           "showlakes": true,
           "showland": true,
           "subunitcolor": "white"
          },
          "hoverlabel": {
           "align": "left"
          },
          "hovermode": "closest",
          "mapbox": {
           "style": "light"
          },
          "paper_bgcolor": "white",
          "plot_bgcolor": "#E5ECF6",
          "polar": {
           "angularaxis": {
            "gridcolor": "white",
            "linecolor": "white",
            "ticks": ""
           },
           "bgcolor": "#E5ECF6",
           "radialaxis": {
            "gridcolor": "white",
            "linecolor": "white",
            "ticks": ""
           }
          },
          "scene": {
           "xaxis": {
            "backgroundcolor": "#E5ECF6",
            "gridcolor": "white",
            "gridwidth": 2,
            "linecolor": "white",
            "showbackground": true,
            "ticks": "",
            "zerolinecolor": "white"
           },
           "yaxis": {
            "backgroundcolor": "#E5ECF6",
            "gridcolor": "white",
            "gridwidth": 2,
            "linecolor": "white",
            "showbackground": true,
            "ticks": "",
            "zerolinecolor": "white"
           },
           "zaxis": {
            "backgroundcolor": "#E5ECF6",
            "gridcolor": "white",
            "gridwidth": 2,
            "linecolor": "white",
            "showbackground": true,
            "ticks": "",
            "zerolinecolor": "white"
           }
          },
          "shapedefaults": {
           "line": {
            "color": "#2a3f5f"
           }
          },
          "ternary": {
           "aaxis": {
            "gridcolor": "white",
            "linecolor": "white",
            "ticks": ""
           },
           "baxis": {
            "gridcolor": "white",
            "linecolor": "white",
            "ticks": ""
           },
           "bgcolor": "#E5ECF6",
           "caxis": {
            "gridcolor": "white",
            "linecolor": "white",
            "ticks": ""
           }
          },
          "title": {
           "x": 0.05
          },
          "xaxis": {
           "automargin": true,
           "gridcolor": "white",
           "linecolor": "white",
           "ticks": "",
           "title": {
            "standoff": 15
           },
           "zerolinecolor": "white",
           "zerolinewidth": 2
          },
          "yaxis": {
           "automargin": true,
           "gridcolor": "white",
           "linecolor": "white",
           "ticks": "",
           "title": {
            "standoff": 15
           },
           "zerolinecolor": "white",
           "zerolinewidth": 2
          }
         }
        },
        "xaxis": {
         "anchor": "y",
         "domain": [
          0,
          1
         ],
         "title": {
          "text": "year"
         }
        },
        "yaxis": {
         "anchor": "x",
         "domain": [
          0,
          1
         ],
         "title": {
          "text": "donor_count"
         }
        }
       }
      }
     },
     "metadata": {},
     "output_type": "display_data"
    }
   ],
   "source": [
    "# create line plots for these countries with a solid line for the original trendline and dashed lines for the perturbed trendlines\n",
    "fig = px.line(perturbed_organs_clean_min_500_melted,\n",
    "        x=\"year\",\n",
    "        y=\"donor_count\", \n",
    "        line_dash=\"perturbed\",\n",
    "        color=\"spain\", \n",
    "        color_discrete_sequence=[\"grey\", \"#9C528B\"],\n",
    "        line_dash_sequence=[\"solid\", \"dash\", \"dash\", \"dash\", \"dash\"])\n",
    "fig.update_traces(opacity=0.4)"
   ]
  },
  {
   "attachments": {},
   "cell_type": "markdown",
   "metadata": {},
   "source": [
    "\n",
    "#### Stability to a data visualization judgment call\n",
    "\n",
    "Next, let's investigate whether our conclusion changes when we change which country's lines are included in our figure. Our original figure filtered to the *top 20* countries in 2017. Alternative judgment calls that we could have made include not filtering the data at all (i.e., including all countries), filtering just to the countries that had at least one year with 500 reported donations, or filtering to the countries that had at least one year with a donor rate of at least 20 donors per million.\n",
    "\n",
    "The analysis below re-creates the figure using each of these judgment calls."
   ]
  },
  {
   "cell_type": "code",
   "execution_count": 28,
   "metadata": {},
   "outputs": [],
   "source": [
    "# create a function that we can re-use to create each plot\n",
    "def plot_lines(data, \n",
    "               title, \n",
    "               highlight=\"spain\", \n",
    "               colors=[\"grey\", \"#9C528B\"], \n",
    "               legend_title=\"Spain\"):\n",
    "    fig = px.line(data, \n",
    "                  x=\"year\", \n",
    "                  y=\"total_deceased_donors_per_mil\",\n",
    "                  color=highlight, \n",
    "                  color_discrete_sequence=colors)\n",
    "    fig.update_traces(opacity=0.4)\n",
    "    fig.update_layout(title=title,\n",
    "                      yaxis_title=\"Organ donations per million\",\n",
    "                      legend_title=legend_title)\n",
    "    return fig"
   ]
  },
  {
   "cell_type": "code",
   "execution_count": 29,
   "metadata": {},
   "outputs": [
    {
     "data": {
      "application/vnd.plotly.v1+json": {
       "config": {
        "plotlyServerURL": "https://plot.ly"
       },
       "data": [
        {
         "hovertemplate": "spain=False<br>year=%{x}<br>total_deceased_donors_per_mil=%{y}<extra></extra>",
         "legendgroup": "False",
         "line": {
          "color": "grey",
          "dash": "solid"
         },
         "marker": {
          "symbol": "circle"
         },
         "mode": "lines",
         "name": "False",
         "opacity": 0.4,
         "showlegend": true,
         "type": "scattergl",
         "x": {
          "bdata": "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",
          "dtype": "i2"
         },
         "xaxis": "x",
         "y": {
          "bdata": "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",
          "dtype": "f8"
         },
         "yaxis": "y"
        },
        {
         "hovertemplate": "spain=True<br>year=%{x}<br>total_deceased_donors_per_mil=%{y}<extra></extra>",
         "legendgroup": "True",
         "line": {
          "color": "#9C528B",
          "dash": "solid"
         },
         "marker": {
          "symbol": "circle"
         },
         "mode": "lines",
         "name": "True",
         "opacity": 0.4,
         "showlegend": true,
         "type": "scattergl",
         "x": {
          "bdata": "0AfRB9IH0wfUB9UH1gfXB9gH2QfaB9sH3AfdB94H3wfgB+EH",
          "dtype": "i2"
         },
         "xaxis": "x",
         "y": {
          "bdata": "AAAAAAAA+H8AAAAAAAD4fwAAAAAAAPh/F2KQtQOOQUDMyEsB9i9CQAVV32le70FASBlLvoFiQUDmoYtndcZBQLW8ck/rrUFA4b37DlriQUDLfabMD5RAQEoVVCi77EFAr7+C1KyNQUAZL/0g2KRBQNquV00K20FAQ1n1lm8TRECEjKVs5uVFQKDuN58RhkdA",
          "dtype": "f8"
         },
         "yaxis": "y"
        }
       ],
       "layout": {
        "legend": {
         "title": {
          "text": "Spain"
         },
         "tracegroupgap": 0
        },
        "margin": {
         "t": 60
        },
        "template": {
         "data": {
          "bar": [
           {
            "error_x": {
             "color": "#2a3f5f"
            },
            "error_y": {
             "color": "#2a3f5f"
            },
            "marker": {
             "line": {
              "color": "#E5ECF6",
              "width": 0.5
             },
             "pattern": {
              "fillmode": "overlay",
              "size": 10,
              "solidity": 0.2
             }
            },
            "type": "bar"
           }
          ],
          "barpolar": [
           {
            "marker": {
             "line": {
              "color": "#E5ECF6",
              "width": 0.5
             },
             "pattern": {
              "fillmode": "overlay",
              "size": 10,
              "solidity": 0.2
             }
            },
            "type": "barpolar"
           }
          ],
          "carpet": [
           {
            "aaxis": {
             "endlinecolor": "#2a3f5f",
             "gridcolor": "white",
             "linecolor": "white",
             "minorgridcolor": "white",
             "startlinecolor": "#2a3f5f"
            },
            "baxis": {
             "endlinecolor": "#2a3f5f",
             "gridcolor": "white",
             "linecolor": "white",
             "minorgridcolor": "white",
             "startlinecolor": "#2a3f5f"
            },
            "type": "carpet"
           }
          ],
          "choropleth": [
           {
            "colorbar": {
             "outlinewidth": 0,
             "ticks": ""
            },
            "type": "choropleth"
           }
          ],
          "contour": [
           {
            "colorbar": {
             "outlinewidth": 0,
             "ticks": ""
            },
            "colorscale": [
             [
              0,
              "#0d0887"
             ],
             [
              0.1111111111111111,
              "#46039f"
             ],
             [
              0.2222222222222222,
              "#7201a8"
             ],
             [
              0.3333333333333333,
              "#9c179e"
             ],
             [
              0.4444444444444444,
              "#bd3786"
             ],
             [
              0.5555555555555556,
              "#d8576b"
             ],
             [
              0.6666666666666666,
              "#ed7953"
             ],
             [
              0.7777777777777778,
              "#fb9f3a"
             ],
             [
              0.8888888888888888,
              "#fdca26"
             ],
             [
              1,
              "#f0f921"
             ]
            ],
            "type": "contour"
           }
          ],
          "contourcarpet": [
           {
            "colorbar": {
             "outlinewidth": 0,
             "ticks": ""
            },
            "type": "contourcarpet"
           }
          ],
          "heatmap": [
           {
            "colorbar": {
             "outlinewidth": 0,
             "ticks": ""
            },
            "colorscale": [
             [
              0,
              "#0d0887"
             ],
             [
              0.1111111111111111,
              "#46039f"
             ],
             [
              0.2222222222222222,
              "#7201a8"
             ],
             [
              0.3333333333333333,
              "#9c179e"
             ],
             [
              0.4444444444444444,
              "#bd3786"
             ],
             [
              0.5555555555555556,
              "#d8576b"
             ],
             [
              0.6666666666666666,
              "#ed7953"
             ],
             [
              0.7777777777777778,
              "#fb9f3a"
             ],
             [
              0.8888888888888888,
              "#fdca26"
             ],
             [
              1,
              "#f0f921"
             ]
            ],
            "type": "heatmap"
           }
          ],
          "histogram": [
           {
            "marker": {
             "pattern": {
              "fillmode": "overlay",
              "size": 10,
              "solidity": 0.2
             }
            },
            "type": "histogram"
           }
          ],
          "histogram2d": [
           {
            "colorbar": {
             "outlinewidth": 0,
             "ticks": ""
            },
            "colorscale": [
             [
              0,
              "#0d0887"
             ],
             [
              0.1111111111111111,
              "#46039f"
             ],
             [
              0.2222222222222222,
              "#7201a8"
             ],
             [
              0.3333333333333333,
              "#9c179e"
             ],
             [
              0.4444444444444444,
              "#bd3786"
             ],
             [
              0.5555555555555556,
              "#d8576b"
             ],
             [
              0.6666666666666666,
              "#ed7953"
             ],
             [
              0.7777777777777778,
              "#fb9f3a"
             ],
             [
              0.8888888888888888,
              "#fdca26"
             ],
             [
              1,
              "#f0f921"
             ]
            ],
            "type": "histogram2d"
           }
          ],
          "histogram2dcontour": [
           {
            "colorbar": {
             "outlinewidth": 0,
             "ticks": ""
            },
            "colorscale": [
             [
              0,
              "#0d0887"
             ],
             [
              0.1111111111111111,
              "#46039f"
             ],
             [
              0.2222222222222222,
              "#7201a8"
             ],
             [
              0.3333333333333333,
              "#9c179e"
             ],
             [
              0.4444444444444444,
              "#bd3786"
             ],
             [
              0.5555555555555556,
              "#d8576b"
             ],
             [
              0.6666666666666666,
              "#ed7953"
             ],
             [
              0.7777777777777778,
              "#fb9f3a"
             ],
             [
              0.8888888888888888,
              "#fdca26"
             ],
             [
              1,
              "#f0f921"
             ]
            ],
            "type": "histogram2dcontour"
           }
          ],
          "mesh3d": [
           {
            "colorbar": {
             "outlinewidth": 0,
             "ticks": ""
            },
            "type": "mesh3d"
           }
          ],
          "parcoords": [
           {
            "line": {
             "colorbar": {
              "outlinewidth": 0,
              "ticks": ""
             }
            },
            "type": "parcoords"
           }
          ],
          "pie": [
           {
            "automargin": true,
            "type": "pie"
           }
          ],
          "scatter": [
           {
            "fillpattern": {
             "fillmode": "overlay",
             "size": 10,
             "solidity": 0.2
            },
            "type": "scatter"
           }
          ],
          "scatter3d": [
           {
            "line": {
             "colorbar": {
              "outlinewidth": 0,
              "ticks": ""
             }
            },
            "marker": {
             "colorbar": {
              "outlinewidth": 0,
              "ticks": ""
             }
            },
            "type": "scatter3d"
           }
          ],
          "scattercarpet": [
           {
            "marker": {
             "colorbar": {
              "outlinewidth": 0,
              "ticks": ""
             }
            },
            "type": "scattercarpet"
           }
          ],
          "scattergeo": [
           {
            "marker": {
             "colorbar": {
              "outlinewidth": 0,
              "ticks": ""
             }
            },
            "type": "scattergeo"
           }
          ],
          "scattergl": [
           {
            "marker": {
             "colorbar": {
              "outlinewidth": 0,
              "ticks": ""
             }
            },
            "type": "scattergl"
           }
          ],
          "scattermap": [
           {
            "marker": {
             "colorbar": {
              "outlinewidth": 0,
              "ticks": ""
             }
            },
            "type": "scattermap"
           }
          ],
          "scattermapbox": [
           {
            "marker": {
             "colorbar": {
              "outlinewidth": 0,
              "ticks": ""
             }
            },
            "type": "scattermapbox"
           }
          ],
          "scatterpolar": [
           {
            "marker": {
             "colorbar": {
              "outlinewidth": 0,
              "ticks": ""
             }
            },
            "type": "scatterpolar"
           }
          ],
          "scatterpolargl": [
           {
            "marker": {
             "colorbar": {
              "outlinewidth": 0,
              "ticks": ""
             }
            },
            "type": "scatterpolargl"
           }
          ],
          "scatterternary": [
           {
            "marker": {
             "colorbar": {
              "outlinewidth": 0,
              "ticks": ""
             }
            },
            "type": "scatterternary"
           }
          ],
          "surface": [
           {
            "colorbar": {
             "outlinewidth": 0,
             "ticks": ""
            },
            "colorscale": [
             [
              0,
              "#0d0887"
             ],
             [
              0.1111111111111111,
              "#46039f"
             ],
             [
              0.2222222222222222,
              "#7201a8"
             ],
             [
              0.3333333333333333,
              "#9c179e"
             ],
             [
              0.4444444444444444,
              "#bd3786"
             ],
             [
              0.5555555555555556,
              "#d8576b"
             ],
             [
              0.6666666666666666,
              "#ed7953"
             ],
             [
              0.7777777777777778,
              "#fb9f3a"
             ],
             [
              0.8888888888888888,
              "#fdca26"
             ],
             [
              1,
              "#f0f921"
             ]
            ],
            "type": "surface"
           }
          ],
          "table": [
           {
            "cells": {
             "fill": {
              "color": "#EBF0F8"
             },
             "line": {
              "color": "white"
             }
            },
            "header": {
             "fill": {
              "color": "#C8D4E3"
             },
             "line": {
              "color": "white"
             }
            },
            "type": "table"
           }
          ]
         },
         "layout": {
          "annotationdefaults": {
           "arrowcolor": "#2a3f5f",
           "arrowhead": 0,
           "arrowwidth": 1
          },
          "autotypenumbers": "strict",
          "coloraxis": {
           "colorbar": {
            "outlinewidth": 0,
            "ticks": ""
           }
          },
          "colorscale": {
           "diverging": [
            [
             0,
             "#8e0152"
            ],
            [
             0.1,
             "#c51b7d"
            ],
            [
             0.2,
             "#de77ae"
            ],
            [
             0.3,
             "#f1b6da"
            ],
            [
             0.4,
             "#fde0ef"
            ],
            [
             0.5,
             "#f7f7f7"
            ],
            [
             0.6,
             "#e6f5d0"
            ],
            [
             0.7,
             "#b8e186"
            ],
            [
             0.8,
             "#7fbc41"
            ],
            [
             0.9,
             "#4d9221"
            ],
            [
             1,
             "#276419"
            ]
           ],
           "sequential": [
            [
             0,
             "#0d0887"
            ],
            [
             0.1111111111111111,
             "#46039f"
            ],
            [
             0.2222222222222222,
             "#7201a8"
            ],
            [
             0.3333333333333333,
             "#9c179e"
            ],
            [
             0.4444444444444444,
             "#bd3786"
            ],
            [
             0.5555555555555556,
             "#d8576b"
            ],
            [
             0.6666666666666666,
             "#ed7953"
            ],
            [
             0.7777777777777778,
             "#fb9f3a"
            ],
            [
             0.8888888888888888,
             "#fdca26"
            ],
            [
             1,
             "#f0f921"
            ]
           ],
           "sequentialminus": [
            [
             0,
             "#0d0887"
            ],
            [
             0.1111111111111111,
             "#46039f"
            ],
            [
             0.2222222222222222,
             "#7201a8"
            ],
            [
             0.3333333333333333,
             "#9c179e"
            ],
            [
             0.4444444444444444,
             "#bd3786"
            ],
            [
             0.5555555555555556,
             "#d8576b"
            ],
            [
             0.6666666666666666,
             "#ed7953"
            ],
            [
             0.7777777777777778,
             "#fb9f3a"
            ],
            [
             0.8888888888888888,
             "#fdca26"
            ],
            [
             1,
             "#f0f921"
            ]
           ]
          },
          "colorway": [
           "#636efa",
           "#EF553B",
           "#00cc96",
           "#ab63fa",
           "#FFA15A",
           "#19d3f3",
           "#FF6692",
           "#B6E880",
           "#FF97FF",
           "#FECB52"
          ],
          "font": {
           "color": "#2a3f5f"
          },
          "geo": {
           "bgcolor": "white",
           "lakecolor": "white",
           "landcolor": "#E5ECF6",
           "showlakes": true,
           "showland": true,
           "subunitcolor": "white"
          },
          "hoverlabel": {
           "align": "left"
          },
          "hovermode": "closest",
          "mapbox": {
           "style": "light"
          },
          "paper_bgcolor": "white",
          "plot_bgcolor": "#E5ECF6",
          "polar": {
           "angularaxis": {
            "gridcolor": "white",
            "linecolor": "white",
            "ticks": ""
           },
           "bgcolor": "#E5ECF6",
           "radialaxis": {
            "gridcolor": "white",
            "linecolor": "white",
            "ticks": ""
           }
          },
          "scene": {
           "xaxis": {
            "backgroundcolor": "#E5ECF6",
            "gridcolor": "white",
            "gridwidth": 2,
            "linecolor": "white",
            "showbackground": true,
            "ticks": "",
            "zerolinecolor": "white"
           },
           "yaxis": {
            "backgroundcolor": "#E5ECF6",
            "gridcolor": "white",
            "gridwidth": 2,
            "linecolor": "white",
            "showbackground": true,
            "ticks": "",
            "zerolinecolor": "white"
           },
           "zaxis": {
            "backgroundcolor": "#E5ECF6",
            "gridcolor": "white",
            "gridwidth": 2,
            "linecolor": "white",
            "showbackground": true,
            "ticks": "",
            "zerolinecolor": "white"
           }
          },
          "shapedefaults": {
           "line": {
            "color": "#2a3f5f"
           }
          },
          "ternary": {
           "aaxis": {
            "gridcolor": "white",
            "linecolor": "white",
            "ticks": ""
           },
           "baxis": {
            "gridcolor": "white",
            "linecolor": "white",
            "ticks": ""
           },
           "bgcolor": "#E5ECF6",
           "caxis": {
            "gridcolor": "white",
            "linecolor": "white",
            "ticks": ""
           }
          },
          "title": {
           "x": 0.05
          },
          "xaxis": {
           "automargin": true,
           "gridcolor": "white",
           "linecolor": "white",
           "ticks": "",
           "title": {
            "standoff": 15
           },
           "zerolinecolor": "white",
           "zerolinewidth": 2
          },
          "yaxis": {
           "automargin": true,
           "gridcolor": "white",
           "linecolor": "white",
           "ticks": "",
           "title": {
            "standoff": 15
           },
           "zerolinecolor": "white",
           "zerolinewidth": 2
          }
         }
        },
        "title": {
         "text": "(a) No filtering"
        },
        "xaxis": {
         "anchor": "y",
         "domain": [
          0,
          1
         ],
         "title": {
          "text": "year"
         }
        },
        "yaxis": {
         "anchor": "x",
         "domain": [
          0,
          1
         ],
         "title": {
          "text": "Organ donations per million"
         }
        }
       }
      }
     },
     "metadata": {},
     "output_type": "display_data"
    }
   ],
   "source": [
    "# (a) No filter\n",
    "# add a column for highlighting Spain\n",
    "organs_clean_highlight_spain = organs_clean.copy()\n",
    "organs_clean_highlight_spain[\"spain\"] = organs_clean[\"country\"] == \"Spain\"\n",
    "# compute the line plot\n",
    "plot_lines(organs_clean_highlight_spain, \"(a) No filtering\")\n"
   ]
  },
  {
   "cell_type": "code",
   "execution_count": 30,
   "metadata": {},
   "outputs": [
    {
     "data": {
      "application/vnd.plotly.v1+json": {
       "config": {
        "plotlyServerURL": "https://plot.ly"
       },
       "data": [
        {
         "hovertemplate": "spain=False<br>year=%{x}<br>total_deceased_donors_per_mil=%{y}<extra></extra>",
         "legendgroup": "False",
         "line": {
          "color": "grey",
          "dash": "solid"
         },
         "marker": {
          "symbol": "circle"
         },
         "mode": "lines",
         "name": "False",
         "opacity": 0.4,
         "orientation": "v",
         "showlegend": true,
         "type": "scatter",
         "x": {
          "bdata": "0AfRB9IH0wfUB9UH1gfXB9gH2QfaB9sH3AfdB94H3wfgB+EH0AfRB9IH0wfUB9UH1gfXB9gH2QfaB9sH3AfdB94H3wfgB+EH0AfRB9IH0wfUB9UH1gfXB9gH2QfaB9sH3AfdB94H3wfgB+EH0AfRB9IH0wfUB9UH1gfXB9gH2QfaB9sH3AfdB94H3wfgB+EH0AfRB9IH0wfUB9UH1gfXB9gH2QfaB9sH3AfdB94H3wfgB+EH0AfRB9IH0wfUB9UH1gfXB9gH2QfaB9sH3AfdB94H3wfgB+EH0AfRB9IH0wfUB9UH1gfXB9gH2QfaB9sH3AfdB94H3wfgB+EH0AfRB9IH0wfUB9UH1gfXB9gH2QfaB9sH3AfdB94H3wfgB+EH0AfRB9IH0wfUB9UH1gfXB9gH2QfaB9sH3AfdB94H3wfgB+EH0AfRB9IH0wfUB9UH1gfXB9gH2QfaB9sH3AfdB94H3wfgB+EH0AfRB9IH0wfUB9UH1gfXB9gH2QfaB9sH3AfdB94H3wfgB+EH0AfRB9IH0wfUB9UH1gfXB9gH2QfaB9sH3AfdB94H3wfgB+EH0AfRB9IH0wfUB9UH1gfXB9gH2QfaB9sH3AfdB94H3wfgB+EH0AfRB9IH0wfUB9UH1gfXB9gH2QfaB9sH3AfdB94H3wfgB+EH0AfRB9IH0wfUB9UH1gfXB9gH2QfaB9sH3AfdB94H3wfgB+EH0AfRB9IH0wfUB9UH1gfXB9gH2QfaB9sH3AfdB94H3wfgB+EH0AfRB9IH0wfUB9UH1gfXB9gH2QfaB9sH3AfdB94H3wfgB+EH0AfRB9IH0wfUB9UH1gfXB9gH2QfaB9sH3AfdB94H3wfgB+EH0AfRB9IH0wfUB9UH1gfXB9gH2QfaB9sH3AfdB94H3wfgB+EH",
          "dtype": "i2"
         },
         "xaxis": "x",
         "y": {
          "bdata": "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",
          "dtype": "f8"
         },
         "yaxis": "y"
        },
        {
         "hovertemplate": "spain=True<br>year=%{x}<br>total_deceased_donors_per_mil=%{y}<extra></extra>",
         "legendgroup": "True",
         "line": {
          "color": "#9C528B",
          "dash": "solid"
         },
         "marker": {
          "symbol": "circle"
         },
         "mode": "lines",
         "name": "True",
         "opacity": 0.4,
         "orientation": "v",
         "showlegend": true,
         "type": "scatter",
         "x": {
          "bdata": "0AfRB9IH0wfUB9UH1gfXB9gH2QfaB9sH3AfdB94H3wfgB+EH",
          "dtype": "i2"
         },
         "xaxis": "x",
         "y": {
          "bdata": "AAAAAAAA+H8AAAAAAAD4fwAAAAAAAPh/F2KQtQOOQUDMyEsB9i9CQAVV32le70FASBlLvoFiQUDmoYtndcZBQLW8ck/rrUFA4b37DlriQUDLfabMD5RAQEoVVCi77EFAr7+C1KyNQUAZL/0g2KRBQNquV00K20FAQ1n1lm8TRECEjKVs5uVFQKDuN58RhkdA",
          "dtype": "f8"
         },
         "yaxis": "y"
        }
       ],
       "layout": {
        "legend": {
         "title": {
          "text": "Spain"
         },
         "tracegroupgap": 0
        },
        "margin": {
         "t": 60
        },
        "template": {
         "data": {
          "bar": [
           {
            "error_x": {
             "color": "#2a3f5f"
            },
            "error_y": {
             "color": "#2a3f5f"
            },
            "marker": {
             "line": {
              "color": "#E5ECF6",
              "width": 0.5
             },
             "pattern": {
              "fillmode": "overlay",
              "size": 10,
              "solidity": 0.2
             }
            },
            "type": "bar"
           }
          ],
          "barpolar": [
           {
            "marker": {
             "line": {
              "color": "#E5ECF6",
              "width": 0.5
             },
             "pattern": {
              "fillmode": "overlay",
              "size": 10,
              "solidity": 0.2
             }
            },
            "type": "barpolar"
           }
          ],
          "carpet": [
           {
            "aaxis": {
             "endlinecolor": "#2a3f5f",
             "gridcolor": "white",
             "linecolor": "white",
             "minorgridcolor": "white",
             "startlinecolor": "#2a3f5f"
            },
            "baxis": {
             "endlinecolor": "#2a3f5f",
             "gridcolor": "white",
             "linecolor": "white",
             "minorgridcolor": "white",
             "startlinecolor": "#2a3f5f"
            },
            "type": "carpet"
           }
          ],
          "choropleth": [
           {
            "colorbar": {
             "outlinewidth": 0,
             "ticks": ""
            },
            "type": "choropleth"
           }
          ],
          "contour": [
           {
            "colorbar": {
             "outlinewidth": 0,
             "ticks": ""
            },
            "colorscale": [
             [
              0,
              "#0d0887"
             ],
             [
              0.1111111111111111,
              "#46039f"
             ],
             [
              0.2222222222222222,
              "#7201a8"
             ],
             [
              0.3333333333333333,
              "#9c179e"
             ],
             [
              0.4444444444444444,
              "#bd3786"
             ],
             [
              0.5555555555555556,
              "#d8576b"
             ],
             [
              0.6666666666666666,
              "#ed7953"
             ],
             [
              0.7777777777777778,
              "#fb9f3a"
             ],
             [
              0.8888888888888888,
              "#fdca26"
             ],
             [
              1,
              "#f0f921"
             ]
            ],
            "type": "contour"
           }
          ],
          "contourcarpet": [
           {
            "colorbar": {
             "outlinewidth": 0,
             "ticks": ""
            },
            "type": "contourcarpet"
           }
          ],
          "heatmap": [
           {
            "colorbar": {
             "outlinewidth": 0,
             "ticks": ""
            },
            "colorscale": [
             [
              0,
              "#0d0887"
             ],
             [
              0.1111111111111111,
              "#46039f"
             ],
             [
              0.2222222222222222,
              "#7201a8"
             ],
             [
              0.3333333333333333,
              "#9c179e"
             ],
             [
              0.4444444444444444,
              "#bd3786"
             ],
             [
              0.5555555555555556,
              "#d8576b"
             ],
             [
              0.6666666666666666,
              "#ed7953"
             ],
             [
              0.7777777777777778,
              "#fb9f3a"
             ],
             [
              0.8888888888888888,
              "#fdca26"
             ],
             [
              1,
              "#f0f921"
             ]
            ],
            "type": "heatmap"
           }
          ],
          "histogram": [
           {
            "marker": {
             "pattern": {
              "fillmode": "overlay",
              "size": 10,
              "solidity": 0.2
             }
            },
            "type": "histogram"
           }
          ],
          "histogram2d": [
           {
            "colorbar": {
             "outlinewidth": 0,
             "ticks": ""
            },
            "colorscale": [
             [
              0,
              "#0d0887"
             ],
             [
              0.1111111111111111,
              "#46039f"
             ],
             [
              0.2222222222222222,
              "#7201a8"
             ],
             [
              0.3333333333333333,
              "#9c179e"
             ],
             [
              0.4444444444444444,
              "#bd3786"
             ],
             [
              0.5555555555555556,
              "#d8576b"
             ],
             [
              0.6666666666666666,
              "#ed7953"
             ],
             [
              0.7777777777777778,
              "#fb9f3a"
             ],
             [
              0.8888888888888888,
              "#fdca26"
             ],
             [
              1,
              "#f0f921"
             ]
            ],
            "type": "histogram2d"
           }
          ],
          "histogram2dcontour": [
           {
            "colorbar": {
             "outlinewidth": 0,
             "ticks": ""
            },
            "colorscale": [
             [
              0,
              "#0d0887"
             ],
             [
              0.1111111111111111,
              "#46039f"
             ],
             [
              0.2222222222222222,
              "#7201a8"
             ],
             [
              0.3333333333333333,
              "#9c179e"
             ],
             [
              0.4444444444444444,
              "#bd3786"
             ],
             [
              0.5555555555555556,
              "#d8576b"
             ],
             [
              0.6666666666666666,
              "#ed7953"
             ],
             [
              0.7777777777777778,
              "#fb9f3a"
             ],
             [
              0.8888888888888888,
              "#fdca26"
             ],
             [
              1,
              "#f0f921"
             ]
            ],
            "type": "histogram2dcontour"
           }
          ],
          "mesh3d": [
           {
            "colorbar": {
             "outlinewidth": 0,
             "ticks": ""
            },
            "type": "mesh3d"
           }
          ],
          "parcoords": [
           {
            "line": {
             "colorbar": {
              "outlinewidth": 0,
              "ticks": ""
             }
            },
            "type": "parcoords"
           }
          ],
          "pie": [
           {
            "automargin": true,
            "type": "pie"
           }
          ],
          "scatter": [
           {
            "fillpattern": {
             "fillmode": "overlay",
             "size": 10,
             "solidity": 0.2
            },
            "type": "scatter"
           }
          ],
          "scatter3d": [
           {
            "line": {
             "colorbar": {
              "outlinewidth": 0,
              "ticks": ""
             }
            },
            "marker": {
             "colorbar": {
              "outlinewidth": 0,
              "ticks": ""
             }
            },
            "type": "scatter3d"
           }
          ],
          "scattercarpet": [
           {
            "marker": {
             "colorbar": {
              "outlinewidth": 0,
              "ticks": ""
             }
            },
            "type": "scattercarpet"
           }
          ],
          "scattergeo": [
           {
            "marker": {
             "colorbar": {
              "outlinewidth": 0,
              "ticks": ""
             }
            },
            "type": "scattergeo"
           }
          ],
          "scattergl": [
           {
            "marker": {
             "colorbar": {
              "outlinewidth": 0,
              "ticks": ""
             }
            },
            "type": "scattergl"
           }
          ],
          "scattermap": [
           {
            "marker": {
             "colorbar": {
              "outlinewidth": 0,
              "ticks": ""
             }
            },
            "type": "scattermap"
           }
          ],
          "scattermapbox": [
           {
            "marker": {
             "colorbar": {
              "outlinewidth": 0,
              "ticks": ""
             }
            },
            "type": "scattermapbox"
           }
          ],
          "scatterpolar": [
           {
            "marker": {
             "colorbar": {
              "outlinewidth": 0,
              "ticks": ""
             }
            },
            "type": "scatterpolar"
           }
          ],
          "scatterpolargl": [
           {
            "marker": {
             "colorbar": {
              "outlinewidth": 0,
              "ticks": ""
             }
            },
            "type": "scatterpolargl"
           }
          ],
          "scatterternary": [
           {
            "marker": {
             "colorbar": {
              "outlinewidth": 0,
              "ticks": ""
             }
            },
            "type": "scatterternary"
           }
          ],
          "surface": [
           {
            "colorbar": {
             "outlinewidth": 0,
             "ticks": ""
            },
            "colorscale": [
             [
              0,
              "#0d0887"
             ],
             [
              0.1111111111111111,
              "#46039f"
             ],
             [
              0.2222222222222222,
              "#7201a8"
             ],
             [
              0.3333333333333333,
              "#9c179e"
             ],
             [
              0.4444444444444444,
              "#bd3786"
             ],
             [
              0.5555555555555556,
              "#d8576b"
             ],
             [
              0.6666666666666666,
              "#ed7953"
             ],
             [
              0.7777777777777778,
              "#fb9f3a"
             ],
             [
              0.8888888888888888,
              "#fdca26"
             ],
             [
              1,
              "#f0f921"
             ]
            ],
            "type": "surface"
           }
          ],
          "table": [
           {
            "cells": {
             "fill": {
              "color": "#EBF0F8"
             },
             "line": {
              "color": "white"
             }
            },
            "header": {
             "fill": {
              "color": "#C8D4E3"
             },
             "line": {
              "color": "white"
             }
            },
            "type": "table"
           }
          ]
         },
         "layout": {
          "annotationdefaults": {
           "arrowcolor": "#2a3f5f",
           "arrowhead": 0,
           "arrowwidth": 1
          },
          "autotypenumbers": "strict",
          "coloraxis": {
           "colorbar": {
            "outlinewidth": 0,
            "ticks": ""
           }
          },
          "colorscale": {
           "diverging": [
            [
             0,
             "#8e0152"
            ],
            [
             0.1,
             "#c51b7d"
            ],
            [
             0.2,
             "#de77ae"
            ],
            [
             0.3,
             "#f1b6da"
            ],
            [
             0.4,
             "#fde0ef"
            ],
            [
             0.5,
             "#f7f7f7"
            ],
            [
             0.6,
             "#e6f5d0"
            ],
            [
             0.7,
             "#b8e186"
            ],
            [
             0.8,
             "#7fbc41"
            ],
            [
             0.9,
             "#4d9221"
            ],
            [
             1,
             "#276419"
            ]
           ],
           "sequential": [
            [
             0,
             "#0d0887"
            ],
            [
             0.1111111111111111,
             "#46039f"
            ],
            [
             0.2222222222222222,
             "#7201a8"
            ],
            [
             0.3333333333333333,
             "#9c179e"
            ],
            [
             0.4444444444444444,
             "#bd3786"
            ],
            [
             0.5555555555555556,
             "#d8576b"
            ],
            [
             0.6666666666666666,
             "#ed7953"
            ],
            [
             0.7777777777777778,
             "#fb9f3a"
            ],
            [
             0.8888888888888888,
             "#fdca26"
            ],
            [
             1,
             "#f0f921"
            ]
           ],
           "sequentialminus": [
            [
             0,
             "#0d0887"
            ],
            [
             0.1111111111111111,
             "#46039f"
            ],
            [
             0.2222222222222222,
             "#7201a8"
            ],
            [
             0.3333333333333333,
             "#9c179e"
            ],
            [
             0.4444444444444444,
             "#bd3786"
            ],
            [
             0.5555555555555556,
             "#d8576b"
            ],
            [
             0.6666666666666666,
             "#ed7953"
            ],
            [
             0.7777777777777778,
             "#fb9f3a"
            ],
            [
             0.8888888888888888,
             "#fdca26"
            ],
            [
             1,
             "#f0f921"
            ]
           ]
          },
          "colorway": [
           "#636efa",
           "#EF553B",
           "#00cc96",
           "#ab63fa",
           "#FFA15A",
           "#19d3f3",
           "#FF6692",
           "#B6E880",
           "#FF97FF",
           "#FECB52"
          ],
          "font": {
           "color": "#2a3f5f"
          },
          "geo": {
           "bgcolor": "white",
           "lakecolor": "white",
           "landcolor": "#E5ECF6",
           "showlakes": true,
           "showland": true,
           "subunitcolor": "white"
          },
          "hoverlabel": {
           "align": "left"
          },
          "hovermode": "closest",
          "mapbox": {
           "style": "light"
          },
          "paper_bgcolor": "white",
          "plot_bgcolor": "#E5ECF6",
          "polar": {
           "angularaxis": {
            "gridcolor": "white",
            "linecolor": "white",
            "ticks": ""
           },
           "bgcolor": "#E5ECF6",
           "radialaxis": {
            "gridcolor": "white",
            "linecolor": "white",
            "ticks": ""
           }
          },
          "scene": {
           "xaxis": {
            "backgroundcolor": "#E5ECF6",
            "gridcolor": "white",
            "gridwidth": 2,
            "linecolor": "white",
            "showbackground": true,
            "ticks": "",
            "zerolinecolor": "white"
           },
           "yaxis": {
            "backgroundcolor": "#E5ECF6",
            "gridcolor": "white",
            "gridwidth": 2,
            "linecolor": "white",
            "showbackground": true,
            "ticks": "",
            "zerolinecolor": "white"
           },
           "zaxis": {
            "backgroundcolor": "#E5ECF6",
            "gridcolor": "white",
            "gridwidth": 2,
            "linecolor": "white",
            "showbackground": true,
            "ticks": "",
            "zerolinecolor": "white"
           }
          },
          "shapedefaults": {
           "line": {
            "color": "#2a3f5f"
           }
          },
          "ternary": {
           "aaxis": {
            "gridcolor": "white",
            "linecolor": "white",
            "ticks": ""
           },
           "baxis": {
            "gridcolor": "white",
            "linecolor": "white",
            "ticks": ""
           },
           "bgcolor": "#E5ECF6",
           "caxis": {
            "gridcolor": "white",
            "linecolor": "white",
            "ticks": ""
           }
          },
          "title": {
           "x": 0.05
          },
          "xaxis": {
           "automargin": true,
           "gridcolor": "white",
           "linecolor": "white",
           "ticks": "",
           "title": {
            "standoff": 15
           },
           "zerolinecolor": "white",
           "zerolinewidth": 2
          },
          "yaxis": {
           "automargin": true,
           "gridcolor": "white",
           "linecolor": "white",
           "ticks": "",
           "title": {
            "standoff": 15
           },
           "zerolinecolor": "white",
           "zerolinewidth": 2
          }
         }
        },
        "title": {
         "text": "(b) Top 20 countries in 2017"
        },
        "xaxis": {
         "anchor": "y",
         "domain": [
          0,
          1
         ],
         "title": {
          "text": "year"
         }
        },
        "yaxis": {
         "anchor": "x",
         "domain": [
          0,
          1
         ],
         "title": {
          "text": "Organ donations per million"
         }
        }
       }
      }
     },
     "metadata": {},
     "output_type": "display_data"
    }
   ],
   "source": [
    "# (b) Top 20 countries in 2017\n",
    "# filter to the top 20 countries in 2017\n",
    "organs_clean_2017 = organs_clean.query('year == 2017').copy()\n",
    "top_20_countries = organs_clean_2017.nlargest(n=20, columns=\"total_deceased_donors_imputed_per_mil\")[\"country\"]\n",
    "organs_clean_top_20 = organs_clean.query('country in @top_20_countries').copy()\n",
    "# add highlight for spain\n",
    "organs_clean_top_20[\"spain\"] = organs_clean_top_20[\"country\"] == \"Spain\"\n",
    "plot_lines(organs_clean_top_20, \"(b) Top 20 countries in 2017\")"
   ]
  },
  {
   "cell_type": "code",
   "execution_count": 31,
   "metadata": {},
   "outputs": [
    {
     "data": {
      "application/vnd.plotly.v1+json": {
       "config": {
        "plotlyServerURL": "https://plot.ly"
       },
       "data": [
        {
         "hovertemplate": "spain=False<br>year=%{x}<br>total_deceased_donors_per_mil=%{y}<extra></extra>",
         "legendgroup": "False",
         "line": {
          "color": "grey",
          "dash": "solid"
         },
         "marker": {
          "symbol": "circle"
         },
         "mode": "lines",
         "name": "False",
         "opacity": 0.4,
         "orientation": "v",
         "showlegend": true,
         "type": "scatter",
         "x": {
          "bdata": "0AfRB9IH0wfUB9UH1gfXB9gH2QfaB9sH3AfdB94H3wfgB+EH0AfRB9IH0wfUB9UH1gfXB9gH2QfaB9sH3AfdB94H3wfgB+EH0AfRB9IH0wfUB9UH1gfXB9gH2QfaB9sH3AfdB94H3wfgB+EH0AfRB9IH0wfUB9UH1gfXB9gH2QfaB9sH3AfdB94H3wfgB+EH0AfRB9IH0wfUB9UH1gfXB9gH2QfaB9sH3AfdB94H3wfgB+EH0AfRB9IH0wfUB9UH1gfXB9gH2QfaB9sH3AfdB94H3wfgB+EH0AfRB9IH0wfUB9UH1gfXB9gH2QfaB9sH3AfdB94H3wfgB+EH0AfRB9IH0wfUB9UH1gfXB9gH2QfaB9sH3AfdB94H3wfgB+EH0AfRB9IH0wfUB9UH1gfXB9gH2QfaB9sH3AfdB94H3wfgB+EH0AfRB9IH0wfUB9UH1gfXB9gH2QfaB9sH3AfdB94H3wfgB+EH0AfRB9IH0wfUB9UH1gfXB9gH2QfaB9sH3AfdB94H3wfgB+EH0AfRB9IH0wfUB9UH1gfXB9gH2QfaB9sH3AfdB94H3wfgB+EH0AfRB9IH0wfUB9UH1gfXB9gH2QfaB9sH3AfdB94H3wfgB+EH0AfRB9IH0wfUB9UH1gfXB9gH2QfaB9sH3AfdB94H3wfgB+EH0AfRB9IH0wfUB9UH1gfXB9gH2QfaB9sH3AfdB94H3wfgB+EH0AfRB9IH0wfUB9UH1gfXB9gH2QfaB9sH3AfdB94H3wfgB+EH0AfRB9IH0wfUB9UH1gfXB9gH2QfaB9sH3AfdB94H3wfgB+EH",
          "dtype": "i2"
         },
         "xaxis": "x",
         "y": {
          "bdata": "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",
          "dtype": "f8"
         },
         "yaxis": "y"
        },
        {
         "hovertemplate": "spain=True<br>year=%{x}<br>total_deceased_donors_per_mil=%{y}<extra></extra>",
         "legendgroup": "True",
         "line": {
          "color": "#9C528B",
          "dash": "solid"
         },
         "marker": {
          "symbol": "circle"
         },
         "mode": "lines",
         "name": "True",
         "opacity": 0.4,
         "orientation": "v",
         "showlegend": true,
         "type": "scatter",
         "x": {
          "bdata": "0AfRB9IH0wfUB9UH1gfXB9gH2QfaB9sH3AfdB94H3wfgB+EH",
          "dtype": "i2"
         },
         "xaxis": "x",
         "y": {
          "bdata": "AAAAAAAA+H8AAAAAAAD4fwAAAAAAAPh/F2KQtQOOQUDMyEsB9i9CQAVV32le70FASBlLvoFiQUDmoYtndcZBQLW8ck/rrUFA4b37DlriQUDLfabMD5RAQEoVVCi77EFAr7+C1KyNQUAZL/0g2KRBQNquV00K20FAQ1n1lm8TRECEjKVs5uVFQKDuN58RhkdA",
          "dtype": "f8"
         },
         "yaxis": "y"
        }
       ],
       "layout": {
        "legend": {
         "title": {
          "text": "Spain"
         },
         "tracegroupgap": 0
        },
        "margin": {
         "t": 60
        },
        "template": {
         "data": {
          "bar": [
           {
            "error_x": {
             "color": "#2a3f5f"
            },
            "error_y": {
             "color": "#2a3f5f"
            },
            "marker": {
             "line": {
              "color": "#E5ECF6",
              "width": 0.5
             },
             "pattern": {
              "fillmode": "overlay",
              "size": 10,
              "solidity": 0.2
             }
            },
            "type": "bar"
           }
          ],
          "barpolar": [
           {
            "marker": {
             "line": {
              "color": "#E5ECF6",
              "width": 0.5
             },
             "pattern": {
              "fillmode": "overlay",
              "size": 10,
              "solidity": 0.2
             }
            },
            "type": "barpolar"
           }
          ],
          "carpet": [
           {
            "aaxis": {
             "endlinecolor": "#2a3f5f",
             "gridcolor": "white",
             "linecolor": "white",
             "minorgridcolor": "white",
             "startlinecolor": "#2a3f5f"
            },
            "baxis": {
             "endlinecolor": "#2a3f5f",
             "gridcolor": "white",
             "linecolor": "white",
             "minorgridcolor": "white",
             "startlinecolor": "#2a3f5f"
            },
            "type": "carpet"
           }
          ],
          "choropleth": [
           {
            "colorbar": {
             "outlinewidth": 0,
             "ticks": ""
            },
            "type": "choropleth"
           }
          ],
          "contour": [
           {
            "colorbar": {
             "outlinewidth": 0,
             "ticks": ""
            },
            "colorscale": [
             [
              0,
              "#0d0887"
             ],
             [
              0.1111111111111111,
              "#46039f"
             ],
             [
              0.2222222222222222,
              "#7201a8"
             ],
             [
              0.3333333333333333,
              "#9c179e"
             ],
             [
              0.4444444444444444,
              "#bd3786"
             ],
             [
              0.5555555555555556,
              "#d8576b"
             ],
             [
              0.6666666666666666,
              "#ed7953"
             ],
             [
              0.7777777777777778,
              "#fb9f3a"
             ],
             [
              0.8888888888888888,
              "#fdca26"
             ],
             [
              1,
              "#f0f921"
             ]
            ],
            "type": "contour"
           }
          ],
          "contourcarpet": [
           {
            "colorbar": {
             "outlinewidth": 0,
             "ticks": ""
            },
            "type": "contourcarpet"
           }
          ],
          "heatmap": [
           {
            "colorbar": {
             "outlinewidth": 0,
             "ticks": ""
            },
            "colorscale": [
             [
              0,
              "#0d0887"
             ],
             [
              0.1111111111111111,
              "#46039f"
             ],
             [
              0.2222222222222222,
              "#7201a8"
             ],
             [
              0.3333333333333333,
              "#9c179e"
             ],
             [
              0.4444444444444444,
              "#bd3786"
             ],
             [
              0.5555555555555556,
              "#d8576b"
             ],
             [
              0.6666666666666666,
              "#ed7953"
             ],
             [
              0.7777777777777778,
              "#fb9f3a"
             ],
             [
              0.8888888888888888,
              "#fdca26"
             ],
             [
              1,
              "#f0f921"
             ]
            ],
            "type": "heatmap"
           }
          ],
          "histogram": [
           {
            "marker": {
             "pattern": {
              "fillmode": "overlay",
              "size": 10,
              "solidity": 0.2
             }
            },
            "type": "histogram"
           }
          ],
          "histogram2d": [
           {
            "colorbar": {
             "outlinewidth": 0,
             "ticks": ""
            },
            "colorscale": [
             [
              0,
              "#0d0887"
             ],
             [
              0.1111111111111111,
              "#46039f"
             ],
             [
              0.2222222222222222,
              "#7201a8"
             ],
             [
              0.3333333333333333,
              "#9c179e"
             ],
             [
              0.4444444444444444,
              "#bd3786"
             ],
             [
              0.5555555555555556,
              "#d8576b"
             ],
             [
              0.6666666666666666,
              "#ed7953"
             ],
             [
              0.7777777777777778,
              "#fb9f3a"
             ],
             [
              0.8888888888888888,
              "#fdca26"
             ],
             [
              1,
              "#f0f921"
             ]
            ],
            "type": "histogram2d"
           }
          ],
          "histogram2dcontour": [
           {
            "colorbar": {
             "outlinewidth": 0,
             "ticks": ""
            },
            "colorscale": [
             [
              0,
              "#0d0887"
             ],
             [
              0.1111111111111111,
              "#46039f"
             ],
             [
              0.2222222222222222,
              "#7201a8"
             ],
             [
              0.3333333333333333,
              "#9c179e"
             ],
             [
              0.4444444444444444,
              "#bd3786"
             ],
             [
              0.5555555555555556,
              "#d8576b"
             ],
             [
              0.6666666666666666,
              "#ed7953"
             ],
             [
              0.7777777777777778,
              "#fb9f3a"
             ],
             [
              0.8888888888888888,
              "#fdca26"
             ],
             [
              1,
              "#f0f921"
             ]
            ],
            "type": "histogram2dcontour"
           }
          ],
          "mesh3d": [
           {
            "colorbar": {
             "outlinewidth": 0,
             "ticks": ""
            },
            "type": "mesh3d"
           }
          ],
          "parcoords": [
           {
            "line": {
             "colorbar": {
              "outlinewidth": 0,
              "ticks": ""
             }
            },
            "type": "parcoords"
           }
          ],
          "pie": [
           {
            "automargin": true,
            "type": "pie"
           }
          ],
          "scatter": [
           {
            "fillpattern": {
             "fillmode": "overlay",
             "size": 10,
             "solidity": 0.2
            },
            "type": "scatter"
           }
          ],
          "scatter3d": [
           {
            "line": {
             "colorbar": {
              "outlinewidth": 0,
              "ticks": ""
             }
            },
            "marker": {
             "colorbar": {
              "outlinewidth": 0,
              "ticks": ""
             }
            },
            "type": "scatter3d"
           }
          ],
          "scattercarpet": [
           {
            "marker": {
             "colorbar": {
              "outlinewidth": 0,
              "ticks": ""
             }
            },
            "type": "scattercarpet"
           }
          ],
          "scattergeo": [
           {
            "marker": {
             "colorbar": {
              "outlinewidth": 0,
              "ticks": ""
             }
            },
            "type": "scattergeo"
           }
          ],
          "scattergl": [
           {
            "marker": {
             "colorbar": {
              "outlinewidth": 0,
              "ticks": ""
             }
            },
            "type": "scattergl"
           }
          ],
          "scattermap": [
           {
            "marker": {
             "colorbar": {
              "outlinewidth": 0,
              "ticks": ""
             }
            },
            "type": "scattermap"
           }
          ],
          "scattermapbox": [
           {
            "marker": {
             "colorbar": {
              "outlinewidth": 0,
              "ticks": ""
             }
            },
            "type": "scattermapbox"
           }
          ],
          "scatterpolar": [
           {
            "marker": {
             "colorbar": {
              "outlinewidth": 0,
              "ticks": ""
             }
            },
            "type": "scatterpolar"
           }
          ],
          "scatterpolargl": [
           {
            "marker": {
             "colorbar": {
              "outlinewidth": 0,
              "ticks": ""
             }
            },
            "type": "scatterpolargl"
           }
          ],
          "scatterternary": [
           {
            "marker": {
             "colorbar": {
              "outlinewidth": 0,
              "ticks": ""
             }
            },
            "type": "scatterternary"
           }
          ],
          "surface": [
           {
            "colorbar": {
             "outlinewidth": 0,
             "ticks": ""
            },
            "colorscale": [
             [
              0,
              "#0d0887"
             ],
             [
              0.1111111111111111,
              "#46039f"
             ],
             [
              0.2222222222222222,
              "#7201a8"
             ],
             [
              0.3333333333333333,
              "#9c179e"
             ],
             [
              0.4444444444444444,
              "#bd3786"
             ],
             [
              0.5555555555555556,
              "#d8576b"
             ],
             [
              0.6666666666666666,
              "#ed7953"
             ],
             [
              0.7777777777777778,
              "#fb9f3a"
             ],
             [
              0.8888888888888888,
              "#fdca26"
             ],
             [
              1,
              "#f0f921"
             ]
            ],
            "type": "surface"
           }
          ],
          "table": [
           {
            "cells": {
             "fill": {
              "color": "#EBF0F8"
             },
             "line": {
              "color": "white"
             }
            },
            "header": {
             "fill": {
              "color": "#C8D4E3"
             },
             "line": {
              "color": "white"
             }
            },
            "type": "table"
           }
          ]
         },
         "layout": {
          "annotationdefaults": {
           "arrowcolor": "#2a3f5f",
           "arrowhead": 0,
           "arrowwidth": 1
          },
          "autotypenumbers": "strict",
          "coloraxis": {
           "colorbar": {
            "outlinewidth": 0,
            "ticks": ""
           }
          },
          "colorscale": {
           "diverging": [
            [
             0,
             "#8e0152"
            ],
            [
             0.1,
             "#c51b7d"
            ],
            [
             0.2,
             "#de77ae"
            ],
            [
             0.3,
             "#f1b6da"
            ],
            [
             0.4,
             "#fde0ef"
            ],
            [
             0.5,
             "#f7f7f7"
            ],
            [
             0.6,
             "#e6f5d0"
            ],
            [
             0.7,
             "#b8e186"
            ],
            [
             0.8,
             "#7fbc41"
            ],
            [
             0.9,
             "#4d9221"
            ],
            [
             1,
             "#276419"
            ]
           ],
           "sequential": [
            [
             0,
             "#0d0887"
            ],
            [
             0.1111111111111111,
             "#46039f"
            ],
            [
             0.2222222222222222,
             "#7201a8"
            ],
            [
             0.3333333333333333,
             "#9c179e"
            ],
            [
             0.4444444444444444,
             "#bd3786"
            ],
            [
             0.5555555555555556,
             "#d8576b"
            ],
            [
             0.6666666666666666,
             "#ed7953"
            ],
            [
             0.7777777777777778,
             "#fb9f3a"
            ],
            [
             0.8888888888888888,
             "#fdca26"
            ],
            [
             1,
             "#f0f921"
            ]
           ],
           "sequentialminus": [
            [
             0,
             "#0d0887"
            ],
            [
             0.1111111111111111,
             "#46039f"
            ],
            [
             0.2222222222222222,
             "#7201a8"
            ],
            [
             0.3333333333333333,
             "#9c179e"
            ],
            [
             0.4444444444444444,
             "#bd3786"
            ],
            [
             0.5555555555555556,
             "#d8576b"
            ],
            [
             0.6666666666666666,
             "#ed7953"
            ],
            [
             0.7777777777777778,
             "#fb9f3a"
            ],
            [
             0.8888888888888888,
             "#fdca26"
            ],
            [
             1,
             "#f0f921"
            ]
           ]
          },
          "colorway": [
           "#636efa",
           "#EF553B",
           "#00cc96",
           "#ab63fa",
           "#FFA15A",
           "#19d3f3",
           "#FF6692",
           "#B6E880",
           "#FF97FF",
           "#FECB52"
          ],
          "font": {
           "color": "#2a3f5f"
          },
          "geo": {
           "bgcolor": "white",
           "lakecolor": "white",
           "landcolor": "#E5ECF6",
           "showlakes": true,
           "showland": true,
           "subunitcolor": "white"
          },
          "hoverlabel": {
           "align": "left"
          },
          "hovermode": "closest",
          "mapbox": {
           "style": "light"
          },
          "paper_bgcolor": "white",
          "plot_bgcolor": "#E5ECF6",
          "polar": {
           "angularaxis": {
            "gridcolor": "white",
            "linecolor": "white",
            "ticks": ""
           },
           "bgcolor": "#E5ECF6",
           "radialaxis": {
            "gridcolor": "white",
            "linecolor": "white",
            "ticks": ""
           }
          },
          "scene": {
           "xaxis": {
            "backgroundcolor": "#E5ECF6",
            "gridcolor": "white",
            "gridwidth": 2,
            "linecolor": "white",
            "showbackground": true,
            "ticks": "",
            "zerolinecolor": "white"
           },
           "yaxis": {
            "backgroundcolor": "#E5ECF6",
            "gridcolor": "white",
            "gridwidth": 2,
            "linecolor": "white",
            "showbackground": true,
            "ticks": "",
            "zerolinecolor": "white"
           },
           "zaxis": {
            "backgroundcolor": "#E5ECF6",
            "gridcolor": "white",
            "gridwidth": 2,
            "linecolor": "white",
            "showbackground": true,
            "ticks": "",
            "zerolinecolor": "white"
           }
          },
          "shapedefaults": {
           "line": {
            "color": "#2a3f5f"
           }
          },
          "ternary": {
           "aaxis": {
            "gridcolor": "white",
            "linecolor": "white",
            "ticks": ""
           },
           "baxis": {
            "gridcolor": "white",
            "linecolor": "white",
            "ticks": ""
           },
           "bgcolor": "#E5ECF6",
           "caxis": {
            "gridcolor": "white",
            "linecolor": "white",
            "ticks": ""
           }
          },
          "title": {
           "x": 0.05
          },
          "xaxis": {
           "automargin": true,
           "gridcolor": "white",
           "linecolor": "white",
           "ticks": "",
           "title": {
            "standoff": 15
           },
           "zerolinecolor": "white",
           "zerolinewidth": 2
          },
          "yaxis": {
           "automargin": true,
           "gridcolor": "white",
           "linecolor": "white",
           "ticks": "",
           "title": {
            "standoff": 15
           },
           "zerolinecolor": "white",
           "zerolinewidth": 2
          }
         }
        },
        "title": {
         "text": "(c) At least 500 donors"
        },
        "xaxis": {
         "anchor": "y",
         "domain": [
          0,
          1
         ],
         "title": {
          "text": "year"
         }
        },
        "yaxis": {
         "anchor": "x",
         "domain": [
          0,
          1
         ],
         "title": {
          "text": "Organ donations per million"
         }
        }
       }
      }
     },
     "metadata": {},
     "output_type": "display_data"
    }
   ],
   "source": [
    "# (c) At least 500 donors\n",
    "# filter to the countries with at least 500 total donors in a single year\n",
    "organs_clean_min_500 = organs_clean[organs_clean[\"country\"].isin(countries_500_donors)].copy()\n",
    "# add highlight for spain\n",
    "organs_clean_min_500[\"spain\"] = organs_clean_min_500[\"country\"] == \"Spain\"\n",
    "# compute the line plot\n",
    "plot_lines(organs_clean_min_500, \"(c) At least 500 donors\")"
   ]
  },
  {
   "cell_type": "code",
   "execution_count": 32,
   "metadata": {},
   "outputs": [
    {
     "data": {
      "application/vnd.plotly.v1+json": {
       "config": {
        "plotlyServerURL": "https://plot.ly"
       },
       "data": [
        {
         "hovertemplate": "spain=False<br>year=%{x}<br>total_deceased_donors_per_mil=%{y}<extra></extra>",
         "legendgroup": "False",
         "line": {
          "color": "grey",
          "dash": "solid"
         },
         "marker": {
          "symbol": "circle"
         },
         "mode": "lines",
         "name": "False",
         "opacity": 0.4,
         "orientation": "v",
         "showlegend": true,
         "type": "scatter",
         "x": {
          "bdata": "0AfRB9IH0wfUB9UH1gfXB9gH2QfaB9sH3AfdB94H3wfgB+EH0AfRB9IH0wfUB9UH1gfXB9gH2QfaB9sH3AfdB94H3wfgB+EH0AfRB9IH0wfUB9UH1gfXB9gH2QfaB9sH3AfdB94H3wfgB+EH0AfRB9IH0wfUB9UH1gfXB9gH2QfaB9sH3AfdB94H3wfgB+EH0AfRB9IH0wfUB9UH1gfXB9gH2QfaB9sH3AfdB94H3wfgB+EH0AfRB9IH0wfUB9UH1gfXB9gH2QfaB9sH3AfdB94H3wfgB+EH0AfRB9IH0wfUB9UH1gfXB9gH2QfaB9sH3AfdB94H3wfgB+EH0AfRB9IH0wfUB9UH1gfXB9gH2QfaB9sH3AfdB94H3wfgB+EH0AfRB9IH0wfUB9UH1gfXB9gH2QfaB9sH3AfdB94H3wfgB+EH0AfRB9IH0wfUB9UH1gfXB9gH2QfaB9sH3AfdB94H3wfgB+EH0AfRB9IH0wfUB9UH1gfXB9gH2QfaB9sH3AfdB94H3wfgB+EH0AfRB9IH0wfUB9UH1gfXB9gH2QfaB9sH3AfdB94H3wfgB+EH0AfRB9IH0wfUB9UH1gfXB9gH2QfaB9sH3AfdB94H3wfgB+EH0AfRB9IH0wfUB9UH1gfXB9gH2QfaB9sH3AfdB94H3wfgB+EH0AfRB9IH0wfUB9UH1gfXB9gH2QfaB9sH3AfdB94H3wfgB+EH0AfRB9IH0wfUB9UH1gfXB9gH2QfaB9sH3AfdB94H3wfgB+EH0AfRB9IH0wfUB9UH1gfXB9gH2QfaB9sH3AfdB94H3wfgB+EH0AfRB9IH0wfUB9UH1gfXB9gH2QfaB9sH3AfdB94H3wfgB+EH0AfRB9IH0wfUB9UH1gfXB9gH2QfaB9sH3AfdB94H3wfgB+EH0AfRB9IH0wfUB9UH1gfXB9gH2QfaB9sH3AfdB94H3wfgB+EH0AfRB9IH0wfUB9UH1gfXB9gH2QfaB9sH3AfdB94H3wfgB+EH0AfRB9IH0wfUB9UH1gfXB9gH2QfaB9sH3AfdB94H3wfgB+EH0AfRB9IH0wfUB9UH1gfXB9gH2QfaB9sH3AfdB94H3wfgB+EH",
          "dtype": "i2"
         },
         "xaxis": "x",
         "y": {
          "bdata": "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",
          "dtype": "f8"
         },
         "yaxis": "y"
        },
        {
         "hovertemplate": "spain=True<br>year=%{x}<br>total_deceased_donors_per_mil=%{y}<extra></extra>",
         "legendgroup": "True",
         "line": {
          "color": "#9C528B",
          "dash": "solid"
         },
         "marker": {
          "symbol": "circle"
         },
         "mode": "lines",
         "name": "True",
         "opacity": 0.4,
         "orientation": "v",
         "showlegend": true,
         "type": "scatter",
         "x": {
          "bdata": "0AfRB9IH0wfUB9UH1gfXB9gH2QfaB9sH3AfdB94H3wfgB+EH",
          "dtype": "i2"
         },
         "xaxis": "x",
         "y": {
          "bdata": "AAAAAAAA+H8AAAAAAAD4fwAAAAAAAPh/F2KQtQOOQUDMyEsB9i9CQAVV32le70FASBlLvoFiQUDmoYtndcZBQLW8ck/rrUFA4b37DlriQUDLfabMD5RAQEoVVCi77EFAr7+C1KyNQUAZL/0g2KRBQNquV00K20FAQ1n1lm8TRECEjKVs5uVFQKDuN58RhkdA",
          "dtype": "f8"
         },
         "yaxis": "y"
        }
       ],
       "layout": {
        "legend": {
         "title": {
          "text": "Spain"
         },
         "tracegroupgap": 0
        },
        "margin": {
         "t": 60
        },
        "template": {
         "data": {
          "bar": [
           {
            "error_x": {
             "color": "#2a3f5f"
            },
            "error_y": {
             "color": "#2a3f5f"
            },
            "marker": {
             "line": {
              "color": "#E5ECF6",
              "width": 0.5
             },
             "pattern": {
              "fillmode": "overlay",
              "size": 10,
              "solidity": 0.2
             }
            },
            "type": "bar"
           }
          ],
          "barpolar": [
           {
            "marker": {
             "line": {
              "color": "#E5ECF6",
              "width": 0.5
             },
             "pattern": {
              "fillmode": "overlay",
              "size": 10,
              "solidity": 0.2
             }
            },
            "type": "barpolar"
           }
          ],
          "carpet": [
           {
            "aaxis": {
             "endlinecolor": "#2a3f5f",
             "gridcolor": "white",
             "linecolor": "white",
             "minorgridcolor": "white",
             "startlinecolor": "#2a3f5f"
            },
            "baxis": {
             "endlinecolor": "#2a3f5f",
             "gridcolor": "white",
             "linecolor": "white",
             "minorgridcolor": "white",
             "startlinecolor": "#2a3f5f"
            },
            "type": "carpet"
           }
          ],
          "choropleth": [
           {
            "colorbar": {
             "outlinewidth": 0,
             "ticks": ""
            },
            "type": "choropleth"
           }
          ],
          "contour": [
           {
            "colorbar": {
             "outlinewidth": 0,
             "ticks": ""
            },
            "colorscale": [
             [
              0,
              "#0d0887"
             ],
             [
              0.1111111111111111,
              "#46039f"
             ],
             [
              0.2222222222222222,
              "#7201a8"
             ],
             [
              0.3333333333333333,
              "#9c179e"
             ],
             [
              0.4444444444444444,
              "#bd3786"
             ],
             [
              0.5555555555555556,
              "#d8576b"
             ],
             [
              0.6666666666666666,
              "#ed7953"
             ],
             [
              0.7777777777777778,
              "#fb9f3a"
             ],
             [
              0.8888888888888888,
              "#fdca26"
             ],
             [
              1,
              "#f0f921"
             ]
            ],
            "type": "contour"
           }
          ],
          "contourcarpet": [
           {
            "colorbar": {
             "outlinewidth": 0,
             "ticks": ""
            },
            "type": "contourcarpet"
           }
          ],
          "heatmap": [
           {
            "colorbar": {
             "outlinewidth": 0,
             "ticks": ""
            },
            "colorscale": [
             [
              0,
              "#0d0887"
             ],
             [
              0.1111111111111111,
              "#46039f"
             ],
             [
              0.2222222222222222,
              "#7201a8"
             ],
             [
              0.3333333333333333,
              "#9c179e"
             ],
             [
              0.4444444444444444,
              "#bd3786"
             ],
             [
              0.5555555555555556,
              "#d8576b"
             ],
             [
              0.6666666666666666,
              "#ed7953"
             ],
             [
              0.7777777777777778,
              "#fb9f3a"
             ],
             [
              0.8888888888888888,
              "#fdca26"
             ],
             [
              1,
              "#f0f921"
             ]
            ],
            "type": "heatmap"
           }
          ],
          "histogram": [
           {
            "marker": {
             "pattern": {
              "fillmode": "overlay",
              "size": 10,
              "solidity": 0.2
             }
            },
            "type": "histogram"
           }
          ],
          "histogram2d": [
           {
            "colorbar": {
             "outlinewidth": 0,
             "ticks": ""
            },
            "colorscale": [
             [
              0,
              "#0d0887"
             ],
             [
              0.1111111111111111,
              "#46039f"
             ],
             [
              0.2222222222222222,
              "#7201a8"
             ],
             [
              0.3333333333333333,
              "#9c179e"
             ],
             [
              0.4444444444444444,
              "#bd3786"
             ],
             [
              0.5555555555555556,
              "#d8576b"
             ],
             [
              0.6666666666666666,
              "#ed7953"
             ],
             [
              0.7777777777777778,
              "#fb9f3a"
             ],
             [
              0.8888888888888888,
              "#fdca26"
             ],
             [
              1,
              "#f0f921"
             ]
            ],
            "type": "histogram2d"
           }
          ],
          "histogram2dcontour": [
           {
            "colorbar": {
             "outlinewidth": 0,
             "ticks": ""
            },
            "colorscale": [
             [
              0,
              "#0d0887"
             ],
             [
              0.1111111111111111,
              "#46039f"
             ],
             [
              0.2222222222222222,
              "#7201a8"
             ],
             [
              0.3333333333333333,
              "#9c179e"
             ],
             [
              0.4444444444444444,
              "#bd3786"
             ],
             [
              0.5555555555555556,
              "#d8576b"
             ],
             [
              0.6666666666666666,
              "#ed7953"
             ],
             [
              0.7777777777777778,
              "#fb9f3a"
             ],
             [
              0.8888888888888888,
              "#fdca26"
             ],
             [
              1,
              "#f0f921"
             ]
            ],
            "type": "histogram2dcontour"
           }
          ],
          "mesh3d": [
           {
            "colorbar": {
             "outlinewidth": 0,
             "ticks": ""
            },
            "type": "mesh3d"
           }
          ],
          "parcoords": [
           {
            "line": {
             "colorbar": {
              "outlinewidth": 0,
              "ticks": ""
             }
            },
            "type": "parcoords"
           }
          ],
          "pie": [
           {
            "automargin": true,
            "type": "pie"
           }
          ],
          "scatter": [
           {
            "fillpattern": {
             "fillmode": "overlay",
             "size": 10,
             "solidity": 0.2
            },
            "type": "scatter"
           }
          ],
          "scatter3d": [
           {
            "line": {
             "colorbar": {
              "outlinewidth": 0,
              "ticks": ""
             }
            },
            "marker": {
             "colorbar": {
              "outlinewidth": 0,
              "ticks": ""
             }
            },
            "type": "scatter3d"
           }
          ],
          "scattercarpet": [
           {
            "marker": {
             "colorbar": {
              "outlinewidth": 0,
              "ticks": ""
             }
            },
            "type": "scattercarpet"
           }
          ],
          "scattergeo": [
           {
            "marker": {
             "colorbar": {
              "outlinewidth": 0,
              "ticks": ""
             }
            },
            "type": "scattergeo"
           }
          ],
          "scattergl": [
           {
            "marker": {
             "colorbar": {
              "outlinewidth": 0,
              "ticks": ""
             }
            },
            "type": "scattergl"
           }
          ],
          "scattermap": [
           {
            "marker": {
             "colorbar": {
              "outlinewidth": 0,
              "ticks": ""
             }
            },
            "type": "scattermap"
           }
          ],
          "scattermapbox": [
           {
            "marker": {
             "colorbar": {
              "outlinewidth": 0,
              "ticks": ""
             }
            },
            "type": "scattermapbox"
           }
          ],
          "scatterpolar": [
           {
            "marker": {
             "colorbar": {
              "outlinewidth": 0,
              "ticks": ""
             }
            },
            "type": "scatterpolar"
           }
          ],
          "scatterpolargl": [
           {
            "marker": {
             "colorbar": {
              "outlinewidth": 0,
              "ticks": ""
             }
            },
            "type": "scatterpolargl"
           }
          ],
          "scatterternary": [
           {
            "marker": {
             "colorbar": {
              "outlinewidth": 0,
              "ticks": ""
             }
            },
            "type": "scatterternary"
           }
          ],
          "surface": [
           {
            "colorbar": {
             "outlinewidth": 0,
             "ticks": ""
            },
            "colorscale": [
             [
              0,
              "#0d0887"
             ],
             [
              0.1111111111111111,
              "#46039f"
             ],
             [
              0.2222222222222222,
              "#7201a8"
             ],
             [
              0.3333333333333333,
              "#9c179e"
             ],
             [
              0.4444444444444444,
              "#bd3786"
             ],
             [
              0.5555555555555556,
              "#d8576b"
             ],
             [
              0.6666666666666666,
              "#ed7953"
             ],
             [
              0.7777777777777778,
              "#fb9f3a"
             ],
             [
              0.8888888888888888,
              "#fdca26"
             ],
             [
              1,
              "#f0f921"
             ]
            ],
            "type": "surface"
           }
          ],
          "table": [
           {
            "cells": {
             "fill": {
              "color": "#EBF0F8"
             },
             "line": {
              "color": "white"
             }
            },
            "header": {
             "fill": {
              "color": "#C8D4E3"
             },
             "line": {
              "color": "white"
             }
            },
            "type": "table"
           }
          ]
         },
         "layout": {
          "annotationdefaults": {
           "arrowcolor": "#2a3f5f",
           "arrowhead": 0,
           "arrowwidth": 1
          },
          "autotypenumbers": "strict",
          "coloraxis": {
           "colorbar": {
            "outlinewidth": 0,
            "ticks": ""
           }
          },
          "colorscale": {
           "diverging": [
            [
             0,
             "#8e0152"
            ],
            [
             0.1,
             "#c51b7d"
            ],
            [
             0.2,
             "#de77ae"
            ],
            [
             0.3,
             "#f1b6da"
            ],
            [
             0.4,
             "#fde0ef"
            ],
            [
             0.5,
             "#f7f7f7"
            ],
            [
             0.6,
             "#e6f5d0"
            ],
            [
             0.7,
             "#b8e186"
            ],
            [
             0.8,
             "#7fbc41"
            ],
            [
             0.9,
             "#4d9221"
            ],
            [
             1,
             "#276419"
            ]
           ],
           "sequential": [
            [
             0,
             "#0d0887"
            ],
            [
             0.1111111111111111,
             "#46039f"
            ],
            [
             0.2222222222222222,
             "#7201a8"
            ],
            [
             0.3333333333333333,
             "#9c179e"
            ],
            [
             0.4444444444444444,
             "#bd3786"
            ],
            [
             0.5555555555555556,
             "#d8576b"
            ],
            [
             0.6666666666666666,
             "#ed7953"
            ],
            [
             0.7777777777777778,
             "#fb9f3a"
            ],
            [
             0.8888888888888888,
             "#fdca26"
            ],
            [
             1,
             "#f0f921"
            ]
           ],
           "sequentialminus": [
            [
             0,
             "#0d0887"
            ],
            [
             0.1111111111111111,
             "#46039f"
            ],
            [
             0.2222222222222222,
             "#7201a8"
            ],
            [
             0.3333333333333333,
             "#9c179e"
            ],
            [
             0.4444444444444444,
             "#bd3786"
            ],
            [
             0.5555555555555556,
             "#d8576b"
            ],
            [
             0.6666666666666666,
             "#ed7953"
            ],
            [
             0.7777777777777778,
             "#fb9f3a"
            ],
            [
             0.8888888888888888,
             "#fdca26"
            ],
            [
             1,
             "#f0f921"
            ]
           ]
          },
          "colorway": [
           "#636efa",
           "#EF553B",
           "#00cc96",
           "#ab63fa",
           "#FFA15A",
           "#19d3f3",
           "#FF6692",
           "#B6E880",
           "#FF97FF",
           "#FECB52"
          ],
          "font": {
           "color": "#2a3f5f"
          },
          "geo": {
           "bgcolor": "white",
           "lakecolor": "white",
           "landcolor": "#E5ECF6",
           "showlakes": true,
           "showland": true,
           "subunitcolor": "white"
          },
          "hoverlabel": {
           "align": "left"
          },
          "hovermode": "closest",
          "mapbox": {
           "style": "light"
          },
          "paper_bgcolor": "white",
          "plot_bgcolor": "#E5ECF6",
          "polar": {
           "angularaxis": {
            "gridcolor": "white",
            "linecolor": "white",
            "ticks": ""
           },
           "bgcolor": "#E5ECF6",
           "radialaxis": {
            "gridcolor": "white",
            "linecolor": "white",
            "ticks": ""
           }
          },
          "scene": {
           "xaxis": {
            "backgroundcolor": "#E5ECF6",
            "gridcolor": "white",
            "gridwidth": 2,
            "linecolor": "white",
            "showbackground": true,
            "ticks": "",
            "zerolinecolor": "white"
           },
           "yaxis": {
            "backgroundcolor": "#E5ECF6",
            "gridcolor": "white",
            "gridwidth": 2,
            "linecolor": "white",
            "showbackground": true,
            "ticks": "",
            "zerolinecolor": "white"
           },
           "zaxis": {
            "backgroundcolor": "#E5ECF6",
            "gridcolor": "white",
            "gridwidth": 2,
            "linecolor": "white",
            "showbackground": true,
            "ticks": "",
            "zerolinecolor": "white"
           }
          },
          "shapedefaults": {
           "line": {
            "color": "#2a3f5f"
           }
          },
          "ternary": {
           "aaxis": {
            "gridcolor": "white",
            "linecolor": "white",
            "ticks": ""
           },
           "baxis": {
            "gridcolor": "white",
            "linecolor": "white",
            "ticks": ""
           },
           "bgcolor": "#E5ECF6",
           "caxis": {
            "gridcolor": "white",
            "linecolor": "white",
            "ticks": ""
           }
          },
          "title": {
           "x": 0.05
          },
          "xaxis": {
           "automargin": true,
           "gridcolor": "white",
           "linecolor": "white",
           "ticks": "",
           "title": {
            "standoff": 15
           },
           "zerolinecolor": "white",
           "zerolinewidth": 2
          },
          "yaxis": {
           "automargin": true,
           "gridcolor": "white",
           "linecolor": "white",
           "ticks": "",
           "title": {
            "standoff": 15
           },
           "zerolinecolor": "white",
           "zerolinewidth": 2
          }
         }
        },
        "title": {
         "text": "(d) At least 20 donors per million"
        },
        "xaxis": {
         "anchor": "y",
         "domain": [
          0,
          1
         ],
         "title": {
          "text": "year"
         }
        },
        "yaxis": {
         "anchor": "x",
         "domain": [
          0,
          1
         ],
         "title": {
          "text": "Organ donations per million"
         }
        }
       }
      }
     },
     "metadata": {},
     "output_type": "display_data"
    }
   ],
   "source": [
    "# (d) At least 20 donors per million\n",
    "countries_20_donors_per_mil = organs_clean.groupby(\"country\")[\"total_deceased_donors_imputed_per_mil\"] \\\n",
    "    .max() \\\n",
    "    .to_frame() \\\n",
    "    .query('total_deceased_donors_imputed_per_mil >= 20') \\\n",
    "    .index\n",
    "# filter to the countries with at least 20 total donors per mil in a single year\n",
    "organs_clean_min_20_per_mil = organs_clean.query('country in @countries_20_donors_per_mil').copy()\n",
    "# add highlight for spain\n",
    "organs_clean_min_20_per_mil[\"spain\"] = organs_clean_min_20_per_mil[\"country\"] == \"Spain\"\n",
    "# compute the line plot\n",
    "plot_lines(organs_clean_min_20_per_mil, \"(d) At least 20 donors per million\")"
   ]
  },
  {
   "attachments": {},
   "cell_type": "markdown",
   "metadata": {},
   "source": [
    "\n",
    "### Creating an explanatory figure\n",
    "\n",
    "Let's just look at the top 20 countries in 2017, and highlight Spain, Croatia, and the US. From here, you could try and re-create the plots for Spain and Croatia that we created in the book!"
   ]
  },
  {
   "cell_type": "code",
   "execution_count": null,
   "metadata": {},
   "outputs": [
    {
     "data": {
      "application/vnd.plotly.v1+json": {
       "config": {
        "plotlyServerURL": "https://plot.ly"
       },
       "data": [
        {
         "customdata": [
          [
           "Other"
          ],
          [
           "Other"
          ],
          [
           "Other"
          ],
          [
           "Other"
          ],
          [
           "Other"
          ],
          [
           "Other"
          ],
          [
           "Other"
          ],
          [
           "Other"
          ],
          [
           "Other"
          ],
          [
           "Other"
          ],
          [
           "Other"
          ],
          [
           "Other"
          ],
          [
           "Other"
          ],
          [
           "Other"
          ],
          [
           "Other"
          ],
          [
           "Other"
          ],
          [
           "Other"
          ],
          [
           "Other"
          ],
          [
           "Other"
          ],
          [
           "Other"
          ],
          [
           "Other"
          ],
          [
           "Other"
          ],
          [
           "Other"
          ],
          [
           "Other"
          ],
          [
           "Other"
          ],
          [
           "Other"
          ],
          [
           "Other"
          ],
          [
           "Other"
          ],
          [
           "Other"
          ],
          [
           "Other"
          ],
          [
           "Other"
          ],
          [
           "Other"
          ],
          [
           "Other"
          ],
          [
           "Other"
          ],
          [
           "Other"
          ],
          [
           "Other"
          ],
          [
           "Other"
          ],
          [
           "Other"
          ],
          [
           "Other"
          ],
          [
           "Other"
          ],
          [
           "Other"
          ],
          [
           "Other"
          ],
          [
           "Other"
          ],
          [
           "Other"
          ],
          [
           "Other"
          ],
          [
           "Other"
          ],
          [
           "Other"
          ],
          [
           "Other"
          ],
          [
           "Other"
          ],
          [
           "Other"
          ],
          [
           "Other"
          ],
          [
           "Other"
          ],
          [
           "Other"
          ],
          [
           "Other"
          ],
          [
           "Other"
          ],
          [
           "Other"
          ],
          [
           "Other"
          ],
          [
           "Other"
          ],
          [
           "Other"
          ],
          [
           "Other"
          ],
          [
           "Other"
          ],
          [
           "Other"
          ],
          [
           "Other"
          ],
          [
           "Other"
          ],
          [
           "Other"
          ],
          [
           "Other"
          ],
          [
           "Other"
          ],
          [
           "Other"
          ],
          [
           "Other"
          ],
          [
           "Other"
          ],
          [
           "Other"
          ],
          [
           "Other"
          ],
          [
           "Other"
          ],
          [
           "Other"
          ],
          [
           "Other"
          ],
          [
           "Other"
          ],
          [
           "Other"
          ],
          [
           "Other"
          ],
          [
           "Other"
          ],
          [
           "Other"
          ],
          [
           "Other"
          ],
          [
           "Other"
          ],
          [
           "Other"
          ],
          [
           "Other"
          ],
          [
           "Other"
          ],
          [
           "Other"
          ],
          [
           "Other"
          ],
          [
           "Other"
          ],
          [
           "Other"
          ],
          [
           "Other"
          ],
          [
           "Other"
          ],
          [
           "Other"
          ],
          [
           "Other"
          ],
          [
           "Other"
          ],
          [
           "Other"
          ],
          [
           "Other"
          ],
          [
           "Other"
          ],
          [
           "Other"
          ],
          [
           "Other"
          ],
          [
           "Other"
          ],
          [
           "Other"
          ],
          [
           "Other"
          ],
          [
           "Other"
          ],
          [
           "Other"
          ],
          [
           "Other"
          ],
          [
           "Other"
          ],
          [
           "Other"
          ],
          [
           "Other"
          ],
          [
           "Other"
          ],
          [
           "Other"
          ],
          [
           "Other"
          ],
          [
           "Other"
          ],
          [
           "Other"
          ],
          [
           "Other"
          ],
          [
           "Other"
          ],
          [
           "Other"
          ],
          [
           "Other"
          ],
          [
           "Other"
          ],
          [
           "Other"
          ],
          [
           "Other"
          ],
          [
           "Other"
          ],
          [
           "Other"
          ],
          [
           "Other"
          ],
          [
           "Other"
          ],
          [
           "Other"
          ],
          [
           "Other"
          ],
          [
           "Other"
          ],
          [
           "Other"
          ],
          [
           "Other"
          ],
          [
           "Other"
          ],
          [
           "Other"
          ],
          [
           "Other"
          ],
          [
           "Other"
          ],
          [
           "Other"
          ],
          [
           "Other"
          ],
          [
           "Other"
          ],
          [
           "Other"
          ],
          [
           "Other"
          ],
          [
           "Other"
          ],
          [
           "Other"
          ],
          [
           "Other"
          ],
          [
           "Other"
          ],
          [
           "Other"
          ],
          [
           "Other"
          ],
          [
           "Other"
          ],
          [
           "Other"
          ],
          [
           "Other"
          ],
          [
           "Other"
          ],
          [
           "Other"
          ],
          [
           "Other"
          ],
          [
           "Other"
          ],
          [
           "Other"
          ],
          [
           "Other"
          ],
          [
           "Other"
          ],
          [
           "Other"
          ],
          [
           "Other"
          ],
          [
           "Other"
          ],
          [
           "Other"
          ],
          [
           "Other"
          ],
          [
           "Other"
          ],
          [
           "Other"
          ],
          [
           "Other"
          ],
          [
           "Other"
          ],
          [
           "Other"
          ],
          [
           "Other"
          ],
          [
           "Other"
          ],
          [
           "Other"
          ],
          [
           "Other"
          ],
          [
           "Other"
          ],
          [
           "Other"
          ],
          [
           "Other"
          ],
          [
           "Other"
          ],
          [
           "Other"
          ],
          [
           "Other"
          ],
          [
           "Other"
          ],
          [
           "Other"
          ],
          [
           "Other"
          ],
          [
           "Other"
          ],
          [
           "Other"
          ],
          [
           "Other"
          ],
          [
           "Other"
          ],
          [
           "Other"
          ],
          [
           "Other"
          ],
          [
           "Other"
          ],
          [
           "Other"
          ],
          [
           "Other"
          ],
          [
           "Other"
          ],
          [
           "Other"
          ],
          [
           "Other"
          ],
          [
           "Other"
          ],
          [
           "Other"
          ],
          [
           "Other"
          ],
          [
           "Other"
          ],
          [
           "Other"
          ],
          [
           "Other"
          ],
          [
           "Other"
          ],
          [
           "Other"
          ],
          [
           "Other"
          ],
          [
           "Other"
          ],
          [
           "Other"
          ],
          [
           "Other"
          ],
          [
           "Other"
          ],
          [
           "Other"
          ],
          [
           "Other"
          ],
          [
           "Other"
          ],
          [
           "Other"
          ],
          [
           "Other"
          ],
          [
           "Other"
          ],
          [
           "Other"
          ],
          [
           "Other"
          ],
          [
           "Other"
          ],
          [
           "Other"
          ],
          [
           "Other"
          ],
          [
           "Other"
          ],
          [
           "Other"
          ],
          [
           "Other"
          ],
          [
           "Other"
          ],
          [
           "Other"
          ],
          [
           "Other"
          ],
          [
           "Other"
          ],
          [
           "Other"
          ],
          [
           "Other"
          ],
          [
           "Other"
          ],
          [
           "Other"
          ],
          [
           "Other"
          ],
          [
           "Other"
          ],
          [
           "Other"
          ],
          [
           "Other"
          ],
          [
           "Other"
          ],
          [
           "Other"
          ],
          [
           "Other"
          ],
          [
           "Other"
          ],
          [
           "Other"
          ],
          [
           "Other"
          ],
          [
           "Other"
          ],
          [
           "Other"
          ],
          [
           "Other"
          ],
          [
           "Other"
          ],
          [
           "Other"
          ],
          [
           "Other"
          ],
          [
           "Other"
          ],
          [
           "Other"
          ],
          [
           "Other"
          ],
          [
           "Other"
          ],
          [
           "Other"
          ],
          [
           "Other"
          ],
          [
           "Other"
          ],
          [
           "Other"
          ],
          [
           "Other"
          ],
          [
           "Other"
          ],
          [
           "Other"
          ],
          [
           "Other"
          ],
          [
           "Other"
          ],
          [
           "Other"
          ],
          [
           "Other"
          ],
          [
           "Other"
          ],
          [
           "Other"
          ],
          [
           "Other"
          ],
          [
           "Other"
          ],
          [
           "Other"
          ],
          [
           "Other"
          ],
          [
           "Other"
          ],
          [
           "Other"
          ],
          [
           "Other"
          ],
          [
           "Other"
          ],
          [
           "Other"
          ],
          [
           "Other"
          ],
          [
           "Other"
          ],
          [
           "Other"
          ],
          [
           "Other"
          ],
          [
           "Other"
          ],
          [
           "Other"
          ],
          [
           "Other"
          ],
          [
           "Other"
          ],
          [
           "Other"
          ],
          [
           "Other"
          ],
          [
           "Other"
          ],
          [
           "Other"
          ],
          [
           "Other"
          ],
          [
           "Other"
          ],
          [
           "Other"
          ],
          [
           "Other"
          ],
          [
           "Other"
          ],
          [
           "Other"
          ],
          [
           "Other"
          ],
          [
           "Other"
          ],
          [
           "Other"
          ],
          [
           "Other"
          ],
          [
           "Other"
          ],
          [
           "Other"
          ],
          [
           "Other"
          ],
          [
           "Other"
          ],
          [
           "Other"
          ],
          [
           "Other"
          ],
          [
           "Other"
          ],
          [
           "Other"
          ],
          [
           "Other"
          ],
          [
           "Other"
          ],
          [
           "Other"
          ],
          [
           "Other"
          ],
          [
           "Other"
          ],
          [
           "Other"
          ],
          [
           "Other"
          ],
          [
           "Other"
          ],
          [
           "Other"
          ],
          [
           "Other"
          ]
         ],
         "hovertemplate": "<b>%{hovertext}</b><br><br>year=%{x}<br>total_deceased_donors_per_mil=%{y:.2f}<extra></extra>",
         "hovertext": [
          "Austria",
          "Austria",
          "Austria",
          "Austria",
          "Austria",
          "Austria",
          "Austria",
          "Austria",
          "Austria",
          "Austria",
          "Austria",
          "Austria",
          "Austria",
          "Austria",
          "Austria",
          "Austria",
          "Austria",
          "Austria",
          "Australia",
          "Australia",
          "Australia",
          "Australia",
          "Australia",
          "Australia",
          "Australia",
          "Australia",
          "Australia",
          "Australia",
          "Australia",
          "Australia",
          "Australia",
          "Australia",
          "Australia",
          "Australia",
          "Australia",
          "Australia",
          "Belgium",
          "Belgium",
          "Belgium",
          "Belgium",
          "Belgium",
          "Belgium",
          "Belgium",
          "Belgium",
          "Belgium",
          "Belgium",
          "Belgium",
          "Belgium",
          "Belgium",
          "Belgium",
          "Belgium",
          "Belgium",
          "Belgium",
          "Belgium",
          "Belarus",
          "Belarus",
          "Belarus",
          "Belarus",
          "Belarus",
          "Belarus",
          "Belarus",
          "Belarus",
          "Belarus",
          "Belarus",
          "Belarus",
          "Belarus",
          "Belarus",
          "Belarus",
          "Belarus",
          "Belarus",
          "Belarus",
          "Belarus",
          "Canada",
          "Canada",
          "Canada",
          "Canada",
          "Canada",
          "Canada",
          "Canada",
          "Canada",
          "Canada",
          "Canada",
          "Canada",
          "Canada",
          "Canada",
          "Canada",
          "Canada",
          "Canada",
          "Canada",
          "Canada",
          "Czech Republic",
          "Czech Republic",
          "Czech Republic",
          "Czech Republic",
          "Czech Republic",
          "Czech Republic",
          "Czech Republic",
          "Czech Republic",
          "Czech Republic",
          "Czech Republic",
          "Czech Republic",
          "Czech Republic",
          "Czech Republic",
          "Czech Republic",
          "Czech Republic",
          "Czech Republic",
          "Czech Republic",
          "Czech Republic",
          "Finland",
          "Finland",
          "Finland",
          "Finland",
          "Finland",
          "Finland",
          "Finland",
          "Finland",
          "Finland",
          "Finland",
          "Finland",
          "Finland",
          "Finland",
          "Finland",
          "Finland",
          "Finland",
          "Finland",
          "Finland",
          "France",
          "France",
          "France",
          "France",
          "France",
          "France",
          "France",
          "France",
          "France",
          "France",
          "France",
          "France",
          "France",
          "France",
          "France",
          "France",
          "France",
          "France",
          "United Kingdom",
          "United Kingdom",
          "United Kingdom",
          "United Kingdom",
          "United Kingdom",
          "United Kingdom",
          "United Kingdom",
          "United Kingdom",
          "United Kingdom",
          "United Kingdom",
          "United Kingdom",
          "United Kingdom",
          "United Kingdom",
          "United Kingdom",
          "United Kingdom",
          "United Kingdom",
          "United Kingdom",
          "United Kingdom",
          "Ireland",
          "Ireland",
          "Ireland",
          "Ireland",
          "Ireland",
          "Ireland",
          "Ireland",
          "Ireland",
          "Ireland",
          "Ireland",
          "Ireland",
          "Ireland",
          "Ireland",
          "Ireland",
          "Ireland",
          "Ireland",
          "Ireland",
          "Ireland",
          "Iceland",
          "Iceland",
          "Iceland",
          "Iceland",
          "Iceland",
          "Iceland",
          "Iceland",
          "Iceland",
          "Iceland",
          "Iceland",
          "Iceland",
          "Iceland",
          "Iceland",
          "Iceland",
          "Iceland",
          "Iceland",
          "Iceland",
          "Iceland",
          "Italy",
          "Italy",
          "Italy",
          "Italy",
          "Italy",
          "Italy",
          "Italy",
          "Italy",
          "Italy",
          "Italy",
          "Italy",
          "Italy",
          "Italy",
          "Italy",
          "Italy",
          "Italy",
          "Italy",
          "Italy",
          "Malta",
          "Malta",
          "Malta",
          "Malta",
          "Malta",
          "Malta",
          "Malta",
          "Malta",
          "Malta",
          "Malta",
          "Malta",
          "Malta",
          "Malta",
          "Malta",
          "Malta",
          "Malta",
          "Malta",
          "Malta",
          "Norway",
          "Norway",
          "Norway",
          "Norway",
          "Norway",
          "Norway",
          "Norway",
          "Norway",
          "Norway",
          "Norway",
          "Norway",
          "Norway",
          "Norway",
          "Norway",
          "Norway",
          "Norway",
          "Norway",
          "Norway",
          "Portugal",
          "Portugal",
          "Portugal",
          "Portugal",
          "Portugal",
          "Portugal",
          "Portugal",
          "Portugal",
          "Portugal",
          "Portugal",
          "Portugal",
          "Portugal",
          "Portugal",
          "Portugal",
          "Portugal",
          "Portugal",
          "Portugal",
          "Portugal",
          "Sweden",
          "Sweden",
          "Sweden",
          "Sweden",
          "Sweden",
          "Sweden",
          "Sweden",
          "Sweden",
          "Sweden",
          "Sweden",
          "Sweden",
          "Sweden",
          "Sweden",
          "Sweden",
          "Sweden",
          "Sweden",
          "Sweden",
          "Sweden",
          "Slovenia",
          "Slovenia",
          "Slovenia",
          "Slovenia",
          "Slovenia",
          "Slovenia",
          "Slovenia",
          "Slovenia",
          "Slovenia",
          "Slovenia",
          "Slovenia",
          "Slovenia",
          "Slovenia",
          "Slovenia",
          "Slovenia",
          "Slovenia",
          "Slovenia",
          "Slovenia"
         ],
         "legendgroup": "Other",
         "line": {
          "color": "grey",
          "dash": "solid",
          "width": 1
         },
         "marker": {
          "symbol": "circle"
         },
         "mode": "lines",
         "name": "Other",
         "opacity": 0.25,
         "orientation": "v",
         "showlegend": true,
         "type": "scatter",
         "x": {
          "bdata": "0AfRB9IH0wfUB9UH1gfXB9gH2QfaB9sH3AfdB94H3wfgB+EH0AfRB9IH0wfUB9UH1gfXB9gH2QfaB9sH3AfdB94H3wfgB+EH0AfRB9IH0wfUB9UH1gfXB9gH2QfaB9sH3AfdB94H3wfgB+EH0AfRB9IH0wfUB9UH1gfXB9gH2QfaB9sH3AfdB94H3wfgB+EH0AfRB9IH0wfUB9UH1gfXB9gH2QfaB9sH3AfdB94H3wfgB+EH0AfRB9IH0wfUB9UH1gfXB9gH2QfaB9sH3AfdB94H3wfgB+EH0AfRB9IH0wfUB9UH1gfXB9gH2QfaB9sH3AfdB94H3wfgB+EH0AfRB9IH0wfUB9UH1gfXB9gH2QfaB9sH3AfdB94H3wfgB+EH0AfRB9IH0wfUB9UH1gfXB9gH2QfaB9sH3AfdB94H3wfgB+EH0AfRB9IH0wfUB9UH1gfXB9gH2QfaB9sH3AfdB94H3wfgB+EH0AfRB9IH0wfUB9UH1gfXB9gH2QfaB9sH3AfdB94H3wfgB+EH0AfRB9IH0wfUB9UH1gfXB9gH2QfaB9sH3AfdB94H3wfgB+EH0AfRB9IH0wfUB9UH1gfXB9gH2QfaB9sH3AfdB94H3wfgB+EH0AfRB9IH0wfUB9UH1gfXB9gH2QfaB9sH3AfdB94H3wfgB+EH0AfRB9IH0wfUB9UH1gfXB9gH2QfaB9sH3AfdB94H3wfgB+EH0AfRB9IH0wfUB9UH1gfXB9gH2QfaB9sH3AfdB94H3wfgB+EH0AfRB9IH0wfUB9UH1gfXB9gH2QfaB9sH3AfdB94H3wfgB+EH",
          "dtype": "i2"
         },
         "xaxis": "x",
         "y": {
          "bdata": "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",
          "dtype": "f8"
         },
         "yaxis": "y"
        },
        {
         "customdata": [
          [
           "Spain"
          ],
          [
           "Spain"
          ],
          [
           "Spain"
          ],
          [
           "Spain"
          ],
          [
           "Spain"
          ],
          [
           "Spain"
          ],
          [
           "Spain"
          ],
          [
           "Spain"
          ],
          [
           "Spain"
          ],
          [
           "Spain"
          ],
          [
           "Spain"
          ],
          [
           "Spain"
          ],
          [
           "Spain"
          ],
          [
           "Spain"
          ],
          [
           "Spain"
          ],
          [
           "Spain"
          ],
          [
           "Spain"
          ],
          [
           "Spain"
          ]
         ],
         "hovertemplate": "<b>%{hovertext}</b><br><br>year=%{x}<br>total_deceased_donors_per_mil=%{y:.2f}<extra></extra>",
         "hovertext": [
          "Spain",
          "Spain",
          "Spain",
          "Spain",
          "Spain",
          "Spain",
          "Spain",
          "Spain",
          "Spain",
          "Spain",
          "Spain",
          "Spain",
          "Spain",
          "Spain",
          "Spain",
          "Spain",
          "Spain",
          "Spain"
         ],
         "legendgroup": "Spain",
         "line": {
          "color": "#84ACCE",
          "dash": "solid",
          "width": 5
         },
         "marker": {
          "symbol": "circle"
         },
         "mode": "lines",
         "name": "Spain",
         "opacity": 1,
         "orientation": "v",
         "showlegend": true,
         "type": "scatter",
         "x": {
          "bdata": "0AfRB9IH0wfUB9UH1gfXB9gH2QfaB9sH3AfdB94H3wfgB+EH",
          "dtype": "i2"
         },
         "xaxis": "x",
         "y": {
          "bdata": "AAAAAAAA+H8AAAAAAAD4fwAAAAAAAPh/F2KQtQOOQUDMyEsB9i9CQAVV32le70FASBlLvoFiQUDmoYtndcZBQLW8ck/rrUFA4b37DlriQUDLfabMD5RAQEoVVCi77EFAr7+C1KyNQUAZL/0g2KRBQNquV00K20FAQ1n1lm8TRECEjKVs5uVFQKDuN58RhkdA",
          "dtype": "f8"
         },
         "yaxis": "y"
        },
        {
         "customdata": [
          [
           "Croatia"
          ],
          [
           "Croatia"
          ],
          [
           "Croatia"
          ],
          [
           "Croatia"
          ],
          [
           "Croatia"
          ],
          [
           "Croatia"
          ],
          [
           "Croatia"
          ],
          [
           "Croatia"
          ],
          [
           "Croatia"
          ],
          [
           "Croatia"
          ],
          [
           "Croatia"
          ],
          [
           "Croatia"
          ],
          [
           "Croatia"
          ],
          [
           "Croatia"
          ],
          [
           "Croatia"
          ],
          [
           "Croatia"
          ],
          [
           "Croatia"
          ],
          [
           "Croatia"
          ]
         ],
         "hovertemplate": "<b>%{hovertext}</b><br><br>year=%{x}<br>total_deceased_donors_per_mil=%{y:.2f}<extra></extra>",
         "hovertext": [
          "Croatia",
          "Croatia",
          "Croatia",
          "Croatia",
          "Croatia",
          "Croatia",
          "Croatia",
          "Croatia",
          "Croatia",
          "Croatia",
          "Croatia",
          "Croatia",
          "Croatia",
          "Croatia",
          "Croatia",
          "Croatia",
          "Croatia",
          "Croatia"
         ],
         "legendgroup": "Croatia",
         "line": {
          "color": "#F6AE2D",
          "dash": "solid",
          "width": 5
         },
         "marker": {
          "symbol": "circle"
         },
         "mode": "lines",
         "name": "Croatia",
         "opacity": 1,
         "orientation": "v",
         "showlegend": true,
         "type": "scatter",
         "x": {
          "bdata": "0AfRB9IH0wfUB9UH1gfXB9gH2QfaB9sH3AfdB94H3wfgB+EH",
          "dtype": "i2"
         },
         "xaxis": "x",
         "y": {
          "bdata": "7ALMBVVVBUDKvkDV6TsbQDp6ncxhciFAK88KSC66IUCJRtX2c9EqQIuzv+ZjISNAlii+sFjIKECrbOWYpjcpQFeJXSIhCzJAK88KSC66MUDeUusti64+QAiQ9hx00UBAfTfjd+hiQUB5Ure4gr5AQEJYB/fhjkFANYRAl3keREBcTtLhC8NDQFQmF2iqqkBA",
          "dtype": "f8"
         },
         "yaxis": "y"
        },
        {
         "customdata": [
          [
           "United States of America"
          ],
          [
           "United States of America"
          ],
          [
           "United States of America"
          ],
          [
           "United States of America"
          ],
          [
           "United States of America"
          ],
          [
           "United States of America"
          ],
          [
           "United States of America"
          ],
          [
           "United States of America"
          ],
          [
           "United States of America"
          ],
          [
           "United States of America"
          ],
          [
           "United States of America"
          ],
          [
           "United States of America"
          ],
          [
           "United States of America"
          ],
          [
           "United States of America"
          ],
          [
           "United States of America"
          ],
          [
           "United States of America"
          ],
          [
           "United States of America"
          ],
          [
           "United States of America"
          ]
         ],
         "hovertemplate": "<b>%{hovertext}</b><br><br>year=%{x}<br>total_deceased_donors_per_mil=%{y:.2f}<extra></extra>",
         "hovertext": [
          "United States of America",
          "United States of America",
          "United States of America",
          "United States of America",
          "United States of America",
          "United States of America",
          "United States of America",
          "United States of America",
          "United States of America",
          "United States of America",
          "United States of America",
          "United States of America",
          "United States of America",
          "United States of America",
          "United States of America",
          "United States of America",
          "United States of America",
          "United States of America"
         ],
         "legendgroup": "United States of America",
         "line": {
          "color": "#589D6F",
          "dash": "solid",
          "width": 5
         },
         "marker": {
          "symbol": "circle"
         },
         "mode": "lines",
         "name": "United States of America",
         "opacity": 1,
         "orientation": "v",
         "showlegend": true,
         "type": "scatter",
         "x": {
          "bdata": "0AfRB9IH0wfUB9UH1gfXB9gH2QfaB9sH3AfdB94H3wfgB+EH",
          "dtype": "i2"
         },
         "xaxis": "x",
         "y": {
          "bdata": "sE/pwHJ/NUBc4IUrJEQ1QBBmqrCvdDVAqtzH92v2NUCJfWGD9hI4QLkjjYZ4djlADq0C9nGiOkBheyhQqZo6QAPAKFIB3zlAnB4UfK59OUCrHqQJawI5QF19JgUQ9DlAeXxr4gnJOUB8xd8kItU5QNfm81RgpTpAtZRosJI2PEBG1zSqGcM+QAJrbeuvsj9A",
          "dtype": "f8"
         },
         "yaxis": "y"
        }
       ],
       "layout": {
        "annotations": [
         {
          "showarrow": false,
          "text": "Spain",
          "x": 2017,
          "xanchor": "left",
          "y": 47
         },
         {
          "showarrow": false,
          "text": "Croatia",
          "x": 2017,
          "xanchor": "left",
          "y": 34
         },
         {
          "showarrow": false,
          "text": "USA",
          "x": 2017,
          "xanchor": "left",
          "y": 31
         }
        ],
        "legend": {
         "title": {
          "text": "Country"
         },
         "tracegroupgap": 0
        },
        "margin": {
         "t": 60
        },
        "plot_bgcolor": "rgba(0,0,0,0)",
        "showlegend": false,
        "template": {
         "data": {
          "bar": [
           {
            "error_x": {
             "color": "#2a3f5f"
            },
            "error_y": {
             "color": "#2a3f5f"
            },
            "marker": {
             "line": {
              "color": "#E5ECF6",
              "width": 0.5
             },
             "pattern": {
              "fillmode": "overlay",
              "size": 10,
              "solidity": 0.2
             }
            },
            "type": "bar"
           }
          ],
          "barpolar": [
           {
            "marker": {
             "line": {
              "color": "#E5ECF6",
              "width": 0.5
             },
             "pattern": {
              "fillmode": "overlay",
              "size": 10,
              "solidity": 0.2
             }
            },
            "type": "barpolar"
           }
          ],
          "carpet": [
           {
            "aaxis": {
             "endlinecolor": "#2a3f5f",
             "gridcolor": "white",
             "linecolor": "white",
             "minorgridcolor": "white",
             "startlinecolor": "#2a3f5f"
            },
            "baxis": {
             "endlinecolor": "#2a3f5f",
             "gridcolor": "white",
             "linecolor": "white",
             "minorgridcolor": "white",
             "startlinecolor": "#2a3f5f"
            },
            "type": "carpet"
           }
          ],
          "choropleth": [
           {
            "colorbar": {
             "outlinewidth": 0,
             "ticks": ""
            },
            "type": "choropleth"
           }
          ],
          "contour": [
           {
            "colorbar": {
             "outlinewidth": 0,
             "ticks": ""
            },
            "colorscale": [
             [
              0,
              "#0d0887"
             ],
             [
              0.1111111111111111,
              "#46039f"
             ],
             [
              0.2222222222222222,
              "#7201a8"
             ],
             [
              0.3333333333333333,
              "#9c179e"
             ],
             [
              0.4444444444444444,
              "#bd3786"
             ],
             [
              0.5555555555555556,
              "#d8576b"
             ],
             [
              0.6666666666666666,
              "#ed7953"
             ],
             [
              0.7777777777777778,
              "#fb9f3a"
             ],
             [
              0.8888888888888888,
              "#fdca26"
             ],
             [
              1,
              "#f0f921"
             ]
            ],
            "type": "contour"
           }
          ],
          "contourcarpet": [
           {
            "colorbar": {
             "outlinewidth": 0,
             "ticks": ""
            },
            "type": "contourcarpet"
           }
          ],
          "heatmap": [
           {
            "colorbar": {
             "outlinewidth": 0,
             "ticks": ""
            },
            "colorscale": [
             [
              0,
              "#0d0887"
             ],
             [
              0.1111111111111111,
              "#46039f"
             ],
             [
              0.2222222222222222,
              "#7201a8"
             ],
             [
              0.3333333333333333,
              "#9c179e"
             ],
             [
              0.4444444444444444,
              "#bd3786"
             ],
             [
              0.5555555555555556,
              "#d8576b"
             ],
             [
              0.6666666666666666,
              "#ed7953"
             ],
             [
              0.7777777777777778,
              "#fb9f3a"
             ],
             [
              0.8888888888888888,
              "#fdca26"
             ],
             [
              1,
              "#f0f921"
             ]
            ],
            "type": "heatmap"
           }
          ],
          "histogram": [
           {
            "marker": {
             "pattern": {
              "fillmode": "overlay",
              "size": 10,
              "solidity": 0.2
             }
            },
            "type": "histogram"
           }
          ],
          "histogram2d": [
           {
            "colorbar": {
             "outlinewidth": 0,
             "ticks": ""
            },
            "colorscale": [
             [
              0,
              "#0d0887"
             ],
             [
              0.1111111111111111,
              "#46039f"
             ],
             [
              0.2222222222222222,
              "#7201a8"
             ],
             [
              0.3333333333333333,
              "#9c179e"
             ],
             [
              0.4444444444444444,
              "#bd3786"
             ],
             [
              0.5555555555555556,
              "#d8576b"
             ],
             [
              0.6666666666666666,
              "#ed7953"
             ],
             [
              0.7777777777777778,
              "#fb9f3a"
             ],
             [
              0.8888888888888888,
              "#fdca26"
             ],
             [
              1,
              "#f0f921"
             ]
            ],
            "type": "histogram2d"
           }
          ],
          "histogram2dcontour": [
           {
            "colorbar": {
             "outlinewidth": 0,
             "ticks": ""
            },
            "colorscale": [
             [
              0,
              "#0d0887"
             ],
             [
              0.1111111111111111,
              "#46039f"
             ],
             [
              0.2222222222222222,
              "#7201a8"
             ],
             [
              0.3333333333333333,
              "#9c179e"
             ],
             [
              0.4444444444444444,
              "#bd3786"
             ],
             [
              0.5555555555555556,
              "#d8576b"
             ],
             [
              0.6666666666666666,
              "#ed7953"
             ],
             [
              0.7777777777777778,
              "#fb9f3a"
             ],
             [
              0.8888888888888888,
              "#fdca26"
             ],
             [
              1,
              "#f0f921"
             ]
            ],
            "type": "histogram2dcontour"
           }
          ],
          "mesh3d": [
           {
            "colorbar": {
             "outlinewidth": 0,
             "ticks": ""
            },
            "type": "mesh3d"
           }
          ],
          "parcoords": [
           {
            "line": {
             "colorbar": {
              "outlinewidth": 0,
              "ticks": ""
             }
            },
            "type": "parcoords"
           }
          ],
          "pie": [
           {
            "automargin": true,
            "type": "pie"
           }
          ],
          "scatter": [
           {
            "fillpattern": {
             "fillmode": "overlay",
             "size": 10,
             "solidity": 0.2
            },
            "type": "scatter"
           }
          ],
          "scatter3d": [
           {
            "line": {
             "colorbar": {
              "outlinewidth": 0,
              "ticks": ""
             }
            },
            "marker": {
             "colorbar": {
              "outlinewidth": 0,
              "ticks": ""
             }
            },
            "type": "scatter3d"
           }
          ],
          "scattercarpet": [
           {
            "marker": {
             "colorbar": {
              "outlinewidth": 0,
              "ticks": ""
             }
            },
            "type": "scattercarpet"
           }
          ],
          "scattergeo": [
           {
            "marker": {
             "colorbar": {
              "outlinewidth": 0,
              "ticks": ""
             }
            },
            "type": "scattergeo"
           }
          ],
          "scattergl": [
           {
            "marker": {
             "colorbar": {
              "outlinewidth": 0,
              "ticks": ""
             }
            },
            "type": "scattergl"
           }
          ],
          "scattermap": [
           {
            "marker": {
             "colorbar": {
              "outlinewidth": 0,
              "ticks": ""
             }
            },
            "type": "scattermap"
           }
          ],
          "scattermapbox": [
           {
            "marker": {
             "colorbar": {
              "outlinewidth": 0,
              "ticks": ""
             }
            },
            "type": "scattermapbox"
           }
          ],
          "scatterpolar": [
           {
            "marker": {
             "colorbar": {
              "outlinewidth": 0,
              "ticks": ""
             }
            },
            "type": "scatterpolar"
           }
          ],
          "scatterpolargl": [
           {
            "marker": {
             "colorbar": {
              "outlinewidth": 0,
              "ticks": ""
             }
            },
            "type": "scatterpolargl"
           }
          ],
          "scatterternary": [
           {
            "marker": {
             "colorbar": {
              "outlinewidth": 0,
              "ticks": ""
             }
            },
            "type": "scatterternary"
           }
          ],
          "surface": [
           {
            "colorbar": {
             "outlinewidth": 0,
             "ticks": ""
            },
            "colorscale": [
             [
              0,
              "#0d0887"
             ],
             [
              0.1111111111111111,
              "#46039f"
             ],
             [
              0.2222222222222222,
              "#7201a8"
             ],
             [
              0.3333333333333333,
              "#9c179e"
             ],
             [
              0.4444444444444444,
              "#bd3786"
             ],
             [
              0.5555555555555556,
              "#d8576b"
             ],
             [
              0.6666666666666666,
              "#ed7953"
             ],
             [
              0.7777777777777778,
              "#fb9f3a"
             ],
             [
              0.8888888888888888,
              "#fdca26"
             ],
             [
              1,
              "#f0f921"
             ]
            ],
            "type": "surface"
           }
          ],
          "table": [
           {
            "cells": {
             "fill": {
              "color": "#EBF0F8"
             },
             "line": {
              "color": "white"
             }
            },
            "header": {
             "fill": {
              "color": "#C8D4E3"
             },
             "line": {
              "color": "white"
             }
            },
            "type": "table"
           }
          ]
         },
         "layout": {
          "annotationdefaults": {
           "arrowcolor": "#2a3f5f",
           "arrowhead": 0,
           "arrowwidth": 1
          },
          "autotypenumbers": "strict",
          "coloraxis": {
           "colorbar": {
            "outlinewidth": 0,
            "ticks": ""
           }
          },
          "colorscale": {
           "diverging": [
            [
             0,
             "#8e0152"
            ],
            [
             0.1,
             "#c51b7d"
            ],
            [
             0.2,
             "#de77ae"
            ],
            [
             0.3,
             "#f1b6da"
            ],
            [
             0.4,
             "#fde0ef"
            ],
            [
             0.5,
             "#f7f7f7"
            ],
            [
             0.6,
             "#e6f5d0"
            ],
            [
             0.7,
             "#b8e186"
            ],
            [
             0.8,
             "#7fbc41"
            ],
            [
             0.9,
             "#4d9221"
            ],
            [
             1,
             "#276419"
            ]
           ],
           "sequential": [
            [
             0,
             "#0d0887"
            ],
            [
             0.1111111111111111,
             "#46039f"
            ],
            [
             0.2222222222222222,
             "#7201a8"
            ],
            [
             0.3333333333333333,
             "#9c179e"
            ],
            [
             0.4444444444444444,
             "#bd3786"
            ],
            [
             0.5555555555555556,
             "#d8576b"
            ],
            [
             0.6666666666666666,
             "#ed7953"
            ],
            [
             0.7777777777777778,
             "#fb9f3a"
            ],
            [
             0.8888888888888888,
             "#fdca26"
            ],
            [
             1,
             "#f0f921"
            ]
           ],
           "sequentialminus": [
            [
             0,
             "#0d0887"
            ],
            [
             0.1111111111111111,
             "#46039f"
            ],
            [
             0.2222222222222222,
             "#7201a8"
            ],
            [
             0.3333333333333333,
             "#9c179e"
            ],
            [
             0.4444444444444444,
             "#bd3786"
            ],
            [
             0.5555555555555556,
             "#d8576b"
            ],
            [
             0.6666666666666666,
             "#ed7953"
            ],
            [
             0.7777777777777778,
             "#fb9f3a"
            ],
            [
             0.8888888888888888,
             "#fdca26"
            ],
            [
             1,
             "#f0f921"
            ]
           ]
          },
          "colorway": [
           "#636efa",
           "#EF553B",
           "#00cc96",
           "#ab63fa",
           "#FFA15A",
           "#19d3f3",
           "#FF6692",
           "#B6E880",
           "#FF97FF",
           "#FECB52"
          ],
          "font": {
           "color": "#2a3f5f"
          },
          "geo": {
           "bgcolor": "white",
           "lakecolor": "white",
           "landcolor": "#E5ECF6",
           "showlakes": true,
           "showland": true,
           "subunitcolor": "white"
          },
          "hoverlabel": {
           "align": "left"
          },
          "hovermode": "closest",
          "mapbox": {
           "style": "light"
          },
          "paper_bgcolor": "white",
          "plot_bgcolor": "#E5ECF6",
          "polar": {
           "angularaxis": {
            "gridcolor": "white",
            "linecolor": "white",
            "ticks": ""
           },
           "bgcolor": "#E5ECF6",
           "radialaxis": {
            "gridcolor": "white",
            "linecolor": "white",
            "ticks": ""
           }
          },
          "scene": {
           "xaxis": {
            "backgroundcolor": "#E5ECF6",
            "gridcolor": "white",
            "gridwidth": 2,
            "linecolor": "white",
            "showbackground": true,
            "ticks": "",
            "zerolinecolor": "white"
           },
           "yaxis": {
            "backgroundcolor": "#E5ECF6",
            "gridcolor": "white",
            "gridwidth": 2,
            "linecolor": "white",
            "showbackground": true,
            "ticks": "",
            "zerolinecolor": "white"
           },
           "zaxis": {
            "backgroundcolor": "#E5ECF6",
            "gridcolor": "white",
            "gridwidth": 2,
            "linecolor": "white",
            "showbackground": true,
            "ticks": "",
            "zerolinecolor": "white"
           }
          },
          "shapedefaults": {
           "line": {
            "color": "#2a3f5f"
           }
          },
          "ternary": {
           "aaxis": {
            "gridcolor": "white",
            "linecolor": "white",
            "ticks": ""
           },
           "baxis": {
            "gridcolor": "white",
            "linecolor": "white",
            "ticks": ""
           },
           "bgcolor": "#E5ECF6",
           "caxis": {
            "gridcolor": "white",
            "linecolor": "white",
            "ticks": ""
           }
          },
          "title": {
           "x": 0.05
          },
          "xaxis": {
           "automargin": true,
           "gridcolor": "white",
           "linecolor": "white",
           "ticks": "",
           "title": {
            "standoff": 15
           },
           "zerolinecolor": "white",
           "zerolinewidth": 2
          },
          "yaxis": {
           "automargin": true,
           "gridcolor": "white",
           "linecolor": "white",
           "ticks": "",
           "title": {
            "standoff": 15
           },
           "zerolinecolor": "white",
           "zerolinewidth": 2
          }
         }
        },
        "xaxis": {
         "anchor": "y",
         "domain": [
          0,
          1
         ],
         "title": {
          "text": "year"
         }
        },
        "yaxis": {
         "anchor": "x",
         "domain": [
          0,
          1
         ],
         "title": {
          "text": "Organ donations per million"
         }
        }
       }
      }
     },
     "metadata": {},
     "output_type": "display_data"
    }
   ],
   "source": [
    "# add highlight for Spain, USA, and Croatia\n",
    "organs_clean_top_20[\"highlight\"] = np.where(organs_clean_top_20[\"country\"].isin([\"Spain\", \"United States of America\", \"Croatia\"]),\n",
    "                                            organs_clean_top_20[\"country\"], \n",
    "                                            \"Other\")\n",
    "\n",
    "fig= px.line(organs_clean_top_20, \n",
    "                  x=\"year\", \n",
    "                  y=\"total_deceased_donors_per_mil\",\n",
    "                  color=\"highlight\", \n",
    "                  color_discrete_sequence=[\"grey\", \"#84ACCE\", \"#F6AE2D\", \"#589D6F\"],\n",
    "                  hover_name=\"country\",\n",
    "                  hover_data={\"year\": True, \n",
    "                              \"total_deceased_donors_per_mil\": \":.2f\",\n",
    "                              \"highlight\": False})\n",
    "fig.update_traces(opacity=1, \n",
    "                  line=dict(width=5))\n",
    "\n",
    "fig.update_layout(yaxis_title=\"Organ donations per million\",\n",
    "                      legend_title=\"Country\", \n",
    "                      plot_bgcolor=\"rgba(0,0,0,0)\",\n",
    "                      showlegend=False)\n",
    "# add direct country annotation\n",
    "fig.add_annotation(x=2017, y=47,\n",
    "            text=\"Spain\", \n",
    "            showarrow=False, xanchor=\"left\")\n",
    "fig.add_annotation(x=2017, y=34,\n",
    "            text=\"Croatia\",\n",
    "            showarrow=False, xanchor=\"left\")\n",
    "fig.add_annotation(x=2017, y=31,\n",
    "            text=\"USA\",\n",
    "            showarrow=False, xanchor=\"left\")\n",
    "\n",
    "# change the specs for the \"Other\" line only\n",
    "fig['data'][0]['line']['width'] = 1\n",
    "fig['data'][0]['opacity'] = 0.25\n",
    "fig.show()"
   ]
  },
  {
   "attachments": {},
   "cell_type": "markdown",
   "metadata": {},
   "source": [
    "\n",
    "Another way to present this data is using a grid of line plots. \n",
    "\n"
   ]
  },
  {
   "cell_type": "code",
   "execution_count": null,
   "metadata": {},
   "outputs": [
    {
     "data": {
      "application/vnd.plotly.v1+json": {
       "config": {
        "plotlyServerURL": "https://plot.ly"
       },
       "data": [
        {
         "customdata": [
          [
           "Spain"
          ],
          [
           "Spain"
          ],
          [
           "Spain"
          ],
          [
           "Spain"
          ],
          [
           "Spain"
          ],
          [
           "Spain"
          ],
          [
           "Spain"
          ],
          [
           "Spain"
          ],
          [
           "Spain"
          ],
          [
           "Spain"
          ],
          [
           "Spain"
          ],
          [
           "Spain"
          ],
          [
           "Spain"
          ],
          [
           "Spain"
          ],
          [
           "Spain"
          ],
          [
           "Spain"
          ],
          [
           "Spain"
          ],
          [
           "Spain"
          ]
         ],
         "hovertemplate": "<b>%{hovertext}</b><br><br>year=%{x}<br>total_deceased_donors_per_mil=%{y:.2f}<extra></extra>",
         "hovertext": [
          "Spain",
          "Spain",
          "Spain",
          "Spain",
          "Spain",
          "Spain",
          "Spain",
          "Spain",
          "Spain",
          "Spain",
          "Spain",
          "Spain",
          "Spain",
          "Spain",
          "Spain",
          "Spain",
          "Spain",
          "Spain"
         ],
         "legendgroup": "",
         "line": {
          "color": "grey",
          "dash": "solid"
         },
         "marker": {
          "symbol": "circle"
         },
         "mode": "lines",
         "name": "",
         "orientation": "v",
         "showlegend": false,
         "type": "scatter",
         "x": {
          "bdata": "0AfRB9IH0wfUB9UH1gfXB9gH2QfaB9sH3AfdB94H3wfgB+EH",
          "dtype": "i2"
         },
         "xaxis": "x13",
         "y": {
          "bdata": "AAAAAAAA+H8AAAAAAAD4fwAAAAAAAPh/F2KQtQOOQUDMyEsB9i9CQAVV32le70FASBlLvoFiQUDmoYtndcZBQLW8ck/rrUFA4b37DlriQUDLfabMD5RAQEoVVCi77EFAr7+C1KyNQUAZL/0g2KRBQNquV00K20FAQ1n1lm8TRECEjKVs5uVFQKDuN58RhkdA",
          "dtype": "f8"
         },
         "yaxis": "y13"
        },
        {
         "customdata": [
          [
           "Portugal"
          ],
          [
           "Portugal"
          ],
          [
           "Portugal"
          ],
          [
           "Portugal"
          ],
          [
           "Portugal"
          ],
          [
           "Portugal"
          ],
          [
           "Portugal"
          ],
          [
           "Portugal"
          ],
          [
           "Portugal"
          ],
          [
           "Portugal"
          ],
          [
           "Portugal"
          ],
          [
           "Portugal"
          ],
          [
           "Portugal"
          ],
          [
           "Portugal"
          ],
          [
           "Portugal"
          ],
          [
           "Portugal"
          ],
          [
           "Portugal"
          ],
          [
           "Portugal"
          ]
         ],
         "hovertemplate": "<b>%{hovertext}</b><br><br>year=%{x}<br>total_deceased_donors_per_mil=%{y:.2f}<extra></extra>",
         "hovertext": [
          "Portugal",
          "Portugal",
          "Portugal",
          "Portugal",
          "Portugal",
          "Portugal",
          "Portugal",
          "Portugal",
          "Portugal",
          "Portugal",
          "Portugal",
          "Portugal",
          "Portugal",
          "Portugal",
          "Portugal",
          "Portugal",
          "Portugal",
          "Portugal"
         ],
         "legendgroup": "",
         "line": {
          "color": "grey",
          "dash": "solid"
         },
         "marker": {
          "symbol": "circle"
         },
         "mode": "lines",
         "name": "",
         "orientation": "v",
         "showlegend": false,
         "type": "scatter",
         "x": {
          "bdata": "0AfRB9IH0wfUB9UH1gfXB9gH2QfaB9sH3AfdB94H3wfgB+EH",
          "dtype": "i2"
         },
         "xaxis": "x14",
         "y": {
          "bdata": "UfiorZCYM0DvXU8RMzM0QDUfyw4zszVAT5DPUtfPMkBls2Md7vo1QLyfLmlhGDJAq0qOKpIkM0ABx22DCcY3QA+TRCrXcjpAl5uvsGa/PkDzbeSI2S8+QPYbpqF+ITxAn3xVhyiNN0A7er4Sh9Q7QOANSDqfQztAAbbG/Ir4PkDgC0T09VtAQP94nfrwCUFA",
          "dtype": "f8"
         },
         "yaxis": "y14"
        },
        {
         "customdata": [
          [
           "Croatia"
          ],
          [
           "Croatia"
          ],
          [
           "Croatia"
          ],
          [
           "Croatia"
          ],
          [
           "Croatia"
          ],
          [
           "Croatia"
          ],
          [
           "Croatia"
          ],
          [
           "Croatia"
          ],
          [
           "Croatia"
          ],
          [
           "Croatia"
          ],
          [
           "Croatia"
          ],
          [
           "Croatia"
          ],
          [
           "Croatia"
          ],
          [
           "Croatia"
          ],
          [
           "Croatia"
          ],
          [
           "Croatia"
          ],
          [
           "Croatia"
          ],
          [
           "Croatia"
          ]
         ],
         "hovertemplate": "<b>%{hovertext}</b><br><br>year=%{x}<br>total_deceased_donors_per_mil=%{y:.2f}<extra></extra>",
         "hovertext": [
          "Croatia",
          "Croatia",
          "Croatia",
          "Croatia",
          "Croatia",
          "Croatia",
          "Croatia",
          "Croatia",
          "Croatia",
          "Croatia",
          "Croatia",
          "Croatia",
          "Croatia",
          "Croatia",
          "Croatia",
          "Croatia",
          "Croatia",
          "Croatia"
         ],
         "legendgroup": "",
         "line": {
          "color": "grey",
          "dash": "solid"
         },
         "marker": {
          "symbol": "circle"
         },
         "mode": "lines",
         "name": "",
         "orientation": "v",
         "showlegend": false,
         "type": "scatter",
         "x": {
          "bdata": "0AfRB9IH0wfUB9UH1gfXB9gH2QfaB9sH3AfdB94H3wfgB+EH",
          "dtype": "i2"
         },
         "xaxis": "x15",
         "y": {
          "bdata": "7ALMBVVVBUDKvkDV6TsbQDp6ncxhciFAK88KSC66IUCJRtX2c9EqQIuzv+ZjISNAlii+sFjIKECrbOWYpjcpQFeJXSIhCzJAK88KSC66MUDeUusti64+QAiQ9hx00UBAfTfjd+hiQUB5Ure4gr5AQEJYB/fhjkFANYRAl3keREBcTtLhC8NDQFQmF2iqqkBA",
          "dtype": "f8"
         },
         "yaxis": "y15"
        },
        {
         "customdata": [
          [
           "United States of America"
          ],
          [
           "United States of America"
          ],
          [
           "United States of America"
          ],
          [
           "United States of America"
          ],
          [
           "United States of America"
          ],
          [
           "United States of America"
          ],
          [
           "United States of America"
          ],
          [
           "United States of America"
          ],
          [
           "United States of America"
          ],
          [
           "United States of America"
          ],
          [
           "United States of America"
          ],
          [
           "United States of America"
          ],
          [
           "United States of America"
          ],
          [
           "United States of America"
          ],
          [
           "United States of America"
          ],
          [
           "United States of America"
          ],
          [
           "United States of America"
          ],
          [
           "United States of America"
          ]
         ],
         "hovertemplate": "<b>%{hovertext}</b><br><br>year=%{x}<br>total_deceased_donors_per_mil=%{y:.2f}<extra></extra>",
         "hovertext": [
          "United States of America",
          "United States of America",
          "United States of America",
          "United States of America",
          "United States of America",
          "United States of America",
          "United States of America",
          "United States of America",
          "United States of America",
          "United States of America",
          "United States of America",
          "United States of America",
          "United States of America",
          "United States of America",
          "United States of America",
          "United States of America",
          "United States of America",
          "United States of America"
         ],
         "legendgroup": "",
         "line": {
          "color": "grey",
          "dash": "solid"
         },
         "marker": {
          "symbol": "circle"
         },
         "mode": "lines",
         "name": "",
         "orientation": "v",
         "showlegend": false,
         "type": "scatter",
         "x": {
          "bdata": "0AfRB9IH0wfUB9UH1gfXB9gH2QfaB9sH3AfdB94H3wfgB+EH",
          "dtype": "i2"
         },
         "xaxis": "x10",
         "y": {
          "bdata": "sE/pwHJ/NUBc4IUrJEQ1QBBmqrCvdDVAqtzH92v2NUCJfWGD9hI4QLkjjYZ4djlADq0C9nGiOkBheyhQqZo6QAPAKFIB3zlAnB4UfK59OUCrHqQJawI5QF19JgUQ9DlAeXxr4gnJOUB8xd8kItU5QNfm81RgpTpAtZRosJI2PEBG1zSqGcM+QAJrbeuvsj9A",
          "dtype": "f8"
         },
         "yaxis": "y10"
        },
        {
         "customdata": [
          [
           "Belgium"
          ],
          [
           "Belgium"
          ],
          [
           "Belgium"
          ],
          [
           "Belgium"
          ],
          [
           "Belgium"
          ],
          [
           "Belgium"
          ],
          [
           "Belgium"
          ],
          [
           "Belgium"
          ],
          [
           "Belgium"
          ],
          [
           "Belgium"
          ],
          [
           "Belgium"
          ],
          [
           "Belgium"
          ],
          [
           "Belgium"
          ],
          [
           "Belgium"
          ],
          [
           "Belgium"
          ],
          [
           "Belgium"
          ],
          [
           "Belgium"
          ],
          [
           "Belgium"
          ]
         ],
         "hovertemplate": "<b>%{hovertext}</b><br><br>year=%{x}<br>total_deceased_donors_per_mil=%{y:.2f}<extra></extra>",
         "hovertext": [
          "Belgium",
          "Belgium",
          "Belgium",
          "Belgium",
          "Belgium",
          "Belgium",
          "Belgium",
          "Belgium",
          "Belgium",
          "Belgium",
          "Belgium",
          "Belgium",
          "Belgium",
          "Belgium",
          "Belgium",
          "Belgium",
          "Belgium",
          "Belgium"
         ],
         "legendgroup": "",
         "line": {
          "color": "grey",
          "dash": "solid"
         },
         "marker": {
          "symbol": "circle"
         },
         "mode": "lines",
         "name": "",
         "orientation": "v",
         "showlegend": false,
         "type": "scatter",
         "x": {
          "bdata": "0AfRB9IH0wfUB9UH1gfXB9gH2QfaB9sH3AfdB94H3wfgB+EH",
          "dtype": "i2"
         },
         "xaxis": "x11",
         "y": {
          "bdata": "w+/Q7xgZOUArYKZbq401QAsCahOGpjVASdwcIHwCN0CKiXjy8Ak2QDiwYGOd2DdAD37frIkdO0DLcwjrhWE8QKtEZlxhGDpA9xr5qQTjOkAtZmbkeac0QOoJ39nspT5ANPf1HGgvPkAwCcaHbjA9QDW+p/Da7zpAQnnxccmXP0DGwTbFGso+QLhSwnS8hj5A",
          "dtype": "f8"
         },
         "yaxis": "y11"
        },
        {
         "customdata": [
          [
           "Malta"
          ],
          [
           "Malta"
          ],
          [
           "Malta"
          ],
          [
           "Malta"
          ],
          [
           "Malta"
          ],
          [
           "Malta"
          ],
          [
           "Malta"
          ],
          [
           "Malta"
          ],
          [
           "Malta"
          ],
          [
           "Malta"
          ],
          [
           "Malta"
          ],
          [
           "Malta"
          ],
          [
           "Malta"
          ],
          [
           "Malta"
          ],
          [
           "Malta"
          ],
          [
           "Malta"
          ],
          [
           "Malta"
          ],
          [
           "Malta"
          ]
         ],
         "hovertemplate": "<b>%{hovertext}</b><br><br>year=%{x}<br>total_deceased_donors_per_mil=%{y:.2f}<extra></extra>",
         "hovertext": [
          "Malta",
          "Malta",
          "Malta",
          "Malta",
          "Malta",
          "Malta",
          "Malta",
          "Malta",
          "Malta",
          "Malta",
          "Malta",
          "Malta",
          "Malta",
          "Malta",
          "Malta",
          "Malta",
          "Malta",
          "Malta"
         ],
         "legendgroup": "",
         "line": {
          "color": "grey",
          "dash": "solid"
         },
         "marker": {
          "symbol": "circle"
         },
         "mode": "lines",
         "name": "",
         "orientation": "v",
         "showlegend": false,
         "type": "scatter",
         "x": {
          "bdata": "0AfRB9IH0wfUB9UH1gfXB9gH2QfaB9sH3AfdB94H3wfgB+EH",
          "dtype": "i2"
         },
         "xaxis": "x12",
         "y": {
          "bdata": "E0K2Ffv/LUATQrYV+/8tQBNCthX7/y1AE0K2Ffv/LUANLCS5/P8jQAAAAAAAAPh/AAAAAAAA+H8AAAAAAAD4fwAAAAAAAPh/jrFIUPx/NkCOsUhQ/H82QBNCthX7/z1AE0K2Ffv/PUCMpv8h/X9BQBNCthX7/z1AE0K2Ffv/LUAQN23n+/84QBNCthX7/z1A",
          "dtype": "f8"
         },
         "yaxis": "y12"
        },
        {
         "customdata": [
          [
           "France"
          ],
          [
           "France"
          ],
          [
           "France"
          ],
          [
           "France"
          ],
          [
           "France"
          ],
          [
           "France"
          ],
          [
           "France"
          ],
          [
           "France"
          ],
          [
           "France"
          ],
          [
           "France"
          ],
          [
           "France"
          ],
          [
           "France"
          ],
          [
           "France"
          ],
          [
           "France"
          ],
          [
           "France"
          ],
          [
           "France"
          ],
          [
           "France"
          ],
          [
           "France"
          ]
         ],
         "hovertemplate": "<b>%{hovertext}</b><br><br>year=%{x}<br>total_deceased_donors_per_mil=%{y:.2f}<extra></extra>",
         "hovertext": [
          "France",
          "France",
          "France",
          "France",
          "France",
          "France",
          "France",
          "France",
          "France",
          "France",
          "France",
          "France",
          "France",
          "France",
          "France",
          "France",
          "France",
          "France"
         ],
         "legendgroup": "",
         "line": {
          "color": "grey",
          "dash": "solid"
         },
         "marker": {
          "symbol": "circle"
         },
         "mode": "lines",
         "name": "",
         "orientation": "v",
         "showlegend": false,
         "type": "scatter",
         "x": {
          "bdata": "0AfRB9IH0wfUB9UH1gfXB9gH2QfaB9sH3AfdB94H3wfgB+EH",
          "dtype": "i2"
         },
         "xaxis": "x7",
         "y": {
          "bdata": "AAAAAAAA+H8AAAAAAAD4fwAAAAAAAPh/36UcsXSeMkBCm6O5yV81QANE7o9BqTZA/fhyhczFN0DxBaLE+0k6QGVGZjd7AjpATu3Tz2rEOEDrkf2llZE4QMXSjMH+1DlA2b8IaLfbOUBTuFQKxwQ6QJeQ01LF7TlAWmkvSA4XPECySEBvjLs8QP0IEMkLvT1A",
          "dtype": "f8"
         },
         "yaxis": "y7"
        },
        {
         "customdata": [
          [
           "Italy"
          ],
          [
           "Italy"
          ],
          [
           "Italy"
          ],
          [
           "Italy"
          ],
          [
           "Italy"
          ],
          [
           "Italy"
          ],
          [
           "Italy"
          ],
          [
           "Italy"
          ],
          [
           "Italy"
          ],
          [
           "Italy"
          ],
          [
           "Italy"
          ],
          [
           "Italy"
          ],
          [
           "Italy"
          ],
          [
           "Italy"
          ],
          [
           "Italy"
          ],
          [
           "Italy"
          ],
          [
           "Italy"
          ],
          [
           "Italy"
          ]
         ],
         "hovertemplate": "<b>%{hovertext}</b><br><br>year=%{x}<br>total_deceased_donors_per_mil=%{y:.2f}<extra></extra>",
         "hovertext": [
          "Italy",
          "Italy",
          "Italy",
          "Italy",
          "Italy",
          "Italy",
          "Italy",
          "Italy",
          "Italy",
          "Italy",
          "Italy",
          "Italy",
          "Italy",
          "Italy",
          "Italy",
          "Italy",
          "Italy",
          "Italy"
         ],
         "legendgroup": "",
         "line": {
          "color": "grey",
          "dash": "solid"
         },
         "marker": {
          "symbol": "circle"
         },
         "mode": "lines",
         "name": "",
         "orientation": "v",
         "showlegend": false,
         "type": "scatter",
         "x": {
          "bdata": "0AfRB9IH0wfUB9UH1gfXB9gH2QfaB9sH3AfdB94H3wfgB+EH",
          "dtype": "i2"
         },
         "xaxis": "x8",
         "y": {
          "bdata": "mDW6Fi23LkC+VYRsvy4xQAAAAAAAAPh/l8ZuTz8nMkARjQbbqP40QA1hrX43mjRA3egR/D49NUBlEZJr9YM0QPFg3Ej3YzRAArDuvIhANUCzCMUa65g1QMcruYDyyjVANRhVLATrNUAOLM4fQ7A1QMmPAYzBpjZAxgewFprkNkC66WNWObc4QMKvT5fv2jxA",
          "dtype": "f8"
         },
         "yaxis": "y8"
        },
        {
         "customdata": [
          [
           "Czech Republic"
          ],
          [
           "Czech Republic"
          ],
          [
           "Czech Republic"
          ],
          [
           "Czech Republic"
          ],
          [
           "Czech Republic"
          ],
          [
           "Czech Republic"
          ],
          [
           "Czech Republic"
          ],
          [
           "Czech Republic"
          ],
          [
           "Czech Republic"
          ],
          [
           "Czech Republic"
          ],
          [
           "Czech Republic"
          ],
          [
           "Czech Republic"
          ],
          [
           "Czech Republic"
          ],
          [
           "Czech Republic"
          ],
          [
           "Czech Republic"
          ],
          [
           "Czech Republic"
          ],
          [
           "Czech Republic"
          ],
          [
           "Czech Republic"
          ]
         ],
         "hovertemplate": "<b>%{hovertext}</b><br><br>year=%{x}<br>total_deceased_donors_per_mil=%{y:.2f}<extra></extra>",
         "hovertext": [
          "Czech Republic",
          "Czech Republic",
          "Czech Republic",
          "Czech Republic",
          "Czech Republic",
          "Czech Republic",
          "Czech Republic",
          "Czech Republic",
          "Czech Republic",
          "Czech Republic",
          "Czech Republic",
          "Czech Republic",
          "Czech Republic",
          "Czech Republic",
          "Czech Republic",
          "Czech Republic",
          "Czech Republic",
          "Czech Republic"
         ],
         "legendgroup": "",
         "line": {
          "color": "grey",
          "dash": "solid"
         },
         "marker": {
          "symbol": "circle"
         },
         "mode": "lines",
         "name": "",
         "orientation": "v",
         "showlegend": false,
         "type": "scatter",
         "x": {
          "bdata": "0AfRB9IH0wfUB9UH1gfXB9gH2QfaB9sH3AfdB94H3wfgB+EH",
          "dtype": "i2"
         },
         "xaxis": "x9",
         "y": {
          "bdata": "5tPvCygoMUBvwnB387IwQAAAAAAAAPh/4uLsmrm5MkCeNamNr680QN/x6SlLSzRAwoTMzOvrMkA8G0gjRkY1QHGZe0lpaTNARjM1khM7M0DlolrMxM4zQJaAd8t5njFA3DyncJpgNEBcz4BQs180QBJBBkN8ZDhABmP+tbZtN0Cg39osVVU5QFpPvWiaYDlA",
          "dtype": "f8"
         },
         "yaxis": "y9"
        },
        {
         "customdata": [
          [
           "Austria"
          ],
          [
           "Austria"
          ],
          [
           "Austria"
          ],
          [
           "Austria"
          ],
          [
           "Austria"
          ],
          [
           "Austria"
          ],
          [
           "Austria"
          ],
          [
           "Austria"
          ],
          [
           "Austria"
          ],
          [
           "Austria"
          ],
          [
           "Austria"
          ],
          [
           "Austria"
          ],
          [
           "Austria"
          ],
          [
           "Austria"
          ],
          [
           "Austria"
          ],
          [
           "Austria"
          ],
          [
           "Austria"
          ],
          [
           "Austria"
          ]
         ],
         "hovertemplate": "<b>%{hovertext}</b><br><br>year=%{x}<br>total_deceased_donors_per_mil=%{y:.2f}<extra></extra>",
         "hovertext": [
          "Austria",
          "Austria",
          "Austria",
          "Austria",
          "Austria",
          "Austria",
          "Austria",
          "Austria",
          "Austria",
          "Austria",
          "Austria",
          "Austria",
          "Austria",
          "Austria",
          "Austria",
          "Austria",
          "Austria",
          "Austria"
         ],
         "legendgroup": "",
         "line": {
          "color": "grey",
          "dash": "solid"
         },
         "marker": {
          "symbol": "circle"
         },
         "mode": "lines",
         "name": "",
         "orientation": "v",
         "showlegend": false,
         "type": "scatter",
         "x": {
          "bdata": "0AfRB9IH0wfUB9UH1gfXB9gH2QfaB9sH3AfdB94H3wfgB+EH",
          "dtype": "i2"
         },
         "xaxis": "x4",
         "y": {
          "bdata": "+JQhqpWoN0D7LPbeipQ3QGKG4FL2EjhARwABJVVVN0Dgphax6dY2QKlQcmmPwThA+NxAMHA+OUBG2dDqm482QIRQlHXneTRAZMmXa+d5OUC73romVVU3QA9UKUmeZzhAPxV+9UiSN0DOuCtIeHg4QKtotr/w8DhA6bSD7h0eOECaNeq8iDs5QN02ceKVezhA",
          "dtype": "f8"
         },
         "yaxis": "y4"
        },
        {
         "customdata": [
          [
           "Belarus"
          ],
          [
           "Belarus"
          ],
          [
           "Belarus"
          ],
          [
           "Belarus"
          ],
          [
           "Belarus"
          ],
          [
           "Belarus"
          ],
          [
           "Belarus"
          ],
          [
           "Belarus"
          ],
          [
           "Belarus"
          ],
          [
           "Belarus"
          ],
          [
           "Belarus"
          ],
          [
           "Belarus"
          ],
          [
           "Belarus"
          ],
          [
           "Belarus"
          ],
          [
           "Belarus"
          ],
          [
           "Belarus"
          ],
          [
           "Belarus"
          ],
          [
           "Belarus"
          ]
         ],
         "hovertemplate": "<b>%{hovertext}</b><br><br>year=%{x}<br>total_deceased_donors_per_mil=%{y:.2f}<extra></extra>",
         "hovertext": [
          "Belarus",
          "Belarus",
          "Belarus",
          "Belarus",
          "Belarus",
          "Belarus",
          "Belarus",
          "Belarus",
          "Belarus",
          "Belarus",
          "Belarus",
          "Belarus",
          "Belarus",
          "Belarus",
          "Belarus",
          "Belarus",
          "Belarus",
          "Belarus"
         ],
         "legendgroup": "",
         "line": {
          "color": "grey",
          "dash": "solid"
         },
         "marker": {
          "symbol": "circle"
         },
         "mode": "lines",
         "name": "",
         "orientation": "v",
         "showlegend": false,
         "type": "scatter",
         "x": {
          "bdata": "0AfRB9IH0wfUB9UH1gfXB9gH2QfaB9sH3AfdB94H3wfgB+EH",
          "dtype": "i2"
         },
         "xaxis": "x5",
         "y": {
          "bdata": "AAAAAAAA+H8AAAAAAAD4fwAAAAAAAPh/AAAAAAAA+H8AAAAAAAD4f/5MQqRYH9o/AAAAAAAA+H8AAAAAAAD4fwAAAAAAAPh/AAAAAAAA+H8AAAAAAAD4fwMnDN3//yNAAuPMbNdQJkCoSORnyRUyQChP3VvvvTFApwE7Y/IaNEBRTk+uUF43QMhjabs1lDdA",
          "dtype": "f8"
         },
         "yaxis": "y5"
        },
        {
         "customdata": [
          [
           "United Kingdom"
          ],
          [
           "United Kingdom"
          ],
          [
           "United Kingdom"
          ],
          [
           "United Kingdom"
          ],
          [
           "United Kingdom"
          ],
          [
           "United Kingdom"
          ],
          [
           "United Kingdom"
          ],
          [
           "United Kingdom"
          ],
          [
           "United Kingdom"
          ],
          [
           "United Kingdom"
          ],
          [
           "United Kingdom"
          ],
          [
           "United Kingdom"
          ],
          [
           "United Kingdom"
          ],
          [
           "United Kingdom"
          ],
          [
           "United Kingdom"
          ],
          [
           "United Kingdom"
          ],
          [
           "United Kingdom"
          ],
          [
           "United Kingdom"
          ]
         ],
         "hovertemplate": "<b>%{hovertext}</b><br><br>year=%{x}<br>total_deceased_donors_per_mil=%{y:.2f}<extra></extra>",
         "hovertext": [
          "United Kingdom",
          "United Kingdom",
          "United Kingdom",
          "United Kingdom",
          "United Kingdom",
          "United Kingdom",
          "United Kingdom",
          "United Kingdom",
          "United Kingdom",
          "United Kingdom",
          "United Kingdom",
          "United Kingdom",
          "United Kingdom",
          "United Kingdom",
          "United Kingdom",
          "United Kingdom",
          "United Kingdom",
          "United Kingdom"
         ],
         "legendgroup": "",
         "line": {
          "color": "grey",
          "dash": "solid"
         },
         "marker": {
          "symbol": "circle"
         },
         "mode": "lines",
         "name": "",
         "orientation": "v",
         "showlegend": false,
         "type": "scatter",
         "x": {
          "bdata": "0AfRB9IH0wfUB9UH1gfXB9gH2QfaB9sH3AfdB94H3wfgB+EH",
          "dtype": "i2"
         },
         "xaxis": "x6",
         "y": {
          "bdata": "AAAAAAAA+H8+1cAWHh4qQFkkD83NoClAh8X8dS/yJ0C3Nuo4rV8rQDWSuavjOSlADKci6rINKkD8worn7m4qQBfpWFQyBC1Ap1tngy46LkBAIfj7vGUwQMF/X8BO7DBA/B/q0/eIMkB3Jyvoevc0QEqKd286nTRAz6Kyo0NDNEAKQRIFT4U1QF/u8+aqiTZA",
          "dtype": "f8"
         },
         "yaxis": "y6"
        },
        {
         "customdata": [
          [
           "Canada"
          ],
          [
           "Canada"
          ],
          [
           "Canada"
          ],
          [
           "Canada"
          ],
          [
           "Canada"
          ],
          [
           "Canada"
          ],
          [
           "Canada"
          ],
          [
           "Canada"
          ],
          [
           "Canada"
          ],
          [
           "Canada"
          ],
          [
           "Canada"
          ],
          [
           "Canada"
          ],
          [
           "Canada"
          ],
          [
           "Canada"
          ],
          [
           "Canada"
          ],
          [
           "Canada"
          ],
          [
           "Canada"
          ],
          [
           "Canada"
          ]
         ],
         "hovertemplate": "<b>%{hovertext}</b><br><br>year=%{x}<br>total_deceased_donors_per_mil=%{y:.2f}<extra></extra>",
         "hovertext": [
          "Canada",
          "Canada",
          "Canada",
          "Canada",
          "Canada",
          "Canada",
          "Canada",
          "Canada",
          "Canada",
          "Canada",
          "Canada",
          "Canada",
          "Canada",
          "Canada",
          "Canada",
          "Canada",
          "Canada",
          "Canada"
         ],
         "legendgroup": "",
         "line": {
          "color": "grey",
          "dash": "solid"
         },
         "marker": {
          "symbol": "circle"
         },
         "mode": "lines",
         "name": "",
         "orientation": "v",
         "showlegend": false,
         "type": "scatter",
         "x": {
          "bdata": "0AfRB9IH0wfUB9UH1gfXB9gH2QfaB9sH3AfdB94H3wfgB+EH",
          "dtype": "i2"
         },
         "xaxis": "x",
         "y": {
          "bdata": "4c/8eO+LLkCRM+IixhgrQOFB6B4RQypAvX2zvLIsK0Ae4hj/rx4qQFV98wB6oilAVnoQDy+2LEBCKvH2N/gtQGDcQIXwRi1AJ4LDwPP8LED0Th8hGzQtQJLysRFM9i5A68Tssjs9L0Dmld42F10vQL6vtenbpTBAm1MF5if4MkAWq6K+rOE0QNFEigme6TVA",
          "dtype": "f8"
         },
         "yaxis": "y"
        },
        {
         "customdata": [
          [
           "Norway"
          ],
          [
           "Norway"
          ],
          [
           "Norway"
          ],
          [
           "Norway"
          ],
          [
           "Norway"
          ],
          [
           "Norway"
          ],
          [
           "Norway"
          ],
          [
           "Norway"
          ],
          [
           "Norway"
          ],
          [
           "Norway"
          ],
          [
           "Norway"
          ],
          [
           "Norway"
          ],
          [
           "Norway"
          ],
          [
           "Norway"
          ],
          [
           "Norway"
          ],
          [
           "Norway"
          ],
          [
           "Norway"
          ],
          [
           "Norway"
          ]
         ],
         "hovertemplate": "<b>%{hovertext}</b><br><br>year=%{x}<br>total_deceased_donors_per_mil=%{y:.2f}<extra></extra>",
         "hovertext": [
          "Norway",
          "Norway",
          "Norway",
          "Norway",
          "Norway",
          "Norway",
          "Norway",
          "Norway",
          "Norway",
          "Norway",
          "Norway",
          "Norway",
          "Norway",
          "Norway",
          "Norway",
          "Norway",
          "Norway",
          "Norway"
         ],
         "legendgroup": "",
         "line": {
          "color": "grey",
          "dash": "solid"
         },
         "marker": {
          "symbol": "circle"
         },
         "mode": "lines",
         "name": "",
         "orientation": "v",
         "showlegend": false,
         "type": "scatter",
         "x": {
          "bdata": "0AfRB9IH0wfUB9UH1gfXB9gH2QfaB9sH3AfdB94H3wfgB+EH",
          "dtype": "i2"
         },
         "xaxis": "x2",
         "y": {
          "bdata": "Eo0aojiOMUCg7i7NjeMsQHIu0nw4jitApuJADVVVM0AAAAAAAAD4fw8b1HWQhTBADxvUdZCFMEAcjJu4//8zQBKSRQff2TRAatO5tf8/NUD71EF/+tA0QGXAmsYZ6zlAA/XhF2ZmN0CNjLXoMjM2QE3063O+vjZApab5RJ1YNUBys/cngvE0QJjSPo8E4zVA",
          "dtype": "f8"
         },
         "yaxis": "y2"
        },
        {
         "customdata": [
          [
           "Finland"
          ],
          [
           "Finland"
          ],
          [
           "Finland"
          ],
          [
           "Finland"
          ],
          [
           "Finland"
          ],
          [
           "Finland"
          ],
          [
           "Finland"
          ],
          [
           "Finland"
          ],
          [
           "Finland"
          ],
          [
           "Finland"
          ],
          [
           "Finland"
          ],
          [
           "Finland"
          ],
          [
           "Finland"
          ],
          [
           "Finland"
          ],
          [
           "Finland"
          ],
          [
           "Finland"
          ],
          [
           "Finland"
          ],
          [
           "Finland"
          ]
         ],
         "hovertemplate": "<b>%{hovertext}</b><br><br>year=%{x}<br>total_deceased_donors_per_mil=%{y:.2f}<extra></extra>",
         "hovertext": [
          "Finland",
          "Finland",
          "Finland",
          "Finland",
          "Finland",
          "Finland",
          "Finland",
          "Finland",
          "Finland",
          "Finland",
          "Finland",
          "Finland",
          "Finland",
          "Finland",
          "Finland",
          "Finland",
          "Finland",
          "Finland"
         ],
         "legendgroup": "",
         "line": {
          "color": "grey",
          "dash": "solid"
         },
         "marker": {
          "symbol": "circle"
         },
         "mode": "lines",
         "name": "",
         "orientation": "v",
         "showlegend": false,
         "type": "scatter",
         "x": {
          "bdata": "0AfRB9IH0wfUB9UH1gfXB9gH2QfaB9sH3AfdB94H3wfgB+EH",
          "dtype": "i2"
         },
         "xaxis": "x3",
         "y": {
          "bdata": "Q4FmrMTOM0Aum1KOTuwwQNn/ZKGJHTFASK+d5XViJEBM3dQeJ/Y0QCltG1WdWDBA/aZBmOeQNEDcNtuKeCsxQCPxmXjnkC5AjUlsYmC8MUAXPbbSxVsxQFHztljjODFAd7fcwf//M0C/TYs6HMcxQP7pdJRLaDZAeJoEi0UXN0C8TjVALro4QDPm09VcdDVA",
          "dtype": "f8"
         },
         "yaxis": "y3"
        }
       ],
       "layout": {
        "annotations": [
         {
          "showarrow": false,
          "text": "Canada",
          "x": 0.15999999999999998,
          "xanchor": "center",
          "xref": "paper",
          "y": 0.144,
          "yanchor": "bottom",
          "yref": "paper"
         },
         {
          "showarrow": false,
          "text": "Norway",
          "x": 0.49999999999999994,
          "xanchor": "center",
          "xref": "paper",
          "y": 0.144,
          "yanchor": "bottom",
          "yref": "paper"
         },
         {
          "showarrow": false,
          "text": "Finland",
          "x": 0.8399999999999999,
          "xanchor": "center",
          "xref": "paper",
          "y": 0.144,
          "yanchor": "bottom",
          "yref": "paper"
         },
         {
          "showarrow": false,
          "text": "Austria",
          "x": 0.15999999999999998,
          "xanchor": "center",
          "xref": "paper",
          "y": 0.358,
          "yanchor": "bottom",
          "yref": "paper"
         },
         {
          "showarrow": false,
          "text": "Belarus",
          "x": 0.49999999999999994,
          "xanchor": "center",
          "xref": "paper",
          "y": 0.358,
          "yanchor": "bottom",
          "yref": "paper"
         },
         {
          "showarrow": false,
          "text": "United Kingdom",
          "x": 0.8399999999999999,
          "xanchor": "center",
          "xref": "paper",
          "y": 0.358,
          "yanchor": "bottom",
          "yref": "paper"
         },
         {
          "showarrow": false,
          "text": "France",
          "x": 0.15999999999999998,
          "xanchor": "center",
          "xref": "paper",
          "y": 0.572,
          "yanchor": "bottom",
          "yref": "paper"
         },
         {
          "showarrow": false,
          "text": "Italy",
          "x": 0.49999999999999994,
          "xanchor": "center",
          "xref": "paper",
          "y": 0.572,
          "yanchor": "bottom",
          "yref": "paper"
         },
         {
          "showarrow": false,
          "text": "Czech Republic",
          "x": 0.8399999999999999,
          "xanchor": "center",
          "xref": "paper",
          "y": 0.572,
          "yanchor": "bottom",
          "yref": "paper"
         },
         {
          "showarrow": false,
          "text": "United States of America",
          "x": 0.15999999999999998,
          "xanchor": "center",
          "xref": "paper",
          "y": 0.7859999999999999,
          "yanchor": "bottom",
          "yref": "paper"
         },
         {
          "showarrow": false,
          "text": "Belgium",
          "x": 0.49999999999999994,
          "xanchor": "center",
          "xref": "paper",
          "y": 0.7859999999999999,
          "yanchor": "bottom",
          "yref": "paper"
         },
         {
          "showarrow": false,
          "text": "Malta",
          "x": 0.8399999999999999,
          "xanchor": "center",
          "xref": "paper",
          "y": 0.7859999999999999,
          "yanchor": "bottom",
          "yref": "paper"
         },
         {
          "showarrow": false,
          "text": "Spain",
          "x": 0.15999999999999998,
          "xanchor": "center",
          "xref": "paper",
          "y": 1,
          "yanchor": "bottom",
          "yref": "paper"
         },
         {
          "showarrow": false,
          "text": "Portugal",
          "x": 0.49999999999999994,
          "xanchor": "center",
          "xref": "paper",
          "y": 1,
          "yanchor": "bottom",
          "yref": "paper"
         },
         {
          "showarrow": false,
          "text": "Croatia",
          "x": 0.8399999999999999,
          "xanchor": "center",
          "xref": "paper",
          "y": 1,
          "yanchor": "bottom",
          "yref": "paper"
         },
         {
          "showarrow": false,
          "text": "Organ donations per million",
          "textangle": -90,
          "x": -0.05,
          "xref": "paper",
          "y": 0.5,
          "yref": "paper"
         },
         {
          "showarrow": false,
          "text": "Year",
          "x": 0.5,
          "xref": "paper",
          "y": -0.05,
          "yref": "paper"
         }
        ],
        "autosize": false,
        "height": 800,
        "legend": {
         "tracegroupgap": 0
        },
        "margin": {
         "t": 60
        },
        "template": {
         "data": {
          "bar": [
           {
            "error_x": {
             "color": "#2a3f5f"
            },
            "error_y": {
             "color": "#2a3f5f"
            },
            "marker": {
             "line": {
              "color": "#E5ECF6",
              "width": 0.5
             },
             "pattern": {
              "fillmode": "overlay",
              "size": 10,
              "solidity": 0.2
             }
            },
            "type": "bar"
           }
          ],
          "barpolar": [
           {
            "marker": {
             "line": {
              "color": "#E5ECF6",
              "width": 0.5
             },
             "pattern": {
              "fillmode": "overlay",
              "size": 10,
              "solidity": 0.2
             }
            },
            "type": "barpolar"
           }
          ],
          "carpet": [
           {
            "aaxis": {
             "endlinecolor": "#2a3f5f",
             "gridcolor": "white",
             "linecolor": "white",
             "minorgridcolor": "white",
             "startlinecolor": "#2a3f5f"
            },
            "baxis": {
             "endlinecolor": "#2a3f5f",
             "gridcolor": "white",
             "linecolor": "white",
             "minorgridcolor": "white",
             "startlinecolor": "#2a3f5f"
            },
            "type": "carpet"
           }
          ],
          "choropleth": [
           {
            "colorbar": {
             "outlinewidth": 0,
             "ticks": ""
            },
            "type": "choropleth"
           }
          ],
          "contour": [
           {
            "colorbar": {
             "outlinewidth": 0,
             "ticks": ""
            },
            "colorscale": [
             [
              0,
              "#0d0887"
             ],
             [
              0.1111111111111111,
              "#46039f"
             ],
             [
              0.2222222222222222,
              "#7201a8"
             ],
             [
              0.3333333333333333,
              "#9c179e"
             ],
             [
              0.4444444444444444,
              "#bd3786"
             ],
             [
              0.5555555555555556,
              "#d8576b"
             ],
             [
              0.6666666666666666,
              "#ed7953"
             ],
             [
              0.7777777777777778,
              "#fb9f3a"
             ],
             [
              0.8888888888888888,
              "#fdca26"
             ],
             [
              1,
              "#f0f921"
             ]
            ],
            "type": "contour"
           }
          ],
          "contourcarpet": [
           {
            "colorbar": {
             "outlinewidth": 0,
             "ticks": ""
            },
            "type": "contourcarpet"
           }
          ],
          "heatmap": [
           {
            "colorbar": {
             "outlinewidth": 0,
             "ticks": ""
            },
            "colorscale": [
             [
              0,
              "#0d0887"
             ],
             [
              0.1111111111111111,
              "#46039f"
             ],
             [
              0.2222222222222222,
              "#7201a8"
             ],
             [
              0.3333333333333333,
              "#9c179e"
             ],
             [
              0.4444444444444444,
              "#bd3786"
             ],
             [
              0.5555555555555556,
              "#d8576b"
             ],
             [
              0.6666666666666666,
              "#ed7953"
             ],
             [
              0.7777777777777778,
              "#fb9f3a"
             ],
             [
              0.8888888888888888,
              "#fdca26"
             ],
             [
              1,
              "#f0f921"
             ]
            ],
            "type": "heatmap"
           }
          ],
          "histogram": [
           {
            "marker": {
             "pattern": {
              "fillmode": "overlay",
              "size": 10,
              "solidity": 0.2
             }
            },
            "type": "histogram"
           }
          ],
          "histogram2d": [
           {
            "colorbar": {
             "outlinewidth": 0,
             "ticks": ""
            },
            "colorscale": [
             [
              0,
              "#0d0887"
             ],
             [
              0.1111111111111111,
              "#46039f"
             ],
             [
              0.2222222222222222,
              "#7201a8"
             ],
             [
              0.3333333333333333,
              "#9c179e"
             ],
             [
              0.4444444444444444,
              "#bd3786"
             ],
             [
              0.5555555555555556,
              "#d8576b"
             ],
             [
              0.6666666666666666,
              "#ed7953"
             ],
             [
              0.7777777777777778,
              "#fb9f3a"
             ],
             [
              0.8888888888888888,
              "#fdca26"
             ],
             [
              1,
              "#f0f921"
             ]
            ],
            "type": "histogram2d"
           }
          ],
          "histogram2dcontour": [
           {
            "colorbar": {
             "outlinewidth": 0,
             "ticks": ""
            },
            "colorscale": [
             [
              0,
              "#0d0887"
             ],
             [
              0.1111111111111111,
              "#46039f"
             ],
             [
              0.2222222222222222,
              "#7201a8"
             ],
             [
              0.3333333333333333,
              "#9c179e"
             ],
             [
              0.4444444444444444,
              "#bd3786"
             ],
             [
              0.5555555555555556,
              "#d8576b"
             ],
             [
              0.6666666666666666,
              "#ed7953"
             ],
             [
              0.7777777777777778,
              "#fb9f3a"
             ],
             [
              0.8888888888888888,
              "#fdca26"
             ],
             [
              1,
              "#f0f921"
             ]
            ],
            "type": "histogram2dcontour"
           }
          ],
          "mesh3d": [
           {
            "colorbar": {
             "outlinewidth": 0,
             "ticks": ""
            },
            "type": "mesh3d"
           }
          ],
          "parcoords": [
           {
            "line": {
             "colorbar": {
              "outlinewidth": 0,
              "ticks": ""
             }
            },
            "type": "parcoords"
           }
          ],
          "pie": [
           {
            "automargin": true,
            "type": "pie"
           }
          ],
          "scatter": [
           {
            "fillpattern": {
             "fillmode": "overlay",
             "size": 10,
             "solidity": 0.2
            },
            "type": "scatter"
           }
          ],
          "scatter3d": [
           {
            "line": {
             "colorbar": {
              "outlinewidth": 0,
              "ticks": ""
             }
            },
            "marker": {
             "colorbar": {
              "outlinewidth": 0,
              "ticks": ""
             }
            },
            "type": "scatter3d"
           }
          ],
          "scattercarpet": [
           {
            "marker": {
             "colorbar": {
              "outlinewidth": 0,
              "ticks": ""
             }
            },
            "type": "scattercarpet"
           }
          ],
          "scattergeo": [
           {
            "marker": {
             "colorbar": {
              "outlinewidth": 0,
              "ticks": ""
             }
            },
            "type": "scattergeo"
           }
          ],
          "scattergl": [
           {
            "marker": {
             "colorbar": {
              "outlinewidth": 0,
              "ticks": ""
             }
            },
            "type": "scattergl"
           }
          ],
          "scattermap": [
           {
            "marker": {
             "colorbar": {
              "outlinewidth": 0,
              "ticks": ""
             }
            },
            "type": "scattermap"
           }
          ],
          "scattermapbox": [
           {
            "marker": {
             "colorbar": {
              "outlinewidth": 0,
              "ticks": ""
             }
            },
            "type": "scattermapbox"
           }
          ],
          "scatterpolar": [
           {
            "marker": {
             "colorbar": {
              "outlinewidth": 0,
              "ticks": ""
             }
            },
            "type": "scatterpolar"
           }
          ],
          "scatterpolargl": [
           {
            "marker": {
             "colorbar": {
              "outlinewidth": 0,
              "ticks": ""
             }
            },
            "type": "scatterpolargl"
           }
          ],
          "scatterternary": [
           {
            "marker": {
             "colorbar": {
              "outlinewidth": 0,
              "ticks": ""
             }
            },
            "type": "scatterternary"
           }
          ],
          "surface": [
           {
            "colorbar": {
             "outlinewidth": 0,
             "ticks": ""
            },
            "colorscale": [
             [
              0,
              "#0d0887"
             ],
             [
              0.1111111111111111,
              "#46039f"
             ],
             [
              0.2222222222222222,
              "#7201a8"
             ],
             [
              0.3333333333333333,
              "#9c179e"
             ],
             [
              0.4444444444444444,
              "#bd3786"
             ],
             [
              0.5555555555555556,
              "#d8576b"
             ],
             [
              0.6666666666666666,
              "#ed7953"
             ],
             [
              0.7777777777777778,
              "#fb9f3a"
             ],
             [
              0.8888888888888888,
              "#fdca26"
             ],
             [
              1,
              "#f0f921"
             ]
            ],
            "type": "surface"
           }
          ],
          "table": [
           {
            "cells": {
             "fill": {
              "color": "#EBF0F8"
             },
             "line": {
              "color": "white"
             }
            },
            "header": {
             "fill": {
              "color": "#C8D4E3"
             },
             "line": {
              "color": "white"
             }
            },
            "type": "table"
           }
          ]
         },
         "layout": {
          "annotationdefaults": {
           "arrowcolor": "#2a3f5f",
           "arrowhead": 0,
           "arrowwidth": 1
          },
          "autotypenumbers": "strict",
          "coloraxis": {
           "colorbar": {
            "outlinewidth": 0,
            "ticks": ""
           }
          },
          "colorscale": {
           "diverging": [
            [
             0,
             "#8e0152"
            ],
            [
             0.1,
             "#c51b7d"
            ],
            [
             0.2,
             "#de77ae"
            ],
            [
             0.3,
             "#f1b6da"
            ],
            [
             0.4,
             "#fde0ef"
            ],
            [
             0.5,
             "#f7f7f7"
            ],
            [
             0.6,
             "#e6f5d0"
            ],
            [
             0.7,
             "#b8e186"
            ],
            [
             0.8,
             "#7fbc41"
            ],
            [
             0.9,
             "#4d9221"
            ],
            [
             1,
             "#276419"
            ]
           ],
           "sequential": [
            [
             0,
             "#0d0887"
            ],
            [
             0.1111111111111111,
             "#46039f"
            ],
            [
             0.2222222222222222,
             "#7201a8"
            ],
            [
             0.3333333333333333,
             "#9c179e"
            ],
            [
             0.4444444444444444,
             "#bd3786"
            ],
            [
             0.5555555555555556,
             "#d8576b"
            ],
            [
             0.6666666666666666,
             "#ed7953"
            ],
            [
             0.7777777777777778,
             "#fb9f3a"
            ],
            [
             0.8888888888888888,
             "#fdca26"
            ],
            [
             1,
             "#f0f921"
            ]
           ],
           "sequentialminus": [
            [
             0,
             "#0d0887"
            ],
            [
             0.1111111111111111,
             "#46039f"
            ],
            [
             0.2222222222222222,
             "#7201a8"
            ],
            [
             0.3333333333333333,
             "#9c179e"
            ],
            [
             0.4444444444444444,
             "#bd3786"
            ],
            [
             0.5555555555555556,
             "#d8576b"
            ],
            [
             0.6666666666666666,
             "#ed7953"
            ],
            [
             0.7777777777777778,
             "#fb9f3a"
            ],
            [
             0.8888888888888888,
             "#fdca26"
            ],
            [
             1,
             "#f0f921"
            ]
           ]
          },
          "colorway": [
           "#636efa",
           "#EF553B",
           "#00cc96",
           "#ab63fa",
           "#FFA15A",
           "#19d3f3",
           "#FF6692",
           "#B6E880",
           "#FF97FF",
           "#FECB52"
          ],
          "font": {
           "color": "#2a3f5f"
          },
          "geo": {
           "bgcolor": "white",
           "lakecolor": "white",
           "landcolor": "#E5ECF6",
           "showlakes": true,
           "showland": true,
           "subunitcolor": "white"
          },
          "hoverlabel": {
           "align": "left"
          },
          "hovermode": "closest",
          "mapbox": {
           "style": "light"
          },
          "paper_bgcolor": "white",
          "plot_bgcolor": "#E5ECF6",
          "polar": {
           "angularaxis": {
            "gridcolor": "white",
            "linecolor": "white",
            "ticks": ""
           },
           "bgcolor": "#E5ECF6",
           "radialaxis": {
            "gridcolor": "white",
            "linecolor": "white",
            "ticks": ""
           }
          },
          "scene": {
           "xaxis": {
            "backgroundcolor": "#E5ECF6",
            "gridcolor": "white",
            "gridwidth": 2,
            "linecolor": "white",
            "showbackground": true,
            "ticks": "",
            "zerolinecolor": "white"
           },
           "yaxis": {
            "backgroundcolor": "#E5ECF6",
            "gridcolor": "white",
            "gridwidth": 2,
            "linecolor": "white",
            "showbackground": true,
            "ticks": "",
            "zerolinecolor": "white"
           },
           "zaxis": {
            "backgroundcolor": "#E5ECF6",
            "gridcolor": "white",
            "gridwidth": 2,
            "linecolor": "white",
            "showbackground": true,
            "ticks": "",
            "zerolinecolor": "white"
           }
          },
          "shapedefaults": {
           "line": {
            "color": "#2a3f5f"
           }
          },
          "ternary": {
           "aaxis": {
            "gridcolor": "white",
            "linecolor": "white",
            "ticks": ""
           },
           "baxis": {
            "gridcolor": "white",
            "linecolor": "white",
            "ticks": ""
           },
           "bgcolor": "#E5ECF6",
           "caxis": {
            "gridcolor": "white",
            "linecolor": "white",
            "ticks": ""
           }
          },
          "title": {
           "x": 0.05
          },
          "xaxis": {
           "automargin": true,
           "gridcolor": "white",
           "linecolor": "white",
           "ticks": "",
           "title": {
            "standoff": 15
           },
           "zerolinecolor": "white",
           "zerolinewidth": 2
          },
          "yaxis": {
           "automargin": true,
           "gridcolor": "white",
           "linecolor": "white",
           "ticks": "",
           "title": {
            "standoff": 15
           },
           "zerolinecolor": "white",
           "zerolinewidth": 2
          }
         }
        },
        "xaxis": {
         "anchor": "y",
         "domain": [
          0,
          0.31999999999999995
         ],
         "title": {
          "text": ""
         }
        },
        "xaxis10": {
         "anchor": "y10",
         "domain": [
          0,
          0.31999999999999995
         ],
         "matches": "x",
         "showticklabels": false,
         "title": {
          "text": ""
         }
        },
        "xaxis11": {
         "anchor": "y11",
         "domain": [
          0.33999999999999997,
          0.6599999999999999
         ],
         "matches": "x",
         "showticklabels": false,
         "title": {
          "text": ""
         }
        },
        "xaxis12": {
         "anchor": "y12",
         "domain": [
          0.6799999999999999,
          0.9999999999999999
         ],
         "matches": "x",
         "showticklabels": false,
         "title": {
          "text": ""
         }
        },
        "xaxis13": {
         "anchor": "y13",
         "domain": [
          0,
          0.31999999999999995
         ],
         "matches": "x",
         "showticklabels": false,
         "title": {
          "text": ""
         }
        },
        "xaxis14": {
         "anchor": "y14",
         "domain": [
          0.33999999999999997,
          0.6599999999999999
         ],
         "matches": "x",
         "showticklabels": false,
         "title": {
          "text": ""
         }
        },
        "xaxis15": {
         "anchor": "y15",
         "domain": [
          0.6799999999999999,
          0.9999999999999999
         ],
         "matches": "x",
         "showticklabels": false,
         "title": {
          "text": ""
         }
        },
        "xaxis2": {
         "anchor": "y2",
         "domain": [
          0.33999999999999997,
          0.6599999999999999
         ],
         "matches": "x",
         "title": {
          "text": ""
         }
        },
        "xaxis3": {
         "anchor": "y3",
         "domain": [
          0.6799999999999999,
          0.9999999999999999
         ],
         "matches": "x",
         "title": {
          "text": ""
         }
        },
        "xaxis4": {
         "anchor": "y4",
         "domain": [
          0,
          0.31999999999999995
         ],
         "matches": "x",
         "showticklabels": false,
         "title": {
          "text": ""
         }
        },
        "xaxis5": {
         "anchor": "y5",
         "domain": [
          0.33999999999999997,
          0.6599999999999999
         ],
         "matches": "x",
         "showticklabels": false,
         "title": {
          "text": ""
         }
        },
        "xaxis6": {
         "anchor": "y6",
         "domain": [
          0.6799999999999999,
          0.9999999999999999
         ],
         "matches": "x",
         "showticklabels": false,
         "title": {
          "text": ""
         }
        },
        "xaxis7": {
         "anchor": "y7",
         "domain": [
          0,
          0.31999999999999995
         ],
         "matches": "x",
         "showticklabels": false,
         "title": {
          "text": ""
         }
        },
        "xaxis8": {
         "anchor": "y8",
         "domain": [
          0.33999999999999997,
          0.6599999999999999
         ],
         "matches": "x",
         "showticklabels": false,
         "title": {
          "text": ""
         }
        },
        "xaxis9": {
         "anchor": "y9",
         "domain": [
          0.6799999999999999,
          0.9999999999999999
         ],
         "matches": "x",
         "showticklabels": false,
         "title": {
          "text": ""
         }
        },
        "yaxis": {
         "anchor": "x",
         "domain": [
          0,
          0.144
         ],
         "title": {
          "text": ""
         }
        },
        "yaxis10": {
         "anchor": "x10",
         "domain": [
          0.6419999999999999,
          0.7859999999999999
         ],
         "matches": "y",
         "title": {
          "text": ""
         }
        },
        "yaxis11": {
         "anchor": "x11",
         "domain": [
          0.6419999999999999,
          0.7859999999999999
         ],
         "matches": "y",
         "showticklabels": false,
         "title": {
          "text": ""
         }
        },
        "yaxis12": {
         "anchor": "x12",
         "domain": [
          0.6419999999999999,
          0.7859999999999999
         ],
         "matches": "y",
         "showticklabels": false,
         "title": {
          "text": ""
         }
        },
        "yaxis13": {
         "anchor": "x13",
         "domain": [
          0.856,
          1
         ],
         "matches": "y",
         "title": {
          "text": ""
         }
        },
        "yaxis14": {
         "anchor": "x14",
         "domain": [
          0.856,
          1
         ],
         "matches": "y",
         "showticklabels": false,
         "title": {
          "text": ""
         }
        },
        "yaxis15": {
         "anchor": "x15",
         "domain": [
          0.856,
          1
         ],
         "matches": "y",
         "showticklabels": false,
         "title": {
          "text": ""
         }
        },
        "yaxis2": {
         "anchor": "x2",
         "domain": [
          0,
          0.144
         ],
         "matches": "y",
         "showticklabels": false,
         "title": {
          "text": ""
         }
        },
        "yaxis3": {
         "anchor": "x3",
         "domain": [
          0,
          0.144
         ],
         "matches": "y",
         "showticklabels": false,
         "title": {
          "text": ""
         }
        },
        "yaxis4": {
         "anchor": "x4",
         "domain": [
          0.214,
          0.358
         ],
         "matches": "y",
         "title": {
          "text": ""
         }
        },
        "yaxis5": {
         "anchor": "x5",
         "domain": [
          0.214,
          0.358
         ],
         "matches": "y",
         "showticklabels": false,
         "title": {
          "text": ""
         }
        },
        "yaxis6": {
         "anchor": "x6",
         "domain": [
          0.214,
          0.358
         ],
         "matches": "y",
         "showticklabels": false,
         "title": {
          "text": ""
         }
        },
        "yaxis7": {
         "anchor": "x7",
         "domain": [
          0.428,
          0.572
         ],
         "matches": "y",
         "title": {
          "text": ""
         }
        },
        "yaxis8": {
         "anchor": "x8",
         "domain": [
          0.428,
          0.572
         ],
         "matches": "y",
         "showticklabels": false,
         "title": {
          "text": ""
         }
        },
        "yaxis9": {
         "anchor": "x9",
         "domain": [
          0.428,
          0.572
         ],
         "matches": "y",
         "showticklabels": false,
         "title": {
          "text": ""
         }
        }
       }
      }
     },
     "metadata": {},
     "output_type": "display_data"
    }
   ],
   "source": [
    "organs_clean_2017 = organs_clean.query('year == 2017').copy()\n",
    "top_15_countries = organs_clean_2017.nlargest(n=15, columns=\"total_deceased_donors_imputed_per_mil\")[\"country\"]\n",
    "organs_clean_top_15 = organs_clean[organs_clean[\"country\"].isin(top_15_countries)].copy()\n",
    "\n",
    "fig = px.line(organs_clean_top_15,\n",
    "        x=\"year\", \n",
    "        y=\"total_deceased_donors_per_mil\", \n",
    "        facet_col=\"country\", \n",
    "        facet_col_wrap=3,\n",
    "        category_orders={\"country\": top_15_countries},\n",
    "        hover_name=\"country\",\n",
    "        hover_data={\"year\": True, \n",
    "                    \"country\": False,\n",
    "                    \"total_deceased_donors_per_mil\": \":.2f\"})\n",
    "fig.update_traces(line_color=\"grey\") \n",
    "fig.update_layout(height=800,\n",
    "                  autosize=False)\n",
    "\n",
    "# create just a single y-axis label\n",
    "fig.for_each_yaxis(lambda y: y.update(title = ''))\n",
    "fig.add_annotation(x=-0.05, y=0.5,\n",
    "                   text=\"Organ donations per million\", textangle=-90,\n",
    "                   xref=\"paper\", yref=\"paper\",\n",
    "                   showarrow=False)\n",
    "\n",
    "# create just a single x-axis label\n",
    "fig.for_each_xaxis(lambda x: x.update(title = ''))\n",
    "fig.add_annotation(x=0.5, y=-0.05,\n",
    "                   text=\"Year\", \n",
    "                   xref=\"paper\", yref=\"paper\",\n",
    "                   showarrow=False)\n",
    "\n",
    "# update facet labels to remove \"country=\"\n",
    "fig.for_each_annotation(lambda a: a.update(text=a.text.replace(\"country=\", \"\")))"
   ]
  },
  {
   "attachments": {},
   "cell_type": "markdown",
   "metadata": {},
   "source": [
    "\n",
    "## The relationship between population and number of donors\n",
    "\n",
    "Having observed that the donor rate paints a different picture from the raw number of donors, we assumed that countries with larger populations have more donors. Let's check this assumption by asking *do countries with larger populations typically have more donors?*\n"
   ]
  },
  {
   "cell_type": "code",
   "execution_count": 35,
   "metadata": {},
   "outputs": [
    {
     "data": {
      "text/plain": [
       "np.float64(0.4128076308434108)"
      ]
     },
     "execution_count": 35,
     "metadata": {},
     "output_type": "execute_result"
    }
   ],
   "source": [
    "# compute correlation between imputed population and number of donors\n",
    "organs_clean_2017[\"population_imputed\"].corr(organs_clean_2017[\"total_deceased_donors_imputed\"])"
   ]
  },
  {
   "attachments": {},
   "cell_type": "markdown",
   "metadata": {},
   "source": [
    "\n",
    "The correlation between the (imputed) population and number of donors is indicative of a possible weak linear relationship. \n",
    "\n",
    "\n",
    "Looking at a scatterplot of the two variables does not provide too many hints about this supposed weak linear relationship, however, due to the concentration of values in the lower-left corner. \n"
   ]
  },
  {
   "cell_type": "code",
   "execution_count": 36,
   "metadata": {},
   "outputs": [
    {
     "data": {
      "application/vnd.plotly.v1+json": {
       "config": {
        "plotlyServerURL": "https://plot.ly"
       },
       "data": [
        {
         "hovertemplate": "<b>%{hovertext}</b><br><br>population_imputed=%{x}<br>total_deceased_donors_imputed=%{y}<extra></extra>",
         "hovertext": [
          "Andorra",
          "United Arab Emirates",
          "Afghanistan",
          "Antigua and Barbuda",
          "Albania",
          "Armenia",
          "Angola",
          "Argentina",
          "Austria",
          "Australia",
          "Azerbaijan",
          "Bosnia and Herzegovina",
          "Barbados",
          "Bangladesh",
          "Belgium",
          "Burkina Faso",
          "Bulgaria",
          "Bahrain",
          "Burundi",
          "Benin",
          "Brunei Darussalam",
          "Bolivia (Plurinational State of)",
          "Brazil",
          "Bahamas",
          "Bhutan",
          "Botswana",
          "Belarus",
          "Belize",
          "Canada",
          "Democratic Republic of The Congo",
          "Central African Republic",
          "Congo",
          "Switzerland",
          "CÃ´te dâ€™Ivoire",
          "Cook Islands",
          "Chile",
          "Cameroon",
          "China",
          "Colombia",
          "Costa Rica",
          "Montenegro",
          "Cuba",
          "Cape Verde",
          "Cyprus",
          "Czech Republic",
          "Germany",
          "Djibouti",
          "Denmark",
          "Dominica",
          "Dominican Republic",
          "Algeria",
          "Ecuador",
          "Estonia",
          "Egypt",
          "Eritrea",
          "Spain",
          "Ethiopia",
          "Finland",
          "Fiji",
          "Micronesia (Federated States of)",
          "France",
          "Gabon",
          "United Kingdom",
          "Grenada",
          "Georgia",
          "Ghana",
          "Gambia",
          "Guinea",
          "Equatorial Guinea",
          "Greece",
          "Guatemala",
          "Guinea-Bissau",
          "Guyana",
          "Honduras",
          "Croatia",
          "Haiti",
          "Hungary",
          "Indonesia",
          "Ireland",
          "Israel",
          "India",
          "Iraq",
          "Iran (Islamic Republic of)",
          "Iceland",
          "Italy",
          "Jamaica",
          "Jordan",
          "Japan",
          "Kenya",
          "Kyrgyzstan",
          "Cambodia",
          "Kiribati",
          "Comoros",
          "Saint Kitts and Nevis",
          "Democratic People's Republic of Korea",
          "Republic of Korea",
          "Kuwait",
          "Kazakhstan",
          "Lao People's Democratic Republic",
          "Lebanon",
          "Saint Lucia",
          "Sri Lanka",
          "Liberia",
          "Lesotho",
          "Lithuania",
          "Luxembourg",
          "Latvia",
          "Libyan Arab Jamahiriya",
          "Morocco",
          "Monaco",
          "Republic of Moldova",
          "Madagascar",
          "Marshall Islands",
          "The former Yugoslav Republic of Macedonia",
          "Mali",
          "Myanmar",
          "Mongolia",
          "Mauritania",
          "Malta",
          "Mauritius",
          "Maldives",
          "Malawi",
          "Mexico",
          "Malaysia",
          "Mozambique",
          "Namibia",
          "Niger",
          "Nigeria",
          "Nicaragua",
          "Netherlands",
          "Norway",
          "Nepal",
          "Nauru",
          "Niue",
          "New Zealand",
          "Oman",
          "Panama",
          "Peru",
          "Papua New Guinea",
          "Philippines",
          "Pakistan",
          "Poland",
          "Portugal",
          "Palau",
          "Paraguay",
          "Qatar",
          "Romania",
          "Serbia",
          "Russian Federation",
          "Rwanda",
          "Saudi Arabia",
          "Solomon Islands",
          "Seychelles",
          "Sudan",
          "Sweden",
          "Singapore",
          "Slovenia",
          "Slovakia",
          "Sierra Leone",
          "San Marino",
          "Senegal",
          "Somalia",
          "Suriname",
          "South Sudan",
          "Sao Tome and Principe",
          "El Salvador",
          "Syrian Arab Republic",
          "Swaziland",
          "Chad",
          "Togo",
          "Thailand",
          "Tajikistan",
          "Timor-Leste",
          "Turkmenistan",
          "Tunisia",
          "Tonga",
          "Turkey",
          "Trinidad and Tobago",
          "Tuvalu",
          "United Republic of Tanzania",
          "Ukraine",
          "Uganda",
          "United States of America",
          "Uruguay",
          "Uzbekistan",
          "Saint Vincent and the Grenadines",
          "Venezuela (Bolivarian Republic of)",
          "Viet Nam",
          "Vanuatu",
          "Samoa",
          "Yemen",
          "South Africa",
          "Zambia",
          "Zimbabwe"
         ],
         "legendgroup": "",
         "marker": {
          "color": "#636efa",
          "symbol": "circle"
         },
         "mode": "markers",
         "name": "",
         "orientation": "v",
         "showlegend": false,
         "type": "scatter",
         "x": {
          "bdata": "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",
          "dtype": "f8"
         },
         "xaxis": "x",
         "y": {
          "bdata": "AAAAAAAAAAAAAAAAAAAAAAAAAAAAAAAAAAAAAAAAAAAAAAAAAAAAAAAAAAAAAAAAAAAAAAAAAAAAAAAAAIiCQAAAAAAAoGpAAAAAAADgf0AAAAAAAAAAAAAAAAAAABRAAAAAAAAAAAAAAAAAAAAAAAAAAAAAwHVAAAAAAAAAAAAAAAAAAIBFQAAAAAAAAAAAAAAAAAAAAAAAAAAAAAAAAAAAAAAAAAAAAAAAAAAAJEAAAAAAALiqQAAAAAAAAAAAAAAAAAAAAAAAAAAAAAAAAAAAAAAAAGxAAAAAAAAAAAAAAAAAABCJQAAAAAAAAAAAAAAAAAAAAAAAAAAAAAAAAAAAAAAAIGJAAAAAAAAAAAAAAAAAAAAAAAAAAAAAoGVAAAAAAAAAAAAAAAAAAOCvQAAAAAAAUHtAAAAAAAAANkAAAAAAAAAAAAAAAAAAwGFAAAAAAAAAAAAAAAAAAAAkQAAAAAAA0HBAAAAAAADoiEAAAAAAAAAAAAAAAAAAwFlAAAAAAAAAAAAAAAAAAAAsQAAAAAAAAPA/AAAAAADAVEAAAAAAAAAyQAAAAAAAAAAAAAAAAAAAAAAAAAAAAA6hQAAAAAAAAAAAAAAAAACAXUAAAAAAAAAAAAAAAAAAAAAAAAAAAAA0nkAAAAAAAAAAAAAAAAAAUJdAAAAAAAAAAAAAAAAAAAAAAAAAAAAAAAAAAAAAAAAAAAAAAAAAAAAAAAAAAAAAAAAAAAAAAADAUEAAAAAAAAAAQAAAAAAAAAAAAAAAAAAAAAAAAAAAAAAAAAAAAAAAgGFAAAAAAAAAAAAAAAAAAOBjQAAAAAAAAAAAAAAAAADAWEAAAAAAAABXQAAAAAAAcHhAAAAAAAAAAAAAAAAAADCLQAAAAAAAABhAAAAAAADImkAAAAAAAAAAAAAAAAAAAAAAAAAAAAAAWEAAAAAAAAAAAAAAAAAAAAAAAAAAAAAAAAAAAAAAAAAAAAAAAAAAAAAAAAAAAAAAAAAAAAAAAAAAAAAAAAAAUH9AAAAAAAAANEAAAAAAAAAwQAAAAAAAAAAAAAAAAAAAFEAAAAAAAAAAAAAAAAAAAAAAAAAAAAAAAAAAAAAAAAAAAAAAAAAAAERAAAAAAAAAIkAAAAAAAAA4QAAAAAAAAAAAAAAAAAAAJkAAAAAAAAAAAAAAAAAAADBAAAAAAAAAAAAAAAAAAAAAAAAAAAAAAAAAAAAAAAAAAAAAAAAAAADwPwAAAAAAAAAAAAAAAAAAAAAAAAAAAAAoQAAAAAAAAAAAAAAAAAAAAAAAAAAAAAAAAAAAAAAA0H9AAAAAAAAAKkAAAAAAAAAAAAAAAAAAAAAAAAAAAAAAAAAAAAAAAAAAAAAAAAAAAPA/AAAAAAAgcEAAAAAAAABdQAAAAAAAAAAAAAAAAAAAAAAAAAAAAAAAAAAAAAAAQFJAAAAAAAAAAAAAAAAAAAAxQAAAAAAAAEpAAAAAAAAAAAAAAAAAAAA1QAAAAAAAAAAAAAAAAACAgUAAAAAAAPB1QAAAAAAAAAAAAAAAAAAAJkAAAAAAAAAYQAAAAAAAQFBAAAAAAACAREAAAAAAAOCBQAAAAAAAAAAAAAAAAAAAWkAAAAAAAAAAAAAAAAAAAAAAAAAAAAAAAAAAAAAAAABoQAAAAAAAADtAAAAAAACARUAAAAAAAIBVQAAAAAAAAAAAAAAAAAAAAAAAAAAAAAAAAAAAAAAAAAAAAAAAAAAAAAAAAAAAAAAAAAAAAAAAAAAAAAAAAAAAAAAAAAAAAAAAAAAAAAAAAAAAAAAAAAAAAAAAAAAAAAAAAAAAAAAAgGtAAAAAAAAAAAAAAAAAAAAAAAAAAAAAAAAAAAAAAAAAIkAAAAAAAAAAAAAAAAAAkIFAAAAAAAAAAAAAAAAAAAAAAAAAAAAAAAAAAAAAAAAACEAAAAAAAAAAAAAAAAAAF8RAAAAAAACAUEAAAAAAAAAAAAAAAAAAAAAAAAAAAACASkAAAAAAAAAxQAAAAAAAAAAAAAAAAAAAAAAAAAAAAAAAAAAAAAAAAFJAAAAAAAAAAAAAAAAAAAAAAA==",
          "dtype": "f8"
         },
         "yaxis": "y"
        }
       ],
       "layout": {
        "annotations": [
         {
          "showarrow": false,
          "text": "China",
          "x": 1400000000,
          "xanchor": "left",
          "y": 4100
         },
         {
          "showarrow": false,
          "text": "USA",
          "x": 340000000,
          "xanchor": "left",
          "y": 10300
         },
         {
          "showarrow": false,
          "text": "Brazil",
          "x": 220000000,
          "xanchor": "left",
          "y": 3450
         }
        ],
        "legend": {
         "tracegroupgap": 0
        },
        "margin": {
         "t": 60
        },
        "template": {
         "data": {
          "bar": [
           {
            "error_x": {
             "color": "#2a3f5f"
            },
            "error_y": {
             "color": "#2a3f5f"
            },
            "marker": {
             "line": {
              "color": "#E5ECF6",
              "width": 0.5
             },
             "pattern": {
              "fillmode": "overlay",
              "size": 10,
              "solidity": 0.2
             }
            },
            "type": "bar"
           }
          ],
          "barpolar": [
           {
            "marker": {
             "line": {
              "color": "#E5ECF6",
              "width": 0.5
             },
             "pattern": {
              "fillmode": "overlay",
              "size": 10,
              "solidity": 0.2
             }
            },
            "type": "barpolar"
           }
          ],
          "carpet": [
           {
            "aaxis": {
             "endlinecolor": "#2a3f5f",
             "gridcolor": "white",
             "linecolor": "white",
             "minorgridcolor": "white",
             "startlinecolor": "#2a3f5f"
            },
            "baxis": {
             "endlinecolor": "#2a3f5f",
             "gridcolor": "white",
             "linecolor": "white",
             "minorgridcolor": "white",
             "startlinecolor": "#2a3f5f"
            },
            "type": "carpet"
           }
          ],
          "choropleth": [
           {
            "colorbar": {
             "outlinewidth": 0,
             "ticks": ""
            },
            "type": "choropleth"
           }
          ],
          "contour": [
           {
            "colorbar": {
             "outlinewidth": 0,
             "ticks": ""
            },
            "colorscale": [
             [
              0,
              "#0d0887"
             ],
             [
              0.1111111111111111,
              "#46039f"
             ],
             [
              0.2222222222222222,
              "#7201a8"
             ],
             [
              0.3333333333333333,
              "#9c179e"
             ],
             [
              0.4444444444444444,
              "#bd3786"
             ],
             [
              0.5555555555555556,
              "#d8576b"
             ],
             [
              0.6666666666666666,
              "#ed7953"
             ],
             [
              0.7777777777777778,
              "#fb9f3a"
             ],
             [
              0.8888888888888888,
              "#fdca26"
             ],
             [
              1,
              "#f0f921"
             ]
            ],
            "type": "contour"
           }
          ],
          "contourcarpet": [
           {
            "colorbar": {
             "outlinewidth": 0,
             "ticks": ""
            },
            "type": "contourcarpet"
           }
          ],
          "heatmap": [
           {
            "colorbar": {
             "outlinewidth": 0,
             "ticks": ""
            },
            "colorscale": [
             [
              0,
              "#0d0887"
             ],
             [
              0.1111111111111111,
              "#46039f"
             ],
             [
              0.2222222222222222,
              "#7201a8"
             ],
             [
              0.3333333333333333,
              "#9c179e"
             ],
             [
              0.4444444444444444,
              "#bd3786"
             ],
             [
              0.5555555555555556,
              "#d8576b"
             ],
             [
              0.6666666666666666,
              "#ed7953"
             ],
             [
              0.7777777777777778,
              "#fb9f3a"
             ],
             [
              0.8888888888888888,
              "#fdca26"
             ],
             [
              1,
              "#f0f921"
             ]
            ],
            "type": "heatmap"
           }
          ],
          "histogram": [
           {
            "marker": {
             "pattern": {
              "fillmode": "overlay",
              "size": 10,
              "solidity": 0.2
             }
            },
            "type": "histogram"
           }
          ],
          "histogram2d": [
           {
            "colorbar": {
             "outlinewidth": 0,
             "ticks": ""
            },
            "colorscale": [
             [
              0,
              "#0d0887"
             ],
             [
              0.1111111111111111,
              "#46039f"
             ],
             [
              0.2222222222222222,
              "#7201a8"
             ],
             [
              0.3333333333333333,
              "#9c179e"
             ],
             [
              0.4444444444444444,
              "#bd3786"
             ],
             [
              0.5555555555555556,
              "#d8576b"
             ],
             [
              0.6666666666666666,
              "#ed7953"
             ],
             [
              0.7777777777777778,
              "#fb9f3a"
             ],
             [
              0.8888888888888888,
              "#fdca26"
             ],
             [
              1,
              "#f0f921"
             ]
            ],
            "type": "histogram2d"
           }
          ],
          "histogram2dcontour": [
           {
            "colorbar": {
             "outlinewidth": 0,
             "ticks": ""
            },
            "colorscale": [
             [
              0,
              "#0d0887"
             ],
             [
              0.1111111111111111,
              "#46039f"
             ],
             [
              0.2222222222222222,
              "#7201a8"
             ],
             [
              0.3333333333333333,
              "#9c179e"
             ],
             [
              0.4444444444444444,
              "#bd3786"
             ],
             [
              0.5555555555555556,
              "#d8576b"
             ],
             [
              0.6666666666666666,
              "#ed7953"
             ],
             [
              0.7777777777777778,
              "#fb9f3a"
             ],
             [
              0.8888888888888888,
              "#fdca26"
             ],
             [
              1,
              "#f0f921"
             ]
            ],
            "type": "histogram2dcontour"
           }
          ],
          "mesh3d": [
           {
            "colorbar": {
             "outlinewidth": 0,
             "ticks": ""
            },
            "type": "mesh3d"
           }
          ],
          "parcoords": [
           {
            "line": {
             "colorbar": {
              "outlinewidth": 0,
              "ticks": ""
             }
            },
            "type": "parcoords"
           }
          ],
          "pie": [
           {
            "automargin": true,
            "type": "pie"
           }
          ],
          "scatter": [
           {
            "fillpattern": {
             "fillmode": "overlay",
             "size": 10,
             "solidity": 0.2
            },
            "type": "scatter"
           }
          ],
          "scatter3d": [
           {
            "line": {
             "colorbar": {
              "outlinewidth": 0,
              "ticks": ""
             }
            },
            "marker": {
             "colorbar": {
              "outlinewidth": 0,
              "ticks": ""
             }
            },
            "type": "scatter3d"
           }
          ],
          "scattercarpet": [
           {
            "marker": {
             "colorbar": {
              "outlinewidth": 0,
              "ticks": ""
             }
            },
            "type": "scattercarpet"
           }
          ],
          "scattergeo": [
           {
            "marker": {
             "colorbar": {
              "outlinewidth": 0,
              "ticks": ""
             }
            },
            "type": "scattergeo"
           }
          ],
          "scattergl": [
           {
            "marker": {
             "colorbar": {
              "outlinewidth": 0,
              "ticks": ""
             }
            },
            "type": "scattergl"
           }
          ],
          "scattermap": [
           {
            "marker": {
             "colorbar": {
              "outlinewidth": 0,
              "ticks": ""
             }
            },
            "type": "scattermap"
           }
          ],
          "scattermapbox": [
           {
            "marker": {
             "colorbar": {
              "outlinewidth": 0,
              "ticks": ""
             }
            },
            "type": "scattermapbox"
           }
          ],
          "scatterpolar": [
           {
            "marker": {
             "colorbar": {
              "outlinewidth": 0,
              "ticks": ""
             }
            },
            "type": "scatterpolar"
           }
          ],
          "scatterpolargl": [
           {
            "marker": {
             "colorbar": {
              "outlinewidth": 0,
              "ticks": ""
             }
            },
            "type": "scatterpolargl"
           }
          ],
          "scatterternary": [
           {
            "marker": {
             "colorbar": {
              "outlinewidth": 0,
              "ticks": ""
             }
            },
            "type": "scatterternary"
           }
          ],
          "surface": [
           {
            "colorbar": {
             "outlinewidth": 0,
             "ticks": ""
            },
            "colorscale": [
             [
              0,
              "#0d0887"
             ],
             [
              0.1111111111111111,
              "#46039f"
             ],
             [
              0.2222222222222222,
              "#7201a8"
             ],
             [
              0.3333333333333333,
              "#9c179e"
             ],
             [
              0.4444444444444444,
              "#bd3786"
             ],
             [
              0.5555555555555556,
              "#d8576b"
             ],
             [
              0.6666666666666666,
              "#ed7953"
             ],
             [
              0.7777777777777778,
              "#fb9f3a"
             ],
             [
              0.8888888888888888,
              "#fdca26"
             ],
             [
              1,
              "#f0f921"
             ]
            ],
            "type": "surface"
           }
          ],
          "table": [
           {
            "cells": {
             "fill": {
              "color": "#EBF0F8"
             },
             "line": {
              "color": "white"
             }
            },
            "header": {
             "fill": {
              "color": "#C8D4E3"
             },
             "line": {
              "color": "white"
             }
            },
            "type": "table"
           }
          ]
         },
         "layout": {
          "annotationdefaults": {
           "arrowcolor": "#2a3f5f",
           "arrowhead": 0,
           "arrowwidth": 1
          },
          "autotypenumbers": "strict",
          "coloraxis": {
           "colorbar": {
            "outlinewidth": 0,
            "ticks": ""
           }
          },
          "colorscale": {
           "diverging": [
            [
             0,
             "#8e0152"
            ],
            [
             0.1,
             "#c51b7d"
            ],
            [
             0.2,
             "#de77ae"
            ],
            [
             0.3,
             "#f1b6da"
            ],
            [
             0.4,
             "#fde0ef"
            ],
            [
             0.5,
             "#f7f7f7"
            ],
            [
             0.6,
             "#e6f5d0"
            ],
            [
             0.7,
             "#b8e186"
            ],
            [
             0.8,
             "#7fbc41"
            ],
            [
             0.9,
             "#4d9221"
            ],
            [
             1,
             "#276419"
            ]
           ],
           "sequential": [
            [
             0,
             "#0d0887"
            ],
            [
             0.1111111111111111,
             "#46039f"
            ],
            [
             0.2222222222222222,
             "#7201a8"
            ],
            [
             0.3333333333333333,
             "#9c179e"
            ],
            [
             0.4444444444444444,
             "#bd3786"
            ],
            [
             0.5555555555555556,
             "#d8576b"
            ],
            [
             0.6666666666666666,
             "#ed7953"
            ],
            [
             0.7777777777777778,
             "#fb9f3a"
            ],
            [
             0.8888888888888888,
             "#fdca26"
            ],
            [
             1,
             "#f0f921"
            ]
           ],
           "sequentialminus": [
            [
             0,
             "#0d0887"
            ],
            [
             0.1111111111111111,
             "#46039f"
            ],
            [
             0.2222222222222222,
             "#7201a8"
            ],
            [
             0.3333333333333333,
             "#9c179e"
            ],
            [
             0.4444444444444444,
             "#bd3786"
            ],
            [
             0.5555555555555556,
             "#d8576b"
            ],
            [
             0.6666666666666666,
             "#ed7953"
            ],
            [
             0.7777777777777778,
             "#fb9f3a"
            ],
            [
             0.8888888888888888,
             "#fdca26"
            ],
            [
             1,
             "#f0f921"
            ]
           ]
          },
          "colorway": [
           "#636efa",
           "#EF553B",
           "#00cc96",
           "#ab63fa",
           "#FFA15A",
           "#19d3f3",
           "#FF6692",
           "#B6E880",
           "#FF97FF",
           "#FECB52"
          ],
          "font": {
           "color": "#2a3f5f"
          },
          "geo": {
           "bgcolor": "white",
           "lakecolor": "white",
           "landcolor": "#E5ECF6",
           "showlakes": true,
           "showland": true,
           "subunitcolor": "white"
          },
          "hoverlabel": {
           "align": "left"
          },
          "hovermode": "closest",
          "mapbox": {
           "style": "light"
          },
          "paper_bgcolor": "white",
          "plot_bgcolor": "#E5ECF6",
          "polar": {
           "angularaxis": {
            "gridcolor": "white",
            "linecolor": "white",
            "ticks": ""
           },
           "bgcolor": "#E5ECF6",
           "radialaxis": {
            "gridcolor": "white",
            "linecolor": "white",
            "ticks": ""
           }
          },
          "scene": {
           "xaxis": {
            "backgroundcolor": "#E5ECF6",
            "gridcolor": "white",
            "gridwidth": 2,
            "linecolor": "white",
            "showbackground": true,
            "ticks": "",
            "zerolinecolor": "white"
           },
           "yaxis": {
            "backgroundcolor": "#E5ECF6",
            "gridcolor": "white",
            "gridwidth": 2,
            "linecolor": "white",
            "showbackground": true,
            "ticks": "",
            "zerolinecolor": "white"
           },
           "zaxis": {
            "backgroundcolor": "#E5ECF6",
            "gridcolor": "white",
            "gridwidth": 2,
            "linecolor": "white",
            "showbackground": true,
            "ticks": "",
            "zerolinecolor": "white"
           }
          },
          "shapedefaults": {
           "line": {
            "color": "#2a3f5f"
           }
          },
          "ternary": {
           "aaxis": {
            "gridcolor": "white",
            "linecolor": "white",
            "ticks": ""
           },
           "baxis": {
            "gridcolor": "white",
            "linecolor": "white",
            "ticks": ""
           },
           "bgcolor": "#E5ECF6",
           "caxis": {
            "gridcolor": "white",
            "linecolor": "white",
            "ticks": ""
           }
          },
          "title": {
           "x": 0.05
          },
          "xaxis": {
           "automargin": true,
           "gridcolor": "white",
           "linecolor": "white",
           "ticks": "",
           "title": {
            "standoff": 15
           },
           "zerolinecolor": "white",
           "zerolinewidth": 2
          },
          "yaxis": {
           "automargin": true,
           "gridcolor": "white",
           "linecolor": "white",
           "ticks": "",
           "title": {
            "standoff": 15
           },
           "zerolinecolor": "white",
           "zerolinewidth": 2
          }
         }
        },
        "xaxis": {
         "anchor": "y",
         "domain": [
          0,
          1
         ],
         "title": {
          "text": "population_imputed"
         }
        },
        "yaxis": {
         "anchor": "x",
         "domain": [
          0,
          1
         ],
         "title": {
          "text": "total_deceased_donors_imputed"
         }
        }
       }
      }
     },
     "metadata": {},
     "output_type": "display_data"
    }
   ],
   "source": [
    "fig = px.scatter(organs_clean_2017, \n",
    "                 x=\"population_imputed\", \n",
    "                 y=\"total_deceased_donors_imputed\", \n",
    "                 hover_name=\"country\")\n",
    "fig.add_annotation(x=1_400_000_000, y=4_100,\n",
    "            text=\"China\", \n",
    "            showarrow=False, xanchor=\"left\")\n",
    "fig.add_annotation(x=340_000_000, y=10_300,\n",
    "            text=\"USA\",\n",
    "            showarrow=False, xanchor=\"left\")\n",
    "fig.add_annotation(x=220_000_000, y=3_450,\n",
    "            text=\"Brazil\",\n",
    "            showarrow=False, xanchor=\"left\")\n",
    "fig.show()"
   ]
  },
  {
   "attachments": {},
   "cell_type": "markdown",
   "metadata": {},
   "source": [
    "\n",
    "Removing the outlier countries makes it a little easier to see some trends:"
   ]
  },
  {
   "cell_type": "code",
   "execution_count": 37,
   "metadata": {},
   "outputs": [
    {
     "data": {
      "application/vnd.plotly.v1+json": {
       "config": {
        "plotlyServerURL": "https://plot.ly"
       },
       "data": [
        {
         "hovertemplate": "<b>%{hovertext}</b><br><br>population_imputed=%{x}<br>total_deceased_donors_imputed=%{y}<extra></extra>",
         "hovertext": [
          "Andorra",
          "United Arab Emirates",
          "Afghanistan",
          "Antigua and Barbuda",
          "Albania",
          "Armenia",
          "Angola",
          "Argentina",
          "Austria",
          "Australia",
          "Azerbaijan",
          "Bosnia and Herzegovina",
          "Barbados",
          "Bangladesh",
          "Belgium",
          "Burkina Faso",
          "Bulgaria",
          "Bahrain",
          "Burundi",
          "Benin",
          "Brunei Darussalam",
          "Bolivia (Plurinational State of)",
          "Bahamas",
          "Bhutan",
          "Botswana",
          "Belarus",
          "Belize",
          "Canada",
          "Democratic Republic of The Congo",
          "Central African Republic",
          "Congo",
          "Switzerland",
          "CÃ´te dâ€™Ivoire",
          "Cook Islands",
          "Chile",
          "Cameroon",
          "Colombia",
          "Costa Rica",
          "Montenegro",
          "Cuba",
          "Cape Verde",
          "Cyprus",
          "Czech Republic",
          "Germany",
          "Djibouti",
          "Denmark",
          "Dominica",
          "Dominican Republic",
          "Algeria",
          "Ecuador",
          "Estonia",
          "Egypt",
          "Eritrea",
          "Spain",
          "Ethiopia",
          "Finland",
          "Fiji",
          "Micronesia (Federated States of)",
          "France",
          "Gabon",
          "United Kingdom",
          "Grenada",
          "Georgia",
          "Ghana",
          "Gambia",
          "Guinea",
          "Equatorial Guinea",
          "Greece",
          "Guatemala",
          "Guinea-Bissau",
          "Guyana",
          "Honduras",
          "Croatia",
          "Haiti",
          "Hungary",
          "Indonesia",
          "Ireland",
          "Israel",
          "Iraq",
          "Iran (Islamic Republic of)",
          "Iceland",
          "Italy",
          "Jamaica",
          "Jordan",
          "Japan",
          "Kenya",
          "Kyrgyzstan",
          "Cambodia",
          "Kiribati",
          "Comoros",
          "Saint Kitts and Nevis",
          "Democratic People's Republic of Korea",
          "Republic of Korea",
          "Kuwait",
          "Kazakhstan",
          "Lao People's Democratic Republic",
          "Lebanon",
          "Saint Lucia",
          "Sri Lanka",
          "Liberia",
          "Lesotho",
          "Lithuania",
          "Luxembourg",
          "Latvia",
          "Libyan Arab Jamahiriya",
          "Morocco",
          "Monaco",
          "Republic of Moldova",
          "Madagascar",
          "Marshall Islands",
          "The former Yugoslav Republic of Macedonia",
          "Mali",
          "Myanmar",
          "Mongolia",
          "Mauritania",
          "Malta",
          "Mauritius",
          "Maldives",
          "Malawi",
          "Mexico",
          "Malaysia",
          "Mozambique",
          "Namibia",
          "Niger",
          "Nigeria",
          "Nicaragua",
          "Netherlands",
          "Norway",
          "Nepal",
          "Nauru",
          "Niue",
          "New Zealand",
          "Oman",
          "Panama",
          "Peru",
          "Papua New Guinea",
          "Philippines",
          "Pakistan",
          "Poland",
          "Portugal",
          "Palau",
          "Paraguay",
          "Qatar",
          "Romania",
          "Serbia",
          "Russian Federation",
          "Rwanda",
          "Saudi Arabia",
          "Solomon Islands",
          "Seychelles",
          "Sudan",
          "Sweden",
          "Singapore",
          "Slovenia",
          "Slovakia",
          "Sierra Leone",
          "San Marino",
          "Senegal",
          "Somalia",
          "Suriname",
          "South Sudan",
          "Sao Tome and Principe",
          "El Salvador",
          "Syrian Arab Republic",
          "Swaziland",
          "Chad",
          "Togo",
          "Thailand",
          "Tajikistan",
          "Timor-Leste",
          "Turkmenistan",
          "Tunisia",
          "Tonga",
          "Turkey",
          "Trinidad and Tobago",
          "Tuvalu",
          "United Republic of Tanzania",
          "Ukraine",
          "Uganda",
          "Uruguay",
          "Uzbekistan",
          "Saint Vincent and the Grenadines",
          "Venezuela (Bolivarian Republic of)",
          "Viet Nam",
          "Vanuatu",
          "Samoa",
          "Yemen",
          "South Africa",
          "Zambia",
          "Zimbabwe"
         ],
         "legendgroup": "",
         "marker": {
          "color": "#636efa",
          "symbol": "circle"
         },
         "mode": "markers",
         "name": "",
         "orientation": "v",
         "showlegend": false,
         "type": "scatter",
         "x": {
          "bdata": "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",
          "dtype": "f8"
         },
         "xaxis": "x",
         "y": {
          "bdata": "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",
          "dtype": "f8"
         },
         "yaxis": "y"
        }
       ],
       "layout": {
        "legend": {
         "tracegroupgap": 0
        },
        "margin": {
         "t": 60
        },
        "template": {
         "data": {
          "bar": [
           {
            "error_x": {
             "color": "#2a3f5f"
            },
            "error_y": {
             "color": "#2a3f5f"
            },
            "marker": {
             "line": {
              "color": "#E5ECF6",
              "width": 0.5
             },
             "pattern": {
              "fillmode": "overlay",
              "size": 10,
              "solidity": 0.2
             }
            },
            "type": "bar"
           }
          ],
          "barpolar": [
           {
            "marker": {
             "line": {
              "color": "#E5ECF6",
              "width": 0.5
             },
             "pattern": {
              "fillmode": "overlay",
              "size": 10,
              "solidity": 0.2
             }
            },
            "type": "barpolar"
           }
          ],
          "carpet": [
           {
            "aaxis": {
             "endlinecolor": "#2a3f5f",
             "gridcolor": "white",
             "linecolor": "white",
             "minorgridcolor": "white",
             "startlinecolor": "#2a3f5f"
            },
            "baxis": {
             "endlinecolor": "#2a3f5f",
             "gridcolor": "white",
             "linecolor": "white",
             "minorgridcolor": "white",
             "startlinecolor": "#2a3f5f"
            },
            "type": "carpet"
           }
          ],
          "choropleth": [
           {
            "colorbar": {
             "outlinewidth": 0,
             "ticks": ""
            },
            "type": "choropleth"
           }
          ],
          "contour": [
           {
            "colorbar": {
             "outlinewidth": 0,
             "ticks": ""
            },
            "colorscale": [
             [
              0,
              "#0d0887"
             ],
             [
              0.1111111111111111,
              "#46039f"
             ],
             [
              0.2222222222222222,
              "#7201a8"
             ],
             [
              0.3333333333333333,
              "#9c179e"
             ],
             [
              0.4444444444444444,
              "#bd3786"
             ],
             [
              0.5555555555555556,
              "#d8576b"
             ],
             [
              0.6666666666666666,
              "#ed7953"
             ],
             [
              0.7777777777777778,
              "#fb9f3a"
             ],
             [
              0.8888888888888888,
              "#fdca26"
             ],
             [
              1,
              "#f0f921"
             ]
            ],
            "type": "contour"
           }
          ],
          "contourcarpet": [
           {
            "colorbar": {
             "outlinewidth": 0,
             "ticks": ""
            },
            "type": "contourcarpet"
           }
          ],
          "heatmap": [
           {
            "colorbar": {
             "outlinewidth": 0,
             "ticks": ""
            },
            "colorscale": [
             [
              0,
              "#0d0887"
             ],
             [
              0.1111111111111111,
              "#46039f"
             ],
             [
              0.2222222222222222,
              "#7201a8"
             ],
             [
              0.3333333333333333,
              "#9c179e"
             ],
             [
              0.4444444444444444,
              "#bd3786"
             ],
             [
              0.5555555555555556,
              "#d8576b"
             ],
             [
              0.6666666666666666,
              "#ed7953"
             ],
             [
              0.7777777777777778,
              "#fb9f3a"
             ],
             [
              0.8888888888888888,
              "#fdca26"
             ],
             [
              1,
              "#f0f921"
             ]
            ],
            "type": "heatmap"
           }
          ],
          "histogram": [
           {
            "marker": {
             "pattern": {
              "fillmode": "overlay",
              "size": 10,
              "solidity": 0.2
             }
            },
            "type": "histogram"
           }
          ],
          "histogram2d": [
           {
            "colorbar": {
             "outlinewidth": 0,
             "ticks": ""
            },
            "colorscale": [
             [
              0,
              "#0d0887"
             ],
             [
              0.1111111111111111,
              "#46039f"
             ],
             [
              0.2222222222222222,
              "#7201a8"
             ],
             [
              0.3333333333333333,
              "#9c179e"
             ],
             [
              0.4444444444444444,
              "#bd3786"
             ],
             [
              0.5555555555555556,
              "#d8576b"
             ],
             [
              0.6666666666666666,
              "#ed7953"
             ],
             [
              0.7777777777777778,
              "#fb9f3a"
             ],
             [
              0.8888888888888888,
              "#fdca26"
             ],
             [
              1,
              "#f0f921"
             ]
            ],
            "type": "histogram2d"
           }
          ],
          "histogram2dcontour": [
           {
            "colorbar": {
             "outlinewidth": 0,
             "ticks": ""
            },
            "colorscale": [
             [
              0,
              "#0d0887"
             ],
             [
              0.1111111111111111,
              "#46039f"
             ],
             [
              0.2222222222222222,
              "#7201a8"
             ],
             [
              0.3333333333333333,
              "#9c179e"
             ],
             [
              0.4444444444444444,
              "#bd3786"
             ],
             [
              0.5555555555555556,
              "#d8576b"
             ],
             [
              0.6666666666666666,
              "#ed7953"
             ],
             [
              0.7777777777777778,
              "#fb9f3a"
             ],
             [
              0.8888888888888888,
              "#fdca26"
             ],
             [
              1,
              "#f0f921"
             ]
            ],
            "type": "histogram2dcontour"
           }
          ],
          "mesh3d": [
           {
            "colorbar": {
             "outlinewidth": 0,
             "ticks": ""
            },
            "type": "mesh3d"
           }
          ],
          "parcoords": [
           {
            "line": {
             "colorbar": {
              "outlinewidth": 0,
              "ticks": ""
             }
            },
            "type": "parcoords"
           }
          ],
          "pie": [
           {
            "automargin": true,
            "type": "pie"
           }
          ],
          "scatter": [
           {
            "fillpattern": {
             "fillmode": "overlay",
             "size": 10,
             "solidity": 0.2
            },
            "type": "scatter"
           }
          ],
          "scatter3d": [
           {
            "line": {
             "colorbar": {
              "outlinewidth": 0,
              "ticks": ""
             }
            },
            "marker": {
             "colorbar": {
              "outlinewidth": 0,
              "ticks": ""
             }
            },
            "type": "scatter3d"
           }
          ],
          "scattercarpet": [
           {
            "marker": {
             "colorbar": {
              "outlinewidth": 0,
              "ticks": ""
             }
            },
            "type": "scattercarpet"
           }
          ],
          "scattergeo": [
           {
            "marker": {
             "colorbar": {
              "outlinewidth": 0,
              "ticks": ""
             }
            },
            "type": "scattergeo"
           }
          ],
          "scattergl": [
           {
            "marker": {
             "colorbar": {
              "outlinewidth": 0,
              "ticks": ""
             }
            },
            "type": "scattergl"
           }
          ],
          "scattermap": [
           {
            "marker": {
             "colorbar": {
              "outlinewidth": 0,
              "ticks": ""
             }
            },
            "type": "scattermap"
           }
          ],
          "scattermapbox": [
           {
            "marker": {
             "colorbar": {
              "outlinewidth": 0,
              "ticks": ""
             }
            },
            "type": "scattermapbox"
           }
          ],
          "scatterpolar": [
           {
            "marker": {
             "colorbar": {
              "outlinewidth": 0,
              "ticks": ""
             }
            },
            "type": "scatterpolar"
           }
          ],
          "scatterpolargl": [
           {
            "marker": {
             "colorbar": {
              "outlinewidth": 0,
              "ticks": ""
             }
            },
            "type": "scatterpolargl"
           }
          ],
          "scatterternary": [
           {
            "marker": {
             "colorbar": {
              "outlinewidth": 0,
              "ticks": ""
             }
            },
            "type": "scatterternary"
           }
          ],
          "surface": [
           {
            "colorbar": {
             "outlinewidth": 0,
             "ticks": ""
            },
            "colorscale": [
             [
              0,
              "#0d0887"
             ],
             [
              0.1111111111111111,
              "#46039f"
             ],
             [
              0.2222222222222222,
              "#7201a8"
             ],
             [
              0.3333333333333333,
              "#9c179e"
             ],
             [
              0.4444444444444444,
              "#bd3786"
             ],
             [
              0.5555555555555556,
              "#d8576b"
             ],
             [
              0.6666666666666666,
              "#ed7953"
             ],
             [
              0.7777777777777778,
              "#fb9f3a"
             ],
             [
              0.8888888888888888,
              "#fdca26"
             ],
             [
              1,
              "#f0f921"
             ]
            ],
            "type": "surface"
           }
          ],
          "table": [
           {
            "cells": {
             "fill": {
              "color": "#EBF0F8"
             },
             "line": {
              "color": "white"
             }
            },
            "header": {
             "fill": {
              "color": "#C8D4E3"
             },
             "line": {
              "color": "white"
             }
            },
            "type": "table"
           }
          ]
         },
         "layout": {
          "annotationdefaults": {
           "arrowcolor": "#2a3f5f",
           "arrowhead": 0,
           "arrowwidth": 1
          },
          "autotypenumbers": "strict",
          "coloraxis": {
           "colorbar": {
            "outlinewidth": 0,
            "ticks": ""
           }
          },
          "colorscale": {
           "diverging": [
            [
             0,
             "#8e0152"
            ],
            [
             0.1,
             "#c51b7d"
            ],
            [
             0.2,
             "#de77ae"
            ],
            [
             0.3,
             "#f1b6da"
            ],
            [
             0.4,
             "#fde0ef"
            ],
            [
             0.5,
             "#f7f7f7"
            ],
            [
             0.6,
             "#e6f5d0"
            ],
            [
             0.7,
             "#b8e186"
            ],
            [
             0.8,
             "#7fbc41"
            ],
            [
             0.9,
             "#4d9221"
            ],
            [
             1,
             "#276419"
            ]
           ],
           "sequential": [
            [
             0,
             "#0d0887"
            ],
            [
             0.1111111111111111,
             "#46039f"
            ],
            [
             0.2222222222222222,
             "#7201a8"
            ],
            [
             0.3333333333333333,
             "#9c179e"
            ],
            [
             0.4444444444444444,
             "#bd3786"
            ],
            [
             0.5555555555555556,
             "#d8576b"
            ],
            [
             0.6666666666666666,
             "#ed7953"
            ],
            [
             0.7777777777777778,
             "#fb9f3a"
            ],
            [
             0.8888888888888888,
             "#fdca26"
            ],
            [
             1,
             "#f0f921"
            ]
           ],
           "sequentialminus": [
            [
             0,
             "#0d0887"
            ],
            [
             0.1111111111111111,
             "#46039f"
            ],
            [
             0.2222222222222222,
             "#7201a8"
            ],
            [
             0.3333333333333333,
             "#9c179e"
            ],
            [
             0.4444444444444444,
             "#bd3786"
            ],
            [
             0.5555555555555556,
             "#d8576b"
            ],
            [
             0.6666666666666666,
             "#ed7953"
            ],
            [
             0.7777777777777778,
             "#fb9f3a"
            ],
            [
             0.8888888888888888,
             "#fdca26"
            ],
            [
             1,
             "#f0f921"
            ]
           ]
          },
          "colorway": [
           "#636efa",
           "#EF553B",
           "#00cc96",
           "#ab63fa",
           "#FFA15A",
           "#19d3f3",
           "#FF6692",
           "#B6E880",
           "#FF97FF",
           "#FECB52"
          ],
          "font": {
           "color": "#2a3f5f"
          },
          "geo": {
           "bgcolor": "white",
           "lakecolor": "white",
           "landcolor": "#E5ECF6",
           "showlakes": true,
           "showland": true,
           "subunitcolor": "white"
          },
          "hoverlabel": {
           "align": "left"
          },
          "hovermode": "closest",
          "mapbox": {
           "style": "light"
          },
          "paper_bgcolor": "white",
          "plot_bgcolor": "#E5ECF6",
          "polar": {
           "angularaxis": {
            "gridcolor": "white",
            "linecolor": "white",
            "ticks": ""
           },
           "bgcolor": "#E5ECF6",
           "radialaxis": {
            "gridcolor": "white",
            "linecolor": "white",
            "ticks": ""
           }
          },
          "scene": {
           "xaxis": {
            "backgroundcolor": "#E5ECF6",
            "gridcolor": "white",
            "gridwidth": 2,
            "linecolor": "white",
            "showbackground": true,
            "ticks": "",
            "zerolinecolor": "white"
           },
           "yaxis": {
            "backgroundcolor": "#E5ECF6",
            "gridcolor": "white",
            "gridwidth": 2,
            "linecolor": "white",
            "showbackground": true,
            "ticks": "",
            "zerolinecolor": "white"
           },
           "zaxis": {
            "backgroundcolor": "#E5ECF6",
            "gridcolor": "white",
            "gridwidth": 2,
            "linecolor": "white",
            "showbackground": true,
            "ticks": "",
            "zerolinecolor": "white"
           }
          },
          "shapedefaults": {
           "line": {
            "color": "#2a3f5f"
           }
          },
          "ternary": {
           "aaxis": {
            "gridcolor": "white",
            "linecolor": "white",
            "ticks": ""
           },
           "baxis": {
            "gridcolor": "white",
            "linecolor": "white",
            "ticks": ""
           },
           "bgcolor": "#E5ECF6",
           "caxis": {
            "gridcolor": "white",
            "linecolor": "white",
            "ticks": ""
           }
          },
          "title": {
           "x": 0.05
          },
          "xaxis": {
           "automargin": true,
           "gridcolor": "white",
           "linecolor": "white",
           "ticks": "",
           "title": {
            "standoff": 15
           },
           "zerolinecolor": "white",
           "zerolinewidth": 2
          },
          "yaxis": {
           "automargin": true,
           "gridcolor": "white",
           "linecolor": "white",
           "ticks": "",
           "title": {
            "standoff": 15
           },
           "zerolinecolor": "white",
           "zerolinewidth": 2
          }
         }
        },
        "xaxis": {
         "anchor": "y",
         "domain": [
          0,
          1
         ],
         "title": {
          "text": "population_imputed"
         }
        },
        "yaxis": {
         "anchor": "x",
         "domain": [
          0,
          1
         ],
         "title": {
          "text": "total_deceased_donors_imputed"
         }
        }
       }
      }
     },
     "metadata": {},
     "output_type": "display_data"
    }
   ],
   "source": [
    "organs_clean_2017_no_outliers = organs_clean_2017.query('total_deceased_donors_imputed < 2500').copy()\n",
    "organs_clean_2017_no_outliers = organs_clean_2017_no_outliers.query('population_imputed < 500000000')\n",
    "\n",
    "px.scatter(organs_clean_2017_no_outliers, \n",
    "                 x=\"population_imputed\", \n",
    "                 y=\"total_deceased_donors_imputed\", hover_name=\"country\")\n"
   ]
  },
  {
   "attachments": {},
   "cell_type": "markdown",
   "metadata": {},
   "source": [
    "But taking a log-log transformation of the plot shows that, *if we ignore the countries with zero donations*, there is a reasonable linear relationship between the log of population and the log of donor count (indicating that a percentage increase in population is associated with a percentage increase in donor count). However, by ignoring these countries we risk presenting a severely biased view of the data.\n"
   ]
  },
  {
   "cell_type": "code",
   "execution_count": 38,
   "metadata": {},
   "outputs": [
    {
     "data": {
      "application/vnd.plotly.v1+json": {
       "config": {
        "plotlyServerURL": "https://plot.ly"
       },
       "data": [
        {
         "hovertemplate": "<b>%{hovertext}</b><br><br>population_imputed=%{x}<br>total_deceased_donors_imputed=%{y}<extra></extra>",
         "hovertext": [
          "Andorra",
          "United Arab Emirates",
          "Afghanistan",
          "Antigua and Barbuda",
          "Albania",
          "Armenia",
          "Angola",
          "Argentina",
          "Austria",
          "Australia",
          "Azerbaijan",
          "Bosnia and Herzegovina",
          "Barbados",
          "Bangladesh",
          "Belgium",
          "Burkina Faso",
          "Bulgaria",
          "Bahrain",
          "Burundi",
          "Benin",
          "Brunei Darussalam",
          "Bolivia (Plurinational State of)",
          "Bahamas",
          "Bhutan",
          "Botswana",
          "Belarus",
          "Belize",
          "Canada",
          "Democratic Republic of The Congo",
          "Central African Republic",
          "Congo",
          "Switzerland",
          "CÃ´te dâ€™Ivoire",
          "Cook Islands",
          "Chile",
          "Cameroon",
          "Colombia",
          "Costa Rica",
          "Montenegro",
          "Cuba",
          "Cape Verde",
          "Cyprus",
          "Czech Republic",
          "Germany",
          "Djibouti",
          "Denmark",
          "Dominica",
          "Dominican Republic",
          "Algeria",
          "Ecuador",
          "Estonia",
          "Egypt",
          "Eritrea",
          "Spain",
          "Ethiopia",
          "Finland",
          "Fiji",
          "Micronesia (Federated States of)",
          "France",
          "Gabon",
          "United Kingdom",
          "Grenada",
          "Georgia",
          "Ghana",
          "Gambia",
          "Guinea",
          "Equatorial Guinea",
          "Greece",
          "Guatemala",
          "Guinea-Bissau",
          "Guyana",
          "Honduras",
          "Croatia",
          "Haiti",
          "Hungary",
          "Indonesia",
          "Ireland",
          "Israel",
          "Iraq",
          "Iran (Islamic Republic of)",
          "Iceland",
          "Italy",
          "Jamaica",
          "Jordan",
          "Japan",
          "Kenya",
          "Kyrgyzstan",
          "Cambodia",
          "Kiribati",
          "Comoros",
          "Saint Kitts and Nevis",
          "Democratic People's Republic of Korea",
          "Republic of Korea",
          "Kuwait",
          "Kazakhstan",
          "Lao People's Democratic Republic",
          "Lebanon",
          "Saint Lucia",
          "Sri Lanka",
          "Liberia",
          "Lesotho",
          "Lithuania",
          "Luxembourg",
          "Latvia",
          "Libyan Arab Jamahiriya",
          "Morocco",
          "Monaco",
          "Republic of Moldova",
          "Madagascar",
          "Marshall Islands",
          "The former Yugoslav Republic of Macedonia",
          "Mali",
          "Myanmar",
          "Mongolia",
          "Mauritania",
          "Malta",
          "Mauritius",
          "Maldives",
          "Malawi",
          "Mexico",
          "Malaysia",
          "Mozambique",
          "Namibia",
          "Niger",
          "Nigeria",
          "Nicaragua",
          "Netherlands",
          "Norway",
          "Nepal",
          "Nauru",
          "Niue",
          "New Zealand",
          "Oman",
          "Panama",
          "Peru",
          "Papua New Guinea",
          "Philippines",
          "Pakistan",
          "Poland",
          "Portugal",
          "Palau",
          "Paraguay",
          "Qatar",
          "Romania",
          "Serbia",
          "Russian Federation",
          "Rwanda",
          "Saudi Arabia",
          "Solomon Islands",
          "Seychelles",
          "Sudan",
          "Sweden",
          "Singapore",
          "Slovenia",
          "Slovakia",
          "Sierra Leone",
          "San Marino",
          "Senegal",
          "Somalia",
          "Suriname",
          "South Sudan",
          "Sao Tome and Principe",
          "El Salvador",
          "Syrian Arab Republic",
          "Swaziland",
          "Chad",
          "Togo",
          "Thailand",
          "Tajikistan",
          "Timor-Leste",
          "Turkmenistan",
          "Tunisia",
          "Tonga",
          "Turkey",
          "Trinidad and Tobago",
          "Tuvalu",
          "United Republic of Tanzania",
          "Ukraine",
          "Uganda",
          "Uruguay",
          "Uzbekistan",
          "Saint Vincent and the Grenadines",
          "Venezuela (Bolivarian Republic of)",
          "Viet Nam",
          "Vanuatu",
          "Samoa",
          "Yemen",
          "South Africa",
          "Zambia",
          "Zimbabwe"
         ],
         "legendgroup": "",
         "marker": {
          "color": "#636efa",
          "symbol": "circle"
         },
         "mode": "markers",
         "name": "",
         "orientation": "v",
         "showlegend": false,
         "type": "scatter",
         "x": {
          "bdata": "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",
          "dtype": "f8"
         },
         "xaxis": "x",
         "y": {
          "bdata": "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",
          "dtype": "f8"
         },
         "yaxis": "y"
        }
       ],
       "layout": {
        "legend": {
         "tracegroupgap": 0
        },
        "margin": {
         "t": 60
        },
        "template": {
         "data": {
          "bar": [
           {
            "error_x": {
             "color": "#2a3f5f"
            },
            "error_y": {
             "color": "#2a3f5f"
            },
            "marker": {
             "line": {
              "color": "#E5ECF6",
              "width": 0.5
             },
             "pattern": {
              "fillmode": "overlay",
              "size": 10,
              "solidity": 0.2
             }
            },
            "type": "bar"
           }
          ],
          "barpolar": [
           {
            "marker": {
             "line": {
              "color": "#E5ECF6",
              "width": 0.5
             },
             "pattern": {
              "fillmode": "overlay",
              "size": 10,
              "solidity": 0.2
             }
            },
            "type": "barpolar"
           }
          ],
          "carpet": [
           {
            "aaxis": {
             "endlinecolor": "#2a3f5f",
             "gridcolor": "white",
             "linecolor": "white",
             "minorgridcolor": "white",
             "startlinecolor": "#2a3f5f"
            },
            "baxis": {
             "endlinecolor": "#2a3f5f",
             "gridcolor": "white",
             "linecolor": "white",
             "minorgridcolor": "white",
             "startlinecolor": "#2a3f5f"
            },
            "type": "carpet"
           }
          ],
          "choropleth": [
           {
            "colorbar": {
             "outlinewidth": 0,
             "ticks": ""
            },
            "type": "choropleth"
           }
          ],
          "contour": [
           {
            "colorbar": {
             "outlinewidth": 0,
             "ticks": ""
            },
            "colorscale": [
             [
              0,
              "#0d0887"
             ],
             [
              0.1111111111111111,
              "#46039f"
             ],
             [
              0.2222222222222222,
              "#7201a8"
             ],
             [
              0.3333333333333333,
              "#9c179e"
             ],
             [
              0.4444444444444444,
              "#bd3786"
             ],
             [
              0.5555555555555556,
              "#d8576b"
             ],
             [
              0.6666666666666666,
              "#ed7953"
             ],
             [
              0.7777777777777778,
              "#fb9f3a"
             ],
             [
              0.8888888888888888,
              "#fdca26"
             ],
             [
              1,
              "#f0f921"
             ]
            ],
            "type": "contour"
           }
          ],
          "contourcarpet": [
           {
            "colorbar": {
             "outlinewidth": 0,
             "ticks": ""
            },
            "type": "contourcarpet"
           }
          ],
          "heatmap": [
           {
            "colorbar": {
             "outlinewidth": 0,
             "ticks": ""
            },
            "colorscale": [
             [
              0,
              "#0d0887"
             ],
             [
              0.1111111111111111,
              "#46039f"
             ],
             [
              0.2222222222222222,
              "#7201a8"
             ],
             [
              0.3333333333333333,
              "#9c179e"
             ],
             [
              0.4444444444444444,
              "#bd3786"
             ],
             [
              0.5555555555555556,
              "#d8576b"
             ],
             [
              0.6666666666666666,
              "#ed7953"
             ],
             [
              0.7777777777777778,
              "#fb9f3a"
             ],
             [
              0.8888888888888888,
              "#fdca26"
             ],
             [
              1,
              "#f0f921"
             ]
            ],
            "type": "heatmap"
           }
          ],
          "histogram": [
           {
            "marker": {
             "pattern": {
              "fillmode": "overlay",
              "size": 10,
              "solidity": 0.2
             }
            },
            "type": "histogram"
           }
          ],
          "histogram2d": [
           {
            "colorbar": {
             "outlinewidth": 0,
             "ticks": ""
            },
            "colorscale": [
             [
              0,
              "#0d0887"
             ],
             [
              0.1111111111111111,
              "#46039f"
             ],
             [
              0.2222222222222222,
              "#7201a8"
             ],
             [
              0.3333333333333333,
              "#9c179e"
             ],
             [
              0.4444444444444444,
              "#bd3786"
             ],
             [
              0.5555555555555556,
              "#d8576b"
             ],
             [
              0.6666666666666666,
              "#ed7953"
             ],
             [
              0.7777777777777778,
              "#fb9f3a"
             ],
             [
              0.8888888888888888,
              "#fdca26"
             ],
             [
              1,
              "#f0f921"
             ]
            ],
            "type": "histogram2d"
           }
          ],
          "histogram2dcontour": [
           {
            "colorbar": {
             "outlinewidth": 0,
             "ticks": ""
            },
            "colorscale": [
             [
              0,
              "#0d0887"
             ],
             [
              0.1111111111111111,
              "#46039f"
             ],
             [
              0.2222222222222222,
              "#7201a8"
             ],
             [
              0.3333333333333333,
              "#9c179e"
             ],
             [
              0.4444444444444444,
              "#bd3786"
             ],
             [
              0.5555555555555556,
              "#d8576b"
             ],
             [
              0.6666666666666666,
              "#ed7953"
             ],
             [
              0.7777777777777778,
              "#fb9f3a"
             ],
             [
              0.8888888888888888,
              "#fdca26"
             ],
             [
              1,
              "#f0f921"
             ]
            ],
            "type": "histogram2dcontour"
           }
          ],
          "mesh3d": [
           {
            "colorbar": {
             "outlinewidth": 0,
             "ticks": ""
            },
            "type": "mesh3d"
           }
          ],
          "parcoords": [
           {
            "line": {
             "colorbar": {
              "outlinewidth": 0,
              "ticks": ""
             }
            },
            "type": "parcoords"
           }
          ],
          "pie": [
           {
            "automargin": true,
            "type": "pie"
           }
          ],
          "scatter": [
           {
            "fillpattern": {
             "fillmode": "overlay",
             "size": 10,
             "solidity": 0.2
            },
            "type": "scatter"
           }
          ],
          "scatter3d": [
           {
            "line": {
             "colorbar": {
              "outlinewidth": 0,
              "ticks": ""
             }
            },
            "marker": {
             "colorbar": {
              "outlinewidth": 0,
              "ticks": ""
             }
            },
            "type": "scatter3d"
           }
          ],
          "scattercarpet": [
           {
            "marker": {
             "colorbar": {
              "outlinewidth": 0,
              "ticks": ""
             }
            },
            "type": "scattercarpet"
           }
          ],
          "scattergeo": [
           {
            "marker": {
             "colorbar": {
              "outlinewidth": 0,
              "ticks": ""
             }
            },
            "type": "scattergeo"
           }
          ],
          "scattergl": [
           {
            "marker": {
             "colorbar": {
              "outlinewidth": 0,
              "ticks": ""
             }
            },
            "type": "scattergl"
           }
          ],
          "scattermap": [
           {
            "marker": {
             "colorbar": {
              "outlinewidth": 0,
              "ticks": ""
             }
            },
            "type": "scattermap"
           }
          ],
          "scattermapbox": [
           {
            "marker": {
             "colorbar": {
              "outlinewidth": 0,
              "ticks": ""
             }
            },
            "type": "scattermapbox"
           }
          ],
          "scatterpolar": [
           {
            "marker": {
             "colorbar": {
              "outlinewidth": 0,
              "ticks": ""
             }
            },
            "type": "scatterpolar"
           }
          ],
          "scatterpolargl": [
           {
            "marker": {
             "colorbar": {
              "outlinewidth": 0,
              "ticks": ""
             }
            },
            "type": "scatterpolargl"
           }
          ],
          "scatterternary": [
           {
            "marker": {
             "colorbar": {
              "outlinewidth": 0,
              "ticks": ""
             }
            },
            "type": "scatterternary"
           }
          ],
          "surface": [
           {
            "colorbar": {
             "outlinewidth": 0,
             "ticks": ""
            },
            "colorscale": [
             [
              0,
              "#0d0887"
             ],
             [
              0.1111111111111111,
              "#46039f"
             ],
             [
              0.2222222222222222,
              "#7201a8"
             ],
             [
              0.3333333333333333,
              "#9c179e"
             ],
             [
              0.4444444444444444,
              "#bd3786"
             ],
             [
              0.5555555555555556,
              "#d8576b"
             ],
             [
              0.6666666666666666,
              "#ed7953"
             ],
             [
              0.7777777777777778,
              "#fb9f3a"
             ],
             [
              0.8888888888888888,
              "#fdca26"
             ],
             [
              1,
              "#f0f921"
             ]
            ],
            "type": "surface"
           }
          ],
          "table": [
           {
            "cells": {
             "fill": {
              "color": "#EBF0F8"
             },
             "line": {
              "color": "white"
             }
            },
            "header": {
             "fill": {
              "color": "#C8D4E3"
             },
             "line": {
              "color": "white"
             }
            },
            "type": "table"
           }
          ]
         },
         "layout": {
          "annotationdefaults": {
           "arrowcolor": "#2a3f5f",
           "arrowhead": 0,
           "arrowwidth": 1
          },
          "autotypenumbers": "strict",
          "coloraxis": {
           "colorbar": {
            "outlinewidth": 0,
            "ticks": ""
           }
          },
          "colorscale": {
           "diverging": [
            [
             0,
             "#8e0152"
            ],
            [
             0.1,
             "#c51b7d"
            ],
            [
             0.2,
             "#de77ae"
            ],
            [
             0.3,
             "#f1b6da"
            ],
            [
             0.4,
             "#fde0ef"
            ],
            [
             0.5,
             "#f7f7f7"
            ],
            [
             0.6,
             "#e6f5d0"
            ],
            [
             0.7,
             "#b8e186"
            ],
            [
             0.8,
             "#7fbc41"
            ],
            [
             0.9,
             "#4d9221"
            ],
            [
             1,
             "#276419"
            ]
           ],
           "sequential": [
            [
             0,
             "#0d0887"
            ],
            [
             0.1111111111111111,
             "#46039f"
            ],
            [
             0.2222222222222222,
             "#7201a8"
            ],
            [
             0.3333333333333333,
             "#9c179e"
            ],
            [
             0.4444444444444444,
             "#bd3786"
            ],
            [
             0.5555555555555556,
             "#d8576b"
            ],
            [
             0.6666666666666666,
             "#ed7953"
            ],
            [
             0.7777777777777778,
             "#fb9f3a"
            ],
            [
             0.8888888888888888,
             "#fdca26"
            ],
            [
             1,
             "#f0f921"
            ]
           ],
           "sequentialminus": [
            [
             0,
             "#0d0887"
            ],
            [
             0.1111111111111111,
             "#46039f"
            ],
            [
             0.2222222222222222,
             "#7201a8"
            ],
            [
             0.3333333333333333,
             "#9c179e"
            ],
            [
             0.4444444444444444,
             "#bd3786"
            ],
            [
             0.5555555555555556,
             "#d8576b"
            ],
            [
             0.6666666666666666,
             "#ed7953"
            ],
            [
             0.7777777777777778,
             "#fb9f3a"
            ],
            [
             0.8888888888888888,
             "#fdca26"
            ],
            [
             1,
             "#f0f921"
            ]
           ]
          },
          "colorway": [
           "#636efa",
           "#EF553B",
           "#00cc96",
           "#ab63fa",
           "#FFA15A",
           "#19d3f3",
           "#FF6692",
           "#B6E880",
           "#FF97FF",
           "#FECB52"
          ],
          "font": {
           "color": "#2a3f5f"
          },
          "geo": {
           "bgcolor": "white",
           "lakecolor": "white",
           "landcolor": "#E5ECF6",
           "showlakes": true,
           "showland": true,
           "subunitcolor": "white"
          },
          "hoverlabel": {
           "align": "left"
          },
          "hovermode": "closest",
          "mapbox": {
           "style": "light"
          },
          "paper_bgcolor": "white",
          "plot_bgcolor": "#E5ECF6",
          "polar": {
           "angularaxis": {
            "gridcolor": "white",
            "linecolor": "white",
            "ticks": ""
           },
           "bgcolor": "#E5ECF6",
           "radialaxis": {
            "gridcolor": "white",
            "linecolor": "white",
            "ticks": ""
           }
          },
          "scene": {
           "xaxis": {
            "backgroundcolor": "#E5ECF6",
            "gridcolor": "white",
            "gridwidth": 2,
            "linecolor": "white",
            "showbackground": true,
            "ticks": "",
            "zerolinecolor": "white"
           },
           "yaxis": {
            "backgroundcolor": "#E5ECF6",
            "gridcolor": "white",
            "gridwidth": 2,
            "linecolor": "white",
            "showbackground": true,
            "ticks": "",
            "zerolinecolor": "white"
           },
           "zaxis": {
            "backgroundcolor": "#E5ECF6",
            "gridcolor": "white",
            "gridwidth": 2,
            "linecolor": "white",
            "showbackground": true,
            "ticks": "",
            "zerolinecolor": "white"
           }
          },
          "shapedefaults": {
           "line": {
            "color": "#2a3f5f"
           }
          },
          "ternary": {
           "aaxis": {
            "gridcolor": "white",
            "linecolor": "white",
            "ticks": ""
           },
           "baxis": {
            "gridcolor": "white",
            "linecolor": "white",
            "ticks": ""
           },
           "bgcolor": "#E5ECF6",
           "caxis": {
            "gridcolor": "white",
            "linecolor": "white",
            "ticks": ""
           }
          },
          "title": {
           "x": 0.05
          },
          "xaxis": {
           "automargin": true,
           "gridcolor": "white",
           "linecolor": "white",
           "ticks": "",
           "title": {
            "standoff": 15
           },
           "zerolinecolor": "white",
           "zerolinewidth": 2
          },
          "yaxis": {
           "automargin": true,
           "gridcolor": "white",
           "linecolor": "white",
           "ticks": "",
           "title": {
            "standoff": 15
           },
           "zerolinecolor": "white",
           "zerolinewidth": 2
          }
         }
        },
        "xaxis": {
         "anchor": "y",
         "domain": [
          0,
          1
         ],
         "title": {
          "text": "population_imputed"
         },
         "type": "log"
        },
        "yaxis": {
         "anchor": "x",
         "domain": [
          0,
          1
         ],
         "title": {
          "text": "total_deceased_donors_imputed"
         },
         "type": "log"
        }
       }
      }
     },
     "metadata": {},
     "output_type": "display_data"
    }
   ],
   "source": [
    "px.scatter(organs_clean_2017_no_outliers, \n",
    "                 x=\"population_imputed\", \n",
    "                 y=\"total_deceased_donors_imputed\", \n",
    "                 hover_name=\"country\", \n",
    "                 log_x=True, log_y=True)"
   ]
  },
  {
   "attachments": {},
   "cell_type": "markdown",
   "metadata": {},
   "source": [
    "\n",
    "This finding doesn't feel particularly informative, so we won't turn it into an explanatory finding, nor will we conduct a thorough PCS evaluation of it.\n",
    "\n",
    "## [Exercise: to complete] Is there a difference in deceased donor type (i.e., whether the organs come from brain death or circulatory death donors) across different countries?\n",
    "\n",
    "Conduct your own analysis to answer this question. The relevant variables in the pre-processed data (`organs_preprocessed`) will be \n",
    "- `deceased_donors_brain_death`: \"Actual DBD\"\n",
    "- `deceased_donors_circulatory_death`: \"Actual DCD\"\n",
    "- `country`."
   ]
  },
  {
   "cell_type": "markdown",
   "metadata": {},
   "source": [
    "Let's first look at Spain's 2017 distribution of brain death and circulatory death donors"
   ]
  },
  {
   "cell_type": "code",
   "execution_count": 63,
   "metadata": {},
   "outputs": [],
   "source": [
    "spain_2017_organ = organs_clean[(organs_clean['year']==2017) & (organs_clean['country']=='Spain')].iloc[:,:]"
   ]
  },
  {
   "cell_type": "code",
   "execution_count": null,
   "metadata": {},
   "outputs": [
    {
     "data": {
      "application/vnd.plotly.v1+json": {
       "config": {
        "plotlyServerURL": "https://plot.ly"
       },
       "data": [
        {
         "alignmentgroup": "True",
         "hovertemplate": "Donor type=deceased_donors_brain_death<br>year=%{x}<br>Number of donors=%{y}<extra></extra>",
         "legendgroup": "deceased_donors_brain_death",
         "marker": {
          "color": "#636efa",
          "pattern": {
           "shape": ""
          }
         },
         "name": "deceased_donors_brain_death",
         "offsetgroup": "deceased_donors_brain_death",
         "orientation": "v",
         "showlegend": true,
         "textposition": "auto",
         "type": "bar",
         "x": {
          "bdata": "4Qc=",
          "dtype": "i2"
         },
         "xaxis": "x",
         "y": {
          "bdata": "AAAAAAAomUA=",
          "dtype": "f8"
         },
         "yaxis": "y"
        },
        {
         "alignmentgroup": "True",
         "hovertemplate": "Donor type=deceased_donors_circulatory_death<br>year=%{x}<br>Number of donors=%{y}<extra></extra>",
         "legendgroup": "deceased_donors_circulatory_death",
         "marker": {
          "color": "#EF553B",
          "pattern": {
           "shape": ""
          }
         },
         "name": "deceased_donors_circulatory_death",
         "offsetgroup": "deceased_donors_circulatory_death",
         "orientation": "v",
         "showlegend": true,
         "textposition": "auto",
         "type": "bar",
         "x": {
          "bdata": "4Qc=",
          "dtype": "i2"
         },
         "xaxis": "x",
         "y": {
          "bdata": "AAAAAADogUA=",
          "dtype": "f8"
         },
         "yaxis": "y"
        }
       ],
       "layout": {
        "barmode": "group",
        "legend": {
         "title": {
          "text": "Donor type"
         },
         "tracegroupgap": 0
        },
        "template": {
         "data": {
          "bar": [
           {
            "error_x": {
             "color": "#2a3f5f"
            },
            "error_y": {
             "color": "#2a3f5f"
            },
            "marker": {
             "line": {
              "color": "#E5ECF6",
              "width": 0.5
             },
             "pattern": {
              "fillmode": "overlay",
              "size": 10,
              "solidity": 0.2
             }
            },
            "type": "bar"
           }
          ],
          "barpolar": [
           {
            "marker": {
             "line": {
              "color": "#E5ECF6",
              "width": 0.5
             },
             "pattern": {
              "fillmode": "overlay",
              "size": 10,
              "solidity": 0.2
             }
            },
            "type": "barpolar"
           }
          ],
          "carpet": [
           {
            "aaxis": {
             "endlinecolor": "#2a3f5f",
             "gridcolor": "white",
             "linecolor": "white",
             "minorgridcolor": "white",
             "startlinecolor": "#2a3f5f"
            },
            "baxis": {
             "endlinecolor": "#2a3f5f",
             "gridcolor": "white",
             "linecolor": "white",
             "minorgridcolor": "white",
             "startlinecolor": "#2a3f5f"
            },
            "type": "carpet"
           }
          ],
          "choropleth": [
           {
            "colorbar": {
             "outlinewidth": 0,
             "ticks": ""
            },
            "type": "choropleth"
           }
          ],
          "contour": [
           {
            "colorbar": {
             "outlinewidth": 0,
             "ticks": ""
            },
            "colorscale": [
             [
              0,
              "#0d0887"
             ],
             [
              0.1111111111111111,
              "#46039f"
             ],
             [
              0.2222222222222222,
              "#7201a8"
             ],
             [
              0.3333333333333333,
              "#9c179e"
             ],
             [
              0.4444444444444444,
              "#bd3786"
             ],
             [
              0.5555555555555556,
              "#d8576b"
             ],
             [
              0.6666666666666666,
              "#ed7953"
             ],
             [
              0.7777777777777778,
              "#fb9f3a"
             ],
             [
              0.8888888888888888,
              "#fdca26"
             ],
             [
              1,
              "#f0f921"
             ]
            ],
            "type": "contour"
           }
          ],
          "contourcarpet": [
           {
            "colorbar": {
             "outlinewidth": 0,
             "ticks": ""
            },
            "type": "contourcarpet"
           }
          ],
          "heatmap": [
           {
            "colorbar": {
             "outlinewidth": 0,
             "ticks": ""
            },
            "colorscale": [
             [
              0,
              "#0d0887"
             ],
             [
              0.1111111111111111,
              "#46039f"
             ],
             [
              0.2222222222222222,
              "#7201a8"
             ],
             [
              0.3333333333333333,
              "#9c179e"
             ],
             [
              0.4444444444444444,
              "#bd3786"
             ],
             [
              0.5555555555555556,
              "#d8576b"
             ],
             [
              0.6666666666666666,
              "#ed7953"
             ],
             [
              0.7777777777777778,
              "#fb9f3a"
             ],
             [
              0.8888888888888888,
              "#fdca26"
             ],
             [
              1,
              "#f0f921"
             ]
            ],
            "type": "heatmap"
           }
          ],
          "histogram": [
           {
            "marker": {
             "pattern": {
              "fillmode": "overlay",
              "size": 10,
              "solidity": 0.2
             }
            },
            "type": "histogram"
           }
          ],
          "histogram2d": [
           {
            "colorbar": {
             "outlinewidth": 0,
             "ticks": ""
            },
            "colorscale": [
             [
              0,
              "#0d0887"
             ],
             [
              0.1111111111111111,
              "#46039f"
             ],
             [
              0.2222222222222222,
              "#7201a8"
             ],
             [
              0.3333333333333333,
              "#9c179e"
             ],
             [
              0.4444444444444444,
              "#bd3786"
             ],
             [
              0.5555555555555556,
              "#d8576b"
             ],
             [
              0.6666666666666666,
              "#ed7953"
             ],
             [
              0.7777777777777778,
              "#fb9f3a"
             ],
             [
              0.8888888888888888,
              "#fdca26"
             ],
             [
              1,
              "#f0f921"
             ]
            ],
            "type": "histogram2d"
           }
          ],
          "histogram2dcontour": [
           {
            "colorbar": {
             "outlinewidth": 0,
             "ticks": ""
            },
            "colorscale": [
             [
              0,
              "#0d0887"
             ],
             [
              0.1111111111111111,
              "#46039f"
             ],
             [
              0.2222222222222222,
              "#7201a8"
             ],
             [
              0.3333333333333333,
              "#9c179e"
             ],
             [
              0.4444444444444444,
              "#bd3786"
             ],
             [
              0.5555555555555556,
              "#d8576b"
             ],
             [
              0.6666666666666666,
              "#ed7953"
             ],
             [
              0.7777777777777778,
              "#fb9f3a"
             ],
             [
              0.8888888888888888,
              "#fdca26"
             ],
             [
              1,
              "#f0f921"
             ]
            ],
            "type": "histogram2dcontour"
           }
          ],
          "mesh3d": [
           {
            "colorbar": {
             "outlinewidth": 0,
             "ticks": ""
            },
            "type": "mesh3d"
           }
          ],
          "parcoords": [
           {
            "line": {
             "colorbar": {
              "outlinewidth": 0,
              "ticks": ""
             }
            },
            "type": "parcoords"
           }
          ],
          "pie": [
           {
            "automargin": true,
            "type": "pie"
           }
          ],
          "scatter": [
           {
            "fillpattern": {
             "fillmode": "overlay",
             "size": 10,
             "solidity": 0.2
            },
            "type": "scatter"
           }
          ],
          "scatter3d": [
           {
            "line": {
             "colorbar": {
              "outlinewidth": 0,
              "ticks": ""
             }
            },
            "marker": {
             "colorbar": {
              "outlinewidth": 0,
              "ticks": ""
             }
            },
            "type": "scatter3d"
           }
          ],
          "scattercarpet": [
           {
            "marker": {
             "colorbar": {
              "outlinewidth": 0,
              "ticks": ""
             }
            },
            "type": "scattercarpet"
           }
          ],
          "scattergeo": [
           {
            "marker": {
             "colorbar": {
              "outlinewidth": 0,
              "ticks": ""
             }
            },
            "type": "scattergeo"
           }
          ],
          "scattergl": [
           {
            "marker": {
             "colorbar": {
              "outlinewidth": 0,
              "ticks": ""
             }
            },
            "type": "scattergl"
           }
          ],
          "scattermap": [
           {
            "marker": {
             "colorbar": {
              "outlinewidth": 0,
              "ticks": ""
             }
            },
            "type": "scattermap"
           }
          ],
          "scattermapbox": [
           {
            "marker": {
             "colorbar": {
              "outlinewidth": 0,
              "ticks": ""
             }
            },
            "type": "scattermapbox"
           }
          ],
          "scatterpolar": [
           {
            "marker": {
             "colorbar": {
              "outlinewidth": 0,
              "ticks": ""
             }
            },
            "type": "scatterpolar"
           }
          ],
          "scatterpolargl": [
           {
            "marker": {
             "colorbar": {
              "outlinewidth": 0,
              "ticks": ""
             }
            },
            "type": "scatterpolargl"
           }
          ],
          "scatterternary": [
           {
            "marker": {
             "colorbar": {
              "outlinewidth": 0,
              "ticks": ""
             }
            },
            "type": "scatterternary"
           }
          ],
          "surface": [
           {
            "colorbar": {
             "outlinewidth": 0,
             "ticks": ""
            },
            "colorscale": [
             [
              0,
              "#0d0887"
             ],
             [
              0.1111111111111111,
              "#46039f"
             ],
             [
              0.2222222222222222,
              "#7201a8"
             ],
             [
              0.3333333333333333,
              "#9c179e"
             ],
             [
              0.4444444444444444,
              "#bd3786"
             ],
             [
              0.5555555555555556,
              "#d8576b"
             ],
             [
              0.6666666666666666,
              "#ed7953"
             ],
             [
              0.7777777777777778,
              "#fb9f3a"
             ],
             [
              0.8888888888888888,
              "#fdca26"
             ],
             [
              1,
              "#f0f921"
             ]
            ],
            "type": "surface"
           }
          ],
          "table": [
           {
            "cells": {
             "fill": {
              "color": "#EBF0F8"
             },
             "line": {
              "color": "white"
             }
            },
            "header": {
             "fill": {
              "color": "#C8D4E3"
             },
             "line": {
              "color": "white"
             }
            },
            "type": "table"
           }
          ]
         },
         "layout": {
          "annotationdefaults": {
           "arrowcolor": "#2a3f5f",
           "arrowhead": 0,
           "arrowwidth": 1
          },
          "autotypenumbers": "strict",
          "coloraxis": {
           "colorbar": {
            "outlinewidth": 0,
            "ticks": ""
           }
          },
          "colorscale": {
           "diverging": [
            [
             0,
             "#8e0152"
            ],
            [
             0.1,
             "#c51b7d"
            ],
            [
             0.2,
             "#de77ae"
            ],
            [
             0.3,
             "#f1b6da"
            ],
            [
             0.4,
             "#fde0ef"
            ],
            [
             0.5,
             "#f7f7f7"
            ],
            [
             0.6,
             "#e6f5d0"
            ],
            [
             0.7,
             "#b8e186"
            ],
            [
             0.8,
             "#7fbc41"
            ],
            [
             0.9,
             "#4d9221"
            ],
            [
             1,
             "#276419"
            ]
           ],
           "sequential": [
            [
             0,
             "#0d0887"
            ],
            [
             0.1111111111111111,
             "#46039f"
            ],
            [
             0.2222222222222222,
             "#7201a8"
            ],
            [
             0.3333333333333333,
             "#9c179e"
            ],
            [
             0.4444444444444444,
             "#bd3786"
            ],
            [
             0.5555555555555556,
             "#d8576b"
            ],
            [
             0.6666666666666666,
             "#ed7953"
            ],
            [
             0.7777777777777778,
             "#fb9f3a"
            ],
            [
             0.8888888888888888,
             "#fdca26"
            ],
            [
             1,
             "#f0f921"
            ]
           ],
           "sequentialminus": [
            [
             0,
             "#0d0887"
            ],
            [
             0.1111111111111111,
             "#46039f"
            ],
            [
             0.2222222222222222,
             "#7201a8"
            ],
            [
             0.3333333333333333,
             "#9c179e"
            ],
            [
             0.4444444444444444,
             "#bd3786"
            ],
            [
             0.5555555555555556,
             "#d8576b"
            ],
            [
             0.6666666666666666,
             "#ed7953"
            ],
            [
             0.7777777777777778,
             "#fb9f3a"
            ],
            [
             0.8888888888888888,
             "#fdca26"
            ],
            [
             1,
             "#f0f921"
            ]
           ]
          },
          "colorway": [
           "#636efa",
           "#EF553B",
           "#00cc96",
           "#ab63fa",
           "#FFA15A",
           "#19d3f3",
           "#FF6692",
           "#B6E880",
           "#FF97FF",
           "#FECB52"
          ],
          "font": {
           "color": "#2a3f5f"
          },
          "geo": {
           "bgcolor": "white",
           "lakecolor": "white",
           "landcolor": "#E5ECF6",
           "showlakes": true,
           "showland": true,
           "subunitcolor": "white"
          },
          "hoverlabel": {
           "align": "left"
          },
          "hovermode": "closest",
          "mapbox": {
           "style": "light"
          },
          "paper_bgcolor": "white",
          "plot_bgcolor": "#E5ECF6",
          "polar": {
           "angularaxis": {
            "gridcolor": "white",
            "linecolor": "white",
            "ticks": ""
           },
           "bgcolor": "#E5ECF6",
           "radialaxis": {
            "gridcolor": "white",
            "linecolor": "white",
            "ticks": ""
           }
          },
          "scene": {
           "xaxis": {
            "backgroundcolor": "#E5ECF6",
            "gridcolor": "white",
            "gridwidth": 2,
            "linecolor": "white",
            "showbackground": true,
            "ticks": "",
            "zerolinecolor": "white"
           },
           "yaxis": {
            "backgroundcolor": "#E5ECF6",
            "gridcolor": "white",
            "gridwidth": 2,
            "linecolor": "white",
            "showbackground": true,
            "ticks": "",
            "zerolinecolor": "white"
           },
           "zaxis": {
            "backgroundcolor": "#E5ECF6",
            "gridcolor": "white",
            "gridwidth": 2,
            "linecolor": "white",
            "showbackground": true,
            "ticks": "",
            "zerolinecolor": "white"
           }
          },
          "shapedefaults": {
           "line": {
            "color": "#2a3f5f"
           }
          },
          "ternary": {
           "aaxis": {
            "gridcolor": "white",
            "linecolor": "white",
            "ticks": ""
           },
           "baxis": {
            "gridcolor": "white",
            "linecolor": "white",
            "ticks": ""
           },
           "bgcolor": "#E5ECF6",
           "caxis": {
            "gridcolor": "white",
            "linecolor": "white",
            "ticks": ""
           }
          },
          "title": {
           "x": 0.05
          },
          "xaxis": {
           "automargin": true,
           "gridcolor": "white",
           "linecolor": "white",
           "ticks": "",
           "title": {
            "standoff": 15
           },
           "zerolinecolor": "white",
           "zerolinewidth": 2
          },
          "yaxis": {
           "automargin": true,
           "gridcolor": "white",
           "linecolor": "white",
           "ticks": "",
           "title": {
            "standoff": 15
           },
           "zerolinecolor": "white",
           "zerolinewidth": 2
          }
         }
        },
        "title": {
         "text": "Number of organ donors in Spain in 2017 by donor type"
        },
        "xaxis": {
         "anchor": "y",
         "domain": [
          0,
          1
         ],
         "title": {
          "text": "year"
         }
        },
        "yaxis": {
         "anchor": "x",
         "domain": [
          0,
          1
         ],
         "title": {
          "text": "Number of donors"
         }
        }
       }
      }
     },
     "metadata": {},
     "output_type": "display_data"
    }
   ],
   "source": [
    "# create bar graphs where the values are 'deceased_donors_brain_death', 'deceased_donors_circulatory_death' are color coded\n",
    "fig = px.bar(spain_2017_organ, \n",
    "             x=\"year\", \n",
    "             y=[\"deceased_donors_brain_death\", \"deceased_donors_circulatory_death\"], \n",
    "             barmode=\"group\",\n",
    "             labels={\"value\": \"Number of donors\", \"variable\": \"Donor type\"},\n",
    "             title=\"Number of organ donors in Spain in 2017 by donor type\")\n",
    "fig.show()\n"
   ]
  },
  {
   "cell_type": "markdown",
   "metadata": {},
   "source": [
    "Seems that there are more donors who were declared brain death than circulatory death.\n",
    "Let's now see if there is a change over time for this trend in Spain"
   ]
  },
  {
   "cell_type": "code",
   "execution_count": 70,
   "metadata": {},
   "outputs": [
    {
     "data": {
      "application/vnd.plotly.v1+json": {
       "config": {
        "plotlyServerURL": "https://plot.ly"
       },
       "data": [
        {
         "hovertemplate": "variable=deceased_donors_brain_death<br>year=%{x}<br>value=%{y}<extra></extra>",
         "legendgroup": "deceased_donors_brain_death",
         "line": {
          "color": "#636efa",
          "dash": "solid"
         },
         "marker": {
          "symbol": "circle"
         },
         "mode": "lines",
         "name": "deceased_donors_brain_death",
         "orientation": "v",
         "showlegend": true,
         "type": "scatter",
         "x": {
          "bdata": "0AfRB9IH0wfUB9UH1gfXB9gH2QfaB9sH3AfdB94H3wfgB+EH",
          "dtype": "i2"
         },
         "xaxis": "x",
         "y": {
          "bdata": "AAAAAAAA+H8AAAAAAAD4fwAAAAAAAPh/AAAAAACslUAAAAAAAECWQAAAAAAADJdAAAAAAAAA+H8AAAAAANiWQAAAAAAAcJdAAAAAAABsl0AAAAAAAHCVQAAAAAAAOJhAAAAAAAAol0AAAAAAAGCXQAAAAAAARJdAAAAAAAAEmEAAAAAAANCXQAAAAAAAKJlA",
          "dtype": "f8"
         },
         "yaxis": "y"
        },
        {
         "hovertemplate": "variable=deceased_donors_circulatory_death<br>year=%{x}<br>value=%{y}<extra></extra>",
         "legendgroup": "deceased_donors_circulatory_death",
         "line": {
          "color": "#EF553B",
          "dash": "solid"
         },
         "marker": {
          "symbol": "circle"
         },
         "mode": "lines",
         "name": "deceased_donors_circulatory_death",
         "orientation": "v",
         "showlegend": true,
         "type": "scatter",
         "x": {
          "bdata": "0AfRB9IH0wfUB9UH1gfXB9gH2QfaB9sH3AfdB94H3wfgB+EH",
          "dtype": "i2"
         },
         "xaxis": "x",
         "y": {
          "bdata": "AAAAAAAA+H8AAAAAAAD4fwAAAAAAAPh/AAAAAAAATEAAAAAAAMBRQAAAAAAAwFFAAAAAAAAAU0AAAAAAAABWQAAAAAAAQFNAAAAAAADAWkAAAAAAAEBgQAAAAAAAQF1AAAAAAAAgZEAAAAAAAOBjQAAAAAAAIGhAAAAAAACgc0AAAAAAAPB+QAAAAAAA6IFA",
          "dtype": "f8"
         },
         "yaxis": "y"
        }
       ],
       "layout": {
        "legend": {
         "title": {
          "text": "variable"
         },
         "tracegroupgap": 0
        },
        "template": {
         "data": {
          "bar": [
           {
            "error_x": {
             "color": "#2a3f5f"
            },
            "error_y": {
             "color": "#2a3f5f"
            },
            "marker": {
             "line": {
              "color": "#E5ECF6",
              "width": 0.5
             },
             "pattern": {
              "fillmode": "overlay",
              "size": 10,
              "solidity": 0.2
             }
            },
            "type": "bar"
           }
          ],
          "barpolar": [
           {
            "marker": {
             "line": {
              "color": "#E5ECF6",
              "width": 0.5
             },
             "pattern": {
              "fillmode": "overlay",
              "size": 10,
              "solidity": 0.2
             }
            },
            "type": "barpolar"
           }
          ],
          "carpet": [
           {
            "aaxis": {
             "endlinecolor": "#2a3f5f",
             "gridcolor": "white",
             "linecolor": "white",
             "minorgridcolor": "white",
             "startlinecolor": "#2a3f5f"
            },
            "baxis": {
             "endlinecolor": "#2a3f5f",
             "gridcolor": "white",
             "linecolor": "white",
             "minorgridcolor": "white",
             "startlinecolor": "#2a3f5f"
            },
            "type": "carpet"
           }
          ],
          "choropleth": [
           {
            "colorbar": {
             "outlinewidth": 0,
             "ticks": ""
            },
            "type": "choropleth"
           }
          ],
          "contour": [
           {
            "colorbar": {
             "outlinewidth": 0,
             "ticks": ""
            },
            "colorscale": [
             [
              0,
              "#0d0887"
             ],
             [
              0.1111111111111111,
              "#46039f"
             ],
             [
              0.2222222222222222,
              "#7201a8"
             ],
             [
              0.3333333333333333,
              "#9c179e"
             ],
             [
              0.4444444444444444,
              "#bd3786"
             ],
             [
              0.5555555555555556,
              "#d8576b"
             ],
             [
              0.6666666666666666,
              "#ed7953"
             ],
             [
              0.7777777777777778,
              "#fb9f3a"
             ],
             [
              0.8888888888888888,
              "#fdca26"
             ],
             [
              1,
              "#f0f921"
             ]
            ],
            "type": "contour"
           }
          ],
          "contourcarpet": [
           {
            "colorbar": {
             "outlinewidth": 0,
             "ticks": ""
            },
            "type": "contourcarpet"
           }
          ],
          "heatmap": [
           {
            "colorbar": {
             "outlinewidth": 0,
             "ticks": ""
            },
            "colorscale": [
             [
              0,
              "#0d0887"
             ],
             [
              0.1111111111111111,
              "#46039f"
             ],
             [
              0.2222222222222222,
              "#7201a8"
             ],
             [
              0.3333333333333333,
              "#9c179e"
             ],
             [
              0.4444444444444444,
              "#bd3786"
             ],
             [
              0.5555555555555556,
              "#d8576b"
             ],
             [
              0.6666666666666666,
              "#ed7953"
             ],
             [
              0.7777777777777778,
              "#fb9f3a"
             ],
             [
              0.8888888888888888,
              "#fdca26"
             ],
             [
              1,
              "#f0f921"
             ]
            ],
            "type": "heatmap"
           }
          ],
          "histogram": [
           {
            "marker": {
             "pattern": {
              "fillmode": "overlay",
              "size": 10,
              "solidity": 0.2
             }
            },
            "type": "histogram"
           }
          ],
          "histogram2d": [
           {
            "colorbar": {
             "outlinewidth": 0,
             "ticks": ""
            },
            "colorscale": [
             [
              0,
              "#0d0887"
             ],
             [
              0.1111111111111111,
              "#46039f"
             ],
             [
              0.2222222222222222,
              "#7201a8"
             ],
             [
              0.3333333333333333,
              "#9c179e"
             ],
             [
              0.4444444444444444,
              "#bd3786"
             ],
             [
              0.5555555555555556,
              "#d8576b"
             ],
             [
              0.6666666666666666,
              "#ed7953"
             ],
             [
              0.7777777777777778,
              "#fb9f3a"
             ],
             [
              0.8888888888888888,
              "#fdca26"
             ],
             [
              1,
              "#f0f921"
             ]
            ],
            "type": "histogram2d"
           }
          ],
          "histogram2dcontour": [
           {
            "colorbar": {
             "outlinewidth": 0,
             "ticks": ""
            },
            "colorscale": [
             [
              0,
              "#0d0887"
             ],
             [
              0.1111111111111111,
              "#46039f"
             ],
             [
              0.2222222222222222,
              "#7201a8"
             ],
             [
              0.3333333333333333,
              "#9c179e"
             ],
             [
              0.4444444444444444,
              "#bd3786"
             ],
             [
              0.5555555555555556,
              "#d8576b"
             ],
             [
              0.6666666666666666,
              "#ed7953"
             ],
             [
              0.7777777777777778,
              "#fb9f3a"
             ],
             [
              0.8888888888888888,
              "#fdca26"
             ],
             [
              1,
              "#f0f921"
             ]
            ],
            "type": "histogram2dcontour"
           }
          ],
          "mesh3d": [
           {
            "colorbar": {
             "outlinewidth": 0,
             "ticks": ""
            },
            "type": "mesh3d"
           }
          ],
          "parcoords": [
           {
            "line": {
             "colorbar": {
              "outlinewidth": 0,
              "ticks": ""
             }
            },
            "type": "parcoords"
           }
          ],
          "pie": [
           {
            "automargin": true,
            "type": "pie"
           }
          ],
          "scatter": [
           {
            "fillpattern": {
             "fillmode": "overlay",
             "size": 10,
             "solidity": 0.2
            },
            "type": "scatter"
           }
          ],
          "scatter3d": [
           {
            "line": {
             "colorbar": {
              "outlinewidth": 0,
              "ticks": ""
             }
            },
            "marker": {
             "colorbar": {
              "outlinewidth": 0,
              "ticks": ""
             }
            },
            "type": "scatter3d"
           }
          ],
          "scattercarpet": [
           {
            "marker": {
             "colorbar": {
              "outlinewidth": 0,
              "ticks": ""
             }
            },
            "type": "scattercarpet"
           }
          ],
          "scattergeo": [
           {
            "marker": {
             "colorbar": {
              "outlinewidth": 0,
              "ticks": ""
             }
            },
            "type": "scattergeo"
           }
          ],
          "scattergl": [
           {
            "marker": {
             "colorbar": {
              "outlinewidth": 0,
              "ticks": ""
             }
            },
            "type": "scattergl"
           }
          ],
          "scattermap": [
           {
            "marker": {
             "colorbar": {
              "outlinewidth": 0,
              "ticks": ""
             }
            },
            "type": "scattermap"
           }
          ],
          "scattermapbox": [
           {
            "marker": {
             "colorbar": {
              "outlinewidth": 0,
              "ticks": ""
             }
            },
            "type": "scattermapbox"
           }
          ],
          "scatterpolar": [
           {
            "marker": {
             "colorbar": {
              "outlinewidth": 0,
              "ticks": ""
             }
            },
            "type": "scatterpolar"
           }
          ],
          "scatterpolargl": [
           {
            "marker": {
             "colorbar": {
              "outlinewidth": 0,
              "ticks": ""
             }
            },
            "type": "scatterpolargl"
           }
          ],
          "scatterternary": [
           {
            "marker": {
             "colorbar": {
              "outlinewidth": 0,
              "ticks": ""
             }
            },
            "type": "scatterternary"
           }
          ],
          "surface": [
           {
            "colorbar": {
             "outlinewidth": 0,
             "ticks": ""
            },
            "colorscale": [
             [
              0,
              "#0d0887"
             ],
             [
              0.1111111111111111,
              "#46039f"
             ],
             [
              0.2222222222222222,
              "#7201a8"
             ],
             [
              0.3333333333333333,
              "#9c179e"
             ],
             [
              0.4444444444444444,
              "#bd3786"
             ],
             [
              0.5555555555555556,
              "#d8576b"
             ],
             [
              0.6666666666666666,
              "#ed7953"
             ],
             [
              0.7777777777777778,
              "#fb9f3a"
             ],
             [
              0.8888888888888888,
              "#fdca26"
             ],
             [
              1,
              "#f0f921"
             ]
            ],
            "type": "surface"
           }
          ],
          "table": [
           {
            "cells": {
             "fill": {
              "color": "#EBF0F8"
             },
             "line": {
              "color": "white"
             }
            },
            "header": {
             "fill": {
              "color": "#C8D4E3"
             },
             "line": {
              "color": "white"
             }
            },
            "type": "table"
           }
          ]
         },
         "layout": {
          "annotationdefaults": {
           "arrowcolor": "#2a3f5f",
           "arrowhead": 0,
           "arrowwidth": 1
          },
          "autotypenumbers": "strict",
          "coloraxis": {
           "colorbar": {
            "outlinewidth": 0,
            "ticks": ""
           }
          },
          "colorscale": {
           "diverging": [
            [
             0,
             "#8e0152"
            ],
            [
             0.1,
             "#c51b7d"
            ],
            [
             0.2,
             "#de77ae"
            ],
            [
             0.3,
             "#f1b6da"
            ],
            [
             0.4,
             "#fde0ef"
            ],
            [
             0.5,
             "#f7f7f7"
            ],
            [
             0.6,
             "#e6f5d0"
            ],
            [
             0.7,
             "#b8e186"
            ],
            [
             0.8,
             "#7fbc41"
            ],
            [
             0.9,
             "#4d9221"
            ],
            [
             1,
             "#276419"
            ]
           ],
           "sequential": [
            [
             0,
             "#0d0887"
            ],
            [
             0.1111111111111111,
             "#46039f"
            ],
            [
             0.2222222222222222,
             "#7201a8"
            ],
            [
             0.3333333333333333,
             "#9c179e"
            ],
            [
             0.4444444444444444,
             "#bd3786"
            ],
            [
             0.5555555555555556,
             "#d8576b"
            ],
            [
             0.6666666666666666,
             "#ed7953"
            ],
            [
             0.7777777777777778,
             "#fb9f3a"
            ],
            [
             0.8888888888888888,
             "#fdca26"
            ],
            [
             1,
             "#f0f921"
            ]
           ],
           "sequentialminus": [
            [
             0,
             "#0d0887"
            ],
            [
             0.1111111111111111,
             "#46039f"
            ],
            [
             0.2222222222222222,
             "#7201a8"
            ],
            [
             0.3333333333333333,
             "#9c179e"
            ],
            [
             0.4444444444444444,
             "#bd3786"
            ],
            [
             0.5555555555555556,
             "#d8576b"
            ],
            [
             0.6666666666666666,
             "#ed7953"
            ],
            [
             0.7777777777777778,
             "#fb9f3a"
            ],
            [
             0.8888888888888888,
             "#fdca26"
            ],
            [
             1,
             "#f0f921"
            ]
           ]
          },
          "colorway": [
           "#636efa",
           "#EF553B",
           "#00cc96",
           "#ab63fa",
           "#FFA15A",
           "#19d3f3",
           "#FF6692",
           "#B6E880",
           "#FF97FF",
           "#FECB52"
          ],
          "font": {
           "color": "#2a3f5f"
          },
          "geo": {
           "bgcolor": "white",
           "lakecolor": "white",
           "landcolor": "#E5ECF6",
           "showlakes": true,
           "showland": true,
           "subunitcolor": "white"
          },
          "hoverlabel": {
           "align": "left"
          },
          "hovermode": "closest",
          "mapbox": {
           "style": "light"
          },
          "paper_bgcolor": "white",
          "plot_bgcolor": "#E5ECF6",
          "polar": {
           "angularaxis": {
            "gridcolor": "white",
            "linecolor": "white",
            "ticks": ""
           },
           "bgcolor": "#E5ECF6",
           "radialaxis": {
            "gridcolor": "white",
            "linecolor": "white",
            "ticks": ""
           }
          },
          "scene": {
           "xaxis": {
            "backgroundcolor": "#E5ECF6",
            "gridcolor": "white",
            "gridwidth": 2,
            "linecolor": "white",
            "showbackground": true,
            "ticks": "",
            "zerolinecolor": "white"
           },
           "yaxis": {
            "backgroundcolor": "#E5ECF6",
            "gridcolor": "white",
            "gridwidth": 2,
            "linecolor": "white",
            "showbackground": true,
            "ticks": "",
            "zerolinecolor": "white"
           },
           "zaxis": {
            "backgroundcolor": "#E5ECF6",
            "gridcolor": "white",
            "gridwidth": 2,
            "linecolor": "white",
            "showbackground": true,
            "ticks": "",
            "zerolinecolor": "white"
           }
          },
          "shapedefaults": {
           "line": {
            "color": "#2a3f5f"
           }
          },
          "ternary": {
           "aaxis": {
            "gridcolor": "white",
            "linecolor": "white",
            "ticks": ""
           },
           "baxis": {
            "gridcolor": "white",
            "linecolor": "white",
            "ticks": ""
           },
           "bgcolor": "#E5ECF6",
           "caxis": {
            "gridcolor": "white",
            "linecolor": "white",
            "ticks": ""
           }
          },
          "title": {
           "x": 0.05
          },
          "xaxis": {
           "automargin": true,
           "gridcolor": "white",
           "linecolor": "white",
           "ticks": "",
           "title": {
            "standoff": 15
           },
           "zerolinecolor": "white",
           "zerolinewidth": 2
          },
          "yaxis": {
           "automargin": true,
           "gridcolor": "white",
           "linecolor": "white",
           "ticks": "",
           "title": {
            "standoff": 15
           },
           "zerolinecolor": "white",
           "zerolinewidth": 2
          }
         }
        },
        "title": {
         "text": "Total deceased donors in Spain over time"
        },
        "xaxis": {
         "anchor": "y",
         "domain": [
          0,
          1
         ],
         "title": {
          "text": "year"
         }
        },
        "yaxis": {
         "anchor": "x",
         "domain": [
          0,
          1
         ],
         "title": {
          "text": "value"
         }
        }
       }
      }
     },
     "metadata": {},
     "output_type": "display_data"
    }
   ],
   "source": [
    "spain_organ_donors = organs_clean[organs_clean['country'] == 'Spain']\n",
    "fig = px.line(spain_organ_donors, \n",
    "              x=\"year\", \n",
    "              y=[\"deceased_donors_brain_death\", \"deceased_donors_circulatory_death\"], \n",
    "              title=\"Total deceased donors in Spain over time\")\n",
    "fig.show()"
   ]
  },
  {
   "cell_type": "markdown",
   "metadata": {},
   "source": [
    "Now let's try to focus on the top 20 countries by donor / million and see whether most of their donors come from brain death / circulatory death."
   ]
  },
  {
   "cell_type": "code",
   "execution_count": 76,
   "metadata": {},
   "outputs": [
    {
     "data": {
      "application/vnd.plotly.v1+json": {
       "config": {
        "plotlyServerURL": "https://plot.ly"
       },
       "data": [
        {
         "coloraxis": "coloraxis",
         "hovertemplate": "year: %{x}<br>country: %{y}<br>color: %{z}<extra></extra>",
         "name": "0",
         "type": "heatmap",
         "x": [
          "year_2000",
          "year_2001",
          "year_2002",
          "year_2003",
          "year_2004",
          "year_2005",
          "year_2006",
          "year_2007",
          "year_2008",
          "year_2009",
          "year_2010",
          "year_2011",
          "year_2012",
          "year_2013",
          "year_2014",
          "year_2015",
          "year_2016",
          "year_2017"
         ],
         "xaxis": "x",
         "y": [
          "Belarus",
          "Slovenia",
          "Croatia",
          "Finland",
          "Iceland",
          "Malta",
          "Sweden",
          "Italy",
          "Austria",
          "Czech Republic",
          "Portugal",
          "Norway",
          "France",
          "Ireland",
          "United States of America",
          "Canada",
          "Spain",
          "Belgium",
          "Australia",
          "United Kingdom"
         ],
         "yaxis": "y",
         "z": {
          "bdata": "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",
          "dtype": "f8",
          "shape": "20, 18"
         }
        }
       ],
       "layout": {
        "coloraxis": {
         "colorscale": [
          [
           0,
           "rgb(255,255,255)"
          ],
          [
           0.125,
           "rgb(240,240,240)"
          ],
          [
           0.25,
           "rgb(217,217,217)"
          ],
          [
           0.375,
           "rgb(189,189,189)"
          ],
          [
           0.5,
           "rgb(150,150,150)"
          ],
          [
           0.625,
           "rgb(115,115,115)"
          ],
          [
           0.75,
           "rgb(82,82,82)"
          ],
          [
           0.875,
           "rgb(37,37,37)"
          ],
          [
           1,
           "rgb(0,0,0)"
          ]
         ]
        },
        "margin": {
         "t": 60
        },
        "template": {
         "data": {
          "bar": [
           {
            "error_x": {
             "color": "#2a3f5f"
            },
            "error_y": {
             "color": "#2a3f5f"
            },
            "marker": {
             "line": {
              "color": "#E5ECF6",
              "width": 0.5
             },
             "pattern": {
              "fillmode": "overlay",
              "size": 10,
              "solidity": 0.2
             }
            },
            "type": "bar"
           }
          ],
          "barpolar": [
           {
            "marker": {
             "line": {
              "color": "#E5ECF6",
              "width": 0.5
             },
             "pattern": {
              "fillmode": "overlay",
              "size": 10,
              "solidity": 0.2
             }
            },
            "type": "barpolar"
           }
          ],
          "carpet": [
           {
            "aaxis": {
             "endlinecolor": "#2a3f5f",
             "gridcolor": "white",
             "linecolor": "white",
             "minorgridcolor": "white",
             "startlinecolor": "#2a3f5f"
            },
            "baxis": {
             "endlinecolor": "#2a3f5f",
             "gridcolor": "white",
             "linecolor": "white",
             "minorgridcolor": "white",
             "startlinecolor": "#2a3f5f"
            },
            "type": "carpet"
           }
          ],
          "choropleth": [
           {
            "colorbar": {
             "outlinewidth": 0,
             "ticks": ""
            },
            "type": "choropleth"
           }
          ],
          "contour": [
           {
            "colorbar": {
             "outlinewidth": 0,
             "ticks": ""
            },
            "colorscale": [
             [
              0,
              "#0d0887"
             ],
             [
              0.1111111111111111,
              "#46039f"
             ],
             [
              0.2222222222222222,
              "#7201a8"
             ],
             [
              0.3333333333333333,
              "#9c179e"
             ],
             [
              0.4444444444444444,
              "#bd3786"
             ],
             [
              0.5555555555555556,
              "#d8576b"
             ],
             [
              0.6666666666666666,
              "#ed7953"
             ],
             [
              0.7777777777777778,
              "#fb9f3a"
             ],
             [
              0.8888888888888888,
              "#fdca26"
             ],
             [
              1,
              "#f0f921"
             ]
            ],
            "type": "contour"
           }
          ],
          "contourcarpet": [
           {
            "colorbar": {
             "outlinewidth": 0,
             "ticks": ""
            },
            "type": "contourcarpet"
           }
          ],
          "heatmap": [
           {
            "colorbar": {
             "outlinewidth": 0,
             "ticks": ""
            },
            "colorscale": [
             [
              0,
              "#0d0887"
             ],
             [
              0.1111111111111111,
              "#46039f"
             ],
             [
              0.2222222222222222,
              "#7201a8"
             ],
             [
              0.3333333333333333,
              "#9c179e"
             ],
             [
              0.4444444444444444,
              "#bd3786"
             ],
             [
              0.5555555555555556,
              "#d8576b"
             ],
             [
              0.6666666666666666,
              "#ed7953"
             ],
             [
              0.7777777777777778,
              "#fb9f3a"
             ],
             [
              0.8888888888888888,
              "#fdca26"
             ],
             [
              1,
              "#f0f921"
             ]
            ],
            "type": "heatmap"
           }
          ],
          "histogram": [
           {
            "marker": {
             "pattern": {
              "fillmode": "overlay",
              "size": 10,
              "solidity": 0.2
             }
            },
            "type": "histogram"
           }
          ],
          "histogram2d": [
           {
            "colorbar": {
             "outlinewidth": 0,
             "ticks": ""
            },
            "colorscale": [
             [
              0,
              "#0d0887"
             ],
             [
              0.1111111111111111,
              "#46039f"
             ],
             [
              0.2222222222222222,
              "#7201a8"
             ],
             [
              0.3333333333333333,
              "#9c179e"
             ],
             [
              0.4444444444444444,
              "#bd3786"
             ],
             [
              0.5555555555555556,
              "#d8576b"
             ],
             [
              0.6666666666666666,
              "#ed7953"
             ],
             [
              0.7777777777777778,
              "#fb9f3a"
             ],
             [
              0.8888888888888888,
              "#fdca26"
             ],
             [
              1,
              "#f0f921"
             ]
            ],
            "type": "histogram2d"
           }
          ],
          "histogram2dcontour": [
           {
            "colorbar": {
             "outlinewidth": 0,
             "ticks": ""
            },
            "colorscale": [
             [
              0,
              "#0d0887"
             ],
             [
              0.1111111111111111,
              "#46039f"
             ],
             [
              0.2222222222222222,
              "#7201a8"
             ],
             [
              0.3333333333333333,
              "#9c179e"
             ],
             [
              0.4444444444444444,
              "#bd3786"
             ],
             [
              0.5555555555555556,
              "#d8576b"
             ],
             [
              0.6666666666666666,
              "#ed7953"
             ],
             [
              0.7777777777777778,
              "#fb9f3a"
             ],
             [
              0.8888888888888888,
              "#fdca26"
             ],
             [
              1,
              "#f0f921"
             ]
            ],
            "type": "histogram2dcontour"
           }
          ],
          "mesh3d": [
           {
            "colorbar": {
             "outlinewidth": 0,
             "ticks": ""
            },
            "type": "mesh3d"
           }
          ],
          "parcoords": [
           {
            "line": {
             "colorbar": {
              "outlinewidth": 0,
              "ticks": ""
             }
            },
            "type": "parcoords"
           }
          ],
          "pie": [
           {
            "automargin": true,
            "type": "pie"
           }
          ],
          "scatter": [
           {
            "fillpattern": {
             "fillmode": "overlay",
             "size": 10,
             "solidity": 0.2
            },
            "type": "scatter"
           }
          ],
          "scatter3d": [
           {
            "line": {
             "colorbar": {
              "outlinewidth": 0,
              "ticks": ""
             }
            },
            "marker": {
             "colorbar": {
              "outlinewidth": 0,
              "ticks": ""
             }
            },
            "type": "scatter3d"
           }
          ],
          "scattercarpet": [
           {
            "marker": {
             "colorbar": {
              "outlinewidth": 0,
              "ticks": ""
             }
            },
            "type": "scattercarpet"
           }
          ],
          "scattergeo": [
           {
            "marker": {
             "colorbar": {
              "outlinewidth": 0,
              "ticks": ""
             }
            },
            "type": "scattergeo"
           }
          ],
          "scattergl": [
           {
            "marker": {
             "colorbar": {
              "outlinewidth": 0,
              "ticks": ""
             }
            },
            "type": "scattergl"
           }
          ],
          "scattermap": [
           {
            "marker": {
             "colorbar": {
              "outlinewidth": 0,
              "ticks": ""
             }
            },
            "type": "scattermap"
           }
          ],
          "scattermapbox": [
           {
            "marker": {
             "colorbar": {
              "outlinewidth": 0,
              "ticks": ""
             }
            },
            "type": "scattermapbox"
           }
          ],
          "scatterpolar": [
           {
            "marker": {
             "colorbar": {
              "outlinewidth": 0,
              "ticks": ""
             }
            },
            "type": "scatterpolar"
           }
          ],
          "scatterpolargl": [
           {
            "marker": {
             "colorbar": {
              "outlinewidth": 0,
              "ticks": ""
             }
            },
            "type": "scatterpolargl"
           }
          ],
          "scatterternary": [
           {
            "marker": {
             "colorbar": {
              "outlinewidth": 0,
              "ticks": ""
             }
            },
            "type": "scatterternary"
           }
          ],
          "surface": [
           {
            "colorbar": {
             "outlinewidth": 0,
             "ticks": ""
            },
            "colorscale": [
             [
              0,
              "#0d0887"
             ],
             [
              0.1111111111111111,
              "#46039f"
             ],
             [
              0.2222222222222222,
              "#7201a8"
             ],
             [
              0.3333333333333333,
              "#9c179e"
             ],
             [
              0.4444444444444444,
              "#bd3786"
             ],
             [
              0.5555555555555556,
              "#d8576b"
             ],
             [
              0.6666666666666666,
              "#ed7953"
             ],
             [
              0.7777777777777778,
              "#fb9f3a"
             ],
             [
              0.8888888888888888,
              "#fdca26"
             ],
             [
              1,
              "#f0f921"
             ]
            ],
            "type": "surface"
           }
          ],
          "table": [
           {
            "cells": {
             "fill": {
              "color": "#EBF0F8"
             },
             "line": {
              "color": "white"
             }
            },
            "header": {
             "fill": {
              "color": "#C8D4E3"
             },
             "line": {
              "color": "white"
             }
            },
            "type": "table"
           }
          ]
         },
         "layout": {
          "annotationdefaults": {
           "arrowcolor": "#2a3f5f",
           "arrowhead": 0,
           "arrowwidth": 1
          },
          "autotypenumbers": "strict",
          "coloraxis": {
           "colorbar": {
            "outlinewidth": 0,
            "ticks": ""
           }
          },
          "colorscale": {
           "diverging": [
            [
             0,
             "#8e0152"
            ],
            [
             0.1,
             "#c51b7d"
            ],
            [
             0.2,
             "#de77ae"
            ],
            [
             0.3,
             "#f1b6da"
            ],
            [
             0.4,
             "#fde0ef"
            ],
            [
             0.5,
             "#f7f7f7"
            ],
            [
             0.6,
             "#e6f5d0"
            ],
            [
             0.7,
             "#b8e186"
            ],
            [
             0.8,
             "#7fbc41"
            ],
            [
             0.9,
             "#4d9221"
            ],
            [
             1,
             "#276419"
            ]
           ],
           "sequential": [
            [
             0,
             "#0d0887"
            ],
            [
             0.1111111111111111,
             "#46039f"
            ],
            [
             0.2222222222222222,
             "#7201a8"
            ],
            [
             0.3333333333333333,
             "#9c179e"
            ],
            [
             0.4444444444444444,
             "#bd3786"
            ],
            [
             0.5555555555555556,
             "#d8576b"
            ],
            [
             0.6666666666666666,
             "#ed7953"
            ],
            [
             0.7777777777777778,
             "#fb9f3a"
            ],
            [
             0.8888888888888888,
             "#fdca26"
            ],
            [
             1,
             "#f0f921"
            ]
           ],
           "sequentialminus": [
            [
             0,
             "#0d0887"
            ],
            [
             0.1111111111111111,
             "#46039f"
            ],
            [
             0.2222222222222222,
             "#7201a8"
            ],
            [
             0.3333333333333333,
             "#9c179e"
            ],
            [
             0.4444444444444444,
             "#bd3786"
            ],
            [
             0.5555555555555556,
             "#d8576b"
            ],
            [
             0.6666666666666666,
             "#ed7953"
            ],
            [
             0.7777777777777778,
             "#fb9f3a"
            ],
            [
             0.8888888888888888,
             "#fdca26"
            ],
            [
             1,
             "#f0f921"
            ]
           ]
          },
          "colorway": [
           "#636efa",
           "#EF553B",
           "#00cc96",
           "#ab63fa",
           "#FFA15A",
           "#19d3f3",
           "#FF6692",
           "#B6E880",
           "#FF97FF",
           "#FECB52"
          ],
          "font": {
           "color": "#2a3f5f"
          },
          "geo": {
           "bgcolor": "white",
           "lakecolor": "white",
           "landcolor": "#E5ECF6",
           "showlakes": true,
           "showland": true,
           "subunitcolor": "white"
          },
          "hoverlabel": {
           "align": "left"
          },
          "hovermode": "closest",
          "mapbox": {
           "style": "light"
          },
          "paper_bgcolor": "white",
          "plot_bgcolor": "#E5ECF6",
          "polar": {
           "angularaxis": {
            "gridcolor": "white",
            "linecolor": "white",
            "ticks": ""
           },
           "bgcolor": "#E5ECF6",
           "radialaxis": {
            "gridcolor": "white",
            "linecolor": "white",
            "ticks": ""
           }
          },
          "scene": {
           "xaxis": {
            "backgroundcolor": "#E5ECF6",
            "gridcolor": "white",
            "gridwidth": 2,
            "linecolor": "white",
            "showbackground": true,
            "ticks": "",
            "zerolinecolor": "white"
           },
           "yaxis": {
            "backgroundcolor": "#E5ECF6",
            "gridcolor": "white",
            "gridwidth": 2,
            "linecolor": "white",
            "showbackground": true,
            "ticks": "",
            "zerolinecolor": "white"
           },
           "zaxis": {
            "backgroundcolor": "#E5ECF6",
            "gridcolor": "white",
            "gridwidth": 2,
            "linecolor": "white",
            "showbackground": true,
            "ticks": "",
            "zerolinecolor": "white"
           }
          },
          "shapedefaults": {
           "line": {
            "color": "#2a3f5f"
           }
          },
          "ternary": {
           "aaxis": {
            "gridcolor": "white",
            "linecolor": "white",
            "ticks": ""
           },
           "baxis": {
            "gridcolor": "white",
            "linecolor": "white",
            "ticks": ""
           },
           "bgcolor": "#E5ECF6",
           "caxis": {
            "gridcolor": "white",
            "linecolor": "white",
            "ticks": ""
           }
          },
          "title": {
           "x": 0.05
          },
          "xaxis": {
           "automargin": true,
           "gridcolor": "white",
           "linecolor": "white",
           "ticks": "",
           "title": {
            "standoff": 15
           },
           "zerolinecolor": "white",
           "zerolinewidth": 2
          },
          "yaxis": {
           "automargin": true,
           "gridcolor": "white",
           "linecolor": "white",
           "ticks": "",
           "title": {
            "standoff": 15
           },
           "zerolinecolor": "white",
           "zerolinewidth": 2
          }
         }
        },
        "xaxis": {
         "anchor": "y",
         "constrain": "domain",
         "domain": [
          0,
          1
         ],
         "scaleanchor": "y",
         "title": {
          "text": "year"
         }
        },
        "yaxis": {
         "anchor": "x",
         "autorange": "reversed",
         "constrain": "domain",
         "domain": [
          0,
          1
         ],
         "title": {
          "text": "country"
         }
        }
       }
      }
     },
     "metadata": {},
     "output_type": "display_data"
    }
   ],
   "source": [
    "# extract the names of the top 20 countries from 2017\n",
    "countries_top_2017 = countries_top_20_2017_per_mil.index\n",
    "# filter the organs_clean data (all years) to these top 20 countries\n",
    "organs_top_countries = organs_clean.query('country in @countries_top_2017').copy()\n",
    "# add the word \"year\" to the year column so that we can use it as a variable name later\n",
    "organs_top_countries[\"year\"] = \"year_\" + organs_top_countries[\"year\"].astype(str)\n",
    "# Add the column proportion of brain death\n",
    "organs_top_countries[\"proportion_brain_death\"] = organs_top_countries[\"deceased_donors_brain_death\"] / organs_top_countries[\"total_deceased_donors_imputed\"]\n",
    "# select just the three columns: year, country, total_deceased_donors_imputed_per_mil\n",
    "brain_death_prop_top_countries = organs_top_countries[[\"year\", \"country\", \"proportion_brain_death\"]]\n",
    "\n",
    "# spread the data across year\n",
    "brain_death_prop_top_countries_wide = (brain_death_prop_top_countries.pivot(\n",
    "    index=\"country\", \n",
    "    columns=\"year\", \n",
    "    values=\"proportion_brain_death\"\n",
    "  ).sort_values(\"year_2017\", ascending=False))\n",
    "px.imshow(brain_death_prop_top_countries_wide, color_continuous_scale=\"Greys\")"
   ]
  },
  {
   "cell_type": "markdown",
   "metadata": {},
   "source": [
    "For the top 20 countries with donor per mil, we can see that around 14 countries still have high proportions of brain dead donors >90%, while the remaining 6 countries (US, Canada, Spain, Belgium, Australia and UK) have had the proportion of brain dead donors to be decreasing over time from 2000 to 2017."
   ]
  },
  {
   "cell_type": "markdown",
   "metadata": {},
   "source": [
    "## [Exercise: to complete] Create a dot plot comparing the organ donation rates for the US and Spain\n",
    "\n",
    "Below you will find some code for creating the data that underlies the dot plot in Exercise 27 of Chapter 6. Use `px.scatter()` to create the dot plot. \n"
   ]
  },
  {
   "cell_type": "code",
   "execution_count": 39,
   "metadata": {},
   "outputs": [
    {
     "data": {
      "text/html": [
       "<div>\n",
       "<style scoped>\n",
       "    .dataframe tbody tr th:only-of-type {\n",
       "        vertical-align: middle;\n",
       "    }\n",
       "\n",
       "    .dataframe tbody tr th {\n",
       "        vertical-align: top;\n",
       "    }\n",
       "\n",
       "    .dataframe thead th {\n",
       "        text-align: right;\n",
       "    }\n",
       "</style>\n",
       "<table border=\"1\" class=\"dataframe\">\n",
       "  <thead>\n",
       "    <tr style=\"text-align: right;\">\n",
       "      <th></th>\n",
       "      <th>country</th>\n",
       "      <th>organ</th>\n",
       "      <th>donation_rate</th>\n",
       "    </tr>\n",
       "  </thead>\n",
       "  <tbody>\n",
       "    <tr>\n",
       "      <th>0</th>\n",
       "      <td>Spain</td>\n",
       "      <td>kidney</td>\n",
       "      <td>70.452586</td>\n",
       "    </tr>\n",
       "    <tr>\n",
       "      <th>1</th>\n",
       "      <td>United States of America</td>\n",
       "      <td>kidney</td>\n",
       "      <td>63.599384</td>\n",
       "    </tr>\n",
       "    <tr>\n",
       "      <th>2</th>\n",
       "      <td>Spain</td>\n",
       "      <td>liver</td>\n",
       "      <td>26.875000</td>\n",
       "    </tr>\n",
       "    <tr>\n",
       "      <th>3</th>\n",
       "      <td>United States of America</td>\n",
       "      <td>liver</td>\n",
       "      <td>24.906009</td>\n",
       "    </tr>\n",
       "    <tr>\n",
       "      <th>4</th>\n",
       "      <td>Spain</td>\n",
       "      <td>heart</td>\n",
       "      <td>6.551724</td>\n",
       "    </tr>\n",
       "    <tr>\n",
       "      <th>5</th>\n",
       "      <td>United States of America</td>\n",
       "      <td>heart</td>\n",
       "      <td>10.086287</td>\n",
       "    </tr>\n",
       "    <tr>\n",
       "      <th>6</th>\n",
       "      <td>Spain</td>\n",
       "      <td>lung</td>\n",
       "      <td>7.823276</td>\n",
       "    </tr>\n",
       "    <tr>\n",
       "      <th>7</th>\n",
       "      <td>United States of America</td>\n",
       "      <td>lung</td>\n",
       "      <td>7.636364</td>\n",
       "    </tr>\n",
       "  </tbody>\n",
       "</table>\n",
       "</div>"
      ],
      "text/plain": [
       "                    country   organ  donation_rate\n",
       "0                     Spain  kidney      70.452586\n",
       "1  United States of America  kidney      63.599384\n",
       "2                     Spain   liver      26.875000\n",
       "3  United States of America   liver      24.906009\n",
       "4                     Spain   heart       6.551724\n",
       "5  United States of America   heart      10.086287\n",
       "6                     Spain    lung       7.823276\n",
       "7  United States of America    lung       7.636364"
      ]
     },
     "execution_count": 39,
     "metadata": {},
     "output_type": "execute_result"
    }
   ],
   "source": [
    "# filter the 2017 data to just the USA and Spain\n",
    "organs_clean_2017_spain_usa = organs_clean_2017.query('country in [\"Spain\", \"United States of America\"]').copy()\n",
    "# compute the donor rates for kidneys, livers, hearts, and lungs for each country\n",
    "organs_clean_2017_spain_usa[\"kidney\"] = organs_clean_2017_spain_usa[\"total_kidney_tx\"] / organs_clean_2017_spain_usa[\"population\"] * 1_000_000\n",
    "organs_clean_2017_spain_usa[\"liver\"] = organs_clean_2017_spain_usa[\"total_liver_tx\"] / organs_clean_2017_spain_usa[\"population\"] * 1_000_000\n",
    "organs_clean_2017_spain_usa[\"heart\"] = organs_clean_2017_spain_usa[\"total_heart_tx\"] / organs_clean_2017_spain_usa[\"population\"] * 1_000_000\n",
    "organs_clean_2017_spain_usa[\"lung\"] = organs_clean_2017_spain_usa[\"total_lung_tx\"] / organs_clean_2017_spain_usa[\"population\"] * 1_000_000\n",
    "# melt the data to long-form\n",
    "organs_clean_2017_spain_usa = organs_clean_2017_spain_usa.melt(id_vars=\"country\", \n",
    "                                                               value_vars=[\"kidney\", \"liver\", \"heart\", \"lung\"], \n",
    "                                                               value_name=\"donation_rate\", \n",
    "                                                               var_name=\"organ\")\n",
    "organs_clean_2017_spain_usa"
   ]
  },
  {
   "cell_type": "code",
   "execution_count": 55,
   "metadata": {},
   "outputs": [
    {
     "data": {
      "application/vnd.plotly.v1+json": {
       "config": {
        "plotlyServerURL": "https://plot.ly"
       },
       "data": [
        {
         "hovertemplate": "<b>%{hovertext}</b><br><br>Country=Spain<br>Donation rate per million=%{x}<br>Organ=%{y}<extra></extra>",
         "hovertext": [
          "Spain",
          "Spain",
          "Spain",
          "Spain"
         ],
         "legendgroup": "Spain",
         "marker": {
          "color": "#636efa",
          "symbol": "circle"
         },
         "mode": "markers",
         "name": "Spain",
         "orientation": "h",
         "showlegend": true,
         "type": "scatter",
         "x": {
          "bdata": "ck8jLPc0GkCOsNzTCEsfQAAAAAAA4DpAc08jLPecUUA=",
          "dtype": "f8"
         },
         "xaxis": "x",
         "y": [
          "heart",
          "lung",
          "liver",
          "kidney"
         ],
         "yaxis": "y"
        },
        {
         "hovertemplate": "<b>%{hovertext}</b><br><br>Country=United States of America<br>Donation rate per million=%{x}<br>Organ=%{y}<extra></extra>",
         "hovertext": [
          "United States of America",
          "United States of America",
          "United States of America",
          "United States of America"
         ],
         "legendgroup": "United States of America",
         "marker": {
          "color": "#EF553B",
          "symbol": "circle"
         },
         "mode": "markers",
         "name": "United States of America",
         "orientation": "h",
         "showlegend": true,
         "type": "scatter",
         "x": {
          "bdata": "jC666KKLHkA1Kq3BLSwkQJYdzTjw5zhA3SWgmrjMT0A=",
          "dtype": "f8"
         },
         "xaxis": "x",
         "y": [
          "lung",
          "heart",
          "liver",
          "kidney"
         ],
         "yaxis": "y"
        }
       ],
       "layout": {
        "legend": {
         "orientation": "h",
         "title": {
          "text": "Country"
         },
         "tracegroupgap": 0,
         "x": 1,
         "xanchor": "right",
         "y": 1.02,
         "yanchor": "bottom"
        },
        "margin": {
         "t": 60
        },
        "template": {
         "data": {
          "bar": [
           {
            "error_x": {
             "color": "#2a3f5f"
            },
            "error_y": {
             "color": "#2a3f5f"
            },
            "marker": {
             "line": {
              "color": "#E5ECF6",
              "width": 0.5
             },
             "pattern": {
              "fillmode": "overlay",
              "size": 10,
              "solidity": 0.2
             }
            },
            "type": "bar"
           }
          ],
          "barpolar": [
           {
            "marker": {
             "line": {
              "color": "#E5ECF6",
              "width": 0.5
             },
             "pattern": {
              "fillmode": "overlay",
              "size": 10,
              "solidity": 0.2
             }
            },
            "type": "barpolar"
           }
          ],
          "carpet": [
           {
            "aaxis": {
             "endlinecolor": "#2a3f5f",
             "gridcolor": "white",
             "linecolor": "white",
             "minorgridcolor": "white",
             "startlinecolor": "#2a3f5f"
            },
            "baxis": {
             "endlinecolor": "#2a3f5f",
             "gridcolor": "white",
             "linecolor": "white",
             "minorgridcolor": "white",
             "startlinecolor": "#2a3f5f"
            },
            "type": "carpet"
           }
          ],
          "choropleth": [
           {
            "colorbar": {
             "outlinewidth": 0,
             "ticks": ""
            },
            "type": "choropleth"
           }
          ],
          "contour": [
           {
            "colorbar": {
             "outlinewidth": 0,
             "ticks": ""
            },
            "colorscale": [
             [
              0,
              "#0d0887"
             ],
             [
              0.1111111111111111,
              "#46039f"
             ],
             [
              0.2222222222222222,
              "#7201a8"
             ],
             [
              0.3333333333333333,
              "#9c179e"
             ],
             [
              0.4444444444444444,
              "#bd3786"
             ],
             [
              0.5555555555555556,
              "#d8576b"
             ],
             [
              0.6666666666666666,
              "#ed7953"
             ],
             [
              0.7777777777777778,
              "#fb9f3a"
             ],
             [
              0.8888888888888888,
              "#fdca26"
             ],
             [
              1,
              "#f0f921"
             ]
            ],
            "type": "contour"
           }
          ],
          "contourcarpet": [
           {
            "colorbar": {
             "outlinewidth": 0,
             "ticks": ""
            },
            "type": "contourcarpet"
           }
          ],
          "heatmap": [
           {
            "colorbar": {
             "outlinewidth": 0,
             "ticks": ""
            },
            "colorscale": [
             [
              0,
              "#0d0887"
             ],
             [
              0.1111111111111111,
              "#46039f"
             ],
             [
              0.2222222222222222,
              "#7201a8"
             ],
             [
              0.3333333333333333,
              "#9c179e"
             ],
             [
              0.4444444444444444,
              "#bd3786"
             ],
             [
              0.5555555555555556,
              "#d8576b"
             ],
             [
              0.6666666666666666,
              "#ed7953"
             ],
             [
              0.7777777777777778,
              "#fb9f3a"
             ],
             [
              0.8888888888888888,
              "#fdca26"
             ],
             [
              1,
              "#f0f921"
             ]
            ],
            "type": "heatmap"
           }
          ],
          "histogram": [
           {
            "marker": {
             "pattern": {
              "fillmode": "overlay",
              "size": 10,
              "solidity": 0.2
             }
            },
            "type": "histogram"
           }
          ],
          "histogram2d": [
           {
            "colorbar": {
             "outlinewidth": 0,
             "ticks": ""
            },
            "colorscale": [
             [
              0,
              "#0d0887"
             ],
             [
              0.1111111111111111,
              "#46039f"
             ],
             [
              0.2222222222222222,
              "#7201a8"
             ],
             [
              0.3333333333333333,
              "#9c179e"
             ],
             [
              0.4444444444444444,
              "#bd3786"
             ],
             [
              0.5555555555555556,
              "#d8576b"
             ],
             [
              0.6666666666666666,
              "#ed7953"
             ],
             [
              0.7777777777777778,
              "#fb9f3a"
             ],
             [
              0.8888888888888888,
              "#fdca26"
             ],
             [
              1,
              "#f0f921"
             ]
            ],
            "type": "histogram2d"
           }
          ],
          "histogram2dcontour": [
           {
            "colorbar": {
             "outlinewidth": 0,
             "ticks": ""
            },
            "colorscale": [
             [
              0,
              "#0d0887"
             ],
             [
              0.1111111111111111,
              "#46039f"
             ],
             [
              0.2222222222222222,
              "#7201a8"
             ],
             [
              0.3333333333333333,
              "#9c179e"
             ],
             [
              0.4444444444444444,
              "#bd3786"
             ],
             [
              0.5555555555555556,
              "#d8576b"
             ],
             [
              0.6666666666666666,
              "#ed7953"
             ],
             [
              0.7777777777777778,
              "#fb9f3a"
             ],
             [
              0.8888888888888888,
              "#fdca26"
             ],
             [
              1,
              "#f0f921"
             ]
            ],
            "type": "histogram2dcontour"
           }
          ],
          "mesh3d": [
           {
            "colorbar": {
             "outlinewidth": 0,
             "ticks": ""
            },
            "type": "mesh3d"
           }
          ],
          "parcoords": [
           {
            "line": {
             "colorbar": {
              "outlinewidth": 0,
              "ticks": ""
             }
            },
            "type": "parcoords"
           }
          ],
          "pie": [
           {
            "automargin": true,
            "type": "pie"
           }
          ],
          "scatter": [
           {
            "fillpattern": {
             "fillmode": "overlay",
             "size": 10,
             "solidity": 0.2
            },
            "type": "scatter"
           }
          ],
          "scatter3d": [
           {
            "line": {
             "colorbar": {
              "outlinewidth": 0,
              "ticks": ""
             }
            },
            "marker": {
             "colorbar": {
              "outlinewidth": 0,
              "ticks": ""
             }
            },
            "type": "scatter3d"
           }
          ],
          "scattercarpet": [
           {
            "marker": {
             "colorbar": {
              "outlinewidth": 0,
              "ticks": ""
             }
            },
            "type": "scattercarpet"
           }
          ],
          "scattergeo": [
           {
            "marker": {
             "colorbar": {
              "outlinewidth": 0,
              "ticks": ""
             }
            },
            "type": "scattergeo"
           }
          ],
          "scattergl": [
           {
            "marker": {
             "colorbar": {
              "outlinewidth": 0,
              "ticks": ""
             }
            },
            "type": "scattergl"
           }
          ],
          "scattermap": [
           {
            "marker": {
             "colorbar": {
              "outlinewidth": 0,
              "ticks": ""
             }
            },
            "type": "scattermap"
           }
          ],
          "scattermapbox": [
           {
            "marker": {
             "colorbar": {
              "outlinewidth": 0,
              "ticks": ""
             }
            },
            "type": "scattermapbox"
           }
          ],
          "scatterpolar": [
           {
            "marker": {
             "colorbar": {
              "outlinewidth": 0,
              "ticks": ""
             }
            },
            "type": "scatterpolar"
           }
          ],
          "scatterpolargl": [
           {
            "marker": {
             "colorbar": {
              "outlinewidth": 0,
              "ticks": ""
             }
            },
            "type": "scatterpolargl"
           }
          ],
          "scatterternary": [
           {
            "marker": {
             "colorbar": {
              "outlinewidth": 0,
              "ticks": ""
             }
            },
            "type": "scatterternary"
           }
          ],
          "surface": [
           {
            "colorbar": {
             "outlinewidth": 0,
             "ticks": ""
            },
            "colorscale": [
             [
              0,
              "#0d0887"
             ],
             [
              0.1111111111111111,
              "#46039f"
             ],
             [
              0.2222222222222222,
              "#7201a8"
             ],
             [
              0.3333333333333333,
              "#9c179e"
             ],
             [
              0.4444444444444444,
              "#bd3786"
             ],
             [
              0.5555555555555556,
              "#d8576b"
             ],
             [
              0.6666666666666666,
              "#ed7953"
             ],
             [
              0.7777777777777778,
              "#fb9f3a"
             ],
             [
              0.8888888888888888,
              "#fdca26"
             ],
             [
              1,
              "#f0f921"
             ]
            ],
            "type": "surface"
           }
          ],
          "table": [
           {
            "cells": {
             "fill": {
              "color": "#EBF0F8"
             },
             "line": {
              "color": "white"
             }
            },
            "header": {
             "fill": {
              "color": "#C8D4E3"
             },
             "line": {
              "color": "white"
             }
            },
            "type": "table"
           }
          ]
         },
         "layout": {
          "annotationdefaults": {
           "arrowcolor": "#2a3f5f",
           "arrowhead": 0,
           "arrowwidth": 1
          },
          "autotypenumbers": "strict",
          "coloraxis": {
           "colorbar": {
            "outlinewidth": 0,
            "ticks": ""
           }
          },
          "colorscale": {
           "diverging": [
            [
             0,
             "#8e0152"
            ],
            [
             0.1,
             "#c51b7d"
            ],
            [
             0.2,
             "#de77ae"
            ],
            [
             0.3,
             "#f1b6da"
            ],
            [
             0.4,
             "#fde0ef"
            ],
            [
             0.5,
             "#f7f7f7"
            ],
            [
             0.6,
             "#e6f5d0"
            ],
            [
             0.7,
             "#b8e186"
            ],
            [
             0.8,
             "#7fbc41"
            ],
            [
             0.9,
             "#4d9221"
            ],
            [
             1,
             "#276419"
            ]
           ],
           "sequential": [
            [
             0,
             "#0d0887"
            ],
            [
             0.1111111111111111,
             "#46039f"
            ],
            [
             0.2222222222222222,
             "#7201a8"
            ],
            [
             0.3333333333333333,
             "#9c179e"
            ],
            [
             0.4444444444444444,
             "#bd3786"
            ],
            [
             0.5555555555555556,
             "#d8576b"
            ],
            [
             0.6666666666666666,
             "#ed7953"
            ],
            [
             0.7777777777777778,
             "#fb9f3a"
            ],
            [
             0.8888888888888888,
             "#fdca26"
            ],
            [
             1,
             "#f0f921"
            ]
           ],
           "sequentialminus": [
            [
             0,
             "#0d0887"
            ],
            [
             0.1111111111111111,
             "#46039f"
            ],
            [
             0.2222222222222222,
             "#7201a8"
            ],
            [
             0.3333333333333333,
             "#9c179e"
            ],
            [
             0.4444444444444444,
             "#bd3786"
            ],
            [
             0.5555555555555556,
             "#d8576b"
            ],
            [
             0.6666666666666666,
             "#ed7953"
            ],
            [
             0.7777777777777778,
             "#fb9f3a"
            ],
            [
             0.8888888888888888,
             "#fdca26"
            ],
            [
             1,
             "#f0f921"
            ]
           ]
          },
          "colorway": [
           "#636efa",
           "#EF553B",
           "#00cc96",
           "#ab63fa",
           "#FFA15A",
           "#19d3f3",
           "#FF6692",
           "#B6E880",
           "#FF97FF",
           "#FECB52"
          ],
          "font": {
           "color": "#2a3f5f"
          },
          "geo": {
           "bgcolor": "white",
           "lakecolor": "white",
           "landcolor": "#E5ECF6",
           "showlakes": true,
           "showland": true,
           "subunitcolor": "white"
          },
          "hoverlabel": {
           "align": "left"
          },
          "hovermode": "closest",
          "mapbox": {
           "style": "light"
          },
          "paper_bgcolor": "white",
          "plot_bgcolor": "#E5ECF6",
          "polar": {
           "angularaxis": {
            "gridcolor": "white",
            "linecolor": "white",
            "ticks": ""
           },
           "bgcolor": "#E5ECF6",
           "radialaxis": {
            "gridcolor": "white",
            "linecolor": "white",
            "ticks": ""
           }
          },
          "scene": {
           "xaxis": {
            "backgroundcolor": "#E5ECF6",
            "gridcolor": "white",
            "gridwidth": 2,
            "linecolor": "white",
            "showbackground": true,
            "ticks": "",
            "zerolinecolor": "white"
           },
           "yaxis": {
            "backgroundcolor": "#E5ECF6",
            "gridcolor": "white",
            "gridwidth": 2,
            "linecolor": "white",
            "showbackground": true,
            "ticks": "",
            "zerolinecolor": "white"
           },
           "zaxis": {
            "backgroundcolor": "#E5ECF6",
            "gridcolor": "white",
            "gridwidth": 2,
            "linecolor": "white",
            "showbackground": true,
            "ticks": "",
            "zerolinecolor": "white"
           }
          },
          "shapedefaults": {
           "line": {
            "color": "#2a3f5f"
           }
          },
          "ternary": {
           "aaxis": {
            "gridcolor": "white",
            "linecolor": "white",
            "ticks": ""
           },
           "baxis": {
            "gridcolor": "white",
            "linecolor": "white",
            "ticks": ""
           },
           "bgcolor": "#E5ECF6",
           "caxis": {
            "gridcolor": "white",
            "linecolor": "white",
            "ticks": ""
           }
          },
          "title": {
           "x": 0.05
          },
          "xaxis": {
           "automargin": true,
           "gridcolor": "white",
           "linecolor": "white",
           "ticks": "",
           "title": {
            "standoff": 15
           },
           "zerolinecolor": "white",
           "zerolinewidth": 2
          },
          "yaxis": {
           "automargin": true,
           "gridcolor": "white",
           "linecolor": "white",
           "ticks": "",
           "title": {
            "standoff": 15
           },
           "zerolinecolor": "white",
           "zerolinewidth": 2
          }
         }
        },
        "xaxis": {
         "anchor": "y",
         "domain": [
          0,
          1
         ],
         "title": {
          "text": "Donation rate per million"
         }
        },
        "yaxis": {
         "anchor": "x",
         "domain": [
          0,
          1
         ],
         "title": {
          "text": "Organ"
         }
        }
       }
      }
     },
     "metadata": {},
     "output_type": "display_data"
    }
   ],
   "source": [
    "fig = px.scatter(organs_clean_2017_spain_usa.sort_values(\"donation_rate\"),\n",
    "           x=\"donation_rate\",\n",
    "           y=\"organ\",\n",
    "           color=\"country\",\n",
    "           hover_name=\"country\",\n",
    "           labels={\"donation_rate\": \"Donation rate per million\",\n",
    "                   \"organ\": \"Organ\",\n",
    "                   \"country\": \"Country\"})\n",
    "# Update the legend to be on top of the plot\n",
    "fig.update_layout(legend=dict(\n",
    "    orientation=\"h\",\n",
    "    yanchor=\"bottom\",\n",
    "    y=1.02,\n",
    "    xanchor=\"right\",\n",
    "    x=1\n",
    "))\n",
    "fig.show()"
   ]
  },
  {
   "cell_type": "markdown",
   "metadata": {},
   "source": [
    "From the graph we can see that while Spain has more donations that USA for kidnyes, liver and (slightly) lung. America seem to have higher donation rates for heart."
   ]
  },
  {
   "cell_type": "code",
   "execution_count": null,
   "metadata": {},
   "outputs": [],
   "source": []
  },
  {
   "attachments": {},
   "cell_type": "markdown",
   "metadata": {},
   "source": [
    "\n",
    "\n",
    "## Additional explorations\n",
    "\n",
    "There are many more explorations that you could include in this document if you are editing it yourself (we've only included the ones that appeared in the EDA book chapter), and if you're interested in challenging yourself we encourage you to add a few additional exploration sections to this document.\n",
    "\n",
    "Start by thinking of a question you have about a data trend or relationship. Perhaps it is related to some of the organ-specific transplant variables that we haven't explored, or perhaps you even want to bring in some external data (such as GDP) to explore whether there is a relationship between GDP and organ donation rates. There are almost infinite avenues that you can explore!\n"
   ]
  },
  {
   "cell_type": "markdown",
   "metadata": {},
   "source": []
  },
  {
   "cell_type": "markdown",
   "metadata": {},
   "source": []
  },
  {
   "cell_type": "markdown",
   "metadata": {},
   "source": []
  }
 ],
 "metadata": {
  "kernelspec": {
   "display_name": ".venv (3.12.8)",
   "language": "python",
   "name": "python3"
  },
  "language_info": {
   "codemirror_mode": {
    "name": "ipython",
    "version": 3
   },
   "file_extension": ".py",
   "mimetype": "text/x-python",
   "name": "python",
   "nbconvert_exporter": "python",
   "pygments_lexer": "ipython3",
   "version": "3.12.8"
  },
  "orig_nbformat": 4
 },
 "nbformat": 4,
 "nbformat_minor": 2
}
