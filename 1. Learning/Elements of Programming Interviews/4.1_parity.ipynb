{
 "cells": [
  {
   "cell_type": "code",
   "execution_count": null,
   "id": "bc5693d3",
   "metadata": {},
   "outputs": [],
   "source": []
  },
  {
   "cell_type": "markdown",
   "id": "3a44808a",
   "metadata": {},
   "source": [
    "Right propagate the right most set bit in x, <br>\n",
    "e.g., turn $(01010000)_2$ to $(01011111)_2$."
   ]
  },
  {
   "cell_type": "code",
   "execution_count": null,
   "id": "5b0bade3",
   "metadata": {},
   "outputs": [],
   "source": [
    "def right_parity(x):\n",
    "    return x | (x-1)"
   ]
  },
  {
   "cell_type": "code",
   "execution_count": 8,
   "id": "eb0c9b42",
   "metadata": {},
   "outputs": [
    {
     "data": {
      "text/plain": [
       "7"
      ]
     },
     "execution_count": 8,
     "metadata": {},
     "output_type": "execute_result"
    }
   ],
   "source": [
    "right_parity(4)"
   ]
  },
  {
   "cell_type": "code",
   "execution_count": 7,
   "id": "213c9c8a",
   "metadata": {},
   "outputs": [
    {
     "data": {
      "text/plain": [
       "103"
      ]
     },
     "execution_count": 7,
     "metadata": {},
     "output_type": "execute_result"
    }
   ],
   "source": [
    "right_parity(100)"
   ]
  },
  {
   "cell_type": "markdown",
   "id": "e9ba1170",
   "metadata": {},
   "source": [
    "Compute x mod (remainder) a power of two, e.g., returns 13 for 77 mod 64.\n",
    "\n",
    "77 - 01001101 <br>\n",
    "64 - 01000000 <br>\n",
    "16 - 00010000"
   ]
  },
  {
   "cell_type": "code",
   "execution_count": 12,
   "id": "e8c923b3",
   "metadata": {},
   "outputs": [],
   "source": [
    "def mod_power_of_2(x, power):\n",
    "    return x & ((1 << power)-1)"
   ]
  },
  {
   "cell_type": "code",
   "execution_count": 14,
   "id": "1f49d43b",
   "metadata": {},
   "outputs": [
    {
     "data": {
      "text/plain": [
       "5"
      ]
     },
     "execution_count": 14,
     "metadata": {},
     "output_type": "execute_result"
    }
   ],
   "source": [
    "mod_power_of_2(77,3)"
   ]
  },
  {
   "cell_type": "markdown",
   "id": "a27195e4",
   "metadata": {},
   "source": [
    "Test if x is a power of 2, i.e., evaluates to true for x=1,2,4,8,..., false for all other values.\n",
    "\n",
    "1 - 0001 <br>\n",
    "2 - 0010 <br>\n",
    "4 - 0100 <br>\n",
    "8 - 1000 <br>"
   ]
  },
  {
   "cell_type": "code",
   "execution_count": 21,
   "id": "f2888f92",
   "metadata": {},
   "outputs": [],
   "source": [
    "def power_of_2 (x):\n",
    "    return (x & (x-1)) == 0"
   ]
  },
  {
   "cell_type": "code",
   "execution_count": 22,
   "id": "925773ec",
   "metadata": {},
   "outputs": [
    {
     "data": {
      "text/plain": [
       "True"
      ]
     },
     "execution_count": 22,
     "metadata": {},
     "output_type": "execute_result"
    }
   ],
   "source": [
    "power_of_2(8)"
   ]
  },
  {
   "cell_type": "code",
   "execution_count": 25,
   "id": "266ad329",
   "metadata": {},
   "outputs": [
    {
     "data": {
      "text/plain": [
       "False"
      ]
     },
     "execution_count": 25,
     "metadata": {},
     "output_type": "execute_result"
    }
   ],
   "source": [
    "power_of_2(5)"
   ]
  },
  {
   "cell_type": "code",
   "execution_count": null,
   "id": "6ed2498a",
   "metadata": {},
   "outputs": [],
   "source": []
  }
 ],
 "metadata": {
  "kernelspec": {
   "display_name": ".venv (3.12.8)",
   "language": "python",
   "name": "python3"
  },
  "language_info": {
   "codemirror_mode": {
    "name": "ipython",
    "version": 3
   },
   "file_extension": ".py",
   "mimetype": "text/x-python",
   "name": "python",
   "nbconvert_exporter": "python",
   "pygments_lexer": "ipython3",
   "version": "3.12.8"
  }
 },
 "nbformat": 4,
 "nbformat_minor": 5
}
