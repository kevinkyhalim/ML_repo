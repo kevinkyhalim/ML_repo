{
 "cells": [
  {
   "cell_type": "markdown",
   "id": "f39d91cf",
   "metadata": {},
   "source": [
    "Generalizing, if the least significant bit of y is 0, the result is $(x^{y/2})^2$ otherwise, it is $x * (x^{y/2})^2$. <br>\n",
    "This gives us a recursive algorithm for computing $x^y$ when y is nonnegative.\n",
    "\n",
    "The only change when y is negative is replacing x by $1/x$ and y by -y. <br>\n",
    "In the implementation below we replace the recursion with a while loop to avoid the overhead of function calls."
   ]
  },
  {
   "cell_type": "code",
   "execution_count": 1,
   "id": "283c33bf",
   "metadata": {},
   "outputs": [],
   "source": [
    "def power (x , y) :\n",
    "    result, power = 1.0, y\n",
    "    if y<0:\n",
    "        power,x=-power,1.0/x\n",
    "    while power:\n",
    "        if power & 1:\n",
    "            result *= x\n",
    "        x, power = x * x, power >> 1\n",
    "    return result"
   ]
  },
  {
   "cell_type": "code",
   "execution_count": 2,
   "id": "417f9c50",
   "metadata": {},
   "outputs": [
    {
     "data": {
      "text/plain": [
       "32.0"
      ]
     },
     "execution_count": 2,
     "metadata": {},
     "output_type": "execute_result"
    }
   ],
   "source": [
    "power(2, 5)"
   ]
  },
  {
   "cell_type": "code",
   "execution_count": 4,
   "id": "f270ff6e",
   "metadata": {},
   "outputs": [
    {
     "data": {
      "text/plain": [
       "1.6900000000000002"
      ]
     },
     "execution_count": 4,
     "metadata": {},
     "output_type": "execute_result"
    }
   ],
   "source": [
    "power(1.3, 2)"
   ]
  },
  {
   "cell_type": "markdown",
   "id": "d7435610",
   "metadata": {},
   "source": [
    "Review how fractions are being assigned in binary!"
   ]
  },
  {
   "cell_type": "markdown",
   "id": "4e8ff39c",
   "metadata": {},
   "source": []
  }
 ],
 "metadata": {
  "kernelspec": {
   "display_name": ".venv (3.12.8)",
   "language": "python",
   "name": "python3"
  },
  "language_info": {
   "codemirror_mode": {
    "name": "ipython",
    "version": 3
   },
   "file_extension": ".py",
   "mimetype": "text/x-python",
   "name": "python",
   "nbconvert_exporter": "python",
   "pygments_lexer": "ipython3",
   "version": "3.12.8"
  }
 },
 "nbformat": 4,
 "nbformat_minor": 5
}
