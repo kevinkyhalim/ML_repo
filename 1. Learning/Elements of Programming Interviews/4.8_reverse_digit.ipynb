{
 "cells": [
  {
   "cell_type": "markdown",
   "id": "b4bd1d65",
   "metadata": {},
   "source": [
    "No need to use the bit operators here"
   ]
  },
  {
   "cell_type": "code",
   "execution_count": null,
   "id": "98370e21",
   "metadata": {},
   "outputs": [],
   "source": [
    "def reverse(x):\n",
    "    result , remaining = 0 , abs(x)\n",
    "    while remaining:\n",
    "        result = result * 10 + remaining % 10\n",
    "        remaining //= 10\n",
    "    return -result if x < 0 else result"
   ]
  },
  {
   "cell_type": "code",
   "execution_count": 3,
   "id": "ec1ca4a6",
   "metadata": {},
   "outputs": [
    {
     "data": {
      "text/plain": [
       "44"
      ]
     },
     "execution_count": 3,
     "metadata": {},
     "output_type": "execute_result"
    }
   ],
   "source": [
    "reverse(44)"
   ]
  },
  {
   "cell_type": "code",
   "execution_count": 4,
   "id": "08bc5ca1",
   "metadata": {},
   "outputs": [
    {
     "data": {
      "text/plain": [
       "3211"
      ]
     },
     "execution_count": 4,
     "metadata": {},
     "output_type": "execute_result"
    }
   ],
   "source": [
    "reverse(1123)"
   ]
  },
  {
   "cell_type": "code",
   "execution_count": 5,
   "id": "7eff75c8",
   "metadata": {},
   "outputs": [
    {
     "data": {
      "text/plain": [
       "-315"
      ]
     },
     "execution_count": 5,
     "metadata": {},
     "output_type": "execute_result"
    }
   ],
   "source": [
    "reverse(-513)"
   ]
  },
  {
   "cell_type": "code",
   "execution_count": null,
   "id": "13d182d8",
   "metadata": {},
   "outputs": [],
   "source": []
  }
 ],
 "metadata": {
  "kernelspec": {
   "display_name": ".venv (3.12.8)",
   "language": "python",
   "name": "python3"
  },
  "language_info": {
   "codemirror_mode": {
    "name": "ipython",
    "version": 3
   },
   "file_extension": ".py",
   "mimetype": "text/x-python",
   "name": "python",
   "nbconvert_exporter": "python",
   "pygments_lexer": "ipython3",
   "version": "3.12.8"
  }
 },
 "nbformat": 4,
 "nbformat_minor": 5
}
