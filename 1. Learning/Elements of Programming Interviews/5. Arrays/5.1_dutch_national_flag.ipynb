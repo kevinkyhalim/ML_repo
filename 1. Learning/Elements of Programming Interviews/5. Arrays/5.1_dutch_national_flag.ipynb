{
 "cells": [
  {
   "cell_type": "code",
   "execution_count": null,
   "id": "51176161",
   "metadata": {},
   "outputs": [],
   "source": [
    "def dutch_flag(array, pivot_index):\n",
    "    pivot = array[pivot_index]\n",
    "\n",
    "    # first pass\n",
    "    for i in range(len(array)):\n",
    "        # Look for a smaller element\n",
    "        for j in range(i + 1, len(array)):\n",
    "            if array[j] < pivot:\n",
    "                array[i], array[j] = array[j], array[i]\n",
    "                break\n",
    "\n",
    "    # second pass\n",
    "    for i in reversed(range(len(array))):\n",
    "        if array[i] < pivot:\n",
    "            break\n",
    "        # Look for larger element. Stop when we reach an element less than the pivot\n",
    "        # since all element less than the pivot has been moved to the front\n",
    "        for j in reversed(range(i)):\n",
    "            # notice how this will basically keep the leftmost value above the pivot\n",
    "            # as the right most value in the end\n",
    "            if array[j] > pivot:\n",
    "                array[i], array[j] = array[j], array[i]\n",
    "    return pivot, array"
   ]
  },
  {
   "cell_type": "code",
   "execution_count": 18,
   "id": "edc81f3c",
   "metadata": {},
   "outputs": [
    {
     "data": {
      "text/plain": [
       "(0, [0, 0, 2, 2, 1, 2, 1])"
      ]
     },
     "execution_count": 18,
     "metadata": {},
     "output_type": "execute_result"
    }
   ],
   "source": [
    "A = [0,1,2,0,1,2,2]\n",
    "dutch_flag(A, 3)"
   ]
  },
  {
   "cell_type": "code",
   "execution_count": 19,
   "id": "884086e4",
   "metadata": {},
   "outputs": [
    {
     "data": {
      "text/plain": [
       "(2, [1, 0, 0, 1, 2, 2, 2])"
      ]
     },
     "execution_count": 19,
     "metadata": {},
     "output_type": "execute_result"
    }
   ],
   "source": [
    "A = [0,1,2,0,1,2,2]\n",
    "dutch_flag(A, 2)"
   ]
  },
  {
   "cell_type": "code",
   "execution_count": 20,
   "id": "6a9fd9b0",
   "metadata": {},
   "outputs": [
    {
     "data": {
      "text/plain": [
       "(1, [0, 0, 1, 1, 2, 2, 2])"
      ]
     },
     "execution_count": 20,
     "metadata": {},
     "output_type": "execute_result"
    }
   ],
   "source": [
    "A = [0,1,2,0,1,2,2]\n",
    "dutch_flag(A, 1)"
   ]
  },
  {
   "cell_type": "code",
   "execution_count": 22,
   "id": "db3a7c6e",
   "metadata": {},
   "outputs": [
    {
     "data": {
      "text/plain": [
       "(1, [0, 0, 1, 1, 2, 2, 5, 4])"
      ]
     },
     "execution_count": 22,
     "metadata": {},
     "output_type": "execute_result"
    }
   ],
   "source": [
    "A = [0,1,4,5,0,1,2,2]\n",
    "dutch_flag(A, 1)"
   ]
  },
  {
   "cell_type": "code",
   "execution_count": null,
   "id": "92a0e09f",
   "metadata": {},
   "outputs": [
    {
     "data": {
      "text/plain": [
       "(1, [0, 0, 1, 1, 2, 2, 5, 3, 4])"
      ]
     },
     "execution_count": 23,
     "metadata": {},
     "output_type": "execute_result"
    }
   ],
   "source": [
    "A = [0,1,4,3,5,0,1,2,2]\n",
    "dutch_flag(A, 1)"
   ]
  },
  {
   "cell_type": "code",
   "execution_count": 24,
   "id": "18a94f26",
   "metadata": {},
   "outputs": [],
   "source": [
    "# improved time complexity\n",
    "def dutch_flag_ver2(array, pivot_index):\n",
    "    pivot = array[pivot_index]\n",
    "    # First pass: group elements smaller than the pivot\n",
    "    smaller = 0 \n",
    "    for i in range(len(array)):\n",
    "        if array[i] < pivot:\n",
    "            array[i], array[smaller] = array[smaller], array[i]\n",
    "            smaller += 1\n",
    "    # Second pass: group elements larger than the pivot\n",
    "    larger = len(array) - 1\n",
    "    for i in reversed(range(len(array))):\n",
    "        if array[i] < pivot:\n",
    "            break\n",
    "        elif array[i] > pivot:\n",
    "            array[i], array[larger] = array[larger], array[i]\n",
    "            larger -= 1\n",
    "    return pivot, array"
   ]
  },
  {
   "cell_type": "code",
   "execution_count": 27,
   "id": "3c53fbeb",
   "metadata": {},
   "outputs": [
    {
     "data": {
      "text/plain": [
       "(1, [0, 0, 1, 1, 4, 3, 5, 2, 2])"
      ]
     },
     "execution_count": 27,
     "metadata": {},
     "output_type": "execute_result"
    }
   ],
   "source": [
    "A = [0,1,4,3,5,0,1,2,2]\n",
    "dutch_flag_ver2(A, 1)"
   ]
  },
  {
   "cell_type": "code",
   "execution_count": 30,
   "id": "91a3ba1b",
   "metadata": {},
   "outputs": [
    {
     "data": {
      "text/plain": [
       "(2, [0, 1, 0, 1, 2, 2, 5, 4, 3])"
      ]
     },
     "execution_count": 30,
     "metadata": {},
     "output_type": "execute_result"
    }
   ],
   "source": [
    "A = [0,1,4,3,5,0,1,2,2]\n",
    "dutch_flag_ver2(A, 7)"
   ]
  },
  {
   "cell_type": "code",
   "execution_count": null,
   "id": "4a35f344",
   "metadata": {},
   "outputs": [],
   "source": []
  }
 ],
 "metadata": {
  "kernelspec": {
   "display_name": ".venv (3.12.8)",
   "language": "python",
   "name": "python3"
  },
  "language_info": {
   "codemirror_mode": {
    "name": "ipython",
    "version": 3
   },
   "file_extension": ".py",
   "mimetype": "text/x-python",
   "name": "python",
   "nbconvert_exporter": "python",
   "pygments_lexer": "ipython3",
   "version": "3.12.8"
  }
 },
 "nbformat": 4,
 "nbformat_minor": 5
}
