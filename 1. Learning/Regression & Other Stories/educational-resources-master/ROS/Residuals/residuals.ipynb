{
 "cells": [
  {
   "cell_type": "markdown",
   "metadata": {},
   "source": [
    "# Regression and Other Stories: Residuals\n",
    "Plotting the data and fitted model. See Chapter 11 in Regression and Other Stories."
   ]
  },
  {
   "cell_type": "code",
   "execution_count": 2,
   "metadata": {},
   "outputs": [
    {
     "name": "stderr",
     "output_type": "stream",
     "text": [
      "WARNING (theano.configdefaults): install mkl with `conda install mkl-service`: No module named 'mkl'\n",
      "WARNING (theano.tensor.blas): Using NumPy C-API based implementation for BLAS functions.\n"
     ]
    }
   ],
   "source": [
    "import arviz as az\n",
    "from bambi import Model\n",
    "import pandas as pd\n",
    "import numpy as np\n",
    "import matplotlib.pyplot as plt\n",
    "from scipy import stats\n",
    "import statsmodels.formula.api as smf"
   ]
  },
  {
   "cell_type": "markdown",
   "metadata": {},
   "source": [
    "### Fake Data"
   ]
  },
  {
   "cell_type": "code",
   "execution_count": 12,
   "metadata": {},
   "outputs": [],
   "source": [
    "N = 100\n",
    "x = stats.uniform(0, 1).rvs(N)\n",
    "z = np.random.choice((0, 1),N, replace=True)\n",
    "a = 1\n",
    "b = 2\n",
    "theta = 5\n",
    "sigma = 2\n",
    "y = a + b*x + theta*z + stats.norm(0, sigma).rvs(N)\n",
    "fake = pd.DataFrame(dict(x=x, y=y, z=z))"
   ]
  },
  {
   "cell_type": "markdown",
   "metadata": {},
   "source": [
    "### Model"
   ]
  },
  {
   "cell_type": "code",
   "execution_count": 37,
   "metadata": {},
   "outputs": [
    {
     "name": "stderr",
     "output_type": "stream",
     "text": [
      "Auto-assigning NUTS sampler...\n",
      "INFO:pymc3:Auto-assigning NUTS sampler...\n",
      "Initializing NUTS using jitter+adapt_diag...\n",
      "INFO:pymc3:Initializing NUTS using jitter+adapt_diag...\n",
      "Multiprocess sampling (4 chains in 4 jobs)\n",
      "INFO:pymc3:Multiprocess sampling (4 chains in 4 jobs)\n",
      "NUTS: [y_sd, z, x, Intercept]\n",
      "INFO:pymc3:NUTS: [y_sd, z, x, Intercept]\n"
     ]
    },
    {
     "data": {
      "text/html": [
       "\n",
       "    <div>\n",
       "        <style>\n",
       "            /* Turns off some styling */\n",
       "            progress {\n",
       "                /* gets rid of default border in Firefox and Opera. */\n",
       "                border: none;\n",
       "                /* Needs to be in here for Safari polyfill so background images work as expected. */\n",
       "                background-size: auto;\n",
       "            }\n",
       "            .progress-bar-interrupted, .progress-bar-interrupted::-webkit-progress-bar {\n",
       "                background: #F44336;\n",
       "            }\n",
       "        </style>\n",
       "      <progress value='8000' class='' max='8000' style='width:300px; height:20px; vertical-align: middle;'></progress>\n",
       "      100.00% [8000/8000 00:03<00:00 Sampling 4 chains, 0 divergences]\n",
       "    </div>\n",
       "    "
      ],
      "text/plain": [
       "<IPython.core.display.HTML object>"
      ]
     },
     "metadata": {},
     "output_type": "display_data"
    },
    {
     "name": "stderr",
     "output_type": "stream",
     "text": [
      "Sampling 4 chains for 1_000 tune and 1_000 draw iterations (4_000 + 4_000 draws total) took 4 seconds.\n",
      "INFO:pymc3:Sampling 4 chains for 1_000 tune and 1_000 draw iterations (4_000 + 4_000 draws total) took 4 seconds.\n",
      "/opt/conda/lib/python3.8/site-packages/arviz/data/io_pymc3.py:85: FutureWarning: Using `from_pymc3` without the model will be deprecated in a future release. Not using the model will return less accurate and less useful results. Make sure you use the model argument or call from_pymc3 within a model context.\n",
      "  warnings.warn(\n"
     ]
    }
   ],
   "source": [
    "model = Model(fake)\n",
    "results = model.fit('y ~ x + z', samples=1000, chains=4)"
   ]
  },
  {
   "cell_type": "code",
   "execution_count": 43,
   "metadata": {},
   "outputs": [
    {
     "data": {
      "text/plain": [
       "{'Intercept': {'dims': (), 'attrs': {}, 'data': -0.3544611591985709},\n",
       " 'x': {'dims': (), 'attrs': {}, 'data': 3.7649086862174137},\n",
       " 'z': {'dims': (), 'attrs': {}, 'data': 5.28612767522082},\n",
       " 'y_sd': {'dims': (), 'attrs': {}, 'data': 2.0019370729701684}}"
      ]
     },
     "execution_count": 43,
     "metadata": {},
     "output_type": "execute_result"
    }
   ],
   "source": [
    "coefs = results.posterior.median().to_dict()[\"data_vars\"]\n",
    "coefs"
   ]
  },
  {
   "cell_type": "markdown",
   "metadata": {},
   "source": [
    "### Plot Predictor vs Outcome"
   ]
  },
  {
   "cell_type": "code",
   "execution_count": 44,
   "metadata": {},
   "outputs": [
    {
     "data": {
      "image/png": "[encoded data removed]",
      "text/plain": [
       "<Figure size 720x432 with 2 Axes>"
      ]
     },
     "metadata": {
      "needs_background": "light"
     },
     "output_type": "display_data"
    }
   ],
   "source": [
    "fig, axes = plt.subplots(1,2, figsize=(10, 6), sharey=True)\n",
    "x_domain = np.linspace(0,1, 100)\n",
    "\n",
    "for i in range(2):\n",
    "    fake[fake[\"z\"]==i].plot(x=\"x\", y=\"y\", kind=\"scatter\", ax=axes[i])\n",
    "    axes[i].set_xlabel(\"Pre-treatment predictor, x\")\n",
    "    axes[i].set_ylabel(\"Outcome, y\")\n",
    "    axes[i].set_title(f\"z ={i}\")\n",
    "    \n",
    "    # TODO: Verify this is correct\n",
    "    axes[i].plot(x, coefs[\"Intercept\"][\"data\"]+ coefs[\"x\"][\"data\"]*x + coefs[\"x\"][\"data\"]*x + coefs[\"z\"][\"data\"]*i  )"
   ]
  },
  {
   "cell_type": "markdown",
   "metadata": {},
   "source": [
    "## More complicated model with multiple pre-treatment predictors.\n",
    "### Fake Data"
   ]
  },
  {
   "cell_type": "code",
   "execution_count": 82,
   "metadata": {},
   "outputs": [
    {
     "data": {
      "text/html": [
       "<div>\n",
       "<style scoped>\n",
       "    .dataframe tbody tr th:only-of-type {\n",
       "        vertical-align: middle;\n",
       "    }\n",
       "\n",
       "    .dataframe tbody tr th {\n",
       "        vertical-align: top;\n",
       "    }\n",
       "\n",
       "    .dataframe thead th {\n",
       "        text-align: right;\n",
       "    }\n",
       "</style>\n",
       "<table border=\"1\" class=\"dataframe\">\n",
       "  <thead>\n",
       "    <tr style=\"text-align: right;\">\n",
       "      <th></th>\n",
       "      <th>y</th>\n",
       "      <th>z</th>\n",
       "      <th>x_0</th>\n",
       "      <th>x_1</th>\n",
       "      <th>x_2</th>\n",
       "      <th>x_3</th>\n",
       "      <th>x_4</th>\n",
       "      <th>x_5</th>\n",
       "      <th>x_6</th>\n",
       "      <th>x_7</th>\n",
       "      <th>x_8</th>\n",
       "      <th>x_9</th>\n",
       "    </tr>\n",
       "  </thead>\n",
       "  <tbody>\n",
       "    <tr>\n",
       "      <th>0</th>\n",
       "      <td>23.126752</td>\n",
       "      <td>0</td>\n",
       "      <td>0.938803</td>\n",
       "      <td>0.772113</td>\n",
       "      <td>0.237460</td>\n",
       "      <td>0.800887</td>\n",
       "      <td>0.738983</td>\n",
       "      <td>0.176829</td>\n",
       "      <td>0.660719</td>\n",
       "      <td>0.048031</td>\n",
       "      <td>0.388608</td>\n",
       "      <td>0.148981</td>\n",
       "    </tr>\n",
       "    <tr>\n",
       "      <th>1</th>\n",
       "      <td>38.145709</td>\n",
       "      <td>1</td>\n",
       "      <td>0.714910</td>\n",
       "      <td>0.003961</td>\n",
       "      <td>0.119581</td>\n",
       "      <td>0.169798</td>\n",
       "      <td>0.557277</td>\n",
       "      <td>0.572905</td>\n",
       "      <td>0.931774</td>\n",
       "      <td>0.918628</td>\n",
       "      <td>0.791660</td>\n",
       "      <td>0.149864</td>\n",
       "    </tr>\n",
       "    <tr>\n",
       "      <th>2</th>\n",
       "      <td>31.535240</td>\n",
       "      <td>1</td>\n",
       "      <td>0.429462</td>\n",
       "      <td>0.238995</td>\n",
       "      <td>0.398665</td>\n",
       "      <td>0.358720</td>\n",
       "      <td>0.529842</td>\n",
       "      <td>0.208472</td>\n",
       "      <td>0.987319</td>\n",
       "      <td>0.056076</td>\n",
       "      <td>0.150846</td>\n",
       "      <td>0.727583</td>\n",
       "    </tr>\n",
       "    <tr>\n",
       "      <th>3</th>\n",
       "      <td>26.260523</td>\n",
       "      <td>0</td>\n",
       "      <td>0.693660</td>\n",
       "      <td>0.405202</td>\n",
       "      <td>0.096370</td>\n",
       "      <td>0.954292</td>\n",
       "      <td>0.602330</td>\n",
       "      <td>0.355876</td>\n",
       "      <td>0.036215</td>\n",
       "      <td>0.975262</td>\n",
       "      <td>0.424816</td>\n",
       "      <td>0.455872</td>\n",
       "    </tr>\n",
       "    <tr>\n",
       "      <th>4</th>\n",
       "      <td>38.499261</td>\n",
       "      <td>1</td>\n",
       "      <td>0.523540</td>\n",
       "      <td>0.091338</td>\n",
       "      <td>0.507924</td>\n",
       "      <td>0.891211</td>\n",
       "      <td>0.950609</td>\n",
       "      <td>0.607868</td>\n",
       "      <td>0.414483</td>\n",
       "      <td>0.874839</td>\n",
       "      <td>0.685147</td>\n",
       "      <td>0.178979</td>\n",
       "    </tr>\n",
       "  </tbody>\n",
       "</table>\n",
       "</div>"
      ],
      "text/plain": [
       "           y  z       x_0       x_1       x_2       x_3       x_4       x_5  \\\n",
       "0  23.126752  0  0.938803  0.772113  0.237460  0.800887  0.738983  0.176829   \n",
       "1  38.145709  1  0.714910  0.003961  0.119581  0.169798  0.557277  0.572905   \n",
       "2  31.535240  1  0.429462  0.238995  0.398665  0.358720  0.529842  0.208472   \n",
       "3  26.260523  0  0.693660  0.405202  0.096370  0.954292  0.602330  0.355876   \n",
       "4  38.499261  1  0.523540  0.091338  0.507924  0.891211  0.950609  0.607868   \n",
       "\n",
       "        x_6       x_7       x_8       x_9  \n",
       "0  0.660719  0.048031  0.388608  0.148981  \n",
       "1  0.931774  0.918628  0.791660  0.149864  \n",
       "2  0.987319  0.056076  0.150846  0.727583  \n",
       "3  0.036215  0.975262  0.424816  0.455872  \n",
       "4  0.414483  0.874839  0.685147  0.178979  "
      ]
     },
     "execution_count": 82,
     "metadata": {},
     "output_type": "execute_result"
    }
   ],
   "source": [
    "N = 100\n",
    "K = 10\n",
    "x = stats.uniform(0, 1).rvs((N, K))\n",
    "z = np.random.choice((0, 1),N, replace=True)\n",
    "a = 1\n",
    "b = np.arange(1,K+1)\n",
    "theta = 5\n",
    "sigma = 2\n",
    "y = a + np.dot(x,b) + theta*z + stats.norm(0, sigma).rvs(N)\n",
    "\n",
    "# Explode out X\n",
    "cols =  {\"y\":y, \"z\":z, **{f\"x_{i}\":x[:,i] for i in range(x.shape[1])}}\n",
    "fake = pd.DataFrame(cols)\n",
    "fake.head()"
   ]
  },
  {
   "cell_type": "markdown",
   "metadata": {},
   "source": [
    "## TODO: Figure out if there's an easy way for patsy to explode out all levels like ROS does for \"Big X\""
   ]
  },
  {
   "cell_type": "code",
   "execution_count": null,
   "metadata": {},
   "outputs": [],
   "source": [
    "model = Model(fake)\n",
    "results = model.fit('y ~ x + z', samples=1000, chains=4)"
   ]
  },
  {
   "cell_type": "code",
   "execution_count": null,
   "metadata": {},
   "outputs": [],
   "source": [
    "# TODO: Add predict method that gets posterior predictive to bambi"
   ]
  }
 ],
 "metadata": {
  "kernelspec": {
   "display_name": "Python 3",
   "language": "python",
   "name": "python3"
  },
  "language_info": {
   "codemirror_mode": {
    "name": "ipython",
    "version": 3
   },
   "file_extension": ".py",
   "mimetype": "text/x-python",
   "name": "python",
   "nbconvert_exporter": "python",
   "pygments_lexer": "ipython3",
   "version": "3.8.3"
  }
 },
 "nbformat": 4,
 "nbformat_minor": 4
}
